{
  "nbformat": 4,
  "nbformat_minor": 0,
  "metadata": {
    "colab": {
      "name": "Code_Smell_Classification_Deep_Learning.ipynb",
      "provenance": [],
      "collapsed_sections": [],
      "mount_file_id": "1oLm38-bOBa5vl7NZmwvQngGlyP2wpVDZ",
      "authorship_tag": "ABX9TyPz0xSeftyerxA6IRVrhojr",
      "include_colab_link": true
    },
    "kernelspec": {
      "name": "python3",
      "display_name": "Python 3"
    },
    "language_info": {
      "name": "python"
    }
  },
  "cells": [
    {
      "cell_type": "markdown",
      "metadata": {
        "id": "view-in-github",
        "colab_type": "text"
      },
      "source": [
        "<a href=\"https://colab.research.google.com/github/anushka-code/Code-Smell-Classification/blob/main/Code_Smell_Classification_Deep_Learning.ipynb\" target=\"_parent\"><img src=\"https://colab.research.google.com/assets/colab-badge.svg\" alt=\"Open In Colab\"/></a>"
      ]
    },
    {
      "cell_type": "markdown",
      "source": [
        "##Structural Branch of the NN-Architecture : CNN 1-D for Structural Object Oriented Metric Feature Extraction\n",
        "\n",
        "##Code Smells Targetted: \n",
        "\n",
        "\n",
        "1.   Long Parameters List\n",
        "2.   Switch Statements\n",
        "\n",
        "\n",
        "\n",
        "\n",
        "\n"
      ],
      "metadata": {
        "id": "43MndqI-FQco"
      }
    },
    {
      "cell_type": "markdown",
      "source": [
        "###Importing Libraries"
      ],
      "metadata": {
        "id": "QMyUsHLL788D"
      }
    },
    {
      "cell_type": "code",
      "source": [
        "import numpy as np\n",
        "import pandas as pd\n",
        "import tensorflow\n",
        "from tensorflow import keras\n",
        "from keras.models import Sequential\n",
        "from keras.layers import Input, Convolution1D, MaxPooling1D, Flatten, Dense, Dropout\n",
        "from keras.utils import np_utils\n",
        "import sklearn\n",
        "from sklearn.preprocessing import MinMaxScaler\n",
        "from sklearn.model_selection import RepeatedKFold \n",
        "import imblearn\n",
        "from imblearn.over_sampling import SMOTE"
      ],
      "metadata": {
        "id": "noy7PwtVGNTg"
      },
      "execution_count": 35,
      "outputs": []
    },
    {
      "cell_type": "markdown",
      "source": [
        "###Mounting Google Drive"
      ],
      "metadata": {
        "id": "Gl2ewKuLLSik"
      }
    },
    {
      "cell_type": "code",
      "source": [
        "from pydrive.auth import GoogleAuth\n",
        "from pydrive.drive import GoogleDrive\n",
        "from google.colab import auth\n",
        "from oauth2client.client import GoogleCredentials\n",
        "    \n",
        "auth.authenticate_user()\n",
        "gauth = GoogleAuth()\n",
        "gauth.credentials = GoogleCredentials.get_application_default()\n",
        "drive = GoogleDrive(gauth)"
      ],
      "metadata": {
        "id": "EVp73IfEKQAV"
      },
      "execution_count": 36,
      "outputs": []
    },
    {
      "cell_type": "markdown",
      "source": [
        "###Dataset Loader"
      ],
      "metadata": {
        "id": "6R-MYnl67itv"
      }
    },
    {
      "cell_type": "code",
      "source": [
        "def DataLoader(link, name_of_file):\n",
        "  id = link.split(\"/\")[-2]\n",
        "  downloaded = drive.CreateFile({'id':id}) \n",
        "  downloaded.GetContentFile(name_of_file)\n",
        "  dataframe = pd.read_csv(name_of_file)\n",
        "  return dataframe\n",
        "\n",
        "link1 = 'https://drive.google.com/file/d/1EfbAqgr7i9h4yFwEoU3igG34Gt48l6WT/view?usp=sharing'\n",
        "link2 = 'https://drive.google.com/file/d/1Ya1OMWsz1yyXAaZheIck-roX0M9UWiqg/view?usp=sharing'\n",
        "name1 = 'long_parameters_list_structural.csv'\n",
        "name2 = 'switch_statements_structural.csv'\n",
        "\n",
        "df_lp = DataLoader(link1, name1)\n",
        "df_ss = DataLoader(link2, name2)"
      ],
      "metadata": {
        "id": "ULHBQ7_L53EO"
      },
      "execution_count": 37,
      "outputs": []
    },
    {
      "cell_type": "markdown",
      "source": [
        "Long Parameters List Dataset"
      ],
      "metadata": {
        "id": "V-VE5KVKkMHL"
      }
    },
    {
      "cell_type": "code",
      "source": [
        "df_lp.head(5)"
      ],
      "metadata": {
        "colab": {
          "base_uri": "https://localhost:8080/",
          "height": 299
        },
        "id": "MJ8g3uXM6qPO",
        "outputId": "de9768a3-e1fe-4933-dfde-1a2d4bd9c027"
      },
      "execution_count": 38,
      "outputs": [
        {
          "output_type": "execute_result",
          "data": {
            "text/html": [
              "\n",
              "  <div id=\"df-453e7d14-915d-44c2-8b74-5bc7f8a09a6c\">\n",
              "    <div class=\"colab-df-container\">\n",
              "      <div>\n",
              "<style scoped>\n",
              "    .dataframe tbody tr th:only-of-type {\n",
              "        vertical-align: middle;\n",
              "    }\n",
              "\n",
              "    .dataframe tbody tr th {\n",
              "        vertical-align: top;\n",
              "    }\n",
              "\n",
              "    .dataframe thead th {\n",
              "        text-align: right;\n",
              "    }\n",
              "</style>\n",
              "<table border=\"1\" class=\"dataframe\">\n",
              "  <thead>\n",
              "    <tr style=\"text-align: right;\">\n",
              "      <th></th>\n",
              "      <th>NOP_method</th>\n",
              "      <th>CC_method</th>\n",
              "      <th>ATFD_method</th>\n",
              "      <th>FDP_method</th>\n",
              "      <th>CM_method</th>\n",
              "      <th>MAXNESTING_method</th>\n",
              "      <th>LOC_method</th>\n",
              "      <th>CYCLO_method</th>\n",
              "      <th>NMCS_method</th>\n",
              "      <th>NOLV_method</th>\n",
              "      <th>...</th>\n",
              "      <th>NOI_package</th>\n",
              "      <th>LOC_package</th>\n",
              "      <th>NOM_package</th>\n",
              "      <th>NOPK_project</th>\n",
              "      <th>NOCS_project</th>\n",
              "      <th>NOI_project</th>\n",
              "      <th>NOM_project</th>\n",
              "      <th>NOMNAMM_project</th>\n",
              "      <th>LOC_project</th>\n",
              "      <th>is_long_parameters_list</th>\n",
              "    </tr>\n",
              "  </thead>\n",
              "  <tbody>\n",
              "    <tr>\n",
              "      <th>0</th>\n",
              "      <td>0</td>\n",
              "      <td>0</td>\n",
              "      <td>0</td>\n",
              "      <td>0</td>\n",
              "      <td>0</td>\n",
              "      <td>2</td>\n",
              "      <td>8</td>\n",
              "      <td>2</td>\n",
              "      <td>0</td>\n",
              "      <td>0</td>\n",
              "      <td>...</td>\n",
              "      <td>0</td>\n",
              "      <td>229</td>\n",
              "      <td>16</td>\n",
              "      <td>43</td>\n",
              "      <td>849</td>\n",
              "      <td>78</td>\n",
              "      <td>5788</td>\n",
              "      <td>4778</td>\n",
              "      <td>65687</td>\n",
              "      <td>False</td>\n",
              "    </tr>\n",
              "    <tr>\n",
              "      <th>1</th>\n",
              "      <td>0</td>\n",
              "      <td>0</td>\n",
              "      <td>0</td>\n",
              "      <td>0</td>\n",
              "      <td>0</td>\n",
              "      <td>1</td>\n",
              "      <td>3</td>\n",
              "      <td>1</td>\n",
              "      <td>0</td>\n",
              "      <td>0</td>\n",
              "      <td>...</td>\n",
              "      <td>0</td>\n",
              "      <td>4223</td>\n",
              "      <td>240</td>\n",
              "      <td>43</td>\n",
              "      <td>849</td>\n",
              "      <td>78</td>\n",
              "      <td>5788</td>\n",
              "      <td>4778</td>\n",
              "      <td>65687</td>\n",
              "      <td>False</td>\n",
              "    </tr>\n",
              "    <tr>\n",
              "      <th>2</th>\n",
              "      <td>1</td>\n",
              "      <td>0</td>\n",
              "      <td>0</td>\n",
              "      <td>0</td>\n",
              "      <td>0</td>\n",
              "      <td>1</td>\n",
              "      <td>2</td>\n",
              "      <td>1</td>\n",
              "      <td>0</td>\n",
              "      <td>1</td>\n",
              "      <td>...</td>\n",
              "      <td>0</td>\n",
              "      <td>4223</td>\n",
              "      <td>240</td>\n",
              "      <td>43</td>\n",
              "      <td>849</td>\n",
              "      <td>78</td>\n",
              "      <td>5788</td>\n",
              "      <td>4778</td>\n",
              "      <td>65687</td>\n",
              "      <td>False</td>\n",
              "    </tr>\n",
              "    <tr>\n",
              "      <th>3</th>\n",
              "      <td>0</td>\n",
              "      <td>5</td>\n",
              "      <td>0</td>\n",
              "      <td>0</td>\n",
              "      <td>9</td>\n",
              "      <td>0</td>\n",
              "      <td>1</td>\n",
              "      <td>1</td>\n",
              "      <td>0</td>\n",
              "      <td>0</td>\n",
              "      <td>...</td>\n",
              "      <td>11</td>\n",
              "      <td>6037</td>\n",
              "      <td>728</td>\n",
              "      <td>43</td>\n",
              "      <td>849</td>\n",
              "      <td>78</td>\n",
              "      <td>5788</td>\n",
              "      <td>4778</td>\n",
              "      <td>65687</td>\n",
              "      <td>False</td>\n",
              "    </tr>\n",
              "    <tr>\n",
              "      <th>4</th>\n",
              "      <td>1</td>\n",
              "      <td>0</td>\n",
              "      <td>1</td>\n",
              "      <td>1</td>\n",
              "      <td>0</td>\n",
              "      <td>1</td>\n",
              "      <td>3</td>\n",
              "      <td>1</td>\n",
              "      <td>0</td>\n",
              "      <td>1</td>\n",
              "      <td>...</td>\n",
              "      <td>11</td>\n",
              "      <td>6037</td>\n",
              "      <td>728</td>\n",
              "      <td>43</td>\n",
              "      <td>849</td>\n",
              "      <td>78</td>\n",
              "      <td>5788</td>\n",
              "      <td>4778</td>\n",
              "      <td>65687</td>\n",
              "      <td>False</td>\n",
              "    </tr>\n",
              "  </tbody>\n",
              "</table>\n",
              "<p>5 rows × 57 columns</p>\n",
              "</div>\n",
              "      <button class=\"colab-df-convert\" onclick=\"convertToInteractive('df-453e7d14-915d-44c2-8b74-5bc7f8a09a6c')\"\n",
              "              title=\"Convert this dataframe to an interactive table.\"\n",
              "              style=\"display:none;\">\n",
              "        \n",
              "  <svg xmlns=\"http://www.w3.org/2000/svg\" height=\"24px\"viewBox=\"0 0 24 24\"\n",
              "       width=\"24px\">\n",
              "    <path d=\"M0 0h24v24H0V0z\" fill=\"none\"/>\n",
              "    <path d=\"M18.56 5.44l.94 2.06.94-2.06 2.06-.94-2.06-.94-.94-2.06-.94 2.06-2.06.94zm-11 1L8.5 8.5l.94-2.06 2.06-.94-2.06-.94L8.5 2.5l-.94 2.06-2.06.94zm10 10l.94 2.06.94-2.06 2.06-.94-2.06-.94-.94-2.06-.94 2.06-2.06.94z\"/><path d=\"M17.41 7.96l-1.37-1.37c-.4-.4-.92-.59-1.43-.59-.52 0-1.04.2-1.43.59L10.3 9.45l-7.72 7.72c-.78.78-.78 2.05 0 2.83L4 21.41c.39.39.9.59 1.41.59.51 0 1.02-.2 1.41-.59l7.78-7.78 2.81-2.81c.8-.78.8-2.07 0-2.86zM5.41 20L4 18.59l7.72-7.72 1.47 1.35L5.41 20z\"/>\n",
              "  </svg>\n",
              "      </button>\n",
              "      \n",
              "  <style>\n",
              "    .colab-df-container {\n",
              "      display:flex;\n",
              "      flex-wrap:wrap;\n",
              "      gap: 12px;\n",
              "    }\n",
              "\n",
              "    .colab-df-convert {\n",
              "      background-color: #E8F0FE;\n",
              "      border: none;\n",
              "      border-radius: 50%;\n",
              "      cursor: pointer;\n",
              "      display: none;\n",
              "      fill: #1967D2;\n",
              "      height: 32px;\n",
              "      padding: 0 0 0 0;\n",
              "      width: 32px;\n",
              "    }\n",
              "\n",
              "    .colab-df-convert:hover {\n",
              "      background-color: #E2EBFA;\n",
              "      box-shadow: 0px 1px 2px rgba(60, 64, 67, 0.3), 0px 1px 3px 1px rgba(60, 64, 67, 0.15);\n",
              "      fill: #174EA6;\n",
              "    }\n",
              "\n",
              "    [theme=dark] .colab-df-convert {\n",
              "      background-color: #3B4455;\n",
              "      fill: #D2E3FC;\n",
              "    }\n",
              "\n",
              "    [theme=dark] .colab-df-convert:hover {\n",
              "      background-color: #434B5C;\n",
              "      box-shadow: 0px 1px 3px 1px rgba(0, 0, 0, 0.15);\n",
              "      filter: drop-shadow(0px 1px 2px rgba(0, 0, 0, 0.3));\n",
              "      fill: #FFFFFF;\n",
              "    }\n",
              "  </style>\n",
              "\n",
              "      <script>\n",
              "        const buttonEl =\n",
              "          document.querySelector('#df-453e7d14-915d-44c2-8b74-5bc7f8a09a6c button.colab-df-convert');\n",
              "        buttonEl.style.display =\n",
              "          google.colab.kernel.accessAllowed ? 'block' : 'none';\n",
              "\n",
              "        async function convertToInteractive(key) {\n",
              "          const element = document.querySelector('#df-453e7d14-915d-44c2-8b74-5bc7f8a09a6c');\n",
              "          const dataTable =\n",
              "            await google.colab.kernel.invokeFunction('convertToInteractive',\n",
              "                                                     [key], {});\n",
              "          if (!dataTable) return;\n",
              "\n",
              "          const docLinkHtml = 'Like what you see? Visit the ' +\n",
              "            '<a target=\"_blank\" href=https://colab.research.google.com/notebooks/data_table.ipynb>data table notebook</a>'\n",
              "            + ' to learn more about interactive tables.';\n",
              "          element.innerHTML = '';\n",
              "          dataTable['output_type'] = 'display_data';\n",
              "          await google.colab.output.renderOutput(dataTable, element);\n",
              "          const docLink = document.createElement('div');\n",
              "          docLink.innerHTML = docLinkHtml;\n",
              "          element.appendChild(docLink);\n",
              "        }\n",
              "      </script>\n",
              "    </div>\n",
              "  </div>\n",
              "  "
            ],
            "text/plain": [
              "   NOP_method  CC_method ATFD_method FDP_method  CM_method  MAXNESTING_method  \\\n",
              "0           0          0           0          0          0                  2   \n",
              "1           0          0           0          0          0                  1   \n",
              "2           1          0           0          0          0                  1   \n",
              "3           0          5           0          0          9                  0   \n",
              "4           1          0           1          1          0                  1   \n",
              "\n",
              "   LOC_method  CYCLO_method  NMCS_method  NOLV_method  ...  NOI_package  \\\n",
              "0           8             2            0            0  ...            0   \n",
              "1           3             1            0            0  ...            0   \n",
              "2           2             1            0            1  ...            0   \n",
              "3           1             1            0            0  ...           11   \n",
              "4           3             1            0            1  ...           11   \n",
              "\n",
              "  LOC_package NOM_package  NOPK_project  NOCS_project NOI_project  \\\n",
              "0         229          16            43           849          78   \n",
              "1        4223         240            43           849          78   \n",
              "2        4223         240            43           849          78   \n",
              "3        6037         728            43           849          78   \n",
              "4        6037         728            43           849          78   \n",
              "\n",
              "   NOM_project  NOMNAMM_project  LOC_project  is_long_parameters_list  \n",
              "0         5788             4778        65687                    False  \n",
              "1         5788             4778        65687                    False  \n",
              "2         5788             4778        65687                    False  \n",
              "3         5788             4778        65687                    False  \n",
              "4         5788             4778        65687                    False  \n",
              "\n",
              "[5 rows x 57 columns]"
            ]
          },
          "metadata": {},
          "execution_count": 38
        }
      ]
    },
    {
      "cell_type": "markdown",
      "source": [
        "Switch Statements Dataset"
      ],
      "metadata": {
        "id": "ykY52hFC7FaT"
      }
    },
    {
      "cell_type": "code",
      "source": [
        "df_ss.head(5)"
      ],
      "metadata": {
        "colab": {
          "base_uri": "https://localhost:8080/",
          "height": 299
        },
        "id": "lL0zKacc7tMH",
        "outputId": "c1add64b-1b4c-43ea-c0a7-7b45c9d2466a"
      },
      "execution_count": 39,
      "outputs": [
        {
          "output_type": "execute_result",
          "data": {
            "text/html": [
              "\n",
              "  <div id=\"df-bf7f65f9-286c-431e-8c41-cd165fe2956f\">\n",
              "    <div class=\"colab-df-container\">\n",
              "      <div>\n",
              "<style scoped>\n",
              "    .dataframe tbody tr th:only-of-type {\n",
              "        vertical-align: middle;\n",
              "    }\n",
              "\n",
              "    .dataframe tbody tr th {\n",
              "        vertical-align: top;\n",
              "    }\n",
              "\n",
              "    .dataframe thead th {\n",
              "        text-align: right;\n",
              "    }\n",
              "</style>\n",
              "<table border=\"1\" class=\"dataframe\">\n",
              "  <thead>\n",
              "    <tr style=\"text-align: right;\">\n",
              "      <th></th>\n",
              "      <th>NOP_method</th>\n",
              "      <th>CC_method</th>\n",
              "      <th>ATFD_method</th>\n",
              "      <th>FDP_method</th>\n",
              "      <th>CM_method</th>\n",
              "      <th>MAXNESTING_method</th>\n",
              "      <th>LOC_method</th>\n",
              "      <th>CYCLO_method</th>\n",
              "      <th>NMCS_method</th>\n",
              "      <th>NOLV_method</th>\n",
              "      <th>...</th>\n",
              "      <th>NOI_package</th>\n",
              "      <th>LOC_package</th>\n",
              "      <th>NOM_package</th>\n",
              "      <th>NOPK_project</th>\n",
              "      <th>NOCS_project</th>\n",
              "      <th>NOI_project</th>\n",
              "      <th>NOM_project</th>\n",
              "      <th>NOMNAMM_project</th>\n",
              "      <th>LOC_project</th>\n",
              "      <th>is_switch_statements</th>\n",
              "    </tr>\n",
              "  </thead>\n",
              "  <tbody>\n",
              "    <tr>\n",
              "      <th>0</th>\n",
              "      <td>1</td>\n",
              "      <td>2</td>\n",
              "      <td>0</td>\n",
              "      <td>0</td>\n",
              "      <td>2</td>\n",
              "      <td>1</td>\n",
              "      <td>5</td>\n",
              "      <td>1</td>\n",
              "      <td>0</td>\n",
              "      <td>1</td>\n",
              "      <td>...</td>\n",
              "      <td>3</td>\n",
              "      <td>439</td>\n",
              "      <td>53</td>\n",
              "      <td>43</td>\n",
              "      <td>849</td>\n",
              "      <td>78</td>\n",
              "      <td>5788</td>\n",
              "      <td>4778</td>\n",
              "      <td>65687</td>\n",
              "      <td>False</td>\n",
              "    </tr>\n",
              "    <tr>\n",
              "      <th>1</th>\n",
              "      <td>0</td>\n",
              "      <td>0</td>\n",
              "      <td>0</td>\n",
              "      <td>0</td>\n",
              "      <td>0</td>\n",
              "      <td>2</td>\n",
              "      <td>6</td>\n",
              "      <td>3</td>\n",
              "      <td>0</td>\n",
              "      <td>0</td>\n",
              "      <td>...</td>\n",
              "      <td>0</td>\n",
              "      <td>4223</td>\n",
              "      <td>240</td>\n",
              "      <td>43</td>\n",
              "      <td>849</td>\n",
              "      <td>78</td>\n",
              "      <td>5788</td>\n",
              "      <td>4778</td>\n",
              "      <td>65687</td>\n",
              "      <td>False</td>\n",
              "    </tr>\n",
              "    <tr>\n",
              "      <th>2</th>\n",
              "      <td>2</td>\n",
              "      <td>0</td>\n",
              "      <td>0</td>\n",
              "      <td>0</td>\n",
              "      <td>0</td>\n",
              "      <td>1</td>\n",
              "      <td>3</td>\n",
              "      <td>1</td>\n",
              "      <td>0</td>\n",
              "      <td>2</td>\n",
              "      <td>...</td>\n",
              "      <td>0</td>\n",
              "      <td>4223</td>\n",
              "      <td>240</td>\n",
              "      <td>43</td>\n",
              "      <td>849</td>\n",
              "      <td>78</td>\n",
              "      <td>5788</td>\n",
              "      <td>4778</td>\n",
              "      <td>65687</td>\n",
              "      <td>False</td>\n",
              "    </tr>\n",
              "    <tr>\n",
              "      <th>3</th>\n",
              "      <td>0</td>\n",
              "      <td>0</td>\n",
              "      <td>0</td>\n",
              "      <td>0</td>\n",
              "      <td>0</td>\n",
              "      <td>2</td>\n",
              "      <td>3</td>\n",
              "      <td>1</td>\n",
              "      <td>0</td>\n",
              "      <td>0</td>\n",
              "      <td>...</td>\n",
              "      <td>0</td>\n",
              "      <td>1212</td>\n",
              "      <td>120</td>\n",
              "      <td>43</td>\n",
              "      <td>849</td>\n",
              "      <td>78</td>\n",
              "      <td>5788</td>\n",
              "      <td>4778</td>\n",
              "      <td>65687</td>\n",
              "      <td>False</td>\n",
              "    </tr>\n",
              "    <tr>\n",
              "      <th>4</th>\n",
              "      <td>0</td>\n",
              "      <td>0</td>\n",
              "      <td>0</td>\n",
              "      <td>0</td>\n",
              "      <td>0</td>\n",
              "      <td>1</td>\n",
              "      <td>3</td>\n",
              "      <td>1</td>\n",
              "      <td>0</td>\n",
              "      <td>0</td>\n",
              "      <td>...</td>\n",
              "      <td>0</td>\n",
              "      <td>516</td>\n",
              "      <td>29</td>\n",
              "      <td>43</td>\n",
              "      <td>849</td>\n",
              "      <td>78</td>\n",
              "      <td>5788</td>\n",
              "      <td>4778</td>\n",
              "      <td>65687</td>\n",
              "      <td>False</td>\n",
              "    </tr>\n",
              "  </tbody>\n",
              "</table>\n",
              "<p>5 rows × 57 columns</p>\n",
              "</div>\n",
              "      <button class=\"colab-df-convert\" onclick=\"convertToInteractive('df-bf7f65f9-286c-431e-8c41-cd165fe2956f')\"\n",
              "              title=\"Convert this dataframe to an interactive table.\"\n",
              "              style=\"display:none;\">\n",
              "        \n",
              "  <svg xmlns=\"http://www.w3.org/2000/svg\" height=\"24px\"viewBox=\"0 0 24 24\"\n",
              "       width=\"24px\">\n",
              "    <path d=\"M0 0h24v24H0V0z\" fill=\"none\"/>\n",
              "    <path d=\"M18.56 5.44l.94 2.06.94-2.06 2.06-.94-2.06-.94-.94-2.06-.94 2.06-2.06.94zm-11 1L8.5 8.5l.94-2.06 2.06-.94-2.06-.94L8.5 2.5l-.94 2.06-2.06.94zm10 10l.94 2.06.94-2.06 2.06-.94-2.06-.94-.94-2.06-.94 2.06-2.06.94z\"/><path d=\"M17.41 7.96l-1.37-1.37c-.4-.4-.92-.59-1.43-.59-.52 0-1.04.2-1.43.59L10.3 9.45l-7.72 7.72c-.78.78-.78 2.05 0 2.83L4 21.41c.39.39.9.59 1.41.59.51 0 1.02-.2 1.41-.59l7.78-7.78 2.81-2.81c.8-.78.8-2.07 0-2.86zM5.41 20L4 18.59l7.72-7.72 1.47 1.35L5.41 20z\"/>\n",
              "  </svg>\n",
              "      </button>\n",
              "      \n",
              "  <style>\n",
              "    .colab-df-container {\n",
              "      display:flex;\n",
              "      flex-wrap:wrap;\n",
              "      gap: 12px;\n",
              "    }\n",
              "\n",
              "    .colab-df-convert {\n",
              "      background-color: #E8F0FE;\n",
              "      border: none;\n",
              "      border-radius: 50%;\n",
              "      cursor: pointer;\n",
              "      display: none;\n",
              "      fill: #1967D2;\n",
              "      height: 32px;\n",
              "      padding: 0 0 0 0;\n",
              "      width: 32px;\n",
              "    }\n",
              "\n",
              "    .colab-df-convert:hover {\n",
              "      background-color: #E2EBFA;\n",
              "      box-shadow: 0px 1px 2px rgba(60, 64, 67, 0.3), 0px 1px 3px 1px rgba(60, 64, 67, 0.15);\n",
              "      fill: #174EA6;\n",
              "    }\n",
              "\n",
              "    [theme=dark] .colab-df-convert {\n",
              "      background-color: #3B4455;\n",
              "      fill: #D2E3FC;\n",
              "    }\n",
              "\n",
              "    [theme=dark] .colab-df-convert:hover {\n",
              "      background-color: #434B5C;\n",
              "      box-shadow: 0px 1px 3px 1px rgba(0, 0, 0, 0.15);\n",
              "      filter: drop-shadow(0px 1px 2px rgba(0, 0, 0, 0.3));\n",
              "      fill: #FFFFFF;\n",
              "    }\n",
              "  </style>\n",
              "\n",
              "      <script>\n",
              "        const buttonEl =\n",
              "          document.querySelector('#df-bf7f65f9-286c-431e-8c41-cd165fe2956f button.colab-df-convert');\n",
              "        buttonEl.style.display =\n",
              "          google.colab.kernel.accessAllowed ? 'block' : 'none';\n",
              "\n",
              "        async function convertToInteractive(key) {\n",
              "          const element = document.querySelector('#df-bf7f65f9-286c-431e-8c41-cd165fe2956f');\n",
              "          const dataTable =\n",
              "            await google.colab.kernel.invokeFunction('convertToInteractive',\n",
              "                                                     [key], {});\n",
              "          if (!dataTable) return;\n",
              "\n",
              "          const docLinkHtml = 'Like what you see? Visit the ' +\n",
              "            '<a target=\"_blank\" href=https://colab.research.google.com/notebooks/data_table.ipynb>data table notebook</a>'\n",
              "            + ' to learn more about interactive tables.';\n",
              "          element.innerHTML = '';\n",
              "          dataTable['output_type'] = 'display_data';\n",
              "          await google.colab.output.renderOutput(dataTable, element);\n",
              "          const docLink = document.createElement('div');\n",
              "          docLink.innerHTML = docLinkHtml;\n",
              "          element.appendChild(docLink);\n",
              "        }\n",
              "      </script>\n",
              "    </div>\n",
              "  </div>\n",
              "  "
            ],
            "text/plain": [
              "   NOP_method  CC_method ATFD_method FDP_method  CM_method  MAXNESTING_method  \\\n",
              "0           1          2           0          0          2                  1   \n",
              "1           0          0           0          0          0                  2   \n",
              "2           2          0           0          0          0                  1   \n",
              "3           0          0           0          0          0                  2   \n",
              "4           0          0           0          0          0                  1   \n",
              "\n",
              "   LOC_method  CYCLO_method  NMCS_method  NOLV_method  ...  NOI_package  \\\n",
              "0           5             1            0            1  ...            3   \n",
              "1           6             3            0            0  ...            0   \n",
              "2           3             1            0            2  ...            0   \n",
              "3           3             1            0            0  ...            0   \n",
              "4           3             1            0            0  ...            0   \n",
              "\n",
              "  LOC_package NOM_package  NOPK_project  NOCS_project NOI_project  \\\n",
              "0         439          53            43           849          78   \n",
              "1        4223         240            43           849          78   \n",
              "2        4223         240            43           849          78   \n",
              "3        1212         120            43           849          78   \n",
              "4         516          29            43           849          78   \n",
              "\n",
              "   NOM_project  NOMNAMM_project  LOC_project  is_switch_statements  \n",
              "0         5788             4778        65687                 False  \n",
              "1         5788             4778        65687                 False  \n",
              "2         5788             4778        65687                 False  \n",
              "3         5788             4778        65687                 False  \n",
              "4         5788             4778        65687                 False  \n",
              "\n",
              "[5 rows x 57 columns]"
            ]
          },
          "metadata": {},
          "execution_count": 39
        }
      ]
    },
    {
      "cell_type": "markdown",
      "source": [
        "### Data Pre-Processing "
      ],
      "metadata": {
        "id": "XA_16jIuNd8R"
      }
    },
    {
      "cell_type": "code",
      "source": [
        "def PrePro(last_column, dataframe):\n",
        "  dataframe.rename(columns = {last_column :'is_code_smell'}, inplace = True)\n",
        "  dataframe['is_code_smell'] = dataframe[\"is_code_smell\"].astype(int)\n",
        "  Y_part = dataframe.iloc[:,-1:]\n",
        "  X_part = dataframe.iloc[:,:56]\n",
        "  X_part = X_part.replace(to_replace =[\"?\"], value = np.nan)\n",
        "  X_part = X_part.astype(float)\n",
        "  return X_part,Y_part\n",
        "\n",
        "X_lp, Y_lp = PrePro('is_long_parameters_list',df_lp)\n",
        "X_ss, Y_ss = PrePro('is_switch_statements',df_ss)"
      ],
      "metadata": {
        "id": "lKKV80p59Yqb"
      },
      "execution_count": 40,
      "outputs": []
    },
    {
      "cell_type": "code",
      "source": [
        "def MeanforNaN(dataframe):  \n",
        "  column_means = dataframe.mean()\n",
        "  dataframe = dataframe.fillna(column_means)\n",
        "  return dataframe\n",
        "\n",
        "X_lp = MeanforNaN(X_lp)\n",
        "X_ss = MeanforNaN(X_ss)"
      ],
      "metadata": {
        "id": "gP2KF37rO06u"
      },
      "execution_count": 41,
      "outputs": []
    },
    {
      "cell_type": "code",
      "source": [
        "def ConCat(df1,df2):\n",
        "  code_smells = [df1,df2]\n",
        "  joint = pd.concat(code_smells)\n",
        "  return joint\n",
        "\n",
        "X_train = ConCat(X_lp,X_ss)\n",
        "Y_train = ConCat(Y_lp,Y_ss)"
      ],
      "metadata": {
        "id": "xgrWdh3GSoPT"
      },
      "execution_count": 42,
      "outputs": []
    },
    {
      "cell_type": "markdown",
      "source": [
        "###Data Normalization"
      ],
      "metadata": {
        "id": "t0aP6KSybckZ"
      }
    },
    {
      "cell_type": "code",
      "source": [
        "def Normalize(dataframe):\n",
        "  scaler = MinMaxScaler()\n",
        "  model = scaler.fit(dataframe)\n",
        "  scaled_data = model.transform(dataframe)\n",
        "  return scaled_data\n",
        "\n",
        "X_sample = Normalize(X_train)"
      ],
      "metadata": {
        "id": "EfPBvzbGQWaQ"
      },
      "execution_count": 43,
      "outputs": []
    },
    {
      "cell_type": "markdown",
      "source": [
        "###Synthetic Minority Oversampling Technique (SMOTE) Algo for Imbalanced Datasets\n"
      ],
      "metadata": {
        "id": "LE1hY2iuaGYi"
      }
    },
    {
      "cell_type": "code",
      "source": [
        "Y_train.value_counts() #1/3rd are smelly, 2/3rd are non smelly "
      ],
      "metadata": {
        "colab": {
          "base_uri": "https://localhost:8080/"
        },
        "id": "YglrDQrabJgC",
        "outputId": "9f99ec4b-b9be-474d-e252-c6bfe1b05daf"
      },
      "execution_count": 44,
      "outputs": [
        {
          "output_type": "execute_result",
          "data": {
            "text/plain": [
              "is_code_smell\n",
              "0                573\n",
              "1                267\n",
              "dtype: int64"
            ]
          },
          "metadata": {},
          "execution_count": 44
        }
      ]
    },
    {
      "cell_type": "code",
      "source": [
        "Y_sample = Y_train.to_numpy(dtype='int64', copy='True')"
      ],
      "metadata": {
        "id": "_KsXn_i2eGbv"
      },
      "execution_count": 45,
      "outputs": []
    },
    {
      "cell_type": "code",
      "source": [
        "def Oversample(X_data,Y_data):\n",
        "\n",
        "  sm = SMOTE(random_state = 2)\n",
        "  X_train_res, Y_train_res = sm.fit_resample(X_data, Y_data.ravel())\n",
        "  return X_train_res, Y_train_res\n",
        "\n",
        "X_new, Y_new = Oversample(X_sample,Y_sample)"
      ],
      "metadata": {
        "id": "x1aLZXEIX-b5"
      },
      "execution_count": 46,
      "outputs": []
    },
    {
      "cell_type": "code",
      "source": [
        "X_train_final = X_new.reshape((1146,56,1))"
      ],
      "metadata": {
        "id": "6gRFjBvmsIny"
      },
      "execution_count": 47,
      "outputs": []
    },
    {
      "cell_type": "markdown",
      "source": [
        "###Repeated K-Fold Cross Validation for Limited Data\n"
      ],
      "metadata": {
        "id": "g04W7nK0nrK5"
      }
    },
    {
      "cell_type": "code",
      "source": [
        "def CrossValidation(dataX,dataY):\n",
        "  kf = RepeatedKFold(n_splits=5, n_repeats=10, random_state=None) \n",
        "\n",
        "  for train_index, test_index in kf.split(dataX):\n",
        "        X_crosstrain, X_crosstest = dataX[train_index], dataX[test_index] \n",
        "        Y_crosstrain, Y_crosstest = dataY[train_index], dataY[test_index]\n",
        "        return X_crosstrain,X_crosstest,Y_crosstrain,Y_crosstest\n",
        "\n",
        "X_crosstrain,X_crosstest,Y_crosstrain,Y_crosstest = CrossValidation(X_train_final, Y_new)"
      ],
      "metadata": {
        "id": "5Vh34GxGoRlw"
      },
      "execution_count": 48,
      "outputs": []
    },
    {
      "cell_type": "markdown",
      "source": [
        "### 1-D CNN Implementation"
      ],
      "metadata": {
        "id": "xTG76df9UnCH"
      }
    },
    {
      "cell_type": "code",
      "source": [
        "def evaluate_model(trainX, trainY, testX, testY):\n",
        "\tepochs, batch_size, test_batch_size = 30, 100, 50\n",
        "\theight,width,depth = trainX.shape[0], trainX.shape[1], trainY.shape[2]\n",
        "\tmodel = Sequential()\n",
        "\tmodel.add(Convolution1D(filters=64, kernel_size=3, activation='relu', input_shape=(width,depth)))\n",
        "\tmodel.add(Convolution1D(filters=64, kernel_size=3, activation='relu'))\n",
        "\tmodel.add(Dropout(0.5))\n",
        "\tmodel.add(MaxPooling1D(pool_size=2))\n",
        "\tmodel.add(Flatten())\n",
        "\tmodel.add(Dense(100, activation='relu'))\n",
        "\tmodel.add(Dense(1, activation='sigmoid'))\n",
        "\tmodel.compile(loss='binary_crossentropy', optimizer='adam', metrics=['accuracy'])\n",
        "\tmodel.fit(trainX, trainY, epochs=epochs, batch_size=batch_size)\n",
        "\t_, accuracy = model.evaluate(testX, testY, batch_size=test_batch_size)\n",
        "\treturn accuracy"
      ],
      "metadata": {
        "id": "qV40sas_40Z0"
      },
      "execution_count": 50,
      "outputs": []
    }
  ]
}