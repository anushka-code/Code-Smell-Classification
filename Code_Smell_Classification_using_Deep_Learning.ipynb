{
  "nbformat": 4,
  "nbformat_minor": 0,
  "metadata": {
    "colab": {
      "name": "Code_Smell_Classification_using_Deep_Learning.ipynb",
      "provenance": [],
      "collapsed_sections": [],
      "mount_file_id": "1oLm38-bOBa5vl7NZmwvQngGlyP2wpVDZ",
      "authorship_tag": "ABX9TyOoH0Jha5cWCcZSYoJi56IB",
      "include_colab_link": true
    },
    "kernelspec": {
      "name": "python3",
      "display_name": "Python 3"
    },
    "language_info": {
      "name": "python"
    }
  },
  "cells": [
    {
      "cell_type": "markdown",
      "metadata": {
        "id": "view-in-github",
        "colab_type": "text"
      },
      "source": [
        "<a href=\"https://colab.research.google.com/github/anushka-code/Code-Smell-Classification/blob/main/Code_Smell_Classification_using_Deep_Learning.ipynb\" target=\"_parent\"><img src=\"https://colab.research.google.com/assets/colab-badge.svg\" alt=\"Open In Colab\"/></a>"
      ]
    },
    {
      "cell_type": "markdown",
      "source": [
        "##Code Smell Detection (Smelly/Non Smelly) using Structural & Semantic Features \n",
        "\n",
        "##Code Smells Targetted: \n",
        "\n",
        "\n",
        "1.   Long Parameters List\n",
        "2.   Switch Statements\n",
        "\n",
        "\n",
        "\n",
        "\n",
        "\n"
      ],
      "metadata": {
        "id": "43MndqI-FQco"
      }
    },
    {
      "cell_type": "markdown",
      "source": [
        "###Importing Libraries"
      ],
      "metadata": {
        "id": "QMyUsHLL788D"
      }
    },
    {
      "cell_type": "code",
      "source": [
        "import numpy as np\n",
        "import pandas as pd\n",
        "import tensorflow\n",
        "from tensorflow import keras\n",
        "from keras.models import Sequential\n",
        "from keras.layers import Input, Convolution1D, MaxPooling1D, Flatten, Dense, Dropout\n",
        "from keras.utils import np_utils\n",
        "import sklearn\n",
        "from sklearn.preprocessing import MinMaxScaler\n",
        "from sklearn.model_selection import RepeatedKFold \n",
        "from sklearn import model_selection\n",
        "import imblearn\n",
        "from imblearn.over_sampling import SMOTE\n",
        "import nltk \n",
        "from nltk.tokenize import RegexpTokenizer\n",
        "import re"
      ],
      "metadata": {
        "id": "noy7PwtVGNTg"
      },
      "execution_count": 135,
      "outputs": []
    },
    {
      "cell_type": "markdown",
      "source": [
        "###Mounting Google Drive"
      ],
      "metadata": {
        "id": "Gl2ewKuLLSik"
      }
    },
    {
      "cell_type": "code",
      "source": [
        "from pydrive.auth import GoogleAuth\n",
        "from pydrive.drive import GoogleDrive\n",
        "from google.colab import auth\n",
        "from oauth2client.client import GoogleCredentials\n",
        "    \n",
        "auth.authenticate_user()\n",
        "gauth = GoogleAuth()\n",
        "gauth.credentials = GoogleCredentials.get_application_default()\n",
        "drive = GoogleDrive(gauth)"
      ],
      "metadata": {
        "id": "EVp73IfEKQAV"
      },
      "execution_count": 136,
      "outputs": []
    },
    {
      "cell_type": "markdown",
      "source": [
        "###Dataset Loader"
      ],
      "metadata": {
        "id": "6R-MYnl67itv"
      }
    },
    {
      "cell_type": "code",
      "source": [
        "def DataLoader(link, name_of_file):\n",
        "  id = link.split(\"/\")[-2]\n",
        "  downloaded = drive.CreateFile({'id':id}) \n",
        "  downloaded.GetContentFile(name_of_file)\n",
        "  dataframe = pd.read_csv(name_of_file)\n",
        "  return dataframe\n",
        "\n",
        "link1 = 'https://drive.google.com/file/d/1EfbAqgr7i9h4yFwEoU3igG34Gt48l6WT/view?usp=sharing'\n",
        "link2 = 'https://drive.google.com/file/d/1Ya1OMWsz1yyXAaZheIck-roX0M9UWiqg/view?usp=sharing'\n",
        "link3 = 'https://drive.google.com/file/d/1xeMRB6ACyjep6VF_rDRq8cXkA58ZlEZs/view?usp=sharing'\n",
        "link4 = 'https://drive.google.com/file/d/1OxxMX7-kc7mQUvb2DSJR_fbtvZ5bB1Ef/view?usp=sharing'\n",
        "name1 = 'long_parameters_list_structural.csv'\n",
        "name2 = 'switch_statements_structural.csv'\n",
        "name3 = 'long_parameters_list_semantic.csv'\n",
        "name4 = 'switch_statements_semantic.csv'\n",
        "\n",
        "df_lp = DataLoader(link1, name1)\n",
        "df_ss = DataLoader(link2, name2)\n",
        "df_lpm = DataLoader(link3, name3)\n",
        "df_ssm = DataLoader(link4, name4)"
      ],
      "metadata": {
        "id": "ULHBQ7_L53EO"
      },
      "execution_count": 137,
      "outputs": []
    },
    {
      "cell_type": "markdown",
      "source": [
        "Long Parameters List Structural Dataset"
      ],
      "metadata": {
        "id": "V-VE5KVKkMHL"
      }
    },
    {
      "cell_type": "code",
      "source": [
        "df_lp.head(5)"
      ],
      "metadata": {
        "colab": {
          "base_uri": "https://localhost:8080/",
          "height": 299
        },
        "id": "MJ8g3uXM6qPO",
        "outputId": "3a7d2db8-dd94-4d10-970f-2315f01cc1e0"
      },
      "execution_count": 138,
      "outputs": [
        {
          "output_type": "execute_result",
          "data": {
            "text/plain": [
              "   NOP_method  CC_method ATFD_method FDP_method  CM_method  MAXNESTING_method  \\\n",
              "0           0          0           0          0          0                  2   \n",
              "1           0          0           0          0          0                  1   \n",
              "2           1          0           0          0          0                  1   \n",
              "3           0          5           0          0          9                  0   \n",
              "4           1          0           1          1          0                  1   \n",
              "\n",
              "   LOC_method  CYCLO_method  NMCS_method  NOLV_method  ...  NOI_package  \\\n",
              "0           8             2            0            0  ...            0   \n",
              "1           3             1            0            0  ...            0   \n",
              "2           2             1            0            1  ...            0   \n",
              "3           1             1            0            0  ...           11   \n",
              "4           3             1            0            1  ...           11   \n",
              "\n",
              "  LOC_package NOM_package  NOPK_project  NOCS_project NOI_project  \\\n",
              "0         229          16            43           849          78   \n",
              "1        4223         240            43           849          78   \n",
              "2        4223         240            43           849          78   \n",
              "3        6037         728            43           849          78   \n",
              "4        6037         728            43           849          78   \n",
              "\n",
              "   NOM_project  NOMNAMM_project  LOC_project  is_long_parameters_list  \n",
              "0         5788             4778        65687                    False  \n",
              "1         5788             4778        65687                    False  \n",
              "2         5788             4778        65687                    False  \n",
              "3         5788             4778        65687                    False  \n",
              "4         5788             4778        65687                    False  \n",
              "\n",
              "[5 rows x 57 columns]"
            ],
            "text/html": [
              "\n",
              "  <div id=\"df-3e44fd7c-c261-4b4e-8247-270efa35d26b\">\n",
              "    <div class=\"colab-df-container\">\n",
              "      <div>\n",
              "<style scoped>\n",
              "    .dataframe tbody tr th:only-of-type {\n",
              "        vertical-align: middle;\n",
              "    }\n",
              "\n",
              "    .dataframe tbody tr th {\n",
              "        vertical-align: top;\n",
              "    }\n",
              "\n",
              "    .dataframe thead th {\n",
              "        text-align: right;\n",
              "    }\n",
              "</style>\n",
              "<table border=\"1\" class=\"dataframe\">\n",
              "  <thead>\n",
              "    <tr style=\"text-align: right;\">\n",
              "      <th></th>\n",
              "      <th>NOP_method</th>\n",
              "      <th>CC_method</th>\n",
              "      <th>ATFD_method</th>\n",
              "      <th>FDP_method</th>\n",
              "      <th>CM_method</th>\n",
              "      <th>MAXNESTING_method</th>\n",
              "      <th>LOC_method</th>\n",
              "      <th>CYCLO_method</th>\n",
              "      <th>NMCS_method</th>\n",
              "      <th>NOLV_method</th>\n",
              "      <th>...</th>\n",
              "      <th>NOI_package</th>\n",
              "      <th>LOC_package</th>\n",
              "      <th>NOM_package</th>\n",
              "      <th>NOPK_project</th>\n",
              "      <th>NOCS_project</th>\n",
              "      <th>NOI_project</th>\n",
              "      <th>NOM_project</th>\n",
              "      <th>NOMNAMM_project</th>\n",
              "      <th>LOC_project</th>\n",
              "      <th>is_long_parameters_list</th>\n",
              "    </tr>\n",
              "  </thead>\n",
              "  <tbody>\n",
              "    <tr>\n",
              "      <th>0</th>\n",
              "      <td>0</td>\n",
              "      <td>0</td>\n",
              "      <td>0</td>\n",
              "      <td>0</td>\n",
              "      <td>0</td>\n",
              "      <td>2</td>\n",
              "      <td>8</td>\n",
              "      <td>2</td>\n",
              "      <td>0</td>\n",
              "      <td>0</td>\n",
              "      <td>...</td>\n",
              "      <td>0</td>\n",
              "      <td>229</td>\n",
              "      <td>16</td>\n",
              "      <td>43</td>\n",
              "      <td>849</td>\n",
              "      <td>78</td>\n",
              "      <td>5788</td>\n",
              "      <td>4778</td>\n",
              "      <td>65687</td>\n",
              "      <td>False</td>\n",
              "    </tr>\n",
              "    <tr>\n",
              "      <th>1</th>\n",
              "      <td>0</td>\n",
              "      <td>0</td>\n",
              "      <td>0</td>\n",
              "      <td>0</td>\n",
              "      <td>0</td>\n",
              "      <td>1</td>\n",
              "      <td>3</td>\n",
              "      <td>1</td>\n",
              "      <td>0</td>\n",
              "      <td>0</td>\n",
              "      <td>...</td>\n",
              "      <td>0</td>\n",
              "      <td>4223</td>\n",
              "      <td>240</td>\n",
              "      <td>43</td>\n",
              "      <td>849</td>\n",
              "      <td>78</td>\n",
              "      <td>5788</td>\n",
              "      <td>4778</td>\n",
              "      <td>65687</td>\n",
              "      <td>False</td>\n",
              "    </tr>\n",
              "    <tr>\n",
              "      <th>2</th>\n",
              "      <td>1</td>\n",
              "      <td>0</td>\n",
              "      <td>0</td>\n",
              "      <td>0</td>\n",
              "      <td>0</td>\n",
              "      <td>1</td>\n",
              "      <td>2</td>\n",
              "      <td>1</td>\n",
              "      <td>0</td>\n",
              "      <td>1</td>\n",
              "      <td>...</td>\n",
              "      <td>0</td>\n",
              "      <td>4223</td>\n",
              "      <td>240</td>\n",
              "      <td>43</td>\n",
              "      <td>849</td>\n",
              "      <td>78</td>\n",
              "      <td>5788</td>\n",
              "      <td>4778</td>\n",
              "      <td>65687</td>\n",
              "      <td>False</td>\n",
              "    </tr>\n",
              "    <tr>\n",
              "      <th>3</th>\n",
              "      <td>0</td>\n",
              "      <td>5</td>\n",
              "      <td>0</td>\n",
              "      <td>0</td>\n",
              "      <td>9</td>\n",
              "      <td>0</td>\n",
              "      <td>1</td>\n",
              "      <td>1</td>\n",
              "      <td>0</td>\n",
              "      <td>0</td>\n",
              "      <td>...</td>\n",
              "      <td>11</td>\n",
              "      <td>6037</td>\n",
              "      <td>728</td>\n",
              "      <td>43</td>\n",
              "      <td>849</td>\n",
              "      <td>78</td>\n",
              "      <td>5788</td>\n",
              "      <td>4778</td>\n",
              "      <td>65687</td>\n",
              "      <td>False</td>\n",
              "    </tr>\n",
              "    <tr>\n",
              "      <th>4</th>\n",
              "      <td>1</td>\n",
              "      <td>0</td>\n",
              "      <td>1</td>\n",
              "      <td>1</td>\n",
              "      <td>0</td>\n",
              "      <td>1</td>\n",
              "      <td>3</td>\n",
              "      <td>1</td>\n",
              "      <td>0</td>\n",
              "      <td>1</td>\n",
              "      <td>...</td>\n",
              "      <td>11</td>\n",
              "      <td>6037</td>\n",
              "      <td>728</td>\n",
              "      <td>43</td>\n",
              "      <td>849</td>\n",
              "      <td>78</td>\n",
              "      <td>5788</td>\n",
              "      <td>4778</td>\n",
              "      <td>65687</td>\n",
              "      <td>False</td>\n",
              "    </tr>\n",
              "  </tbody>\n",
              "</table>\n",
              "<p>5 rows × 57 columns</p>\n",
              "</div>\n",
              "      <button class=\"colab-df-convert\" onclick=\"convertToInteractive('df-3e44fd7c-c261-4b4e-8247-270efa35d26b')\"\n",
              "              title=\"Convert this dataframe to an interactive table.\"\n",
              "              style=\"display:none;\">\n",
              "        \n",
              "  <svg xmlns=\"http://www.w3.org/2000/svg\" height=\"24px\"viewBox=\"0 0 24 24\"\n",
              "       width=\"24px\">\n",
              "    <path d=\"M0 0h24v24H0V0z\" fill=\"none\"/>\n",
              "    <path d=\"M18.56 5.44l.94 2.06.94-2.06 2.06-.94-2.06-.94-.94-2.06-.94 2.06-2.06.94zm-11 1L8.5 8.5l.94-2.06 2.06-.94-2.06-.94L8.5 2.5l-.94 2.06-2.06.94zm10 10l.94 2.06.94-2.06 2.06-.94-2.06-.94-.94-2.06-.94 2.06-2.06.94z\"/><path d=\"M17.41 7.96l-1.37-1.37c-.4-.4-.92-.59-1.43-.59-.52 0-1.04.2-1.43.59L10.3 9.45l-7.72 7.72c-.78.78-.78 2.05 0 2.83L4 21.41c.39.39.9.59 1.41.59.51 0 1.02-.2 1.41-.59l7.78-7.78 2.81-2.81c.8-.78.8-2.07 0-2.86zM5.41 20L4 18.59l7.72-7.72 1.47 1.35L5.41 20z\"/>\n",
              "  </svg>\n",
              "      </button>\n",
              "      \n",
              "  <style>\n",
              "    .colab-df-container {\n",
              "      display:flex;\n",
              "      flex-wrap:wrap;\n",
              "      gap: 12px;\n",
              "    }\n",
              "\n",
              "    .colab-df-convert {\n",
              "      background-color: #E8F0FE;\n",
              "      border: none;\n",
              "      border-radius: 50%;\n",
              "      cursor: pointer;\n",
              "      display: none;\n",
              "      fill: #1967D2;\n",
              "      height: 32px;\n",
              "      padding: 0 0 0 0;\n",
              "      width: 32px;\n",
              "    }\n",
              "\n",
              "    .colab-df-convert:hover {\n",
              "      background-color: #E2EBFA;\n",
              "      box-shadow: 0px 1px 2px rgba(60, 64, 67, 0.3), 0px 1px 3px 1px rgba(60, 64, 67, 0.15);\n",
              "      fill: #174EA6;\n",
              "    }\n",
              "\n",
              "    [theme=dark] .colab-df-convert {\n",
              "      background-color: #3B4455;\n",
              "      fill: #D2E3FC;\n",
              "    }\n",
              "\n",
              "    [theme=dark] .colab-df-convert:hover {\n",
              "      background-color: #434B5C;\n",
              "      box-shadow: 0px 1px 3px 1px rgba(0, 0, 0, 0.15);\n",
              "      filter: drop-shadow(0px 1px 2px rgba(0, 0, 0, 0.3));\n",
              "      fill: #FFFFFF;\n",
              "    }\n",
              "  </style>\n",
              "\n",
              "      <script>\n",
              "        const buttonEl =\n",
              "          document.querySelector('#df-3e44fd7c-c261-4b4e-8247-270efa35d26b button.colab-df-convert');\n",
              "        buttonEl.style.display =\n",
              "          google.colab.kernel.accessAllowed ? 'block' : 'none';\n",
              "\n",
              "        async function convertToInteractive(key) {\n",
              "          const element = document.querySelector('#df-3e44fd7c-c261-4b4e-8247-270efa35d26b');\n",
              "          const dataTable =\n",
              "            await google.colab.kernel.invokeFunction('convertToInteractive',\n",
              "                                                     [key], {});\n",
              "          if (!dataTable) return;\n",
              "\n",
              "          const docLinkHtml = 'Like what you see? Visit the ' +\n",
              "            '<a target=\"_blank\" href=https://colab.research.google.com/notebooks/data_table.ipynb>data table notebook</a>'\n",
              "            + ' to learn more about interactive tables.';\n",
              "          element.innerHTML = '';\n",
              "          dataTable['output_type'] = 'display_data';\n",
              "          await google.colab.output.renderOutput(dataTable, element);\n",
              "          const docLink = document.createElement('div');\n",
              "          docLink.innerHTML = docLinkHtml;\n",
              "          element.appendChild(docLink);\n",
              "        }\n",
              "      </script>\n",
              "    </div>\n",
              "  </div>\n",
              "  "
            ]
          },
          "metadata": {},
          "execution_count": 138
        }
      ]
    },
    {
      "cell_type": "markdown",
      "source": [
        "Switch Statements Structural Dataset\n",
        "\n"
      ],
      "metadata": {
        "id": "ykY52hFC7FaT"
      }
    },
    {
      "cell_type": "code",
      "source": [
        "df_ss.head(5)"
      ],
      "metadata": {
        "colab": {
          "base_uri": "https://localhost:8080/",
          "height": 299
        },
        "id": "lL0zKacc7tMH",
        "outputId": "9011a190-f356-4a5a-857f-57c92e050cba"
      },
      "execution_count": 139,
      "outputs": [
        {
          "output_type": "execute_result",
          "data": {
            "text/plain": [
              "   NOP_method  CC_method ATFD_method FDP_method  CM_method  MAXNESTING_method  \\\n",
              "0           1          2           0          0          2                  1   \n",
              "1           0          0           0          0          0                  2   \n",
              "2           2          0           0          0          0                  1   \n",
              "3           0          0           0          0          0                  2   \n",
              "4           0          0           0          0          0                  1   \n",
              "\n",
              "   LOC_method  CYCLO_method  NMCS_method  NOLV_method  ...  NOI_package  \\\n",
              "0           5             1            0            1  ...            3   \n",
              "1           6             3            0            0  ...            0   \n",
              "2           3             1            0            2  ...            0   \n",
              "3           3             1            0            0  ...            0   \n",
              "4           3             1            0            0  ...            0   \n",
              "\n",
              "  LOC_package NOM_package  NOPK_project  NOCS_project NOI_project  \\\n",
              "0         439          53            43           849          78   \n",
              "1        4223         240            43           849          78   \n",
              "2        4223         240            43           849          78   \n",
              "3        1212         120            43           849          78   \n",
              "4         516          29            43           849          78   \n",
              "\n",
              "   NOM_project  NOMNAMM_project  LOC_project  is_switch_statements  \n",
              "0         5788             4778        65687                 False  \n",
              "1         5788             4778        65687                 False  \n",
              "2         5788             4778        65687                 False  \n",
              "3         5788             4778        65687                 False  \n",
              "4         5788             4778        65687                 False  \n",
              "\n",
              "[5 rows x 57 columns]"
            ],
            "text/html": [
              "\n",
              "  <div id=\"df-d0a1da3d-474d-4933-a53c-9e5115a15286\">\n",
              "    <div class=\"colab-df-container\">\n",
              "      <div>\n",
              "<style scoped>\n",
              "    .dataframe tbody tr th:only-of-type {\n",
              "        vertical-align: middle;\n",
              "    }\n",
              "\n",
              "    .dataframe tbody tr th {\n",
              "        vertical-align: top;\n",
              "    }\n",
              "\n",
              "    .dataframe thead th {\n",
              "        text-align: right;\n",
              "    }\n",
              "</style>\n",
              "<table border=\"1\" class=\"dataframe\">\n",
              "  <thead>\n",
              "    <tr style=\"text-align: right;\">\n",
              "      <th></th>\n",
              "      <th>NOP_method</th>\n",
              "      <th>CC_method</th>\n",
              "      <th>ATFD_method</th>\n",
              "      <th>FDP_method</th>\n",
              "      <th>CM_method</th>\n",
              "      <th>MAXNESTING_method</th>\n",
              "      <th>LOC_method</th>\n",
              "      <th>CYCLO_method</th>\n",
              "      <th>NMCS_method</th>\n",
              "      <th>NOLV_method</th>\n",
              "      <th>...</th>\n",
              "      <th>NOI_package</th>\n",
              "      <th>LOC_package</th>\n",
              "      <th>NOM_package</th>\n",
              "      <th>NOPK_project</th>\n",
              "      <th>NOCS_project</th>\n",
              "      <th>NOI_project</th>\n",
              "      <th>NOM_project</th>\n",
              "      <th>NOMNAMM_project</th>\n",
              "      <th>LOC_project</th>\n",
              "      <th>is_switch_statements</th>\n",
              "    </tr>\n",
              "  </thead>\n",
              "  <tbody>\n",
              "    <tr>\n",
              "      <th>0</th>\n",
              "      <td>1</td>\n",
              "      <td>2</td>\n",
              "      <td>0</td>\n",
              "      <td>0</td>\n",
              "      <td>2</td>\n",
              "      <td>1</td>\n",
              "      <td>5</td>\n",
              "      <td>1</td>\n",
              "      <td>0</td>\n",
              "      <td>1</td>\n",
              "      <td>...</td>\n",
              "      <td>3</td>\n",
              "      <td>439</td>\n",
              "      <td>53</td>\n",
              "      <td>43</td>\n",
              "      <td>849</td>\n",
              "      <td>78</td>\n",
              "      <td>5788</td>\n",
              "      <td>4778</td>\n",
              "      <td>65687</td>\n",
              "      <td>False</td>\n",
              "    </tr>\n",
              "    <tr>\n",
              "      <th>1</th>\n",
              "      <td>0</td>\n",
              "      <td>0</td>\n",
              "      <td>0</td>\n",
              "      <td>0</td>\n",
              "      <td>0</td>\n",
              "      <td>2</td>\n",
              "      <td>6</td>\n",
              "      <td>3</td>\n",
              "      <td>0</td>\n",
              "      <td>0</td>\n",
              "      <td>...</td>\n",
              "      <td>0</td>\n",
              "      <td>4223</td>\n",
              "      <td>240</td>\n",
              "      <td>43</td>\n",
              "      <td>849</td>\n",
              "      <td>78</td>\n",
              "      <td>5788</td>\n",
              "      <td>4778</td>\n",
              "      <td>65687</td>\n",
              "      <td>False</td>\n",
              "    </tr>\n",
              "    <tr>\n",
              "      <th>2</th>\n",
              "      <td>2</td>\n",
              "      <td>0</td>\n",
              "      <td>0</td>\n",
              "      <td>0</td>\n",
              "      <td>0</td>\n",
              "      <td>1</td>\n",
              "      <td>3</td>\n",
              "      <td>1</td>\n",
              "      <td>0</td>\n",
              "      <td>2</td>\n",
              "      <td>...</td>\n",
              "      <td>0</td>\n",
              "      <td>4223</td>\n",
              "      <td>240</td>\n",
              "      <td>43</td>\n",
              "      <td>849</td>\n",
              "      <td>78</td>\n",
              "      <td>5788</td>\n",
              "      <td>4778</td>\n",
              "      <td>65687</td>\n",
              "      <td>False</td>\n",
              "    </tr>\n",
              "    <tr>\n",
              "      <th>3</th>\n",
              "      <td>0</td>\n",
              "      <td>0</td>\n",
              "      <td>0</td>\n",
              "      <td>0</td>\n",
              "      <td>0</td>\n",
              "      <td>2</td>\n",
              "      <td>3</td>\n",
              "      <td>1</td>\n",
              "      <td>0</td>\n",
              "      <td>0</td>\n",
              "      <td>...</td>\n",
              "      <td>0</td>\n",
              "      <td>1212</td>\n",
              "      <td>120</td>\n",
              "      <td>43</td>\n",
              "      <td>849</td>\n",
              "      <td>78</td>\n",
              "      <td>5788</td>\n",
              "      <td>4778</td>\n",
              "      <td>65687</td>\n",
              "      <td>False</td>\n",
              "    </tr>\n",
              "    <tr>\n",
              "      <th>4</th>\n",
              "      <td>0</td>\n",
              "      <td>0</td>\n",
              "      <td>0</td>\n",
              "      <td>0</td>\n",
              "      <td>0</td>\n",
              "      <td>1</td>\n",
              "      <td>3</td>\n",
              "      <td>1</td>\n",
              "      <td>0</td>\n",
              "      <td>0</td>\n",
              "      <td>...</td>\n",
              "      <td>0</td>\n",
              "      <td>516</td>\n",
              "      <td>29</td>\n",
              "      <td>43</td>\n",
              "      <td>849</td>\n",
              "      <td>78</td>\n",
              "      <td>5788</td>\n",
              "      <td>4778</td>\n",
              "      <td>65687</td>\n",
              "      <td>False</td>\n",
              "    </tr>\n",
              "  </tbody>\n",
              "</table>\n",
              "<p>5 rows × 57 columns</p>\n",
              "</div>\n",
              "      <button class=\"colab-df-convert\" onclick=\"convertToInteractive('df-d0a1da3d-474d-4933-a53c-9e5115a15286')\"\n",
              "              title=\"Convert this dataframe to an interactive table.\"\n",
              "              style=\"display:none;\">\n",
              "        \n",
              "  <svg xmlns=\"http://www.w3.org/2000/svg\" height=\"24px\"viewBox=\"0 0 24 24\"\n",
              "       width=\"24px\">\n",
              "    <path d=\"M0 0h24v24H0V0z\" fill=\"none\"/>\n",
              "    <path d=\"M18.56 5.44l.94 2.06.94-2.06 2.06-.94-2.06-.94-.94-2.06-.94 2.06-2.06.94zm-11 1L8.5 8.5l.94-2.06 2.06-.94-2.06-.94L8.5 2.5l-.94 2.06-2.06.94zm10 10l.94 2.06.94-2.06 2.06-.94-2.06-.94-.94-2.06-.94 2.06-2.06.94z\"/><path d=\"M17.41 7.96l-1.37-1.37c-.4-.4-.92-.59-1.43-.59-.52 0-1.04.2-1.43.59L10.3 9.45l-7.72 7.72c-.78.78-.78 2.05 0 2.83L4 21.41c.39.39.9.59 1.41.59.51 0 1.02-.2 1.41-.59l7.78-7.78 2.81-2.81c.8-.78.8-2.07 0-2.86zM5.41 20L4 18.59l7.72-7.72 1.47 1.35L5.41 20z\"/>\n",
              "  </svg>\n",
              "      </button>\n",
              "      \n",
              "  <style>\n",
              "    .colab-df-container {\n",
              "      display:flex;\n",
              "      flex-wrap:wrap;\n",
              "      gap: 12px;\n",
              "    }\n",
              "\n",
              "    .colab-df-convert {\n",
              "      background-color: #E8F0FE;\n",
              "      border: none;\n",
              "      border-radius: 50%;\n",
              "      cursor: pointer;\n",
              "      display: none;\n",
              "      fill: #1967D2;\n",
              "      height: 32px;\n",
              "      padding: 0 0 0 0;\n",
              "      width: 32px;\n",
              "    }\n",
              "\n",
              "    .colab-df-convert:hover {\n",
              "      background-color: #E2EBFA;\n",
              "      box-shadow: 0px 1px 2px rgba(60, 64, 67, 0.3), 0px 1px 3px 1px rgba(60, 64, 67, 0.15);\n",
              "      fill: #174EA6;\n",
              "    }\n",
              "\n",
              "    [theme=dark] .colab-df-convert {\n",
              "      background-color: #3B4455;\n",
              "      fill: #D2E3FC;\n",
              "    }\n",
              "\n",
              "    [theme=dark] .colab-df-convert:hover {\n",
              "      background-color: #434B5C;\n",
              "      box-shadow: 0px 1px 3px 1px rgba(0, 0, 0, 0.15);\n",
              "      filter: drop-shadow(0px 1px 2px rgba(0, 0, 0, 0.3));\n",
              "      fill: #FFFFFF;\n",
              "    }\n",
              "  </style>\n",
              "\n",
              "      <script>\n",
              "        const buttonEl =\n",
              "          document.querySelector('#df-d0a1da3d-474d-4933-a53c-9e5115a15286 button.colab-df-convert');\n",
              "        buttonEl.style.display =\n",
              "          google.colab.kernel.accessAllowed ? 'block' : 'none';\n",
              "\n",
              "        async function convertToInteractive(key) {\n",
              "          const element = document.querySelector('#df-d0a1da3d-474d-4933-a53c-9e5115a15286');\n",
              "          const dataTable =\n",
              "            await google.colab.kernel.invokeFunction('convertToInteractive',\n",
              "                                                     [key], {});\n",
              "          if (!dataTable) return;\n",
              "\n",
              "          const docLinkHtml = 'Like what you see? Visit the ' +\n",
              "            '<a target=\"_blank\" href=https://colab.research.google.com/notebooks/data_table.ipynb>data table notebook</a>'\n",
              "            + ' to learn more about interactive tables.';\n",
              "          element.innerHTML = '';\n",
              "          dataTable['output_type'] = 'display_data';\n",
              "          await google.colab.output.renderOutput(dataTable, element);\n",
              "          const docLink = document.createElement('div');\n",
              "          docLink.innerHTML = docLinkHtml;\n",
              "          element.appendChild(docLink);\n",
              "        }\n",
              "      </script>\n",
              "    </div>\n",
              "  </div>\n",
              "  "
            ]
          },
          "metadata": {},
          "execution_count": 139
        }
      ]
    },
    {
      "cell_type": "markdown",
      "source": [
        "Long Parameters List Semantic Dataset"
      ],
      "metadata": {
        "id": "CYV4ILz-X0lz"
      }
    },
    {
      "cell_type": "code",
      "source": [
        "df_lpm.head(5)"
      ],
      "metadata": {
        "colab": {
          "base_uri": "https://localhost:8080/",
          "height": 250
        },
        "id": "UrxaQ_rPVhQ9",
        "outputId": "af0647b4-1589-4bba-9734-e580f8552197"
      },
      "execution_count": 140,
      "outputs": [
        {
          "output_type": "execute_result",
          "data": {
            "text/plain": [
              "                                             project  \\\n",
              "0  /mnt/qualitas/qualitas_corpus_compile/freemind...   \n",
              "1  /mnt/qualitas/qualitas_corpus_compile/freemind...   \n",
              "2  /mnt/qualitas/qualitas_corpus_compile/freemind...   \n",
              "3  /mnt/qualitas/qualitas_corpus_compile/freemind...   \n",
              "4  /mnt/qualitas/qualitas_corpus_compile/freemind...   \n",
              "\n",
              "                         package  \\\n",
              "0  freemind.modes.common.plugins   \n",
              "1     freemind.modes.mindmapmode   \n",
              "2     freemind.modes.mindmapmode   \n",
              "3                 freemind.modes   \n",
              "4                 freemind.modes   \n",
              "\n",
              "                                           class  \\\n",
              "0                               ReminderHookBase   \n",
              "1            MindMapMapModel.StringReaderCreator   \n",
              "2                              MindMapController   \n",
              "3                                    MindMapNode   \n",
              "4  ControllerAdapter.ControllerPopupMenuListener   \n",
              "\n",
              "                              method  is_code_smell  \n",
              "0                  shutdownMapHook()          False  \n",
              "1                     createReader()          False  \n",
              "2           newModel(ModeController)          False  \n",
              "3                         getColor()          False  \n",
              "4  popupMenuCanceled(PopupMenuEvent)          False  "
            ],
            "text/html": [
              "\n",
              "  <div id=\"df-6b0af181-a1fe-46dd-ae92-014c8cb87d64\">\n",
              "    <div class=\"colab-df-container\">\n",
              "      <div>\n",
              "<style scoped>\n",
              "    .dataframe tbody tr th:only-of-type {\n",
              "        vertical-align: middle;\n",
              "    }\n",
              "\n",
              "    .dataframe tbody tr th {\n",
              "        vertical-align: top;\n",
              "    }\n",
              "\n",
              "    .dataframe thead th {\n",
              "        text-align: right;\n",
              "    }\n",
              "</style>\n",
              "<table border=\"1\" class=\"dataframe\">\n",
              "  <thead>\n",
              "    <tr style=\"text-align: right;\">\n",
              "      <th></th>\n",
              "      <th>project</th>\n",
              "      <th>package</th>\n",
              "      <th>class</th>\n",
              "      <th>method</th>\n",
              "      <th>is_code_smell</th>\n",
              "    </tr>\n",
              "  </thead>\n",
              "  <tbody>\n",
              "    <tr>\n",
              "      <th>0</th>\n",
              "      <td>/mnt/qualitas/qualitas_corpus_compile/freemind...</td>\n",
              "      <td>freemind.modes.common.plugins</td>\n",
              "      <td>ReminderHookBase</td>\n",
              "      <td>shutdownMapHook()</td>\n",
              "      <td>False</td>\n",
              "    </tr>\n",
              "    <tr>\n",
              "      <th>1</th>\n",
              "      <td>/mnt/qualitas/qualitas_corpus_compile/freemind...</td>\n",
              "      <td>freemind.modes.mindmapmode</td>\n",
              "      <td>MindMapMapModel.StringReaderCreator</td>\n",
              "      <td>createReader()</td>\n",
              "      <td>False</td>\n",
              "    </tr>\n",
              "    <tr>\n",
              "      <th>2</th>\n",
              "      <td>/mnt/qualitas/qualitas_corpus_compile/freemind...</td>\n",
              "      <td>freemind.modes.mindmapmode</td>\n",
              "      <td>MindMapController</td>\n",
              "      <td>newModel(ModeController)</td>\n",
              "      <td>False</td>\n",
              "    </tr>\n",
              "    <tr>\n",
              "      <th>3</th>\n",
              "      <td>/mnt/qualitas/qualitas_corpus_compile/freemind...</td>\n",
              "      <td>freemind.modes</td>\n",
              "      <td>MindMapNode</td>\n",
              "      <td>getColor()</td>\n",
              "      <td>False</td>\n",
              "    </tr>\n",
              "    <tr>\n",
              "      <th>4</th>\n",
              "      <td>/mnt/qualitas/qualitas_corpus_compile/freemind...</td>\n",
              "      <td>freemind.modes</td>\n",
              "      <td>ControllerAdapter.ControllerPopupMenuListener</td>\n",
              "      <td>popupMenuCanceled(PopupMenuEvent)</td>\n",
              "      <td>False</td>\n",
              "    </tr>\n",
              "  </tbody>\n",
              "</table>\n",
              "</div>\n",
              "      <button class=\"colab-df-convert\" onclick=\"convertToInteractive('df-6b0af181-a1fe-46dd-ae92-014c8cb87d64')\"\n",
              "              title=\"Convert this dataframe to an interactive table.\"\n",
              "              style=\"display:none;\">\n",
              "        \n",
              "  <svg xmlns=\"http://www.w3.org/2000/svg\" height=\"24px\"viewBox=\"0 0 24 24\"\n",
              "       width=\"24px\">\n",
              "    <path d=\"M0 0h24v24H0V0z\" fill=\"none\"/>\n",
              "    <path d=\"M18.56 5.44l.94 2.06.94-2.06 2.06-.94-2.06-.94-.94-2.06-.94 2.06-2.06.94zm-11 1L8.5 8.5l.94-2.06 2.06-.94-2.06-.94L8.5 2.5l-.94 2.06-2.06.94zm10 10l.94 2.06.94-2.06 2.06-.94-2.06-.94-.94-2.06-.94 2.06-2.06.94z\"/><path d=\"M17.41 7.96l-1.37-1.37c-.4-.4-.92-.59-1.43-.59-.52 0-1.04.2-1.43.59L10.3 9.45l-7.72 7.72c-.78.78-.78 2.05 0 2.83L4 21.41c.39.39.9.59 1.41.59.51 0 1.02-.2 1.41-.59l7.78-7.78 2.81-2.81c.8-.78.8-2.07 0-2.86zM5.41 20L4 18.59l7.72-7.72 1.47 1.35L5.41 20z\"/>\n",
              "  </svg>\n",
              "      </button>\n",
              "      \n",
              "  <style>\n",
              "    .colab-df-container {\n",
              "      display:flex;\n",
              "      flex-wrap:wrap;\n",
              "      gap: 12px;\n",
              "    }\n",
              "\n",
              "    .colab-df-convert {\n",
              "      background-color: #E8F0FE;\n",
              "      border: none;\n",
              "      border-radius: 50%;\n",
              "      cursor: pointer;\n",
              "      display: none;\n",
              "      fill: #1967D2;\n",
              "      height: 32px;\n",
              "      padding: 0 0 0 0;\n",
              "      width: 32px;\n",
              "    }\n",
              "\n",
              "    .colab-df-convert:hover {\n",
              "      background-color: #E2EBFA;\n",
              "      box-shadow: 0px 1px 2px rgba(60, 64, 67, 0.3), 0px 1px 3px 1px rgba(60, 64, 67, 0.15);\n",
              "      fill: #174EA6;\n",
              "    }\n",
              "\n",
              "    [theme=dark] .colab-df-convert {\n",
              "      background-color: #3B4455;\n",
              "      fill: #D2E3FC;\n",
              "    }\n",
              "\n",
              "    [theme=dark] .colab-df-convert:hover {\n",
              "      background-color: #434B5C;\n",
              "      box-shadow: 0px 1px 3px 1px rgba(0, 0, 0, 0.15);\n",
              "      filter: drop-shadow(0px 1px 2px rgba(0, 0, 0, 0.3));\n",
              "      fill: #FFFFFF;\n",
              "    }\n",
              "  </style>\n",
              "\n",
              "      <script>\n",
              "        const buttonEl =\n",
              "          document.querySelector('#df-6b0af181-a1fe-46dd-ae92-014c8cb87d64 button.colab-df-convert');\n",
              "        buttonEl.style.display =\n",
              "          google.colab.kernel.accessAllowed ? 'block' : 'none';\n",
              "\n",
              "        async function convertToInteractive(key) {\n",
              "          const element = document.querySelector('#df-6b0af181-a1fe-46dd-ae92-014c8cb87d64');\n",
              "          const dataTable =\n",
              "            await google.colab.kernel.invokeFunction('convertToInteractive',\n",
              "                                                     [key], {});\n",
              "          if (!dataTable) return;\n",
              "\n",
              "          const docLinkHtml = 'Like what you see? Visit the ' +\n",
              "            '<a target=\"_blank\" href=https://colab.research.google.com/notebooks/data_table.ipynb>data table notebook</a>'\n",
              "            + ' to learn more about interactive tables.';\n",
              "          element.innerHTML = '';\n",
              "          dataTable['output_type'] = 'display_data';\n",
              "          await google.colab.output.renderOutput(dataTable, element);\n",
              "          const docLink = document.createElement('div');\n",
              "          docLink.innerHTML = docLinkHtml;\n",
              "          element.appendChild(docLink);\n",
              "        }\n",
              "      </script>\n",
              "    </div>\n",
              "  </div>\n",
              "  "
            ]
          },
          "metadata": {},
          "execution_count": 140
        }
      ]
    },
    {
      "cell_type": "markdown",
      "source": [
        "Switch Statements Semantic Dataset"
      ],
      "metadata": {
        "id": "kDWi4eGwYCot"
      }
    },
    {
      "cell_type": "code",
      "source": [
        "df_ssm.head(5)"
      ],
      "metadata": {
        "colab": {
          "base_uri": "https://localhost:8080/",
          "height": 270
        },
        "id": "fpdgwNs3VnfQ",
        "outputId": "cd8932e5-a05d-4ca0-d8d3-91d38ddc5dca"
      },
      "execution_count": 141,
      "outputs": [
        {
          "output_type": "execute_result",
          "data": {
            "text/plain": [
              "                                             project  \\\n",
              "0  /mnt/qualitas/qualitas_corpus_compile/freemind...   \n",
              "1  /mnt/qualitas/qualitas_corpus_compile/freemind...   \n",
              "2  /mnt/qualitas/qualitas_corpus_compile/freemind...   \n",
              "3  /mnt/qualitas/qualitas_corpus_compile/freemind...   \n",
              "4  /mnt/qualitas/qualitas_corpus_compile/freemind...   \n",
              "\n",
              "                                   package  \\\n",
              "0   freemind.modes.mindmapmode.actions.xml   \n",
              "1               freemind.modes.mindmapmode   \n",
              "2               freemind.modes.mindmapmode   \n",
              "3  freemind.view.mindmapview.attributeview   \n",
              "4     freemind.modes.mindmapmode.listeners   \n",
              "\n",
              "                                               class  \\\n",
              "0                                  AbstractXmlAction   \n",
              "1                               EncryptedMindMapNode   \n",
              "2     freemind.modes.mindmapmode.MindMapController$1   \n",
              "3  freemind.view.mindmapview.attributeview.Attrib...   \n",
              "4                          MindMapNodeMotionListener   \n",
              "\n",
              "                                    method  is_code_smell  \n",
              "0             actionPerformed(ActionEvent)          False  \n",
              "1                       childrenUnfolded()          False  \n",
              "2  apply(MindMapMapModel,MindMapNodeModel)          False  \n",
              "3                                    run()          False  \n",
              "4                               stopDrag()          False  "
            ],
            "text/html": [
              "\n",
              "  <div id=\"df-c8872f55-383f-4d64-9edf-258bd0e3f379\">\n",
              "    <div class=\"colab-df-container\">\n",
              "      <div>\n",
              "<style scoped>\n",
              "    .dataframe tbody tr th:only-of-type {\n",
              "        vertical-align: middle;\n",
              "    }\n",
              "\n",
              "    .dataframe tbody tr th {\n",
              "        vertical-align: top;\n",
              "    }\n",
              "\n",
              "    .dataframe thead th {\n",
              "        text-align: right;\n",
              "    }\n",
              "</style>\n",
              "<table border=\"1\" class=\"dataframe\">\n",
              "  <thead>\n",
              "    <tr style=\"text-align: right;\">\n",
              "      <th></th>\n",
              "      <th>project</th>\n",
              "      <th>package</th>\n",
              "      <th>class</th>\n",
              "      <th>method</th>\n",
              "      <th>is_code_smell</th>\n",
              "    </tr>\n",
              "  </thead>\n",
              "  <tbody>\n",
              "    <tr>\n",
              "      <th>0</th>\n",
              "      <td>/mnt/qualitas/qualitas_corpus_compile/freemind...</td>\n",
              "      <td>freemind.modes.mindmapmode.actions.xml</td>\n",
              "      <td>AbstractXmlAction</td>\n",
              "      <td>actionPerformed(ActionEvent)</td>\n",
              "      <td>False</td>\n",
              "    </tr>\n",
              "    <tr>\n",
              "      <th>1</th>\n",
              "      <td>/mnt/qualitas/qualitas_corpus_compile/freemind...</td>\n",
              "      <td>freemind.modes.mindmapmode</td>\n",
              "      <td>EncryptedMindMapNode</td>\n",
              "      <td>childrenUnfolded()</td>\n",
              "      <td>False</td>\n",
              "    </tr>\n",
              "    <tr>\n",
              "      <th>2</th>\n",
              "      <td>/mnt/qualitas/qualitas_corpus_compile/freemind...</td>\n",
              "      <td>freemind.modes.mindmapmode</td>\n",
              "      <td>freemind.modes.mindmapmode.MindMapController$1</td>\n",
              "      <td>apply(MindMapMapModel,MindMapNodeModel)</td>\n",
              "      <td>False</td>\n",
              "    </tr>\n",
              "    <tr>\n",
              "      <th>3</th>\n",
              "      <td>/mnt/qualitas/qualitas_corpus_compile/freemind...</td>\n",
              "      <td>freemind.view.mindmapview.attributeview</td>\n",
              "      <td>freemind.view.mindmapview.attributeview.Attrib...</td>\n",
              "      <td>run()</td>\n",
              "      <td>False</td>\n",
              "    </tr>\n",
              "    <tr>\n",
              "      <th>4</th>\n",
              "      <td>/mnt/qualitas/qualitas_corpus_compile/freemind...</td>\n",
              "      <td>freemind.modes.mindmapmode.listeners</td>\n",
              "      <td>MindMapNodeMotionListener</td>\n",
              "      <td>stopDrag()</td>\n",
              "      <td>False</td>\n",
              "    </tr>\n",
              "  </tbody>\n",
              "</table>\n",
              "</div>\n",
              "      <button class=\"colab-df-convert\" onclick=\"convertToInteractive('df-c8872f55-383f-4d64-9edf-258bd0e3f379')\"\n",
              "              title=\"Convert this dataframe to an interactive table.\"\n",
              "              style=\"display:none;\">\n",
              "        \n",
              "  <svg xmlns=\"http://www.w3.org/2000/svg\" height=\"24px\"viewBox=\"0 0 24 24\"\n",
              "       width=\"24px\">\n",
              "    <path d=\"M0 0h24v24H0V0z\" fill=\"none\"/>\n",
              "    <path d=\"M18.56 5.44l.94 2.06.94-2.06 2.06-.94-2.06-.94-.94-2.06-.94 2.06-2.06.94zm-11 1L8.5 8.5l.94-2.06 2.06-.94-2.06-.94L8.5 2.5l-.94 2.06-2.06.94zm10 10l.94 2.06.94-2.06 2.06-.94-2.06-.94-.94-2.06-.94 2.06-2.06.94z\"/><path d=\"M17.41 7.96l-1.37-1.37c-.4-.4-.92-.59-1.43-.59-.52 0-1.04.2-1.43.59L10.3 9.45l-7.72 7.72c-.78.78-.78 2.05 0 2.83L4 21.41c.39.39.9.59 1.41.59.51 0 1.02-.2 1.41-.59l7.78-7.78 2.81-2.81c.8-.78.8-2.07 0-2.86zM5.41 20L4 18.59l7.72-7.72 1.47 1.35L5.41 20z\"/>\n",
              "  </svg>\n",
              "      </button>\n",
              "      \n",
              "  <style>\n",
              "    .colab-df-container {\n",
              "      display:flex;\n",
              "      flex-wrap:wrap;\n",
              "      gap: 12px;\n",
              "    }\n",
              "\n",
              "    .colab-df-convert {\n",
              "      background-color: #E8F0FE;\n",
              "      border: none;\n",
              "      border-radius: 50%;\n",
              "      cursor: pointer;\n",
              "      display: none;\n",
              "      fill: #1967D2;\n",
              "      height: 32px;\n",
              "      padding: 0 0 0 0;\n",
              "      width: 32px;\n",
              "    }\n",
              "\n",
              "    .colab-df-convert:hover {\n",
              "      background-color: #E2EBFA;\n",
              "      box-shadow: 0px 1px 2px rgba(60, 64, 67, 0.3), 0px 1px 3px 1px rgba(60, 64, 67, 0.15);\n",
              "      fill: #174EA6;\n",
              "    }\n",
              "\n",
              "    [theme=dark] .colab-df-convert {\n",
              "      background-color: #3B4455;\n",
              "      fill: #D2E3FC;\n",
              "    }\n",
              "\n",
              "    [theme=dark] .colab-df-convert:hover {\n",
              "      background-color: #434B5C;\n",
              "      box-shadow: 0px 1px 3px 1px rgba(0, 0, 0, 0.15);\n",
              "      filter: drop-shadow(0px 1px 2px rgba(0, 0, 0, 0.3));\n",
              "      fill: #FFFFFF;\n",
              "    }\n",
              "  </style>\n",
              "\n",
              "      <script>\n",
              "        const buttonEl =\n",
              "          document.querySelector('#df-c8872f55-383f-4d64-9edf-258bd0e3f379 button.colab-df-convert');\n",
              "        buttonEl.style.display =\n",
              "          google.colab.kernel.accessAllowed ? 'block' : 'none';\n",
              "\n",
              "        async function convertToInteractive(key) {\n",
              "          const element = document.querySelector('#df-c8872f55-383f-4d64-9edf-258bd0e3f379');\n",
              "          const dataTable =\n",
              "            await google.colab.kernel.invokeFunction('convertToInteractive',\n",
              "                                                     [key], {});\n",
              "          if (!dataTable) return;\n",
              "\n",
              "          const docLinkHtml = 'Like what you see? Visit the ' +\n",
              "            '<a target=\"_blank\" href=https://colab.research.google.com/notebooks/data_table.ipynb>data table notebook</a>'\n",
              "            + ' to learn more about interactive tables.';\n",
              "          element.innerHTML = '';\n",
              "          dataTable['output_type'] = 'display_data';\n",
              "          await google.colab.output.renderOutput(dataTable, element);\n",
              "          const docLink = document.createElement('div');\n",
              "          docLink.innerHTML = docLinkHtml;\n",
              "          element.appendChild(docLink);\n",
              "        }\n",
              "      </script>\n",
              "    </div>\n",
              "  </div>\n",
              "  "
            ]
          },
          "metadata": {},
          "execution_count": 141
        }
      ]
    },
    {
      "cell_type": "markdown",
      "source": [
        "# Data Pre-Processing of Structural Dataset\n"
      ],
      "metadata": {
        "id": "XA_16jIuNd8R"
      }
    },
    {
      "cell_type": "code",
      "source": [
        "def PrePro(last_column, dataframe):\n",
        "  dataframe.rename(columns = {last_column :'is_code_smell'}, inplace = True) #rename column\n",
        "  dataframe['is_code_smell'] = dataframe[\"is_code_smell\"].astype(int) #change boolean labels to int labels\n",
        "  Y_part = dataframe.iloc[:,-1:]\n",
        "  X_part = dataframe.iloc[:,:56]\n",
        "  X_part = X_part.replace(to_replace =[\"?\"], value = np.nan) #replace non existing values with null\n",
        "  X_part = X_part.astype(float) #change datatype of features of X as float\n",
        "  return X_part,Y_part\n",
        "\n",
        "X_lp, Y_lp = PrePro('is_long_parameters_list',df_lp)\n",
        "X_ss, Y_ss = PrePro('is_switch_statements',df_ss)"
      ],
      "metadata": {
        "id": "lKKV80p59Yqb"
      },
      "execution_count": 142,
      "outputs": []
    },
    {
      "cell_type": "code",
      "source": [
        "def MeanforNaN(dataframe):   #function to fill null spaces with column mean \n",
        "  column_means = dataframe.mean()\n",
        "  dataframe = dataframe.fillna(column_means)\n",
        "  return dataframe\n",
        "\n",
        "X_lp = MeanforNaN(X_lp)\n",
        "X_ss = MeanforNaN(X_ss)"
      ],
      "metadata": {
        "id": "gP2KF37rO06u"
      },
      "execution_count": 143,
      "outputs": []
    },
    {
      "cell_type": "code",
      "source": [
        "def ConCat(df1,df2): #concatenate code smell datasets\n",
        "  code_smells = [df1,df2]\n",
        "  joint = pd.concat(code_smells)\n",
        "  return joint\n",
        "\n",
        "X_train = ConCat(X_lp,X_ss)\n",
        "Y_train = ConCat(Y_lp,Y_ss)"
      ],
      "metadata": {
        "id": "xgrWdh3GSoPT"
      },
      "execution_count": 144,
      "outputs": []
    },
    {
      "cell_type": "markdown",
      "source": [
        "###Data Normalization"
      ],
      "metadata": {
        "id": "t0aP6KSybckZ"
      }
    },
    {
      "cell_type": "code",
      "source": [
        "def Normalize(dataframe): #apply MinMax normalisation to fit the values between 0 to 1\n",
        "  scaler = MinMaxScaler()\n",
        "  model = scaler.fit(dataframe)\n",
        "  scaled_data = model.transform(dataframe)\n",
        "  return scaled_data\n",
        "\n",
        "X_sample = Normalize(X_train)"
      ],
      "metadata": {
        "id": "EfPBvzbGQWaQ"
      },
      "execution_count": 145,
      "outputs": []
    },
    {
      "cell_type": "markdown",
      "source": [
        "###Synthetic Minority Oversampling Technique (SMOTE) Algo for Imbalanced Datasets\n"
      ],
      "metadata": {
        "id": "LE1hY2iuaGYi"
      }
    },
    {
      "cell_type": "code",
      "source": [
        "Y_train.value_counts() #1/3rd are smelly, 2/3rd are non smelly "
      ],
      "metadata": {
        "colab": {
          "base_uri": "https://localhost:8080/"
        },
        "id": "YglrDQrabJgC",
        "outputId": "1b1fe759-467d-449b-d551-527bd4ef8e0e"
      },
      "execution_count": 146,
      "outputs": [
        {
          "output_type": "execute_result",
          "data": {
            "text/plain": [
              "is_code_smell\n",
              "0                573\n",
              "1                267\n",
              "dtype: int64"
            ]
          },
          "metadata": {},
          "execution_count": 146
        }
      ]
    },
    {
      "cell_type": "code",
      "source": [
        "Y_sample = Y_train.to_numpy(dtype='int64', copy='True')"
      ],
      "metadata": {
        "id": "_KsXn_i2eGbv"
      },
      "execution_count": 147,
      "outputs": []
    },
    {
      "cell_type": "code",
      "source": [
        "def Oversample(X_data,Y_data): # Using Smote obtain a 50-50 balanced dataset \n",
        "\n",
        "  sm = SMOTE(random_state = 2)\n",
        "  X_train_res, Y_train_res = sm.fit_resample(X_data, Y_data.ravel())\n",
        "  return X_train_res, Y_train_res\n",
        "\n",
        "X_new, Y_new = Oversample(X_sample,Y_sample)"
      ],
      "metadata": {
        "id": "x1aLZXEIX-b5"
      },
      "execution_count": 148,
      "outputs": []
    },
    {
      "cell_type": "code",
      "source": [
        "X_train_final = X_new.reshape((1146,56,1)) # hence makes 573 smelly and 573 non smelly samples"
      ],
      "metadata": {
        "id": "6gRFjBvmsIny"
      },
      "execution_count": 149,
      "outputs": []
    },
    {
      "cell_type": "markdown",
      "source": [
        "###Repeated K-Fold Cross Validation for Limited Data\n"
      ],
      "metadata": {
        "id": "g04W7nK0nrK5"
      }
    },
    {
      "cell_type": "code",
      "source": [
        "def CrossValidation(dataX,dataY): # split the dataset into train and test using k-5 fold cross validation\n",
        "  kf = RepeatedKFold(n_splits=5, n_repeats=10, random_state=None) \n",
        "\n",
        "  for train_index, test_index in kf.split(dataX):\n",
        "        X_crosstrain, X_crosstest = dataX[train_index], dataX[test_index] \n",
        "        Y_crosstrain, Y_crosstest = dataY[train_index], dataY[test_index]\n",
        "        return X_crosstrain,X_crosstest,Y_crosstrain,Y_crosstest\n",
        "\n",
        "X_crosstrain,X_crosstest,Y_crosstrain,Y_crosstest = CrossValidation(X_train_final, Y_new)"
      ],
      "metadata": {
        "id": "5Vh34GxGoRlw"
      },
      "execution_count": 150,
      "outputs": []
    },
    {
      "cell_type": "code",
      "source": [
        "X_crosstrain.shape #916 samples for train"
      ],
      "metadata": {
        "colab": {
          "base_uri": "https://localhost:8080/"
        },
        "id": "PYtUB11KgKEP",
        "outputId": "f0d64c44-bcdc-40da-8844-7bb2c3290079"
      },
      "execution_count": 151,
      "outputs": [
        {
          "output_type": "execute_result",
          "data": {
            "text/plain": [
              "(916, 56, 1)"
            ]
          },
          "metadata": {},
          "execution_count": 151
        }
      ]
    },
    {
      "cell_type": "code",
      "source": [
        "X_crosstest.shape #230 samples for test"
      ],
      "metadata": {
        "colab": {
          "base_uri": "https://localhost:8080/"
        },
        "id": "ttGEA-qyHi22",
        "outputId": "5f849115-fa22-42de-c365-1e6e370e8d22"
      },
      "execution_count": 152,
      "outputs": [
        {
          "output_type": "execute_result",
          "data": {
            "text/plain": [
              "(230, 56, 1)"
            ]
          },
          "metadata": {},
          "execution_count": 152
        }
      ]
    },
    {
      "cell_type": "markdown",
      "source": [
        "# Data Pre-Processing of Semantic Dataset"
      ],
      "metadata": {
        "id": "IJNef7tJzOOq"
      }
    },
    {
      "cell_type": "code",
      "source": [
        "df_sem = ConCat(df_lpm,df_ssm) #join long parameters list and switch statements dataset"
      ],
      "metadata": {
        "id": "9j75IG30zamu"
      },
      "execution_count": 191,
      "outputs": []
    },
    {
      "cell_type": "code",
      "source": [
        "def PrePro2(dataframe):\n",
        "  Y_part = dataframe.iloc[:,-1:]\n",
        "  X_part = dataframe.iloc[:,:4]  \n",
        "  return X_part, Y_part\n",
        "\n",
        "X_sem , Y_sem = PrePro2(df_sem) #separate as X and Y columns"
      ],
      "metadata": {
        "id": "UVAPhdzcXfCw"
      },
      "execution_count": 173,
      "outputs": []
    },
    {
      "cell_type": "markdown",
      "source": [
        "###Tokenization of the groups : project, package, class, method"
      ],
      "metadata": {
        "id": "A6Mvs0Z4pTFN"
      }
    },
    {
      "cell_type": "code",
      "source": [
        "def TokenizeGroups(text):\n",
        "  tokenizer = RegexpTokenizer('[a-zA-Z](?:[a-z]+|[A-Z]*(?=[A-Z]|$))') # regular expression for CamelCase \n",
        "  useful_text = tokenizer.tokenize(text) # tokenize the group name\n",
        "  useful_text = [x.lower() for x in useful_text] # convert to lower case\n",
        "  return useful_text"
      ],
      "metadata": {
        "id": "xNotzFqUZzjH"
      },
      "execution_count": 189,
      "outputs": []
    },
    {
      "cell_type": "markdown",
      "source": [
        "# NEURAL NETWORK ARCHITECTURE"
      ],
      "metadata": {
        "id": "B10AlMV1rFZY"
      }
    },
    {
      "cell_type": "markdown",
      "source": [
        "### Left Branch : Feature Extraction using CNN \n",
        "\n",
        "\n"
      ],
      "metadata": {
        "id": "xTG76df9UnCH"
      }
    },
    {
      "cell_type": "code",
      "source": [
        "def CNNFeatureExtraction(trainX):\n",
        "  epochs, batch_size, test_batch_size = 120, 50, 50\n",
        "  height, width, depth = trainX.shape[0], trainX.shape[1], trainX.shape[2]\n",
        "  model_left = Sequential()\n",
        "  model_left.add(Convolution1D(filters=32, kernel_size=3, activation='relu', input_shape=(width,depth)))\n",
        "  model_left.add(Convolution1D(filters=64, kernel_size=3, activation='relu'))\n",
        "  model_left.add(Convolution1D(filters=64, kernel_size=3, activation='relu'))\n",
        "  model_left.add(Convolution1D(filters=128, kernel_size=3, activation= 'relu'))\n",
        "  model_left.add(Flatten())\n",
        "  return model_left"
      ],
      "metadata": {
        "id": "xtHVg87jrizi"
      },
      "execution_count": 158,
      "outputs": []
    },
    {
      "cell_type": "code",
      "source": [
        "# def evaluate_model(trainX, trainy, testX, testy): \n",
        "# \tepochs, batch_size, test_batch_size = 120, 50, 50\n",
        "# \theight, width, depth = trainX.shape[0], trainX.shape[1], trainX.shape[2]\n",
        "# \tmodel = Sequential()\n",
        "# \tmodel.add(Convolution1D(filters=32, kernel_size=3, activation='relu', input_shape=(width,depth)))\n",
        "# \tmodel.add(Convolution1D(filters=64, kernel_size=3, activation='relu'))\n",
        "# \tmodel.add(Flatten())\n",
        "# \tmodel.add(Dense(1, activation='sigmoid'))\n",
        "# \tmodel.compile(loss='binary_crossentropy', optimizer='adam', metrics=['accuracy'])\n",
        "# \tmodel.fit(trainX, trainy, epochs=epochs, batch_size=batch_size)\n",
        "# \t_, accuracy = model.evaluate(testX, testy, batch_size=test_batch_size)\n",
        "# \treturn accuracy\n",
        "\n",
        "# model_accuracy = evaluate_model(X_crosstrain, Y_crosstrain, X_crosstest, Y_crosstest)"
      ],
      "metadata": {
        "id": "EJfaF9ZnCfa5"
      },
      "execution_count": 159,
      "outputs": []
    }
  ]
}