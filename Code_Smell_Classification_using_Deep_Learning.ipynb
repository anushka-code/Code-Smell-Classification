{
  "cells": [
    {
      "cell_type": "markdown",
      "metadata": {
        "id": "view-in-github",
        "colab_type": "text"
      },
      "source": [
        "<a href=\"https://colab.research.google.com/github/anushka-code/Code-Smell-Classification/blob/main/Code_Smell_Classification_using_Deep_Learning.ipynb\" target=\"_parent\"><img src=\"https://colab.research.google.com/assets/colab-badge.svg\" alt=\"Open In Colab\"/></a>"
      ]
    },
    {
      "cell_type": "markdown",
      "metadata": {
        "id": "43MndqI-FQco"
      },
      "source": [
        "#Code Smell Detection (Smelly/Non Smelly) using Structural & Semantic Features \n",
        "\n",
        "#Code Smells Targetted: \n",
        "\n",
        "\n",
        "1.   Long Parameters List\n",
        "2.   Switch Statements\n",
        "\n",
        "\n",
        "\n",
        "\n",
        "\n"
      ]
    },
    {
      "cell_type": "markdown",
      "metadata": {
        "id": "QMyUsHLL788D"
      },
      "source": [
        "###Importing Libraries"
      ]
    },
    {
      "cell_type": "code",
      "source": [
        "!pip install transformers"
      ],
      "metadata": {
        "colab": {
          "base_uri": "https://localhost:8080/"
        },
        "id": "st0sXOh2xRj4",
        "outputId": "b448af38-7911-43d2-fb8b-75cadc215fc1"
      },
      "execution_count": 6,
      "outputs": [
        {
          "output_type": "stream",
          "name": "stdout",
          "text": [
            "Requirement already satisfied: transformers in /usr/local/lib/python3.7/dist-packages (4.17.0)\n",
            "Requirement already satisfied: importlib-metadata in /usr/local/lib/python3.7/dist-packages (from transformers) (4.11.3)\n",
            "Requirement already satisfied: numpy>=1.17 in /usr/local/lib/python3.7/dist-packages (from transformers) (1.21.5)\n",
            "Requirement already satisfied: sacremoses in /usr/local/lib/python3.7/dist-packages (from transformers) (0.0.49)\n",
            "Requirement already satisfied: tqdm>=4.27 in /usr/local/lib/python3.7/dist-packages (from transformers) (4.63.0)\n",
            "Requirement already satisfied: filelock in /usr/local/lib/python3.7/dist-packages (from transformers) (3.6.0)\n",
            "Requirement already satisfied: packaging>=20.0 in /usr/local/lib/python3.7/dist-packages (from transformers) (21.3)\n",
            "Requirement already satisfied: pyyaml>=5.1 in /usr/local/lib/python3.7/dist-packages (from transformers) (6.0)\n",
            "Requirement already satisfied: requests in /usr/local/lib/python3.7/dist-packages (from transformers) (2.23.0)\n",
            "Requirement already satisfied: regex!=2019.12.17 in /usr/local/lib/python3.7/dist-packages (from transformers) (2019.12.20)\n",
            "Requirement already satisfied: tokenizers!=0.11.3,>=0.11.1 in /usr/local/lib/python3.7/dist-packages (from transformers) (0.11.6)\n",
            "Requirement already satisfied: huggingface-hub<1.0,>=0.1.0 in /usr/local/lib/python3.7/dist-packages (from transformers) (0.5.0)\n",
            "Requirement already satisfied: typing-extensions>=3.7.4.3 in /usr/local/lib/python3.7/dist-packages (from huggingface-hub<1.0,>=0.1.0->transformers) (3.10.0.2)\n",
            "Requirement already satisfied: pyparsing!=3.0.5,>=2.0.2 in /usr/local/lib/python3.7/dist-packages (from packaging>=20.0->transformers) (3.0.7)\n",
            "Requirement already satisfied: zipp>=0.5 in /usr/local/lib/python3.7/dist-packages (from importlib-metadata->transformers) (3.7.0)\n",
            "Requirement already satisfied: idna<3,>=2.5 in /usr/local/lib/python3.7/dist-packages (from requests->transformers) (2.10)\n",
            "Requirement already satisfied: urllib3!=1.25.0,!=1.25.1,<1.26,>=1.21.1 in /usr/local/lib/python3.7/dist-packages (from requests->transformers) (1.24.3)\n",
            "Requirement already satisfied: chardet<4,>=3.0.2 in /usr/local/lib/python3.7/dist-packages (from requests->transformers) (3.0.4)\n",
            "Requirement already satisfied: certifi>=2017.4.17 in /usr/local/lib/python3.7/dist-packages (from requests->transformers) (2021.10.8)\n",
            "Requirement already satisfied: six in /usr/local/lib/python3.7/dist-packages (from sacremoses->transformers) (1.15.0)\n",
            "Requirement already satisfied: joblib in /usr/local/lib/python3.7/dist-packages (from sacremoses->transformers) (1.1.0)\n",
            "Requirement already satisfied: click in /usr/local/lib/python3.7/dist-packages (from sacremoses->transformers) (7.1.2)\n"
          ]
        }
      ]
    },
    {
      "cell_type": "code",
      "execution_count": 7,
      "metadata": {
        "id": "noy7PwtVGNTg"
      },
      "outputs": [],
      "source": [
        "import numpy as np\n",
        "import pandas as pd\n",
        "import tensorflow as tf\n",
        "from tensorflow import keras\n",
        "from keras.models import Sequential\n",
        "from keras.layers import Input, Convolution1D, MaxPooling1D, Flatten, Dense, Dropout\n",
        "from keras.utils import np_utils\n",
        "from tensorflow.keras.preprocessing.sequence import pad_sequences\n",
        "import sklearn\n",
        "from sklearn.preprocessing import MinMaxScaler\n",
        "from sklearn.model_selection import RepeatedKFold \n",
        "from sklearn import model_selection\n",
        "import imblearn\n",
        "from imblearn.over_sampling import SMOTE\n",
        "import nltk \n",
        "from nltk.tokenize import RegexpTokenizer\n",
        "import re\n",
        "import gensim\n",
        "from gensim.models import Word2Vec\n",
        "import transformers\n",
        "from transformers import DistilBertTokenizer\n",
        "from transformers import TFDistilBertForSequenceClassification"
      ]
    },
    {
      "cell_type": "markdown",
      "metadata": {
        "id": "Gl2ewKuLLSik"
      },
      "source": [
        "###Mounting Google Drive"
      ]
    },
    {
      "cell_type": "code",
      "execution_count": 8,
      "metadata": {
        "id": "EVp73IfEKQAV"
      },
      "outputs": [],
      "source": [
        "from pydrive.auth import GoogleAuth\n",
        "from pydrive.drive import GoogleDrive\n",
        "from google.colab import auth\n",
        "from oauth2client.client import GoogleCredentials\n",
        "    \n",
        "auth.authenticate_user()\n",
        "gauth = GoogleAuth()\n",
        "gauth.credentials = GoogleCredentials.get_application_default()\n",
        "drive = GoogleDrive(gauth)"
      ]
    },
    {
      "cell_type": "markdown",
      "metadata": {
        "id": "6R-MYnl67itv"
      },
      "source": [
        "###Dataset Loader"
      ]
    },
    {
      "cell_type": "code",
      "execution_count": 9,
      "metadata": {
        "id": "ULHBQ7_L53EO"
      },
      "outputs": [],
      "source": [
        "def DataLoader(link, name_of_file):\n",
        "  id = link.split(\"/\")[-2]\n",
        "  downloaded = drive.CreateFile({'id':id}) \n",
        "  downloaded.GetContentFile(name_of_file)\n",
        "  dataframe = pd.read_csv(name_of_file)\n",
        "  return dataframe\n",
        "\n",
        "link1 = 'https://drive.google.com/file/d/1EfbAqgr7i9h4yFwEoU3igG34Gt48l6WT/view?usp=sharing'\n",
        "link2 = 'https://drive.google.com/file/d/1Ya1OMWsz1yyXAaZheIck-roX0M9UWiqg/view?usp=sharing'\n",
        "link3 = 'https://drive.google.com/file/d/1xeMRB6ACyjep6VF_rDRq8cXkA58ZlEZs/view?usp=sharing'\n",
        "link4 = 'https://drive.google.com/file/d/1OxxMX7-kc7mQUvb2DSJR_fbtvZ5bB1Ef/view?usp=sharing'\n",
        "name1 = 'long_parameters_list_structural.csv'\n",
        "name2 = 'switch_statements_structural.csv'\n",
        "name3 = 'long_parameters_list_semantic.csv'\n",
        "name4 = 'switch_statements_semantic.csv'\n",
        "\n",
        "df_lp = DataLoader(link1, name1)\n",
        "df_ss = DataLoader(link2, name2)\n",
        "df_lpm = DataLoader(link3, name3)\n",
        "df_ssm = DataLoader(link4, name4)"
      ]
    },
    {
      "cell_type": "markdown",
      "metadata": {
        "id": "V-VE5KVKkMHL"
      },
      "source": [
        "Long Parameters List Structural Dataset"
      ]
    },
    {
      "cell_type": "code",
      "execution_count": 10,
      "metadata": {
        "colab": {
          "base_uri": "https://localhost:8080/",
          "height": 299
        },
        "id": "MJ8g3uXM6qPO",
        "outputId": "6269617d-c32f-4b74-97e0-1a6608bee636"
      },
      "outputs": [
        {
          "output_type": "execute_result",
          "data": {
            "text/plain": [
              "   NOP_method  CC_method ATFD_method FDP_method  CM_method  MAXNESTING_method  \\\n",
              "0           0          0           0          0          0                  2   \n",
              "1           0          0           0          0          0                  1   \n",
              "2           1          0           0          0          0                  1   \n",
              "3           0          5           0          0          9                  0   \n",
              "4           1          0           1          1          0                  1   \n",
              "\n",
              "   LOC_method  CYCLO_method  NMCS_method  NOLV_method  ...  NOI_package  \\\n",
              "0           8             2            0            0  ...            0   \n",
              "1           3             1            0            0  ...            0   \n",
              "2           2             1            0            1  ...            0   \n",
              "3           1             1            0            0  ...           11   \n",
              "4           3             1            0            1  ...           11   \n",
              "\n",
              "  LOC_package NOM_package  NOPK_project  NOCS_project NOI_project  \\\n",
              "0         229          16            43           849          78   \n",
              "1        4223         240            43           849          78   \n",
              "2        4223         240            43           849          78   \n",
              "3        6037         728            43           849          78   \n",
              "4        6037         728            43           849          78   \n",
              "\n",
              "   NOM_project  NOMNAMM_project  LOC_project  is_long_parameters_list  \n",
              "0         5788             4778        65687                    False  \n",
              "1         5788             4778        65687                    False  \n",
              "2         5788             4778        65687                    False  \n",
              "3         5788             4778        65687                    False  \n",
              "4         5788             4778        65687                    False  \n",
              "\n",
              "[5 rows x 57 columns]"
            ],
            "text/html": [
              "\n",
              "  <div id=\"df-b63032b4-6bb9-4031-b49f-3b847b7716de\">\n",
              "    <div class=\"colab-df-container\">\n",
              "      <div>\n",
              "<style scoped>\n",
              "    .dataframe tbody tr th:only-of-type {\n",
              "        vertical-align: middle;\n",
              "    }\n",
              "\n",
              "    .dataframe tbody tr th {\n",
              "        vertical-align: top;\n",
              "    }\n",
              "\n",
              "    .dataframe thead th {\n",
              "        text-align: right;\n",
              "    }\n",
              "</style>\n",
              "<table border=\"1\" class=\"dataframe\">\n",
              "  <thead>\n",
              "    <tr style=\"text-align: right;\">\n",
              "      <th></th>\n",
              "      <th>NOP_method</th>\n",
              "      <th>CC_method</th>\n",
              "      <th>ATFD_method</th>\n",
              "      <th>FDP_method</th>\n",
              "      <th>CM_method</th>\n",
              "      <th>MAXNESTING_method</th>\n",
              "      <th>LOC_method</th>\n",
              "      <th>CYCLO_method</th>\n",
              "      <th>NMCS_method</th>\n",
              "      <th>NOLV_method</th>\n",
              "      <th>...</th>\n",
              "      <th>NOI_package</th>\n",
              "      <th>LOC_package</th>\n",
              "      <th>NOM_package</th>\n",
              "      <th>NOPK_project</th>\n",
              "      <th>NOCS_project</th>\n",
              "      <th>NOI_project</th>\n",
              "      <th>NOM_project</th>\n",
              "      <th>NOMNAMM_project</th>\n",
              "      <th>LOC_project</th>\n",
              "      <th>is_long_parameters_list</th>\n",
              "    </tr>\n",
              "  </thead>\n",
              "  <tbody>\n",
              "    <tr>\n",
              "      <th>0</th>\n",
              "      <td>0</td>\n",
              "      <td>0</td>\n",
              "      <td>0</td>\n",
              "      <td>0</td>\n",
              "      <td>0</td>\n",
              "      <td>2</td>\n",
              "      <td>8</td>\n",
              "      <td>2</td>\n",
              "      <td>0</td>\n",
              "      <td>0</td>\n",
              "      <td>...</td>\n",
              "      <td>0</td>\n",
              "      <td>229</td>\n",
              "      <td>16</td>\n",
              "      <td>43</td>\n",
              "      <td>849</td>\n",
              "      <td>78</td>\n",
              "      <td>5788</td>\n",
              "      <td>4778</td>\n",
              "      <td>65687</td>\n",
              "      <td>False</td>\n",
              "    </tr>\n",
              "    <tr>\n",
              "      <th>1</th>\n",
              "      <td>0</td>\n",
              "      <td>0</td>\n",
              "      <td>0</td>\n",
              "      <td>0</td>\n",
              "      <td>0</td>\n",
              "      <td>1</td>\n",
              "      <td>3</td>\n",
              "      <td>1</td>\n",
              "      <td>0</td>\n",
              "      <td>0</td>\n",
              "      <td>...</td>\n",
              "      <td>0</td>\n",
              "      <td>4223</td>\n",
              "      <td>240</td>\n",
              "      <td>43</td>\n",
              "      <td>849</td>\n",
              "      <td>78</td>\n",
              "      <td>5788</td>\n",
              "      <td>4778</td>\n",
              "      <td>65687</td>\n",
              "      <td>False</td>\n",
              "    </tr>\n",
              "    <tr>\n",
              "      <th>2</th>\n",
              "      <td>1</td>\n",
              "      <td>0</td>\n",
              "      <td>0</td>\n",
              "      <td>0</td>\n",
              "      <td>0</td>\n",
              "      <td>1</td>\n",
              "      <td>2</td>\n",
              "      <td>1</td>\n",
              "      <td>0</td>\n",
              "      <td>1</td>\n",
              "      <td>...</td>\n",
              "      <td>0</td>\n",
              "      <td>4223</td>\n",
              "      <td>240</td>\n",
              "      <td>43</td>\n",
              "      <td>849</td>\n",
              "      <td>78</td>\n",
              "      <td>5788</td>\n",
              "      <td>4778</td>\n",
              "      <td>65687</td>\n",
              "      <td>False</td>\n",
              "    </tr>\n",
              "    <tr>\n",
              "      <th>3</th>\n",
              "      <td>0</td>\n",
              "      <td>5</td>\n",
              "      <td>0</td>\n",
              "      <td>0</td>\n",
              "      <td>9</td>\n",
              "      <td>0</td>\n",
              "      <td>1</td>\n",
              "      <td>1</td>\n",
              "      <td>0</td>\n",
              "      <td>0</td>\n",
              "      <td>...</td>\n",
              "      <td>11</td>\n",
              "      <td>6037</td>\n",
              "      <td>728</td>\n",
              "      <td>43</td>\n",
              "      <td>849</td>\n",
              "      <td>78</td>\n",
              "      <td>5788</td>\n",
              "      <td>4778</td>\n",
              "      <td>65687</td>\n",
              "      <td>False</td>\n",
              "    </tr>\n",
              "    <tr>\n",
              "      <th>4</th>\n",
              "      <td>1</td>\n",
              "      <td>0</td>\n",
              "      <td>1</td>\n",
              "      <td>1</td>\n",
              "      <td>0</td>\n",
              "      <td>1</td>\n",
              "      <td>3</td>\n",
              "      <td>1</td>\n",
              "      <td>0</td>\n",
              "      <td>1</td>\n",
              "      <td>...</td>\n",
              "      <td>11</td>\n",
              "      <td>6037</td>\n",
              "      <td>728</td>\n",
              "      <td>43</td>\n",
              "      <td>849</td>\n",
              "      <td>78</td>\n",
              "      <td>5788</td>\n",
              "      <td>4778</td>\n",
              "      <td>65687</td>\n",
              "      <td>False</td>\n",
              "    </tr>\n",
              "  </tbody>\n",
              "</table>\n",
              "<p>5 rows × 57 columns</p>\n",
              "</div>\n",
              "      <button class=\"colab-df-convert\" onclick=\"convertToInteractive('df-b63032b4-6bb9-4031-b49f-3b847b7716de')\"\n",
              "              title=\"Convert this dataframe to an interactive table.\"\n",
              "              style=\"display:none;\">\n",
              "        \n",
              "  <svg xmlns=\"http://www.w3.org/2000/svg\" height=\"24px\"viewBox=\"0 0 24 24\"\n",
              "       width=\"24px\">\n",
              "    <path d=\"M0 0h24v24H0V0z\" fill=\"none\"/>\n",
              "    <path d=\"M18.56 5.44l.94 2.06.94-2.06 2.06-.94-2.06-.94-.94-2.06-.94 2.06-2.06.94zm-11 1L8.5 8.5l.94-2.06 2.06-.94-2.06-.94L8.5 2.5l-.94 2.06-2.06.94zm10 10l.94 2.06.94-2.06 2.06-.94-2.06-.94-.94-2.06-.94 2.06-2.06.94z\"/><path d=\"M17.41 7.96l-1.37-1.37c-.4-.4-.92-.59-1.43-.59-.52 0-1.04.2-1.43.59L10.3 9.45l-7.72 7.72c-.78.78-.78 2.05 0 2.83L4 21.41c.39.39.9.59 1.41.59.51 0 1.02-.2 1.41-.59l7.78-7.78 2.81-2.81c.8-.78.8-2.07 0-2.86zM5.41 20L4 18.59l7.72-7.72 1.47 1.35L5.41 20z\"/>\n",
              "  </svg>\n",
              "      </button>\n",
              "      \n",
              "  <style>\n",
              "    .colab-df-container {\n",
              "      display:flex;\n",
              "      flex-wrap:wrap;\n",
              "      gap: 12px;\n",
              "    }\n",
              "\n",
              "    .colab-df-convert {\n",
              "      background-color: #E8F0FE;\n",
              "      border: none;\n",
              "      border-radius: 50%;\n",
              "      cursor: pointer;\n",
              "      display: none;\n",
              "      fill: #1967D2;\n",
              "      height: 32px;\n",
              "      padding: 0 0 0 0;\n",
              "      width: 32px;\n",
              "    }\n",
              "\n",
              "    .colab-df-convert:hover {\n",
              "      background-color: #E2EBFA;\n",
              "      box-shadow: 0px 1px 2px rgba(60, 64, 67, 0.3), 0px 1px 3px 1px rgba(60, 64, 67, 0.15);\n",
              "      fill: #174EA6;\n",
              "    }\n",
              "\n",
              "    [theme=dark] .colab-df-convert {\n",
              "      background-color: #3B4455;\n",
              "      fill: #D2E3FC;\n",
              "    }\n",
              "\n",
              "    [theme=dark] .colab-df-convert:hover {\n",
              "      background-color: #434B5C;\n",
              "      box-shadow: 0px 1px 3px 1px rgba(0, 0, 0, 0.15);\n",
              "      filter: drop-shadow(0px 1px 2px rgba(0, 0, 0, 0.3));\n",
              "      fill: #FFFFFF;\n",
              "    }\n",
              "  </style>\n",
              "\n",
              "      <script>\n",
              "        const buttonEl =\n",
              "          document.querySelector('#df-b63032b4-6bb9-4031-b49f-3b847b7716de button.colab-df-convert');\n",
              "        buttonEl.style.display =\n",
              "          google.colab.kernel.accessAllowed ? 'block' : 'none';\n",
              "\n",
              "        async function convertToInteractive(key) {\n",
              "          const element = document.querySelector('#df-b63032b4-6bb9-4031-b49f-3b847b7716de');\n",
              "          const dataTable =\n",
              "            await google.colab.kernel.invokeFunction('convertToInteractive',\n",
              "                                                     [key], {});\n",
              "          if (!dataTable) return;\n",
              "\n",
              "          const docLinkHtml = 'Like what you see? Visit the ' +\n",
              "            '<a target=\"_blank\" href=https://colab.research.google.com/notebooks/data_table.ipynb>data table notebook</a>'\n",
              "            + ' to learn more about interactive tables.';\n",
              "          element.innerHTML = '';\n",
              "          dataTable['output_type'] = 'display_data';\n",
              "          await google.colab.output.renderOutput(dataTable, element);\n",
              "          const docLink = document.createElement('div');\n",
              "          docLink.innerHTML = docLinkHtml;\n",
              "          element.appendChild(docLink);\n",
              "        }\n",
              "      </script>\n",
              "    </div>\n",
              "  </div>\n",
              "  "
            ]
          },
          "metadata": {},
          "execution_count": 10
        }
      ],
      "source": [
        "df_lp.head(5)"
      ]
    },
    {
      "cell_type": "markdown",
      "metadata": {
        "id": "ykY52hFC7FaT"
      },
      "source": [
        "Switch Statements Structural Dataset\n",
        "\n"
      ]
    },
    {
      "cell_type": "code",
      "execution_count": 11,
      "metadata": {
        "colab": {
          "base_uri": "https://localhost:8080/",
          "height": 299
        },
        "id": "lL0zKacc7tMH",
        "outputId": "198d2032-fd5a-4022-f807-de0ce25e53a1"
      },
      "outputs": [
        {
          "output_type": "execute_result",
          "data": {
            "text/plain": [
              "   NOP_method  CC_method ATFD_method FDP_method  CM_method  MAXNESTING_method  \\\n",
              "0           1          2           0          0          2                  1   \n",
              "1           0          0           0          0          0                  2   \n",
              "2           2          0           0          0          0                  1   \n",
              "3           0          0           0          0          0                  2   \n",
              "4           0          0           0          0          0                  1   \n",
              "\n",
              "   LOC_method  CYCLO_method  NMCS_method  NOLV_method  ...  NOI_package  \\\n",
              "0           5             1            0            1  ...            3   \n",
              "1           6             3            0            0  ...            0   \n",
              "2           3             1            0            2  ...            0   \n",
              "3           3             1            0            0  ...            0   \n",
              "4           3             1            0            0  ...            0   \n",
              "\n",
              "  LOC_package NOM_package  NOPK_project  NOCS_project NOI_project  \\\n",
              "0         439          53            43           849          78   \n",
              "1        4223         240            43           849          78   \n",
              "2        4223         240            43           849          78   \n",
              "3        1212         120            43           849          78   \n",
              "4         516          29            43           849          78   \n",
              "\n",
              "   NOM_project  NOMNAMM_project  LOC_project  is_switch_statements  \n",
              "0         5788             4778        65687                 False  \n",
              "1         5788             4778        65687                 False  \n",
              "2         5788             4778        65687                 False  \n",
              "3         5788             4778        65687                 False  \n",
              "4         5788             4778        65687                 False  \n",
              "\n",
              "[5 rows x 57 columns]"
            ],
            "text/html": [
              "\n",
              "  <div id=\"df-29466998-641b-4033-b7aa-602f3ce9fd53\">\n",
              "    <div class=\"colab-df-container\">\n",
              "      <div>\n",
              "<style scoped>\n",
              "    .dataframe tbody tr th:only-of-type {\n",
              "        vertical-align: middle;\n",
              "    }\n",
              "\n",
              "    .dataframe tbody tr th {\n",
              "        vertical-align: top;\n",
              "    }\n",
              "\n",
              "    .dataframe thead th {\n",
              "        text-align: right;\n",
              "    }\n",
              "</style>\n",
              "<table border=\"1\" class=\"dataframe\">\n",
              "  <thead>\n",
              "    <tr style=\"text-align: right;\">\n",
              "      <th></th>\n",
              "      <th>NOP_method</th>\n",
              "      <th>CC_method</th>\n",
              "      <th>ATFD_method</th>\n",
              "      <th>FDP_method</th>\n",
              "      <th>CM_method</th>\n",
              "      <th>MAXNESTING_method</th>\n",
              "      <th>LOC_method</th>\n",
              "      <th>CYCLO_method</th>\n",
              "      <th>NMCS_method</th>\n",
              "      <th>NOLV_method</th>\n",
              "      <th>...</th>\n",
              "      <th>NOI_package</th>\n",
              "      <th>LOC_package</th>\n",
              "      <th>NOM_package</th>\n",
              "      <th>NOPK_project</th>\n",
              "      <th>NOCS_project</th>\n",
              "      <th>NOI_project</th>\n",
              "      <th>NOM_project</th>\n",
              "      <th>NOMNAMM_project</th>\n",
              "      <th>LOC_project</th>\n",
              "      <th>is_switch_statements</th>\n",
              "    </tr>\n",
              "  </thead>\n",
              "  <tbody>\n",
              "    <tr>\n",
              "      <th>0</th>\n",
              "      <td>1</td>\n",
              "      <td>2</td>\n",
              "      <td>0</td>\n",
              "      <td>0</td>\n",
              "      <td>2</td>\n",
              "      <td>1</td>\n",
              "      <td>5</td>\n",
              "      <td>1</td>\n",
              "      <td>0</td>\n",
              "      <td>1</td>\n",
              "      <td>...</td>\n",
              "      <td>3</td>\n",
              "      <td>439</td>\n",
              "      <td>53</td>\n",
              "      <td>43</td>\n",
              "      <td>849</td>\n",
              "      <td>78</td>\n",
              "      <td>5788</td>\n",
              "      <td>4778</td>\n",
              "      <td>65687</td>\n",
              "      <td>False</td>\n",
              "    </tr>\n",
              "    <tr>\n",
              "      <th>1</th>\n",
              "      <td>0</td>\n",
              "      <td>0</td>\n",
              "      <td>0</td>\n",
              "      <td>0</td>\n",
              "      <td>0</td>\n",
              "      <td>2</td>\n",
              "      <td>6</td>\n",
              "      <td>3</td>\n",
              "      <td>0</td>\n",
              "      <td>0</td>\n",
              "      <td>...</td>\n",
              "      <td>0</td>\n",
              "      <td>4223</td>\n",
              "      <td>240</td>\n",
              "      <td>43</td>\n",
              "      <td>849</td>\n",
              "      <td>78</td>\n",
              "      <td>5788</td>\n",
              "      <td>4778</td>\n",
              "      <td>65687</td>\n",
              "      <td>False</td>\n",
              "    </tr>\n",
              "    <tr>\n",
              "      <th>2</th>\n",
              "      <td>2</td>\n",
              "      <td>0</td>\n",
              "      <td>0</td>\n",
              "      <td>0</td>\n",
              "      <td>0</td>\n",
              "      <td>1</td>\n",
              "      <td>3</td>\n",
              "      <td>1</td>\n",
              "      <td>0</td>\n",
              "      <td>2</td>\n",
              "      <td>...</td>\n",
              "      <td>0</td>\n",
              "      <td>4223</td>\n",
              "      <td>240</td>\n",
              "      <td>43</td>\n",
              "      <td>849</td>\n",
              "      <td>78</td>\n",
              "      <td>5788</td>\n",
              "      <td>4778</td>\n",
              "      <td>65687</td>\n",
              "      <td>False</td>\n",
              "    </tr>\n",
              "    <tr>\n",
              "      <th>3</th>\n",
              "      <td>0</td>\n",
              "      <td>0</td>\n",
              "      <td>0</td>\n",
              "      <td>0</td>\n",
              "      <td>0</td>\n",
              "      <td>2</td>\n",
              "      <td>3</td>\n",
              "      <td>1</td>\n",
              "      <td>0</td>\n",
              "      <td>0</td>\n",
              "      <td>...</td>\n",
              "      <td>0</td>\n",
              "      <td>1212</td>\n",
              "      <td>120</td>\n",
              "      <td>43</td>\n",
              "      <td>849</td>\n",
              "      <td>78</td>\n",
              "      <td>5788</td>\n",
              "      <td>4778</td>\n",
              "      <td>65687</td>\n",
              "      <td>False</td>\n",
              "    </tr>\n",
              "    <tr>\n",
              "      <th>4</th>\n",
              "      <td>0</td>\n",
              "      <td>0</td>\n",
              "      <td>0</td>\n",
              "      <td>0</td>\n",
              "      <td>0</td>\n",
              "      <td>1</td>\n",
              "      <td>3</td>\n",
              "      <td>1</td>\n",
              "      <td>0</td>\n",
              "      <td>0</td>\n",
              "      <td>...</td>\n",
              "      <td>0</td>\n",
              "      <td>516</td>\n",
              "      <td>29</td>\n",
              "      <td>43</td>\n",
              "      <td>849</td>\n",
              "      <td>78</td>\n",
              "      <td>5788</td>\n",
              "      <td>4778</td>\n",
              "      <td>65687</td>\n",
              "      <td>False</td>\n",
              "    </tr>\n",
              "  </tbody>\n",
              "</table>\n",
              "<p>5 rows × 57 columns</p>\n",
              "</div>\n",
              "      <button class=\"colab-df-convert\" onclick=\"convertToInteractive('df-29466998-641b-4033-b7aa-602f3ce9fd53')\"\n",
              "              title=\"Convert this dataframe to an interactive table.\"\n",
              "              style=\"display:none;\">\n",
              "        \n",
              "  <svg xmlns=\"http://www.w3.org/2000/svg\" height=\"24px\"viewBox=\"0 0 24 24\"\n",
              "       width=\"24px\">\n",
              "    <path d=\"M0 0h24v24H0V0z\" fill=\"none\"/>\n",
              "    <path d=\"M18.56 5.44l.94 2.06.94-2.06 2.06-.94-2.06-.94-.94-2.06-.94 2.06-2.06.94zm-11 1L8.5 8.5l.94-2.06 2.06-.94-2.06-.94L8.5 2.5l-.94 2.06-2.06.94zm10 10l.94 2.06.94-2.06 2.06-.94-2.06-.94-.94-2.06-.94 2.06-2.06.94z\"/><path d=\"M17.41 7.96l-1.37-1.37c-.4-.4-.92-.59-1.43-.59-.52 0-1.04.2-1.43.59L10.3 9.45l-7.72 7.72c-.78.78-.78 2.05 0 2.83L4 21.41c.39.39.9.59 1.41.59.51 0 1.02-.2 1.41-.59l7.78-7.78 2.81-2.81c.8-.78.8-2.07 0-2.86zM5.41 20L4 18.59l7.72-7.72 1.47 1.35L5.41 20z\"/>\n",
              "  </svg>\n",
              "      </button>\n",
              "      \n",
              "  <style>\n",
              "    .colab-df-container {\n",
              "      display:flex;\n",
              "      flex-wrap:wrap;\n",
              "      gap: 12px;\n",
              "    }\n",
              "\n",
              "    .colab-df-convert {\n",
              "      background-color: #E8F0FE;\n",
              "      border: none;\n",
              "      border-radius: 50%;\n",
              "      cursor: pointer;\n",
              "      display: none;\n",
              "      fill: #1967D2;\n",
              "      height: 32px;\n",
              "      padding: 0 0 0 0;\n",
              "      width: 32px;\n",
              "    }\n",
              "\n",
              "    .colab-df-convert:hover {\n",
              "      background-color: #E2EBFA;\n",
              "      box-shadow: 0px 1px 2px rgba(60, 64, 67, 0.3), 0px 1px 3px 1px rgba(60, 64, 67, 0.15);\n",
              "      fill: #174EA6;\n",
              "    }\n",
              "\n",
              "    [theme=dark] .colab-df-convert {\n",
              "      background-color: #3B4455;\n",
              "      fill: #D2E3FC;\n",
              "    }\n",
              "\n",
              "    [theme=dark] .colab-df-convert:hover {\n",
              "      background-color: #434B5C;\n",
              "      box-shadow: 0px 1px 3px 1px rgba(0, 0, 0, 0.15);\n",
              "      filter: drop-shadow(0px 1px 2px rgba(0, 0, 0, 0.3));\n",
              "      fill: #FFFFFF;\n",
              "    }\n",
              "  </style>\n",
              "\n",
              "      <script>\n",
              "        const buttonEl =\n",
              "          document.querySelector('#df-29466998-641b-4033-b7aa-602f3ce9fd53 button.colab-df-convert');\n",
              "        buttonEl.style.display =\n",
              "          google.colab.kernel.accessAllowed ? 'block' : 'none';\n",
              "\n",
              "        async function convertToInteractive(key) {\n",
              "          const element = document.querySelector('#df-29466998-641b-4033-b7aa-602f3ce9fd53');\n",
              "          const dataTable =\n",
              "            await google.colab.kernel.invokeFunction('convertToInteractive',\n",
              "                                                     [key], {});\n",
              "          if (!dataTable) return;\n",
              "\n",
              "          const docLinkHtml = 'Like what you see? Visit the ' +\n",
              "            '<a target=\"_blank\" href=https://colab.research.google.com/notebooks/data_table.ipynb>data table notebook</a>'\n",
              "            + ' to learn more about interactive tables.';\n",
              "          element.innerHTML = '';\n",
              "          dataTable['output_type'] = 'display_data';\n",
              "          await google.colab.output.renderOutput(dataTable, element);\n",
              "          const docLink = document.createElement('div');\n",
              "          docLink.innerHTML = docLinkHtml;\n",
              "          element.appendChild(docLink);\n",
              "        }\n",
              "      </script>\n",
              "    </div>\n",
              "  </div>\n",
              "  "
            ]
          },
          "metadata": {},
          "execution_count": 11
        }
      ],
      "source": [
        "df_ss.head(5)"
      ]
    },
    {
      "cell_type": "markdown",
      "metadata": {
        "id": "CYV4ILz-X0lz"
      },
      "source": [
        "Long Parameters List Semantic Dataset"
      ]
    },
    {
      "cell_type": "code",
      "execution_count": 12,
      "metadata": {
        "colab": {
          "base_uri": "https://localhost:8080/",
          "height": 250
        },
        "id": "UrxaQ_rPVhQ9",
        "outputId": "5bbbfbb4-ec3e-4407-f974-f545e1f4fc67"
      },
      "outputs": [
        {
          "output_type": "execute_result",
          "data": {
            "text/plain": [
              "                                             project  \\\n",
              "0  /mnt/qualitas/qualitas_corpus_compile/freemind...   \n",
              "1  /mnt/qualitas/qualitas_corpus_compile/freemind...   \n",
              "2  /mnt/qualitas/qualitas_corpus_compile/freemind...   \n",
              "3  /mnt/qualitas/qualitas_corpus_compile/freemind...   \n",
              "4  /mnt/qualitas/qualitas_corpus_compile/freemind...   \n",
              "\n",
              "                         package  \\\n",
              "0  freemind.modes.common.plugins   \n",
              "1     freemind.modes.mindmapmode   \n",
              "2     freemind.modes.mindmapmode   \n",
              "3                 freemind.modes   \n",
              "4                 freemind.modes   \n",
              "\n",
              "                                           class  \\\n",
              "0                               ReminderHookBase   \n",
              "1            MindMapMapModel.StringReaderCreator   \n",
              "2                              MindMapController   \n",
              "3                                    MindMapNode   \n",
              "4  ControllerAdapter.ControllerPopupMenuListener   \n",
              "\n",
              "                              method  is_code_smell  \n",
              "0                  shutdownMapHook()          False  \n",
              "1                     createReader()          False  \n",
              "2           newModel(ModeController)          False  \n",
              "3                         getColor()          False  \n",
              "4  popupMenuCanceled(PopupMenuEvent)          False  "
            ],
            "text/html": [
              "\n",
              "  <div id=\"df-cebfc6ec-2702-43fd-8faa-deddc0f419c3\">\n",
              "    <div class=\"colab-df-container\">\n",
              "      <div>\n",
              "<style scoped>\n",
              "    .dataframe tbody tr th:only-of-type {\n",
              "        vertical-align: middle;\n",
              "    }\n",
              "\n",
              "    .dataframe tbody tr th {\n",
              "        vertical-align: top;\n",
              "    }\n",
              "\n",
              "    .dataframe thead th {\n",
              "        text-align: right;\n",
              "    }\n",
              "</style>\n",
              "<table border=\"1\" class=\"dataframe\">\n",
              "  <thead>\n",
              "    <tr style=\"text-align: right;\">\n",
              "      <th></th>\n",
              "      <th>project</th>\n",
              "      <th>package</th>\n",
              "      <th>class</th>\n",
              "      <th>method</th>\n",
              "      <th>is_code_smell</th>\n",
              "    </tr>\n",
              "  </thead>\n",
              "  <tbody>\n",
              "    <tr>\n",
              "      <th>0</th>\n",
              "      <td>/mnt/qualitas/qualitas_corpus_compile/freemind...</td>\n",
              "      <td>freemind.modes.common.plugins</td>\n",
              "      <td>ReminderHookBase</td>\n",
              "      <td>shutdownMapHook()</td>\n",
              "      <td>False</td>\n",
              "    </tr>\n",
              "    <tr>\n",
              "      <th>1</th>\n",
              "      <td>/mnt/qualitas/qualitas_corpus_compile/freemind...</td>\n",
              "      <td>freemind.modes.mindmapmode</td>\n",
              "      <td>MindMapMapModel.StringReaderCreator</td>\n",
              "      <td>createReader()</td>\n",
              "      <td>False</td>\n",
              "    </tr>\n",
              "    <tr>\n",
              "      <th>2</th>\n",
              "      <td>/mnt/qualitas/qualitas_corpus_compile/freemind...</td>\n",
              "      <td>freemind.modes.mindmapmode</td>\n",
              "      <td>MindMapController</td>\n",
              "      <td>newModel(ModeController)</td>\n",
              "      <td>False</td>\n",
              "    </tr>\n",
              "    <tr>\n",
              "      <th>3</th>\n",
              "      <td>/mnt/qualitas/qualitas_corpus_compile/freemind...</td>\n",
              "      <td>freemind.modes</td>\n",
              "      <td>MindMapNode</td>\n",
              "      <td>getColor()</td>\n",
              "      <td>False</td>\n",
              "    </tr>\n",
              "    <tr>\n",
              "      <th>4</th>\n",
              "      <td>/mnt/qualitas/qualitas_corpus_compile/freemind...</td>\n",
              "      <td>freemind.modes</td>\n",
              "      <td>ControllerAdapter.ControllerPopupMenuListener</td>\n",
              "      <td>popupMenuCanceled(PopupMenuEvent)</td>\n",
              "      <td>False</td>\n",
              "    </tr>\n",
              "  </tbody>\n",
              "</table>\n",
              "</div>\n",
              "      <button class=\"colab-df-convert\" onclick=\"convertToInteractive('df-cebfc6ec-2702-43fd-8faa-deddc0f419c3')\"\n",
              "              title=\"Convert this dataframe to an interactive table.\"\n",
              "              style=\"display:none;\">\n",
              "        \n",
              "  <svg xmlns=\"http://www.w3.org/2000/svg\" height=\"24px\"viewBox=\"0 0 24 24\"\n",
              "       width=\"24px\">\n",
              "    <path d=\"M0 0h24v24H0V0z\" fill=\"none\"/>\n",
              "    <path d=\"M18.56 5.44l.94 2.06.94-2.06 2.06-.94-2.06-.94-.94-2.06-.94 2.06-2.06.94zm-11 1L8.5 8.5l.94-2.06 2.06-.94-2.06-.94L8.5 2.5l-.94 2.06-2.06.94zm10 10l.94 2.06.94-2.06 2.06-.94-2.06-.94-.94-2.06-.94 2.06-2.06.94z\"/><path d=\"M17.41 7.96l-1.37-1.37c-.4-.4-.92-.59-1.43-.59-.52 0-1.04.2-1.43.59L10.3 9.45l-7.72 7.72c-.78.78-.78 2.05 0 2.83L4 21.41c.39.39.9.59 1.41.59.51 0 1.02-.2 1.41-.59l7.78-7.78 2.81-2.81c.8-.78.8-2.07 0-2.86zM5.41 20L4 18.59l7.72-7.72 1.47 1.35L5.41 20z\"/>\n",
              "  </svg>\n",
              "      </button>\n",
              "      \n",
              "  <style>\n",
              "    .colab-df-container {\n",
              "      display:flex;\n",
              "      flex-wrap:wrap;\n",
              "      gap: 12px;\n",
              "    }\n",
              "\n",
              "    .colab-df-convert {\n",
              "      background-color: #E8F0FE;\n",
              "      border: none;\n",
              "      border-radius: 50%;\n",
              "      cursor: pointer;\n",
              "      display: none;\n",
              "      fill: #1967D2;\n",
              "      height: 32px;\n",
              "      padding: 0 0 0 0;\n",
              "      width: 32px;\n",
              "    }\n",
              "\n",
              "    .colab-df-convert:hover {\n",
              "      background-color: #E2EBFA;\n",
              "      box-shadow: 0px 1px 2px rgba(60, 64, 67, 0.3), 0px 1px 3px 1px rgba(60, 64, 67, 0.15);\n",
              "      fill: #174EA6;\n",
              "    }\n",
              "\n",
              "    [theme=dark] .colab-df-convert {\n",
              "      background-color: #3B4455;\n",
              "      fill: #D2E3FC;\n",
              "    }\n",
              "\n",
              "    [theme=dark] .colab-df-convert:hover {\n",
              "      background-color: #434B5C;\n",
              "      box-shadow: 0px 1px 3px 1px rgba(0, 0, 0, 0.15);\n",
              "      filter: drop-shadow(0px 1px 2px rgba(0, 0, 0, 0.3));\n",
              "      fill: #FFFFFF;\n",
              "    }\n",
              "  </style>\n",
              "\n",
              "      <script>\n",
              "        const buttonEl =\n",
              "          document.querySelector('#df-cebfc6ec-2702-43fd-8faa-deddc0f419c3 button.colab-df-convert');\n",
              "        buttonEl.style.display =\n",
              "          google.colab.kernel.accessAllowed ? 'block' : 'none';\n",
              "\n",
              "        async function convertToInteractive(key) {\n",
              "          const element = document.querySelector('#df-cebfc6ec-2702-43fd-8faa-deddc0f419c3');\n",
              "          const dataTable =\n",
              "            await google.colab.kernel.invokeFunction('convertToInteractive',\n",
              "                                                     [key], {});\n",
              "          if (!dataTable) return;\n",
              "\n",
              "          const docLinkHtml = 'Like what you see? Visit the ' +\n",
              "            '<a target=\"_blank\" href=https://colab.research.google.com/notebooks/data_table.ipynb>data table notebook</a>'\n",
              "            + ' to learn more about interactive tables.';\n",
              "          element.innerHTML = '';\n",
              "          dataTable['output_type'] = 'display_data';\n",
              "          await google.colab.output.renderOutput(dataTable, element);\n",
              "          const docLink = document.createElement('div');\n",
              "          docLink.innerHTML = docLinkHtml;\n",
              "          element.appendChild(docLink);\n",
              "        }\n",
              "      </script>\n",
              "    </div>\n",
              "  </div>\n",
              "  "
            ]
          },
          "metadata": {},
          "execution_count": 12
        }
      ],
      "source": [
        "df_lpm.head(5)"
      ]
    },
    {
      "cell_type": "markdown",
      "metadata": {
        "id": "kDWi4eGwYCot"
      },
      "source": [
        "Switch Statements Semantic Dataset"
      ]
    },
    {
      "cell_type": "code",
      "execution_count": 13,
      "metadata": {
        "colab": {
          "base_uri": "https://localhost:8080/",
          "height": 270
        },
        "id": "fpdgwNs3VnfQ",
        "outputId": "6a0d0221-769e-42b4-b4b4-76a64a81e56a"
      },
      "outputs": [
        {
          "output_type": "execute_result",
          "data": {
            "text/plain": [
              "                                             project  \\\n",
              "0  /mnt/qualitas/qualitas_corpus_compile/freemind...   \n",
              "1  /mnt/qualitas/qualitas_corpus_compile/freemind...   \n",
              "2  /mnt/qualitas/qualitas_corpus_compile/freemind...   \n",
              "3  /mnt/qualitas/qualitas_corpus_compile/freemind...   \n",
              "4  /mnt/qualitas/qualitas_corpus_compile/freemind...   \n",
              "\n",
              "                                   package  \\\n",
              "0   freemind.modes.mindmapmode.actions.xml   \n",
              "1               freemind.modes.mindmapmode   \n",
              "2               freemind.modes.mindmapmode   \n",
              "3  freemind.view.mindmapview.attributeview   \n",
              "4     freemind.modes.mindmapmode.listeners   \n",
              "\n",
              "                                               class  \\\n",
              "0                                  AbstractXmlAction   \n",
              "1                               EncryptedMindMapNode   \n",
              "2     freemind.modes.mindmapmode.MindMapController$1   \n",
              "3  freemind.view.mindmapview.attributeview.Attrib...   \n",
              "4                          MindMapNodeMotionListener   \n",
              "\n",
              "                                    method  is_code_smell  \n",
              "0             actionPerformed(ActionEvent)          False  \n",
              "1                       childrenUnfolded()          False  \n",
              "2  apply(MindMapMapModel,MindMapNodeModel)          False  \n",
              "3                                    run()          False  \n",
              "4                               stopDrag()          False  "
            ],
            "text/html": [
              "\n",
              "  <div id=\"df-fdf96403-94a3-47fa-8b44-0d6484dd59a8\">\n",
              "    <div class=\"colab-df-container\">\n",
              "      <div>\n",
              "<style scoped>\n",
              "    .dataframe tbody tr th:only-of-type {\n",
              "        vertical-align: middle;\n",
              "    }\n",
              "\n",
              "    .dataframe tbody tr th {\n",
              "        vertical-align: top;\n",
              "    }\n",
              "\n",
              "    .dataframe thead th {\n",
              "        text-align: right;\n",
              "    }\n",
              "</style>\n",
              "<table border=\"1\" class=\"dataframe\">\n",
              "  <thead>\n",
              "    <tr style=\"text-align: right;\">\n",
              "      <th></th>\n",
              "      <th>project</th>\n",
              "      <th>package</th>\n",
              "      <th>class</th>\n",
              "      <th>method</th>\n",
              "      <th>is_code_smell</th>\n",
              "    </tr>\n",
              "  </thead>\n",
              "  <tbody>\n",
              "    <tr>\n",
              "      <th>0</th>\n",
              "      <td>/mnt/qualitas/qualitas_corpus_compile/freemind...</td>\n",
              "      <td>freemind.modes.mindmapmode.actions.xml</td>\n",
              "      <td>AbstractXmlAction</td>\n",
              "      <td>actionPerformed(ActionEvent)</td>\n",
              "      <td>False</td>\n",
              "    </tr>\n",
              "    <tr>\n",
              "      <th>1</th>\n",
              "      <td>/mnt/qualitas/qualitas_corpus_compile/freemind...</td>\n",
              "      <td>freemind.modes.mindmapmode</td>\n",
              "      <td>EncryptedMindMapNode</td>\n",
              "      <td>childrenUnfolded()</td>\n",
              "      <td>False</td>\n",
              "    </tr>\n",
              "    <tr>\n",
              "      <th>2</th>\n",
              "      <td>/mnt/qualitas/qualitas_corpus_compile/freemind...</td>\n",
              "      <td>freemind.modes.mindmapmode</td>\n",
              "      <td>freemind.modes.mindmapmode.MindMapController$1</td>\n",
              "      <td>apply(MindMapMapModel,MindMapNodeModel)</td>\n",
              "      <td>False</td>\n",
              "    </tr>\n",
              "    <tr>\n",
              "      <th>3</th>\n",
              "      <td>/mnt/qualitas/qualitas_corpus_compile/freemind...</td>\n",
              "      <td>freemind.view.mindmapview.attributeview</td>\n",
              "      <td>freemind.view.mindmapview.attributeview.Attrib...</td>\n",
              "      <td>run()</td>\n",
              "      <td>False</td>\n",
              "    </tr>\n",
              "    <tr>\n",
              "      <th>4</th>\n",
              "      <td>/mnt/qualitas/qualitas_corpus_compile/freemind...</td>\n",
              "      <td>freemind.modes.mindmapmode.listeners</td>\n",
              "      <td>MindMapNodeMotionListener</td>\n",
              "      <td>stopDrag()</td>\n",
              "      <td>False</td>\n",
              "    </tr>\n",
              "  </tbody>\n",
              "</table>\n",
              "</div>\n",
              "      <button class=\"colab-df-convert\" onclick=\"convertToInteractive('df-fdf96403-94a3-47fa-8b44-0d6484dd59a8')\"\n",
              "              title=\"Convert this dataframe to an interactive table.\"\n",
              "              style=\"display:none;\">\n",
              "        \n",
              "  <svg xmlns=\"http://www.w3.org/2000/svg\" height=\"24px\"viewBox=\"0 0 24 24\"\n",
              "       width=\"24px\">\n",
              "    <path d=\"M0 0h24v24H0V0z\" fill=\"none\"/>\n",
              "    <path d=\"M18.56 5.44l.94 2.06.94-2.06 2.06-.94-2.06-.94-.94-2.06-.94 2.06-2.06.94zm-11 1L8.5 8.5l.94-2.06 2.06-.94-2.06-.94L8.5 2.5l-.94 2.06-2.06.94zm10 10l.94 2.06.94-2.06 2.06-.94-2.06-.94-.94-2.06-.94 2.06-2.06.94z\"/><path d=\"M17.41 7.96l-1.37-1.37c-.4-.4-.92-.59-1.43-.59-.52 0-1.04.2-1.43.59L10.3 9.45l-7.72 7.72c-.78.78-.78 2.05 0 2.83L4 21.41c.39.39.9.59 1.41.59.51 0 1.02-.2 1.41-.59l7.78-7.78 2.81-2.81c.8-.78.8-2.07 0-2.86zM5.41 20L4 18.59l7.72-7.72 1.47 1.35L5.41 20z\"/>\n",
              "  </svg>\n",
              "      </button>\n",
              "      \n",
              "  <style>\n",
              "    .colab-df-container {\n",
              "      display:flex;\n",
              "      flex-wrap:wrap;\n",
              "      gap: 12px;\n",
              "    }\n",
              "\n",
              "    .colab-df-convert {\n",
              "      background-color: #E8F0FE;\n",
              "      border: none;\n",
              "      border-radius: 50%;\n",
              "      cursor: pointer;\n",
              "      display: none;\n",
              "      fill: #1967D2;\n",
              "      height: 32px;\n",
              "      padding: 0 0 0 0;\n",
              "      width: 32px;\n",
              "    }\n",
              "\n",
              "    .colab-df-convert:hover {\n",
              "      background-color: #E2EBFA;\n",
              "      box-shadow: 0px 1px 2px rgba(60, 64, 67, 0.3), 0px 1px 3px 1px rgba(60, 64, 67, 0.15);\n",
              "      fill: #174EA6;\n",
              "    }\n",
              "\n",
              "    [theme=dark] .colab-df-convert {\n",
              "      background-color: #3B4455;\n",
              "      fill: #D2E3FC;\n",
              "    }\n",
              "\n",
              "    [theme=dark] .colab-df-convert:hover {\n",
              "      background-color: #434B5C;\n",
              "      box-shadow: 0px 1px 3px 1px rgba(0, 0, 0, 0.15);\n",
              "      filter: drop-shadow(0px 1px 2px rgba(0, 0, 0, 0.3));\n",
              "      fill: #FFFFFF;\n",
              "    }\n",
              "  </style>\n",
              "\n",
              "      <script>\n",
              "        const buttonEl =\n",
              "          document.querySelector('#df-fdf96403-94a3-47fa-8b44-0d6484dd59a8 button.colab-df-convert');\n",
              "        buttonEl.style.display =\n",
              "          google.colab.kernel.accessAllowed ? 'block' : 'none';\n",
              "\n",
              "        async function convertToInteractive(key) {\n",
              "          const element = document.querySelector('#df-fdf96403-94a3-47fa-8b44-0d6484dd59a8');\n",
              "          const dataTable =\n",
              "            await google.colab.kernel.invokeFunction('convertToInteractive',\n",
              "                                                     [key], {});\n",
              "          if (!dataTable) return;\n",
              "\n",
              "          const docLinkHtml = 'Like what you see? Visit the ' +\n",
              "            '<a target=\"_blank\" href=https://colab.research.google.com/notebooks/data_table.ipynb>data table notebook</a>'\n",
              "            + ' to learn more about interactive tables.';\n",
              "          element.innerHTML = '';\n",
              "          dataTable['output_type'] = 'display_data';\n",
              "          await google.colab.output.renderOutput(dataTable, element);\n",
              "          const docLink = document.createElement('div');\n",
              "          docLink.innerHTML = docLinkHtml;\n",
              "          element.appendChild(docLink);\n",
              "        }\n",
              "      </script>\n",
              "    </div>\n",
              "  </div>\n",
              "  "
            ]
          },
          "metadata": {},
          "execution_count": 13
        }
      ],
      "source": [
        "df_ssm.head(5)"
      ]
    },
    {
      "cell_type": "markdown",
      "metadata": {
        "id": "XA_16jIuNd8R"
      },
      "source": [
        "# Data Pre-Processing of Structural Dataset\n"
      ]
    },
    {
      "cell_type": "code",
      "execution_count": 14,
      "metadata": {
        "id": "lKKV80p59Yqb"
      },
      "outputs": [],
      "source": [
        "def PrePro(last_column, dataframe):\n",
        "  dataframe.rename(columns = {last_column :'is_code_smell'}, inplace = True) #rename column\n",
        "  dataframe['is_code_smell'] = dataframe[\"is_code_smell\"].astype(int) #change boolean labels to int labels\n",
        "  Y_part = dataframe.iloc[:,-1:]\n",
        "  X_part = dataframe.iloc[:,:56]\n",
        "  X_part = X_part.replace(to_replace =[\"?\"], value = np.nan) #replace non existing values with null\n",
        "  X_part = X_part.astype(float) #change datatype of features of X as float\n",
        "  return X_part,Y_part\n",
        "\n",
        "X_lp, Y_lp = PrePro('is_long_parameters_list',df_lp)\n",
        "X_ss, Y_ss = PrePro('is_switch_statements',df_ss)"
      ]
    },
    {
      "cell_type": "code",
      "execution_count": 15,
      "metadata": {
        "colab": {
          "base_uri": "https://localhost:8080/",
          "height": 487
        },
        "id": "1Y6gRHw9dDoj",
        "outputId": "2ba93649-c244-4f4c-9b5f-48ca794a8b58"
      },
      "outputs": [
        {
          "output_type": "execute_result",
          "data": {
            "text/plain": [
              "     NOP_method  CC_method  ATFD_method  FDP_method  CM_method  \\\n",
              "0           0.0        0.0          0.0         0.0        0.0   \n",
              "1           0.0        0.0          0.0         0.0        0.0   \n",
              "2           1.0        0.0          0.0         0.0        0.0   \n",
              "3           0.0        5.0          0.0         0.0        9.0   \n",
              "4           1.0        0.0          1.0         1.0        0.0   \n",
              "..          ...        ...          ...         ...        ...   \n",
              "415         7.0        1.0          2.0         2.0        1.0   \n",
              "416        14.0        0.0          0.0         0.0        0.0   \n",
              "417         8.0        1.0          3.0         1.0        1.0   \n",
              "418        11.0        1.0          0.0         0.0        1.0   \n",
              "419         7.0        1.0          0.0         0.0        1.0   \n",
              "\n",
              "     MAXNESTING_method  LOC_method  CYCLO_method  NMCS_method  NOLV_method  \\\n",
              "0                  2.0         8.0           2.0          0.0          0.0   \n",
              "1                  1.0         3.0           1.0          0.0          0.0   \n",
              "2                  1.0         2.0           1.0          0.0          1.0   \n",
              "3                  0.0         1.0           1.0          0.0          0.0   \n",
              "4                  1.0         3.0           1.0          0.0          1.0   \n",
              "..                 ...         ...           ...          ...          ...   \n",
              "415                3.0        55.0           5.0          0.0          7.0   \n",
              "416                1.0        18.0           1.0          0.0         14.0   \n",
              "417                2.0        16.0           6.0          0.0          8.0   \n",
              "418                1.0        11.0           1.0          0.0         11.0   \n",
              "419                4.0        31.0           7.0          0.0         10.0   \n",
              "\n",
              "     ...  NOMNAMM_package  NOI_package  LOC_package  NOM_package  \\\n",
              "0    ...              9.0          0.0        229.0         16.0   \n",
              "1    ...            198.0          0.0       4223.0        240.0   \n",
              "2    ...            198.0          0.0       4223.0        240.0   \n",
              "3    ...            523.0         11.0       6037.0        728.0   \n",
              "4    ...            523.0         11.0       6037.0        728.0   \n",
              "..   ...              ...          ...          ...          ...   \n",
              "415  ...            223.0          3.0       9478.0        312.0   \n",
              "416  ...            190.0          0.0       8318.0        262.0   \n",
              "417  ...            190.0          0.0       8318.0        262.0   \n",
              "418  ...            190.0          0.0       8318.0        262.0   \n",
              "419  ...            190.0          0.0       8318.0        262.0   \n",
              "\n",
              "     NOPK_project  NOCS_project  NOI_project  NOM_project  NOMNAMM_project  \\\n",
              "0            43.0         849.0         78.0       5788.0           4778.0   \n",
              "1            43.0         849.0         78.0       5788.0           4778.0   \n",
              "2            43.0         849.0         78.0       5788.0           4778.0   \n",
              "3            43.0         849.0         78.0       5788.0           4778.0   \n",
              "4            43.0         849.0         78.0       5788.0           4778.0   \n",
              "..            ...           ...          ...          ...              ...   \n",
              "415          42.0        1171.0         66.0      10384.0           8750.0   \n",
              "416          42.0        1171.0         66.0      10384.0           8750.0   \n",
              "417          42.0        1171.0         66.0      10384.0           8750.0   \n",
              "418          42.0        1171.0         66.0      10384.0           8750.0   \n",
              "419          42.0        1171.0         66.0      10384.0           8750.0   \n",
              "\n",
              "     LOC_project  \n",
              "0        65687.0  \n",
              "1        65687.0  \n",
              "2        65687.0  \n",
              "3        65687.0  \n",
              "4        65687.0  \n",
              "..           ...  \n",
              "415     312068.0  \n",
              "416     312068.0  \n",
              "417     312068.0  \n",
              "418     312068.0  \n",
              "419     312068.0  \n",
              "\n",
              "[420 rows x 56 columns]"
            ],
            "text/html": [
              "\n",
              "  <div id=\"df-e2d0a700-68d3-4ad3-97d2-c3522832cbeb\">\n",
              "    <div class=\"colab-df-container\">\n",
              "      <div>\n",
              "<style scoped>\n",
              "    .dataframe tbody tr th:only-of-type {\n",
              "        vertical-align: middle;\n",
              "    }\n",
              "\n",
              "    .dataframe tbody tr th {\n",
              "        vertical-align: top;\n",
              "    }\n",
              "\n",
              "    .dataframe thead th {\n",
              "        text-align: right;\n",
              "    }\n",
              "</style>\n",
              "<table border=\"1\" class=\"dataframe\">\n",
              "  <thead>\n",
              "    <tr style=\"text-align: right;\">\n",
              "      <th></th>\n",
              "      <th>NOP_method</th>\n",
              "      <th>CC_method</th>\n",
              "      <th>ATFD_method</th>\n",
              "      <th>FDP_method</th>\n",
              "      <th>CM_method</th>\n",
              "      <th>MAXNESTING_method</th>\n",
              "      <th>LOC_method</th>\n",
              "      <th>CYCLO_method</th>\n",
              "      <th>NMCS_method</th>\n",
              "      <th>NOLV_method</th>\n",
              "      <th>...</th>\n",
              "      <th>NOMNAMM_package</th>\n",
              "      <th>NOI_package</th>\n",
              "      <th>LOC_package</th>\n",
              "      <th>NOM_package</th>\n",
              "      <th>NOPK_project</th>\n",
              "      <th>NOCS_project</th>\n",
              "      <th>NOI_project</th>\n",
              "      <th>NOM_project</th>\n",
              "      <th>NOMNAMM_project</th>\n",
              "      <th>LOC_project</th>\n",
              "    </tr>\n",
              "  </thead>\n",
              "  <tbody>\n",
              "    <tr>\n",
              "      <th>0</th>\n",
              "      <td>0.0</td>\n",
              "      <td>0.0</td>\n",
              "      <td>0.0</td>\n",
              "      <td>0.0</td>\n",
              "      <td>0.0</td>\n",
              "      <td>2.0</td>\n",
              "      <td>8.0</td>\n",
              "      <td>2.0</td>\n",
              "      <td>0.0</td>\n",
              "      <td>0.0</td>\n",
              "      <td>...</td>\n",
              "      <td>9.0</td>\n",
              "      <td>0.0</td>\n",
              "      <td>229.0</td>\n",
              "      <td>16.0</td>\n",
              "      <td>43.0</td>\n",
              "      <td>849.0</td>\n",
              "      <td>78.0</td>\n",
              "      <td>5788.0</td>\n",
              "      <td>4778.0</td>\n",
              "      <td>65687.0</td>\n",
              "    </tr>\n",
              "    <tr>\n",
              "      <th>1</th>\n",
              "      <td>0.0</td>\n",
              "      <td>0.0</td>\n",
              "      <td>0.0</td>\n",
              "      <td>0.0</td>\n",
              "      <td>0.0</td>\n",
              "      <td>1.0</td>\n",
              "      <td>3.0</td>\n",
              "      <td>1.0</td>\n",
              "      <td>0.0</td>\n",
              "      <td>0.0</td>\n",
              "      <td>...</td>\n",
              "      <td>198.0</td>\n",
              "      <td>0.0</td>\n",
              "      <td>4223.0</td>\n",
              "      <td>240.0</td>\n",
              "      <td>43.0</td>\n",
              "      <td>849.0</td>\n",
              "      <td>78.0</td>\n",
              "      <td>5788.0</td>\n",
              "      <td>4778.0</td>\n",
              "      <td>65687.0</td>\n",
              "    </tr>\n",
              "    <tr>\n",
              "      <th>2</th>\n",
              "      <td>1.0</td>\n",
              "      <td>0.0</td>\n",
              "      <td>0.0</td>\n",
              "      <td>0.0</td>\n",
              "      <td>0.0</td>\n",
              "      <td>1.0</td>\n",
              "      <td>2.0</td>\n",
              "      <td>1.0</td>\n",
              "      <td>0.0</td>\n",
              "      <td>1.0</td>\n",
              "      <td>...</td>\n",
              "      <td>198.0</td>\n",
              "      <td>0.0</td>\n",
              "      <td>4223.0</td>\n",
              "      <td>240.0</td>\n",
              "      <td>43.0</td>\n",
              "      <td>849.0</td>\n",
              "      <td>78.0</td>\n",
              "      <td>5788.0</td>\n",
              "      <td>4778.0</td>\n",
              "      <td>65687.0</td>\n",
              "    </tr>\n",
              "    <tr>\n",
              "      <th>3</th>\n",
              "      <td>0.0</td>\n",
              "      <td>5.0</td>\n",
              "      <td>0.0</td>\n",
              "      <td>0.0</td>\n",
              "      <td>9.0</td>\n",
              "      <td>0.0</td>\n",
              "      <td>1.0</td>\n",
              "      <td>1.0</td>\n",
              "      <td>0.0</td>\n",
              "      <td>0.0</td>\n",
              "      <td>...</td>\n",
              "      <td>523.0</td>\n",
              "      <td>11.0</td>\n",
              "      <td>6037.0</td>\n",
              "      <td>728.0</td>\n",
              "      <td>43.0</td>\n",
              "      <td>849.0</td>\n",
              "      <td>78.0</td>\n",
              "      <td>5788.0</td>\n",
              "      <td>4778.0</td>\n",
              "      <td>65687.0</td>\n",
              "    </tr>\n",
              "    <tr>\n",
              "      <th>4</th>\n",
              "      <td>1.0</td>\n",
              "      <td>0.0</td>\n",
              "      <td>1.0</td>\n",
              "      <td>1.0</td>\n",
              "      <td>0.0</td>\n",
              "      <td>1.0</td>\n",
              "      <td>3.0</td>\n",
              "      <td>1.0</td>\n",
              "      <td>0.0</td>\n",
              "      <td>1.0</td>\n",
              "      <td>...</td>\n",
              "      <td>523.0</td>\n",
              "      <td>11.0</td>\n",
              "      <td>6037.0</td>\n",
              "      <td>728.0</td>\n",
              "      <td>43.0</td>\n",
              "      <td>849.0</td>\n",
              "      <td>78.0</td>\n",
              "      <td>5788.0</td>\n",
              "      <td>4778.0</td>\n",
              "      <td>65687.0</td>\n",
              "    </tr>\n",
              "    <tr>\n",
              "      <th>...</th>\n",
              "      <td>...</td>\n",
              "      <td>...</td>\n",
              "      <td>...</td>\n",
              "      <td>...</td>\n",
              "      <td>...</td>\n",
              "      <td>...</td>\n",
              "      <td>...</td>\n",
              "      <td>...</td>\n",
              "      <td>...</td>\n",
              "      <td>...</td>\n",
              "      <td>...</td>\n",
              "      <td>...</td>\n",
              "      <td>...</td>\n",
              "      <td>...</td>\n",
              "      <td>...</td>\n",
              "      <td>...</td>\n",
              "      <td>...</td>\n",
              "      <td>...</td>\n",
              "      <td>...</td>\n",
              "      <td>...</td>\n",
              "      <td>...</td>\n",
              "    </tr>\n",
              "    <tr>\n",
              "      <th>415</th>\n",
              "      <td>7.0</td>\n",
              "      <td>1.0</td>\n",
              "      <td>2.0</td>\n",
              "      <td>2.0</td>\n",
              "      <td>1.0</td>\n",
              "      <td>3.0</td>\n",
              "      <td>55.0</td>\n",
              "      <td>5.0</td>\n",
              "      <td>0.0</td>\n",
              "      <td>7.0</td>\n",
              "      <td>...</td>\n",
              "      <td>223.0</td>\n",
              "      <td>3.0</td>\n",
              "      <td>9478.0</td>\n",
              "      <td>312.0</td>\n",
              "      <td>42.0</td>\n",
              "      <td>1171.0</td>\n",
              "      <td>66.0</td>\n",
              "      <td>10384.0</td>\n",
              "      <td>8750.0</td>\n",
              "      <td>312068.0</td>\n",
              "    </tr>\n",
              "    <tr>\n",
              "      <th>416</th>\n",
              "      <td>14.0</td>\n",
              "      <td>0.0</td>\n",
              "      <td>0.0</td>\n",
              "      <td>0.0</td>\n",
              "      <td>0.0</td>\n",
              "      <td>1.0</td>\n",
              "      <td>18.0</td>\n",
              "      <td>1.0</td>\n",
              "      <td>0.0</td>\n",
              "      <td>14.0</td>\n",
              "      <td>...</td>\n",
              "      <td>190.0</td>\n",
              "      <td>0.0</td>\n",
              "      <td>8318.0</td>\n",
              "      <td>262.0</td>\n",
              "      <td>42.0</td>\n",
              "      <td>1171.0</td>\n",
              "      <td>66.0</td>\n",
              "      <td>10384.0</td>\n",
              "      <td>8750.0</td>\n",
              "      <td>312068.0</td>\n",
              "    </tr>\n",
              "    <tr>\n",
              "      <th>417</th>\n",
              "      <td>8.0</td>\n",
              "      <td>1.0</td>\n",
              "      <td>3.0</td>\n",
              "      <td>1.0</td>\n",
              "      <td>1.0</td>\n",
              "      <td>2.0</td>\n",
              "      <td>16.0</td>\n",
              "      <td>6.0</td>\n",
              "      <td>0.0</td>\n",
              "      <td>8.0</td>\n",
              "      <td>...</td>\n",
              "      <td>190.0</td>\n",
              "      <td>0.0</td>\n",
              "      <td>8318.0</td>\n",
              "      <td>262.0</td>\n",
              "      <td>42.0</td>\n",
              "      <td>1171.0</td>\n",
              "      <td>66.0</td>\n",
              "      <td>10384.0</td>\n",
              "      <td>8750.0</td>\n",
              "      <td>312068.0</td>\n",
              "    </tr>\n",
              "    <tr>\n",
              "      <th>418</th>\n",
              "      <td>11.0</td>\n",
              "      <td>1.0</td>\n",
              "      <td>0.0</td>\n",
              "      <td>0.0</td>\n",
              "      <td>1.0</td>\n",
              "      <td>1.0</td>\n",
              "      <td>11.0</td>\n",
              "      <td>1.0</td>\n",
              "      <td>0.0</td>\n",
              "      <td>11.0</td>\n",
              "      <td>...</td>\n",
              "      <td>190.0</td>\n",
              "      <td>0.0</td>\n",
              "      <td>8318.0</td>\n",
              "      <td>262.0</td>\n",
              "      <td>42.0</td>\n",
              "      <td>1171.0</td>\n",
              "      <td>66.0</td>\n",
              "      <td>10384.0</td>\n",
              "      <td>8750.0</td>\n",
              "      <td>312068.0</td>\n",
              "    </tr>\n",
              "    <tr>\n",
              "      <th>419</th>\n",
              "      <td>7.0</td>\n",
              "      <td>1.0</td>\n",
              "      <td>0.0</td>\n",
              "      <td>0.0</td>\n",
              "      <td>1.0</td>\n",
              "      <td>4.0</td>\n",
              "      <td>31.0</td>\n",
              "      <td>7.0</td>\n",
              "      <td>0.0</td>\n",
              "      <td>10.0</td>\n",
              "      <td>...</td>\n",
              "      <td>190.0</td>\n",
              "      <td>0.0</td>\n",
              "      <td>8318.0</td>\n",
              "      <td>262.0</td>\n",
              "      <td>42.0</td>\n",
              "      <td>1171.0</td>\n",
              "      <td>66.0</td>\n",
              "      <td>10384.0</td>\n",
              "      <td>8750.0</td>\n",
              "      <td>312068.0</td>\n",
              "    </tr>\n",
              "  </tbody>\n",
              "</table>\n",
              "<p>420 rows × 56 columns</p>\n",
              "</div>\n",
              "      <button class=\"colab-df-convert\" onclick=\"convertToInteractive('df-e2d0a700-68d3-4ad3-97d2-c3522832cbeb')\"\n",
              "              title=\"Convert this dataframe to an interactive table.\"\n",
              "              style=\"display:none;\">\n",
              "        \n",
              "  <svg xmlns=\"http://www.w3.org/2000/svg\" height=\"24px\"viewBox=\"0 0 24 24\"\n",
              "       width=\"24px\">\n",
              "    <path d=\"M0 0h24v24H0V0z\" fill=\"none\"/>\n",
              "    <path d=\"M18.56 5.44l.94 2.06.94-2.06 2.06-.94-2.06-.94-.94-2.06-.94 2.06-2.06.94zm-11 1L8.5 8.5l.94-2.06 2.06-.94-2.06-.94L8.5 2.5l-.94 2.06-2.06.94zm10 10l.94 2.06.94-2.06 2.06-.94-2.06-.94-.94-2.06-.94 2.06-2.06.94z\"/><path d=\"M17.41 7.96l-1.37-1.37c-.4-.4-.92-.59-1.43-.59-.52 0-1.04.2-1.43.59L10.3 9.45l-7.72 7.72c-.78.78-.78 2.05 0 2.83L4 21.41c.39.39.9.59 1.41.59.51 0 1.02-.2 1.41-.59l7.78-7.78 2.81-2.81c.8-.78.8-2.07 0-2.86zM5.41 20L4 18.59l7.72-7.72 1.47 1.35L5.41 20z\"/>\n",
              "  </svg>\n",
              "      </button>\n",
              "      \n",
              "  <style>\n",
              "    .colab-df-container {\n",
              "      display:flex;\n",
              "      flex-wrap:wrap;\n",
              "      gap: 12px;\n",
              "    }\n",
              "\n",
              "    .colab-df-convert {\n",
              "      background-color: #E8F0FE;\n",
              "      border: none;\n",
              "      border-radius: 50%;\n",
              "      cursor: pointer;\n",
              "      display: none;\n",
              "      fill: #1967D2;\n",
              "      height: 32px;\n",
              "      padding: 0 0 0 0;\n",
              "      width: 32px;\n",
              "    }\n",
              "\n",
              "    .colab-df-convert:hover {\n",
              "      background-color: #E2EBFA;\n",
              "      box-shadow: 0px 1px 2px rgba(60, 64, 67, 0.3), 0px 1px 3px 1px rgba(60, 64, 67, 0.15);\n",
              "      fill: #174EA6;\n",
              "    }\n",
              "\n",
              "    [theme=dark] .colab-df-convert {\n",
              "      background-color: #3B4455;\n",
              "      fill: #D2E3FC;\n",
              "    }\n",
              "\n",
              "    [theme=dark] .colab-df-convert:hover {\n",
              "      background-color: #434B5C;\n",
              "      box-shadow: 0px 1px 3px 1px rgba(0, 0, 0, 0.15);\n",
              "      filter: drop-shadow(0px 1px 2px rgba(0, 0, 0, 0.3));\n",
              "      fill: #FFFFFF;\n",
              "    }\n",
              "  </style>\n",
              "\n",
              "      <script>\n",
              "        const buttonEl =\n",
              "          document.querySelector('#df-e2d0a700-68d3-4ad3-97d2-c3522832cbeb button.colab-df-convert');\n",
              "        buttonEl.style.display =\n",
              "          google.colab.kernel.accessAllowed ? 'block' : 'none';\n",
              "\n",
              "        async function convertToInteractive(key) {\n",
              "          const element = document.querySelector('#df-e2d0a700-68d3-4ad3-97d2-c3522832cbeb');\n",
              "          const dataTable =\n",
              "            await google.colab.kernel.invokeFunction('convertToInteractive',\n",
              "                                                     [key], {});\n",
              "          if (!dataTable) return;\n",
              "\n",
              "          const docLinkHtml = 'Like what you see? Visit the ' +\n",
              "            '<a target=\"_blank\" href=https://colab.research.google.com/notebooks/data_table.ipynb>data table notebook</a>'\n",
              "            + ' to learn more about interactive tables.';\n",
              "          element.innerHTML = '';\n",
              "          dataTable['output_type'] = 'display_data';\n",
              "          await google.colab.output.renderOutput(dataTable, element);\n",
              "          const docLink = document.createElement('div');\n",
              "          docLink.innerHTML = docLinkHtml;\n",
              "          element.appendChild(docLink);\n",
              "        }\n",
              "      </script>\n",
              "    </div>\n",
              "  </div>\n",
              "  "
            ]
          },
          "metadata": {},
          "execution_count": 15
        }
      ],
      "source": [
        "X_lp"
      ]
    },
    {
      "cell_type": "code",
      "execution_count": 16,
      "metadata": {
        "id": "gP2KF37rO06u"
      },
      "outputs": [],
      "source": [
        "def MeanforNaN(dataframe):   #function to fill null spaces with column mean \n",
        "  column_means = dataframe.mean()\n",
        "  dataframe = dataframe.fillna(column_means)\n",
        "  return dataframe\n",
        "\n",
        "X_lp = MeanforNaN(X_lp)\n",
        "X_ss = MeanforNaN(X_ss)"
      ]
    },
    {
      "cell_type": "code",
      "execution_count": 17,
      "metadata": {
        "id": "xgrWdh3GSoPT"
      },
      "outputs": [],
      "source": [
        "def ConCat(df1,df2): #concatenate code smell datasets\n",
        "  code_smells = [df1,df2]\n",
        "  joint = pd.concat(code_smells)\n",
        "  return joint\n",
        "\n",
        "X_train = ConCat(X_lp,X_ss)\n",
        "Y_train = ConCat(Y_lp,Y_ss)"
      ]
    },
    {
      "cell_type": "markdown",
      "metadata": {
        "id": "t0aP6KSybckZ"
      },
      "source": [
        "###Data Normalization"
      ]
    },
    {
      "cell_type": "code",
      "execution_count": 18,
      "metadata": {
        "id": "EfPBvzbGQWaQ"
      },
      "outputs": [],
      "source": [
        "def Normalize(dataframe): #apply MinMax normalisation to fit the values between 0 to 1\n",
        "  scaler = MinMaxScaler()\n",
        "  model = scaler.fit(dataframe)\n",
        "  scaled_data = model.transform(dataframe)\n",
        "  return scaled_data\n",
        "X_sample = Normalize(X_train)"
      ]
    },
    {
      "cell_type": "markdown",
      "metadata": {
        "id": "LE1hY2iuaGYi"
      },
      "source": [
        "###Synthetic Minority Oversampling Technique (SMOTE) Algo for Imbalanced Datasets\n"
      ]
    },
    {
      "cell_type": "code",
      "execution_count": 19,
      "metadata": {
        "colab": {
          "base_uri": "https://localhost:8080/"
        },
        "id": "YglrDQrabJgC",
        "outputId": "deca9aaf-c643-4944-b077-4b9492196138"
      },
      "outputs": [
        {
          "output_type": "execute_result",
          "data": {
            "text/plain": [
              "is_code_smell\n",
              "0                573\n",
              "1                267\n",
              "dtype: int64"
            ]
          },
          "metadata": {},
          "execution_count": 19
        }
      ],
      "source": [
        "Y_train.value_counts() #1/3rd are smelly, 2/3rd are non smelly "
      ]
    },
    {
      "cell_type": "code",
      "execution_count": 20,
      "metadata": {
        "id": "_KsXn_i2eGbv"
      },
      "outputs": [],
      "source": [
        "Y_sample = Y_train.to_numpy(dtype='int64', copy='True')"
      ]
    },
    {
      "cell_type": "code",
      "execution_count": 21,
      "metadata": {
        "id": "x1aLZXEIX-b5"
      },
      "outputs": [],
      "source": [
        "def Oversample(X_data,Y_data): # Using Smote obtain a 50-50 balanced dataset \n",
        "\n",
        "  sm = SMOTE(random_state = 2)\n",
        "  X_train_res, Y_train_res = sm.fit_resample(X_data, Y_data.ravel())\n",
        "  return X_train_res, Y_train_res\n",
        "\n",
        "X_new, Y_new = Oversample(X_sample,Y_sample)"
      ]
    },
    {
      "cell_type": "code",
      "execution_count": 22,
      "metadata": {
        "id": "6gRFjBvmsIny"
      },
      "outputs": [],
      "source": [
        "X_train_final = X_new.reshape((1146,56,1)) # hence makes 573 smelly and 573 non smelly samples"
      ]
    },
    {
      "cell_type": "markdown",
      "metadata": {
        "id": "g04W7nK0nrK5"
      },
      "source": [
        "###Repeated K-Fold Cross Validation for Limited Data\n"
      ]
    },
    {
      "cell_type": "code",
      "execution_count": 23,
      "metadata": {
        "id": "5Vh34GxGoRlw"
      },
      "outputs": [],
      "source": [
        "def CrossValidation(dataX,dataY): # split the dataset into train and test using k-5 fold cross validation\n",
        "  kf = RepeatedKFold(n_splits=5, n_repeats=10, random_state=None) \n",
        "\n",
        "  for train_index, test_index in kf.split(dataX):\n",
        "        X_crosstrain, X_crosstest = dataX[train_index], dataX[test_index] \n",
        "        Y_crosstrain, Y_crosstest = dataY[train_index], dataY[test_index]\n",
        "        return X_crosstrain,X_crosstest,Y_crosstrain,Y_crosstest\n",
        "\n",
        "X_crosstrain,X_crosstest,Y_crosstrain,Y_crosstest = CrossValidation(X_train_final, Y_new)"
      ]
    },
    {
      "cell_type": "code",
      "execution_count": 24,
      "metadata": {
        "colab": {
          "base_uri": "https://localhost:8080/"
        },
        "id": "PYtUB11KgKEP",
        "outputId": "927a6095-e46f-41d2-8366-565e104f46a5"
      },
      "outputs": [
        {
          "output_type": "execute_result",
          "data": {
            "text/plain": [
              "(916, 56, 1)"
            ]
          },
          "metadata": {},
          "execution_count": 24
        }
      ],
      "source": [
        "X_crosstrain.shape #916 samples for train"
      ]
    },
    {
      "cell_type": "code",
      "execution_count": 25,
      "metadata": {
        "colab": {
          "base_uri": "https://localhost:8080/"
        },
        "id": "ttGEA-qyHi22",
        "outputId": "06823ba3-ffb8-4d85-e812-0f6bf349cd4f"
      },
      "outputs": [
        {
          "output_type": "execute_result",
          "data": {
            "text/plain": [
              "(230, 56, 1)"
            ]
          },
          "metadata": {},
          "execution_count": 25
        }
      ],
      "source": [
        "X_crosstest.shape #230 samples for test"
      ]
    },
    {
      "cell_type": "markdown",
      "metadata": {
        "id": "MJ2So_cIHjTI"
      },
      "source": [
        "DistilBERT"
      ]
    },
    {
      "cell_type": "code",
      "execution_count": 26,
      "metadata": {
        "id": "ADBuVGrMHmQV"
      },
      "outputs": [],
      "source": [
        "pd.set_option('display.max_colwidth', None)\n",
        "MODEL_NAME = 'distilbert-base-uncased-finetuned-sst-2-english'\n",
        "BATCH_SIZE = 16\n",
        "N_EPOCHS = 3"
      ]
    },
    {
      "cell_type": "markdown",
      "metadata": {
        "id": "IJNef7tJzOOq"
      },
      "source": [
        "# Text Pre-Processing of Semantic Dataset"
      ]
    },
    {
      "cell_type": "code",
      "execution_count": 27,
      "metadata": {
        "id": "9j75IG30zamu"
      },
      "outputs": [],
      "source": [
        "df_sem = ConCat(df_lpm,df_ssm) #join long parameters list and switch statements dataset"
      ]
    },
    {
      "cell_type": "code",
      "execution_count": 28,
      "metadata": {
        "id": "UVAPhdzcXfCw"
      },
      "outputs": [],
      "source": [
        "def PrePro2(dataframe):\n",
        "  Y_part = dataframe.iloc[:,-1:]\n",
        "  X_part = dataframe.iloc[:,:4]  \n",
        "  return X_part, Y_part\n",
        "\n",
        "X_sem , Y_sem = PrePro2(df_sem) #separate as X and Y columns"
      ]
    },
    {
      "cell_type": "code",
      "execution_count": 29,
      "metadata": {
        "id": "6nY8I1fvotZq"
      },
      "outputs": [],
      "source": [
        "def ToList(dataframe, string): #converts pandas.core.series.Series to list of lists\n",
        "  new_column = dataframe[string].tolist()\n",
        "  return list(map(lambda x:[x], new_column))\n",
        "\n",
        "project_words = ToList(X_sem, 'project')\n",
        "package_words = ToList(X_sem, 'package')\n",
        "class_words = ToList(X_sem, 'class')\n",
        "method_words = ToList(X_sem, 'method')"
      ]
    },
    {
      "cell_type": "markdown",
      "source": [
        "###Tokenization"
      ],
      "metadata": {
        "id": "C2R_t5qPz2B4"
      }
    },
    {
      "cell_type": "code",
      "execution_count": 30,
      "metadata": {
        "id": "xNotzFqUZzjH"
      },
      "outputs": [],
      "source": [
        "def TokenizeGroups(text): #tokenizes as per CamelCase RegEx and converts to lowercase\n",
        "  tokenizer = RegexpTokenizer('[a-zA-Z](?:[a-z]+|[A-Z]*(?=[A-Z]|$))') # RegEx pattern for CamelCase \n",
        "  useful_text = tokenizer.tokenize(text) \n",
        "  useful_text = [x.lower() for x in useful_text]\n",
        "  return useful_text"
      ]
    },
    {
      "cell_type": "code",
      "execution_count": 31,
      "metadata": {
        "id": "l-UABH5DsTqd"
      },
      "outputs": [],
      "source": [
        "def LoopOver(list): #loops over all the samples to tokenize all the strings in each word group\n",
        "  for i in range(0,840):\n",
        "    list[i] = TokenizeGroups(list[i][0])\n",
        "    i=i+1\n",
        "  return list\n",
        "\n",
        "project_words_sem = LoopOver(project_words)\n",
        "package_words_sem = LoopOver(package_words)\n",
        "class_words_sem = LoopOver(class_words)\n",
        "method_words_sem = LoopOver(method_words)"
      ]
    },
    {
      "cell_type": "code",
      "execution_count": 32,
      "metadata": {
        "id": "81zpWdFD_PY3"
      },
      "outputs": [],
      "source": [
        "def WordList(list1,list2,list3,list4): #concatenate the words of each project, package, class and method\n",
        "  final_list = []\n",
        "  for i in range(0,840):\n",
        "    x = list1[i] + list2[i] + list3[i] + list4[i]\n",
        "    final_list.append(x)\n",
        "  return final_list\n",
        "\n",
        "word_groups = WordList(project_words_sem, package_words_sem, class_words_sem, method_words_sem) #get an 840 sampled list of words"
      ]
    },
    {
      "cell_type": "code",
      "execution_count": 33,
      "metadata": {
        "colab": {
          "base_uri": "https://localhost:8080/"
        },
        "id": "OsQC_HVabvMx",
        "outputId": "726da062-29b5-46be-d02a-143df5face0b"
      },
      "outputs": [
        {
          "output_type": "stream",
          "name": "stdout",
          "text": [
            "[['mnt', 'qualitas', 'qualitas', 'corpus', 'compile', 'freemind', 'freemind', 'modes', 'common', 'plugins', 'reminder', 'hook', 'base', 'shutdown', 'map', 'hook'], ['mnt', 'qualitas', 'qualitas', 'corpus', 'compile', 'freemind', 'freemind', 'modes', 'mindmapmode', 'mind', 'map', 'map', 'model', 'string', 'reader', 'creator', 'create', 'reader'], ['mnt', 'qualitas', 'qualitas', 'corpus', 'compile', 'freemind', 'freemind', 'modes', 'mindmapmode', 'mind', 'map', 'controller', 'new', 'model', 'mode', 'controller'], ['mnt', 'qualitas', 'qualitas', 'corpus', 'compile', 'freemind', 'freemind', 'modes', 'mind', 'map', 'node', 'get', 'color'], ['mnt', 'qualitas', 'qualitas', 'corpus', 'compile', 'freemind', 'freemind', 'modes', 'controller', 'adapter', 'controller', 'popup', 'menu', 'listener', 'popup', 'menu', 'canceled', 'popup', 'menu', 'event'], ['mnt', 'qualitas', 'qualitas', 'corpus', 'compile', 'freemind', 'freemind', 'modes', 'mind', 'map', 'link', 'registry', 'get', 'link', 'for', 'i', 'string'], ['mnt', 'qualitas', 'qualitas', 'corpus', 'compile', 'freemind', 'freemind', 'modes', 'mindmapmode', 'actions', 'new', 'child', 'action', 'get', 'do', 'action', 'class'], ['mnt', 'qualitas', 'qualitas', 'corpus', 'compile', 'freemind', 'freemind', 'modes', 'mindmapmode', 'actions', 'mode', 'controller', 'action', 'handler', 'start', 'transaction', 'string'], ['mnt', 'qualitas', 'qualitas', 'corpus', 'compile', 'freemind', 'freemind', 'modes', 'mindmapmode', 'actions', 'paste', 'action', 'node', 'coordinate', 'node', 'coordinate', 'mind', 'map', 'node', 'boolean'], ['mnt', 'qualitas', 'qualitas', 'corpus', 'compile', 'freemind', 'freemind', 'extensions', 'stateful', 'node', 'hook', 'set', 'content', 'string', 'string'], ['mnt', 'qualitas', 'qualitas', 'corpus', 'compile', 'freemind', 'freemind', 'view', 'mindmapview', 'arrow', 'link', 'view', 'is', 'target', 'visible'], ['mnt', 'qualitas', 'qualitas', 'corpus', 'compile', 'freemind', 'freemind', 'view', 'mindmapview', 'arrow', 'link', 'view', 'get', 'zoom'], ['mnt', 'qualitas', 'qualitas', 'corpus', 'compile', 'freemind', 'freemind', 'modes', 'schememode', 'scheme', 'map', 'model', 'get', 'xml', 'writer'], ['mnt', 'qualitas', 'qualitas', 'corpus', 'compile', 'freemind', 'freemind', 'common', 'next', 'line', 'property', 'next', 'line', 'property'], ['mnt', 'qualitas', 'qualitas', 'corpus', 'compile', 'freemind', 'freemind', 'controller', 'filter', 'filter', 'composer', 'dialog', 'get', 'file', 'chooser'], ['mnt', 'qualitas', 'qualitas', 'corpus', 'compile', 'freemind', 'freemind', 'modes', 'browsemode', 'browse', 'xml', 'element', 'browse', 'xml', 'element', 'mode', 'controller', 'vector', 'hash', 'map'], ['mnt', 'qualitas', 'qualitas', 'corpus', 'compile', 'freemind', 'freemind', 'modes', 'mindmapmode', 'attributeactors', 'mind', 'map', 'mode', 'attribute', 'controller', 'perform', 'set', 'value', 'at', 'node', 'attribute', 'table', 'model', 'object', 'int', 'int'], ['mnt', 'qualitas', 'qualitas', 'corpus', 'compile', 'freemind', 'freemind', 'modes', 'mindmapmode', 'attributeactors', 'set', 'attribute', 'value', 'actor', 'act', 'node', 'attribute', 'table', 'model', 'int', 'string'], ['mnt', 'qualitas', 'qualitas', 'corpus', 'compile', 'freemind', 'freemind', 'modes', 'mindmapmode', 'mind', 'map', 'xml', 'element', 'mind', 'map', 'xml', 'element', 'mode', 'controller', 'vector', 'hash', 'map'], ['mnt', 'qualitas', 'qualitas', 'corpus', 'compile', 'freemind', 'freemind', 'modes', 'mindmapmode', 'mind', 'map', 'arrow', 'link', 'model', 'change', 'inclination', 'int', 'int', 'node', 'view', 'point'], ['mnt', 'qualitas', 'qualitas', 'corpus', 'compile', 'freemind', 'freemind', 'modes', 'mindmapmode', 'encrypted', 'mind', 'map', 'node', 'encrypted', 'mind', 'map', 'node', 'mind', 'map', 'free', 'mind', 'main', 'object'], ['mnt', 'qualitas', 'qualitas', 'corpus', 'compile', 'freemind', 'freemind', 'modes', 'mindmapmode', 'mind', 'map', 'controller', 'change', 'arrows', 'of', 'arrow', 'link', 'boolean', 'boolean', 'mind', 'map', 'arrow', 'link', 'model'], ['mnt', 'qualitas', 'qualitas', 'corpus', 'compile', 'freemind', 'freemind', 'controller', 'map', 'module', 'manager', 'map', 'module', 'change', 'observer', 'compound', 'after', 'map', 'module', 'change', 'map', 'module', 'mode', 'map', 'module', 'mode'], ['mnt', 'qualitas', 'qualitas', 'corpus', 'compile', 'freemind', 'freemind', 'main', 'free', 'mind', 'transpose', 'string', 'char', 'string'], ['mnt', 'qualitas', 'qualitas', 'corpus', 'compile', 'freemind', 'freemind', 'main', 'xml', 'element', 'get', 'attribute', 'string', 'string', 'boolean', 'hashtable'], ['mnt', 'qualitas', 'qualitas', 'corpus', 'compile', 'freemind', 'freemind', 'main', 'xml', 'element', 'get', 'double', 'attribute', 'string', 'string', 'boolean', 'hashtable'], ['mnt', 'qualitas', 'qualitas', 'corpus', 'compile', 'freemind', 'freemind', 'modes', 'mindmapmode', 'actions', 'node', 'up', 'action', 'move', 'node', 'to', 'mind', 'map', 'node', 'mind', 'map', 'node', 'int'], ['mnt', 'qualitas', 'qualitas', 'corpus', 'compile', 'freemind', 'freemind', 'modes', 'mindmapmode', 'actions', 'mind', 'map', 'actions', 'change', 'arrows', 'of', 'arrow', 'link', 'boolean', 'mind', 'map', 'arrow', 'link', 'model', 'boolean'], ['mnt', 'qualitas', 'qualitas', 'corpus', 'compile', 'freemind', 'freemind', 'modes', 'mindmapmode', 'actions', 'toggle', 'folded', 'action', 'create', 'fold', 'action', 'boolean', 'list', 'iterator', 'boolean'], ['mnt', 'qualitas', 'qualitas', 'corpus', 'compile', 'freemind', 'freemind', 'modes', 'mindmapmode', 'actions', 'change', 'arrows', 'in', 'arrow', 'link', 'action', 'get', 'action', 'pair', 'boolean', 'mind', 'map', 'arrow', 'link', 'model', 'boolean'], ['mnt', 'qualitas', 'qualitas', 'corpus', 'compile', 'freemind', 'freemind', 'preferences', 'layout', 'grab', 'key', 'dialog', 'init', 'buffer', 'key', 'binding', 'vector'], ['mnt', 'qualitas', 'qualitas', 'corpus', 'compile', 'freemind', 'freemind', 'preferences', 'layout', 'option', 'panel', 'key', 'property', 'key', 'property', 'string', 'string', 'j', 'dialog'], ['mnt', 'qualitas', 'qualitas', 'corpus', 'compile', 'freemind', 'freemind', 'view', 'mindmapview', 'node', 'view', 'get', 'last', 'component', 'boolean', 'boolean'], ['mnt', 'qualitas', 'qualitas', 'corpus', 'compile', 'freemind', 'freemind', 'view', 'mindmapview', 'left', 'node', 'view', 'layout', 'get', 'main', 'view', 'out', 'point', 'point', 'node', 'view', 'node', 'view'], ['mnt', 'qualitas', 'qualitas', 'corpus', 'compile', 'freemind', 'freemind', 'view', 'mindmapview', 'vertical', 'root', 'node', 'view', 'layout', 'get', 'main', 'view', 'out', 'point', 'point', 'node', 'view', 'node', 'view'], ['mnt', 'qualitas', 'qualitas', 'corpus', 'compile', 'freemind', 'freemind', 'modes', 'common', 'common', 'node', 'key', 'listener', 'edit', 'handler', 'edit', 'boolean', 'boolean', 'key', 'event'], ['mnt', 'qualitas', 'qualitas', 'corpus', 'compile', 'freemind', 'freemind', 'modes', 'mindmapmode', 'attributeactors', 'import', 'attributes', 'dialog', 'my', 'renderer', 'get', 'tree', 'cell', 'renderer', 'component', 'j', 'tree', 'boolean', 'object', 'boolean', 'int', 'boolean', 'boolean'], ['mnt', 'qualitas', 'qualitas', 'corpus', 'compile', 'freemind', 'freemind', 'view', 'mindmapview', 'cloud', 'view', 'paint', 'clouds', 'double', 'double', 'double', 'double', 'double', 'graphics', 'graphics'], ['mnt', 'qualitas', 'qualitas', 'corpus', 'compile', 'freemind', 'freemind', 'view', 'mindmapview', 'path', 'b', 'box', 'accum', 'quad', 'double', 'double', 'double', 'double', 'double', 'double', 'double', 'double'], ['mnt', 'qualitas', 'qualitas', 'corpus', 'compile', 'freemind', 'freemind', 'view', 'mindmapview', 'path', 'b', 'box', 'accum', 'cubic', 'double', 'double', 'double', 'double', 'double', 'double', 'double', 'double', 'double', 'double'], ['mnt', 'qualitas', 'qualitas', 'corpus', 'compile', 'freemind', 'freemind', 'common', 'optional', 'dont', 'show', 'me', 'again', 'dialog', 'optional', 'dont', 'show', 'me', 'again', 'dialog', 'component', 'text', 'translator', 'int', 'string', 'j', 'frame', 'string', 'dont', 'show', 'property', 'handler'], ['mnt', 'qualitas', 'qualitas', 'corpus', 'compile', 'jasml', 'com', 'jasml', 'compiler', 'source', 'code', 'parser', 'preprocess', 'constant', 'values', 'string'], ['mnt', 'qualitas', 'qualitas', 'corpus', 'compile', 'jasml', 'com', 'jasml', 'compiler', 'source', 'code', 'parser', 'parse', 'integer', 'string'], ['mnt', 'qualitas', 'qualitas', 'corpus', 'compile', 'jasml', 'com', 'jasml', 'compiler', 'grammer', 'exception', 'grammer', 'exception', 'string', 'exception'], ['mnt', 'qualitas', 'qualitas', 'corpus', 'compile', 'jasml', 'com', 'jasml', 'compiler', 'scanner', 'token', 'type'], ['mnt', 'qualitas', 'qualitas', 'corpus', 'compile', 'jasml', 'com', 'jasml', 'helper', 'util', 'has', 'method', 'body', 'short'], ['mnt', 'qualitas', 'qualitas', 'corpus', 'compile', 'jasml', 'com', 'jasml', 'helper', 'util', 'to', 'inner', 'class', 'name', 'string'], ['mnt', 'qualitas', 'qualitas', 'corpus', 'compile', 'jasml', 'com', 'jasml', 'helper', 'opcode', 'loader', 'load', 'opcodes'], ['mnt', 'qualitas', 'qualitas', 'corpus', 'compile', 'jasml', 'com', 'jasml', 'helper', 'opcode', 'loader', 'prt', 'string'], ['mnt', 'qualitas', 'qualitas', 'corpus', 'compile', 'jasml', 'com', 'jasml', 'classes', 'constant', 'string', 'constant', 'string', 'int'], ['mnt', 'qualitas', 'qualitas', 'corpus', 'compile', 'jasml', 'com', 'jasml', 'decompiler', 'source', 'code', 'builder', 'to', 'string', 'constant', 'methodref'], ['mnt', 'qualitas', 'qualitas', 'corpus', 'compile', 'jasml', 'com', 'jasml', 'decompiler', 'source', 'code', 'builder', 'to', 'string', 'static', 'java', 'class'], ['mnt', 'qualitas', 'qualitas', 'corpus', 'compile', 'jasml', 'com', 'jasml', 'decompiler', 'java', 'class', 'parser', 'read', 'constant', 'pool'], ['mnt', 'qualitas', 'qualitas', 'corpus', 'compile', 'jasml', 'com', 'jasml', 'decompiler', 'java', 'class', 'parser', 'read', 'interfaces', 'int'], ['mnt', 'qualitas', 'qualitas', 'corpus', 'compile', 'jasml', 'com', 'jasml', 'decompiler', 'java', 'class', 'parser', 'read', 'field', 'data', 'input', 'stream'], ['mnt', 'qualitas', 'qualitas', 'corpus', 'compile', 'jasml', 'com', 'jasml', 'decompiler', 'java', 'class', 'parser', 'read', 'exception', 'table', 'item', 'data', 'input', 'stream'], ['mnt', 'qualitas', 'qualitas', 'corpus', 'compile', 'jasml', 'com', 'jasml', 'compiler', 'source', 'code', 'parser', 'parse', 'method', 'attributes', 'method', 'array', 'list', 'labeled', 'instructions', 'attribute', 'code', 'array', 'list'], ['mnt', 'qualitas', 'qualitas', 'corpus', 'compile', 'jasml', 'com', 'jasml', 'compiler', 'source', 'code', 'parser', 'opcode', 'wrapper', 'opcode', 'wrapper', 'int', 'byte', 'byte', 'object'], ['mnt', 'qualitas', 'qualitas', 'corpus', 'compile', 'jasml', 'com', 'jasml', 'compiler', 'grammer', 'exception', 'grammer', 'exception', 'int', 'int', 'int', 'string'], ['mnt', 'qualitas', 'qualitas', 'corpus', 'compile', 'jasml', 'com', 'jasml', 'compiler', 'grammer', 'exception', 'grammer', 'exception', 'int', 'int', 'string'], ['mnt', 'qualitas', 'qualitas', 'corpus', 'compile', 'jasml', 'com', 'jasml', 'compiler', 'constant', 'pool', 'generator', 'add', 'fieldref', 'string', 'string', 'string'], ['mnt', 'qualitas', 'qualitas', 'corpus', 'compile', 'jasml', 'com', 'jasml', 'compiler', 'constant', 'pool', 'generator', 'add', 'interface', 'methodref', 'string', 'string', 'string', 'string'], ['mnt', 'qualitas', 'qualitas', 'corpus', 'compile', 'jasml', 'com', 'jasml', 'compiler', 'constant', 'pool', 'generator', 'add', 'methodref', 'string', 'string', 'string', 'string'], ['mnt', 'qualitas', 'qualitas', 'corpus', 'compile', 'jasml', 'com', 'jasml', 'compiler', 'constant', 'pool', 'generator', 'add', 'method', 'name', 'and', 'type', 'string', 'string', 'string'], ['mnt', 'qualitas', 'qualitas', 'corpus', 'compile', 'jasml', 'com', 'jasml', 'compiler', 'parsing', 'exception', 'parsing', 'exception', 'int', 'int', 'string'], ['mnt', 'qualitas', 'qualitas', 'corpus', 'compile', 'jasml', 'com', 'jasml', 'compiler', 'scanner', 'partial', 'scanner', 'char', 'int', 'int', 'int', 'int'], ['mnt', 'qualitas', 'qualitas', 'corpus', 'compile', 'jasml', 'com', 'jasml', 'compiler', 'scanner', 'scanner', 'string', 'int', 'int'], ['mnt', 'qualitas', 'qualitas', 'corpus', 'compile', 'jasml', 'com', 'jasml', 'compiler', 'scanner', 'exception', 'int', 'int', 'int', 'string'], ['mnt', 'qualitas', 'qualitas', 'corpus', 'compile', 'jasml', 'com', 'jasml', 'helper', 'util', 'pad', 'char', 'string', 'int', 'char'], ['mnt', 'qualitas', 'qualitas', 'corpus', 'compile', 'jasml', 'com', 'jasml', 'classes', 'attribute', 'line', 'number', 'table', 'attribute', 'line', 'number', 'table', 'int', 'int', 'line', 'number'], ['mnt', 'qualitas', 'qualitas', 'corpus', 'compile', 'jasml', 'com', 'jasml', 'classes', 'attribute', 'inner', 'classes', 'inner', 'class', 'inner', 'class', 'int', 'int', 'int', 'int'], ['mnt', 'qualitas', 'qualitas', 'corpus', 'compile', 'jasml', 'com', 'jasml', 'classes', 'attribute', 'exceptions', 'attribute', 'exceptions', 'int', 'int', 'int'], ['mnt', 'qualitas', 'qualitas', 'corpus', 'compile', 'jasml', 'com', 'jasml', 'classes', 'attribute', 'code', 'exception', 'table', 'item', 'exception', 'table', 'item', 'int', 'int', 'int', 'int'], ['mnt', 'qualitas', 'qualitas', 'corpus', 'compile', 'jasml', 'com', 'jasml', 'classes', 'attribute', 'code', 'opcode', 'opcode', 'int', 'byte', 'byte'], ['mnt', 'qualitas', 'qualitas', 'corpus', 'compile', 'jasml', 'com', 'jasml', 'classes', 'attribute', 'local', 'variable', 'table', 'attribute', 'local', 'variable', 'table', 'int', 'int', 'local', 'variable'], ['mnt', 'qualitas', 'qualitas', 'corpus', 'compile', 'jasml', 'com', 'jasml', 'classes', 'method', 'method', 'int', 'int', 'int', 'int', 'attribute'], ['mnt', 'qualitas', 'qualitas', 'corpus', 'compile', 'jasml', 'com', 'jasml', 'decompiler', 'source', 'code', 'builder', 'get', 'local', 'variable', 'name', 'int', 'int', 'local', 'variable'], ['mnt', 'qualitas', 'qualitas', 'corpus', 'compile', 'jasml', 'com', 'jasml', 'classes', 'attribute', 'code', 'attribute', 'code', 'int', 'int', 'int', 'int', 'opcode', 'int', 'exception', 'table', 'item', 'int', 'attribute'], ['mnt', 'qualitas', 'qualitas', 'corpus', 'compile', 'jasperreports', 'net', 'sf', 'jasperreports', 'engine', 'base', 'jr', 'base', 'break', 'jr', 'base', 'break', 'jr', 'break', 'jr', 'base', 'object', 'factory'], ['mnt', 'qualitas', 'qualitas', 'corpus', 'compile', 'jasperreports', 'net', 'sf', 'jasperreports', 'engine', 'base', 'jr', 'base', 'print', 'graphic', 'element', 'read', 'object', 'object', 'input', 'stream'], ['mnt', 'qualitas', 'qualitas', 'corpus', 'compile', 'jasperreports', 'net', 'sf', 'jasperreports', 'engine', 'base', 'jr', 'base', 'print', 'text', 'get', 'mode', 'value'], ['mnt', 'qualitas', 'qualitas', 'corpus', 'compile', 'jasperreports', 'net', 'sf', 'jasperreports', 'engine', 'base', 'jr', 'base', 'sort', 'field', 'clone'], ['mnt', 'qualitas', 'qualitas', 'corpus', 'compile', 'jasperreports', 'net', 'sf', 'jasperreports', 'engine', 'util', 'jr', 'styled', 'text', 'length'], ['mnt', 'qualitas', 'qualitas', 'corpus', 'compile', 'jasperreports', 'net', 'sf', 'jasperreports', 'engine', 'util', 'jr', 'xml', 'write', 'helper', 'flush', 'buffer'], ['mnt', 'qualitas', 'qualitas', 'corpus', 'compile', 'jasperreports', 'net', 'sf', 'jasperreports', 'engine', 'jr', 'abstract', 'object', 'factory', 'get', 'visit', 'result', 'jr', 'visitable'], ['mnt', 'qualitas', 'qualitas', 'corpus', 'compile', 'jasperreports', 'net', 'sf', 'jasperreports', 'engine', 'jr', 'wrapping', 'svg', 'renderer', 'get', 'backcolor'], ['mnt', 'qualitas', 'qualitas', 'corpus', 'compile', 'jasperreports', 'net', 'sf', 'jasperreports', 'engine', 'jr', 'text', 'field', 'set', 'blank', 'when', 'null', 'boolean'], ['mnt', 'qualitas', 'qualitas', 'corpus', 'compile', 'jasperreports', 'net', 'sf', 'jasperreports', 'engine', 'element', 'decorator', 'get', 'height'], ['mnt', 'qualitas', 'qualitas', 'corpus', 'compile', 'jasperreports', 'net', 'sf', 'jasperreports', 'engine', 'component', 'fill', 'context', 'get', 'report', 'timezone'], ['mnt', 'qualitas', 'qualitas', 'corpus', 'compile', 'jasperreports', 'net', 'sf', 'jasperreports', 'engine', 'export', 'ooxml', 'xlsx', 'border', 'info', 'get', 'id'], ['mnt', 'qualitas', 'qualitas', 'corpus', 'compile', 'jasperreports', 'net', 'sf', 'jasperreports', 'engine', 'export', 'jr', 'pdf', 'exporter', 'get', 'y', 'align', 'factor', 'jr', 'print', 'image'], ['mnt', 'qualitas', 'qualitas', 'corpus', 'compile', 'jasperreports', 'net', 'sf', 'jasperreports', 'components', 'table', 'fill', 'table', 'report', 'scriptlet', 'after', 'page', 'init'], ['mnt', 'qualitas', 'qualitas', 'corpus', 'compile', 'jasperreports', 'net', 'sf', 'jasperreports', 'components', 'spiderchart', 'fill', 'chart', 'settings', 'get', 'hyperlink', 'type', 'value'], ['mnt', 'qualitas', 'qualitas', 'corpus', 'compile', 'jasperreports', 'net', 'sf', 'jasperreports', 'engine', 'fill', 'jr', 'fill', 'object', 'factory', 'collect', 'used', 'styles', 'jr', 'style', 'map', 'map'], ['mnt', 'qualitas', 'qualitas', 'corpus', 'compile', 'jasperreports', 'net', 'sf', 'jasperreports', 'engine', 'fill', 'jr', 'fill', 'subreport', 'return', 'value', 'jr', 'fill', 'subreport', 'return', 'value', 'jr', 'subreport', 'return', 'value', 'jr', 'fill', 'object', 'factory', 'jr', 'base', 'filler'], ['mnt', 'qualitas', 'qualitas', 'corpus', 'compile', 'jasperreports', 'net', 'sf', 'jasperreports', 'engine', 'fill', 'jr', 'short', 'variance', 'incrementer', 'combine', 'jr', 'calculable', 'jr', 'calculable', 'abstract', 'value', 'provider'], ['mnt', 'qualitas', 'qualitas', 'corpus', 'compile', 'jasperreports', 'net', 'sf', 'jasperreports', 'engine', 'fill', 'jr', 'fill', 'break', 'jr', 'fill', 'break', 'jr', 'base', 'filler', 'jr', 'break', 'jr', 'fill', 'object', 'factory'], ['mnt', 'qualitas', 'qualitas', 'corpus', 'compile', 'jasperreports', 'net', 'sf', 'jasperreports', 'engine', 'fill', 'jr', 'fill', 'dataset', 'run', 'jr', 'fill', 'dataset', 'run', 'jr', 'base', 'filler', 'jr', 'dataset', 'run', 'jr', 'fill', 'dataset'], ['mnt', 'qualitas', 'qualitas', 'corpus', 'compile', 'jasperreports', 'net', 'sf', 'jasperreports', 'engine', 'fill', 'jr', 'long', 'count', 'incrementer', 'increment', 'jr', 'calculable', 'object', 'abstract', 'value', 'provider'], ['mnt', 'qualitas', 'qualitas', 'corpus', 'compile', 'jasperreports', 'net', 'sf', 'jasperreports', 'engine', 'util', 'jr', 'properties', 'get', 'float', 'property', 'jr', 'properties', 'map', 'string', 'float'], ['mnt', 'qualitas', 'qualitas', 'corpus', 'compile', 'jasperreports', 'net', 'sf', 'jasperreports', 'engine', 'util', 'jr', 'api', 'writer', 'write', 'hyperlink', 'jr', 'hyperlink', 'string', 'string'], ['mnt', 'qualitas', 'qualitas', 'corpus', 'compile', 'jasperreports', 'net', 'sf', 'jasperreports', 'engine', 'util', 'jr', 'styled', 'text', 'parser', 'write', 'map', 'attributed', 'character', 'iterator', 'string'], ['mnt', 'qualitas', 'qualitas', 'corpus', 'compile', 'jasperreports', 'net', 'sf', 'jasperreports', 'engine', 'xml', 'jr', 'property', 'digester', 'rule', 'begin', 'string', 'string', 'attributes'], ['mnt', 'qualitas', 'qualitas', 'corpus', 'compile', 'jasperreports', 'net', 'sf', 'jasperreports', 'engine', 'xml', 'jr', 'xml', 'template', 'writer', 'write', 'template', 'jr', 'template', 'output', 'stream', 'string'], ['mnt', 'qualitas', 'qualitas', 'corpus', 'compile', 'jasperreports', 'net', 'sf', 'jasperreports', 'engine', 'design', 'jr', 'source', 'compile', 'task', 'jr', 'source', 'compile', 'task', 'jasper', 'design', 'jr', 'design', 'dataset', 'jr', 'expression', 'collector', 'string'], ['mnt', 'qualitas', 'qualitas', 'corpus', 'compile', 'jasperreports', 'net', 'sf', 'jasperreports', 'engine', 'jasper', 'run', 'manager', 'run', 'report', 'to', 'pdf', 'jasper', 'report', 'map', 'connection'], ['mnt', 'qualitas', 'qualitas', 'corpus', 'compile', 'jasperreports', 'net', 'sf', 'jasperreports', 'engine', 'export', 'oasis', 'jr', 'odt', 'exporter', 'export', 'line', 'table', 'builder', 'jr', 'print', 'line', 'jr', 'exporter', 'grid', 'cell'], ['mnt', 'qualitas', 'qualitas', 'corpus', 'compile', 'jasperreports', 'net', 'sf', 'jasperreports', 'engine', 'export', 'j', 'excel', 'api', 'exporter', 'add', 'blank', 'cell', 'jr', 'exporter', 'grid', 'cell', 'int', 'int'], ['mnt', 'qualitas', 'qualitas', 'corpus', 'compile', 'jasperreports', 'net', 'sf', 'jasperreports', 'engine', 'export', 'jr', 'exporter', 'grid', 'cell', 'jr', 'exporter', 'grid', 'cell', 'element', 'wrapper', 'int', 'int', 'int', 'int'], ['mnt', 'qualitas', 'qualitas', 'corpus', 'compile', 'jasperreports', 'net', 'sf', 'jasperreports', 'engine', 'export', 'jr', 'grid', 'layout', 'create', 'cuts', 'element', 'wrapper', 'int', 'int', 'boolean'], ['mnt', 'qualitas', 'qualitas', 'corpus', 'compile', 'jasperreports', 'net', 'sf', 'jasperreports', 'engine', 'export', 'jr', 'html', 'exporter', 'string', 'provider', 'get', 'string', 'for', 'collapsed', 't', 'object', 'int', 'int'], ['mnt', 'qualitas', 'qualitas', 'corpus', 'compile', 'jasperreports', 'net', 'sf', 'jasperreports', 'engine', 'convert', 'crosstab', 'converter', 'add', 'crosstab', 'rows', 'report', 'converter', 'jr', 'crosstab', 'int', 'int', 'list'], ['mnt', 'qualitas', 'qualitas', 'corpus', 'compile', 'jasperreports', 'net', 'sf', 'jasperreports', 'crosstabs', 'design', 'jr', 'design', 'crosstab', 'get', 'total', 'variable', 'name', 'jr', 'crosstab', 'measure', 'jr', 'crosstab', 'row', 'group', 'jr', 'crosstab', 'column', 'group'], ['mnt', 'qualitas', 'qualitas', 'corpus', 'compile', 'jasperreports', 'net', 'sf', 'jasperreports', 'components', 'spiderchart', 'spider', 'chart', 'xml', 'writer', 'write', 'chart', 'chart', 'settings', 'jr', 'xml', 'write', 'helper', 'jr', 'xml', 'writer', 'xml', 'namespace'], ['mnt', 'qualitas', 'qualitas', 'corpus', 'compile', 'jasperreports', 'net', 'sf', 'jasperreports', 'engine', 'util', 'jr', 'api', 'writer', 'write', 'axis', 'format', 'string', 'jr', 'font', 'color', 'jr', 'font', 'color', 'string', 'boolean', 'color', 'string', 'string', 'boolean'], ['mnt', 'qualitas', 'qualitas', 'corpus', 'compile', 'jasperreports', 'net', 'sf', 'jasperreports', 'engine', 'util', 'jr', 'box', 'util', 'set', 'to', 'box', 'byte', 'byte', 'byte', 'byte', 'byte', 'color', 'color', 'color', 'color', 'color', 'integer', 'integer', 'integer', 'integer', 'integer', 'jr', 'line', 'box'], ['mnt', 'qualitas', 'qualitas', 'corpus', 'compile', 'jasperreports', 'net', 'sf', 'jasperreports', 'engine', 'export', 'j', 'excel', 'api', 'exporter', 'style', 'info', 'style', 'info', 'pattern', 'colour', 'int', 'int', 'int', 'writable', 'font', 'jr', 'exporter', 'grid', 'cell', 'boolean'], ['mnt', 'qualitas', 'qualitas', 'corpus', 'compile', 'jasperreports', 'net', 'sf', 'jasperreports', 'engine', 'export', 'j', 'excel', 'api', 'exporter', 'style', 'info', 'style', 'info', 'pattern', 'colour', 'int', 'int', 'int', 'writable', 'font', 'box', 'style'], ['mnt', 'qualitas', 'qualitas', 'corpus', 'compile', 'jasperreports', 'net', 'sf', 'jasperreports', 'engine', 'export', 'jr', 'xls', 'exporter', 'create', 'text', 'cell', 'jr', 'print', 'text', 'jr', 'exporter', 'grid', 'cell', 'int', 'int', 'jr', 'styled', 'text', 'style', 'info', 'short'], ['mnt', 'qualitas', 'qualitas', 'corpus', 'compile', 'jasperreports', 'net', 'sf', 'jasperreports', 'engine', 'export', 'jr', 'xls', 'exporter', 'get', 'loaded', 'cell', 'style', 'short', 'short', 'short', 'short', 'short', 'hssf', 'font', 'jr', 'exporter', 'grid', 'cell'], ['mnt', 'qualitas', 'qualitas', 'corpus', 'compile', 'jasperreports', 'net', 'sf', 'jasperreports', 'engine', 'export', 'jr', 'xls', 'exporter', 'style', 'info', 'style', 'info', 'short', 'short', 'short', 'short', 'short', 'hssf', 'font', 'box', 'style'], ['mnt', 'qualitas', 'qualitas', 'corpus', 'compile', 'jasperreports', 'net', 'sf', 'jasperreports', 'engine', 'export', 'jr', 'rtf', 'exporter', 'export', 'right', 'pen', 'jr', 'pen', 'jr', 'pen', 'jr', 'pen', 'int', 'int', 'int', 'int'], ['mnt', 'qualitas', 'qualitas', 'corpus', 'compile', 'jasperreports', 'net', 'sf', 'jasperreports', 'engine', 'export', 'jr', 'grid', 'layout', 'jr', 'grid', 'layout', 'exporter', 'nature', 'list', 'int', 'int', 'int', 'int', 'cuts', 'info'], ['mnt', 'qualitas', 'qualitas', 'corpus', 'compile', 'jasperreports', 'net', 'sf', 'jasperreports', 'engine', 'export', 'jr', 'grid', 'layout', 'jr', 'grid', 'layout', 'exporter', 'nature', 'element', 'wrapper', 'int', 'int', 'int', 'int', 'string'], ['mnt', 'qualitas', 'qualitas', 'corpus', 'compile', 'jasperreports', 'net', 'sf', 'jasperreports', 'engine', 'export', 'text', 'renderer', 'initialize', 'graphics', 'int', 'int', 'int', 'int', 'int', 'int', 'int', 'int', 'float', 'horizontal', 'align', 'enum', 'vertical', 'align', 'enum', 'float', 'float', 'int', 'boolean'], ['mnt', 'qualitas', 'qualitas', 'corpus', 'compile', 'jasperreports', 'net', 'sf', 'jasperreports', 'engine', 'export', 'draw', 'element', 'drawer', 'draw', 'top', 'pen', 'graphics', 'jr', 'pen', 'jr', 'pen', 'jr', 'pen', 'jr', 'print', 'element', 'int', 'int'], ['mnt', 'qualitas', 'qualitas', 'corpus', 'compile', 'jasperreports', 'net', 'sf', 'jasperreports', 'engine', 'export', 'draw', 'element', 'drawer', 'draw', 'left', 'pen', 'graphics', 'jr', 'pen', 'jr', 'pen', 'jr', 'pen', 'jr', 'print', 'element', 'int', 'int'], ['mnt', 'qualitas', 'qualitas', 'corpus', 'compile', 'jasperreports', 'net', 'sf', 'jasperreports', 'engine', 'export', 'draw', 'element', 'drawer', 'draw', 'bottom', 'pen', 'graphics', 'jr', 'pen', 'jr', 'pen', 'jr', 'pen', 'jr', 'print', 'element', 'int', 'int'], ['mnt', 'qualitas', 'qualitas', 'corpus', 'compile', 'j', 'fin', 'date', 'math', 'org', 'jfin', 'date', 'daycount', 'defaultimpl', 'isda', 'actual', 'actual', 'calculate', 'daycount', 'fraction', 'calendar', 'calendar'], ['mnt', 'qualitas', 'qualitas', 'corpus', 'compile', 'j', 'fin', 'date', 'math', 'org', 'jfin', 'date', 'daycount', 'defaultimpl', 'daycount', 'calculator', 'factory', 'impl', 'get', 'actual', 'fixed'], ['mnt', 'qualitas', 'qualitas', 'corpus', 'compile', 'j', 'fin', 'date', 'math', 'org', 'jfin', 'date', 'accrual', 'accrual', 'exception', 'accrual', 'exception', 'throwable', 'string'], ['mnt', 'qualitas', 'qualitas', 'corpus', 'compile', 'j', 'fin', 'date', 'math', 'org', 'jfin', 'date', 'accrual', 'accrual', 'schedule', 'get', 'end', 'calendar'], ['mnt', 'qualitas', 'qualitas', 'corpus', 'compile', 'j', 'fin', 'date', 'math', 'org', 'jfin', 'date', 'accrual', 'accrual', 'schedule', 'add', 'accrual', 'period'], ['mnt', 'qualitas', 'qualitas', 'corpus', 'compile', 'j', 'fin', 'date', 'math', 'org', 'jfin', 'date', 'accrual', 'accrual', 'schedule', 'add', 'all', 'int', 'collection'], ['mnt', 'qualitas', 'qualitas', 'corpus', 'compile', 'j', 'fin', 'date', 'math', 'org', 'jfin', 'date', 'accrual', 'notional', 'get', 'amount'], ['mnt', 'qualitas', 'qualitas', 'corpus', 'compile', 'j', 'fin', 'date', 'math', 'org', 'jfin', 'date', 'accrual', 'payment', 'payment', 'payment'], ['mnt', 'qualitas', 'qualitas', 'corpus', 'compile', 'j', 'fin', 'date', 'math', 'org', 'jfin', 'date', 'accrual', 'payment', 'clone'], ['mnt', 'qualitas', 'qualitas', 'corpus', 'compile', 'j', 'fin', 'date', 'math', 'org', 'jfin', 'date', 'accrual', 'payment', 'set', 'currency', 'iso', 'currency'], ['mnt', 'qualitas', 'qualitas', 'corpus', 'compile', 'j', 'fin', 'date', 'math', 'org', 'jfin', 'date', 'tenor', 'set', 'amount', 'int'], ['mnt', 'qualitas', 'qualitas', 'corpus', 'compile', 'j', 'fin', 'date', 'math', 'org', 'jfin', 'date', 'accrual', 'impl', 'float', 'accrual', 'period', 'get', 'fixing', 'adjustment', 'type'], ['mnt', 'qualitas', 'qualitas', 'corpus', 'compile', 'j', 'fin', 'date', 'math', 'org', 'jfin', 'date', 'accrual', 'impl', 'float', 'accrual', 'period', 'get', 'fixing', 'business', 'day', 'convention'], ['mnt', 'qualitas', 'qualitas', 'corpus', 'compile', 'j', 'fin', 'date', 'math', 'org', 'jfin', 'common', 'csv', 'file', 'format', 'tokenizer', 'next', 'byte'], ['mnt', 'qualitas', 'qualitas', 'corpus', 'compile', 'j', 'fin', 'date', 'math', 'org', 'jfin', 'date', 'holiday', 'financialcalendarimpl', 'info', 'file', 'entry', 'set', 'code', 'string'], ['mnt', 'qualitas', 'qualitas', 'corpus', 'compile', 'j', 'fin', 'date', 'math', 'org', 'jfin', 'date', 'daycount', 'defaultimpl', 'isda', 'actual', 'actual', 'calculate', 'daycount', 'fraction', 'calendar', 'calendar', 'calendar', 'calendar'], ['mnt', 'qualitas', 'qualitas', 'corpus', 'compile', 'j', 'fin', 'date', 'math', 'org', 'jfin', 'date', 'daycount', 'defaultimpl', 'i', 'calculate', 'daycount', 'fraction', 'calendar', 'calendar', 'calendar', 'calendar'], ['mnt', 'qualitas', 'qualitas', 'corpus', 'compile', 'j', 'fin', 'date', 'math', 'org', 'jfin', 'date', 'daycount', 'defaultimpl', 'u', 'calculate', 'daycount', 'fraction', 'calendar', 'calendar', 'calendar', 'calendar'], ['mnt', 'qualitas', 'qualitas', 'corpus', 'compile', 'j', 'fin', 'date', 'math', 'org', 'jfin', 'date', 'daycount', 'defaultimpl', 'actual', 'fixed', 'calculate', 'daycount', 'fraction', 'calendar', 'calendar', 'calendar', 'calendar'], ['mnt', 'qualitas', 'qualitas', 'corpus', 'compile', 'j', 'fin', 'date', 'math', 'org', 'jfin', 'date', 'daycount', 'defaultimpl', 'actual', 'calculate', 'daycount', 'fraction', 'calendar', 'calendar', 'calendar', 'calendar'], ['mnt', 'qualitas', 'qualitas', 'corpus', 'compile', 'j', 'fin', 'date', 'math', 'org', 'jfin', 'date', 'daycount', 'defaultimpl', 'actual', 'calculate', 'daycount', 'fraction', 'calendar', 'calendar', 'calendar', 'calendar'], ['mnt', 'qualitas', 'qualitas', 'corpus', 'compile', 'j', 'fin', 'date', 'math', 'org', 'jfin', 'date', 'holiday', 'holiday', 'calendar', 'advance', 'calendar', 'int', 'int', 'business', 'day', 'convention'], ['mnt', 'qualitas', 'qualitas', 'corpus', 'compile', 'j', 'fin', 'date', 'math', 'org', 'jfin', 'date', 'holiday', 'adjust', 'calendar', 'business', 'day', 'convention', 'calendar'], ['mnt', 'qualitas', 'qualitas', 'corpus', 'compile', 'j', 'fin', 'date', 'math', 'org', 'jfin', 'date', 'accrual', 'notional', 'period', 'notional', 'period', 'calendar', 'calendar', 'notional'], ['mnt', 'qualitas', 'qualitas', 'corpus', 'compile', 'j', 'fin', 'date', 'math', 'org', 'jfin', 'date', 'accrual', 'notional', 'period', 'notional', 'period', 'calendar', 'calendar', 'double', 'iso', 'currency'], ['mnt', 'qualitas', 'qualitas', 'corpus', 'compile', 'j', 'fin', 'date', 'math', 'org', 'jfin', 'date', 'accrual', 'payment', 'payment', 'double', 'iso', 'currency', 'calendar'], ['mnt', 'qualitas', 'qualitas', 'corpus', 'compile', 'j', 'fin', 'date', 'math', 'org', 'jfin', 'date', 'typed', 'schedule', 'generator', 'generate', 'schedule', 'calendar', 'calendar', 'int', 'int', 'stub', 'type'], ['mnt', 'qualitas', 'qualitas', 'corpus', 'compile', 'j', 'fin', 'date', 'math', 'org', 'jfin', 'date', 'typed', 'schedule', 'generator', 'create', 'period', 'calendar', 'calendar', 'calendar', 'calendar', 'boolean'], ['mnt', 'qualitas', 'qualitas', 'corpus', 'compile', 'j', 'fin', 'date', 'math', 'org', 'jfin', 'date', 'schedule', 'generator', 'generate', 'schedule', 'calendar', 'string', 'frequency', 'stub', 'type', 'period'], ['mnt', 'qualitas', 'qualitas', 'corpus', 'compile', 'j', 'fin', 'date', 'math', 'org', 'jfin', 'date', 'schedule', 'generator', 'generate', 'schedule', 'calendar', 'tenor', 'frequency', 'stub', 'type', 'int'], ['mnt', 'qualitas', 'qualitas', 'corpus', 'compile', 'j', 'fin', 'date', 'math', 'org', 'jfin', 'date', 'schedule', 'generator', 'generate', 'schedule', 'calendar', 'tenor', 'frequency', 'stub', 'type', 'period', 'int'], ['mnt', 'qualitas', 'qualitas', 'corpus', 'compile', 'j', 'fin', 'date', 'math', 'org', 'jfin', 'date', 'schedule', 'generator', 'generate', 'schedule', 'calendar', 'calendar', 'frequency', 'stub', 'type'], ['mnt', 'qualitas', 'qualitas', 'corpus', 'compile', 'j', 'fin', 'date', 'math', 'org', 'jfin', 'date', 'schedule', 'generator', 'generate', 'schedule', 'calendar', 'calendar', 'frequency', 'stub', 'type', 'period'], ['mnt', 'qualitas', 'qualitas', 'corpus', 'compile', 'j', 'fin', 'date', 'math', 'org', 'jfin', 'common', 'iso', 'country', 'iso', 'country', 'string', 'string', 'int'], ['mnt', 'qualitas', 'qualitas', 'corpus', 'compile', 'j', 'fin', 'date', 'math', 'org', 'jfin', 'common', 'iso', 'currency', 'iso', 'currency', 'string', 'iso', 'country', 'string'], ['mnt', 'qualitas', 'qualitas', 'corpus', 'compile', 'j', 'fin', 'date', 'math', 'org', 'jfin', 'common', 'iso', 'currency', 'iso', 'currency', 'string', 'iso', 'currency', 'string'], ['mnt', 'qualitas', 'qualitas', 'corpus', 'compile', 'j', 'fin', 'date', 'math', 'org', 'jfin', 'date', 'schedule', 'generator', 'generate', 'schedule', 'calendar', 'calendar', 'int', 'int', 'stub', 'type', 'period', 'int'], ['mnt', 'qualitas', 'qualitas', 'corpus', 'compile', 'j', 'fin', 'date', 'math', 'org', 'jfin', 'date', 'holiday', 'financialcalendarimpl', 'info', 'file', 'entry', 'string', 'string', 'string', 'iso', 'currency', 'string', 'iso', 'country', 'string', 'string'], ['mnt', 'qualitas', 'qualitas', 'corpus', 'compile', 'jfreechart', 'org', 'jfree', 'data', 'xy', 'interval', 'xy', 'dataset', 'get', 'end', 'y', 'value', 'int', 'int'], ['mnt', 'qualitas', 'qualitas', 'corpus', 'compile', 'jfreechart', 'org', 'jfree', 'data', 'xy', 'xy', 'dataset', 'table', 'model', 'xy', 'dataset', 'table', 'model', 'table', 'xy', 'dataset'], ['mnt', 'qualitas', 'qualitas', 'corpus', 'compile', 'jfreechart', 'org', 'jfree', 'data', 'xy', 'default', 'table', 'xy', 'dataset', 'get', 'interval', 'position', 'factor'], ['mnt', 'qualitas', 'qualitas', 'corpus', 'compile', 'jfreechart', 'org', 'jfree', 'chart', 'annotations', 'xy', 'text', 'annotation', 'get', 'paint'], ['mnt', 'qualitas', 'qualitas', 'corpus', 'compile', 'jfreechart', 'org', 'jfree', 'chart', 'annotations', 'xy', 'pointer', 'annotation', 'get', 'tip', 'radius'], ['mnt', 'qualitas', 'qualitas', 'corpus', 'compile', 'jfreechart', 'org', 'jfree', 'chart', 'block', 'line', 'border', 'write', 'object', 'object', 'output', 'stream'], ['mnt', 'qualitas', 'qualitas', 'corpus', 'compile', 'jfreechart', 'org', 'jfree', 'chart', 'standard', 'chart', 'theme', 'set', 'plot', 'outline', 'paint', 'paint'], ['mnt', 'qualitas', 'qualitas', 'corpus', 'compile', 'jfreechart', 'org', 'jfree', 'chart', 'standard', 'chart', 'theme', 'apply', 'to', 'block', 'container', 'block', 'container'], ['mnt', 'qualitas', 'qualitas', 'corpus', 'compile', 'jfreechart', 'org', 'jfree', 'chart', 'renderer', 'category', 'category', 'item', 'renderer', 'set', 'positive', 'item', 'label', 'position', 'item', 'label', 'position', 'boolean'], ['mnt', 'qualitas', 'qualitas', 'corpus', 'compile', 'jfreechart', 'org', 'jfree', 'chart', 'renderer', 'xy', 'xy', 'item', 'renderer', 'set', 'series', 'visible', 'boolean', 'boolean'], ['mnt', 'qualitas', 'qualitas', 'corpus', 'compile', 'jfreechart', 'org', 'jfree', 'chart', 'renderer', 'xy', 'abstract', 'xy', 'item', 'renderer', 'add', 'annotation', 'xy', 'annotation', 'layer'], ['mnt', 'qualitas', 'qualitas', 'corpus', 'compile', 'jfreechart', 'org', 'jfree', 'chart', 'plot', 'multiple', 'pie', 'plot', 'set', 'aggregated', 'items', 'paint', 'paint'], ['mnt', 'qualitas', 'qualitas', 'corpus', 'compile', 'jfreechart', 'org', 'jfree', 'chart', 'entity', 'entity', 'collection', 'get', 'entities'], ['mnt', 'qualitas', 'qualitas', 'corpus', 'compile', 'jfreechart', 'org', 'jfree', 'chart', 'plot', 'dial', 'standard', 'dial', 'range', 'get', 'scale', 'index'], ['mnt', 'qualitas', 'qualitas', 'corpus', 'compile', 'jfreechart', 'org', 'jfree', 'data', 'keyed', 'objects', 'd', 'remove', 'object', 'comparable', 'comparable'], ['mnt', 'qualitas', 'qualitas', 'corpus', 'compile', 'jfreechart', 'org', 'jfree', 'data', 'xy', 'y', 'interval', 'series', 'y', 'interval', 'series', 'comparable', 'boolean', 'boolean'], ['mnt', 'qualitas', 'qualitas', 'corpus', 'compile', 'jfreechart', 'org', 'jfree', 'chart', 'labels', 'box', 'and', 'whisker', 'xy', 'tool', 'tip', 'generator', 'box', 'and', 'whisker', 'xy', 'tool', 'tip', 'generator', 'string', 'date', 'format', 'number', 'format'], ['mnt', 'qualitas', 'qualitas', 'corpus', 'compile', 'jfreechart', 'org', 'jfree', 'chart', 'labels', 'bubble', 'xy', 'item', 'label', 'generator', 'generate', 'label', 'string', 'xy', 'dataset', 'int', 'int'], ['mnt', 'qualitas', 'qualitas', 'corpus', 'compile', 'jfreechart', 'org', 'jfree', 'chart', 'block', 'flow', 'arrangement', 'arrange', 'f', 'block', 'container', 'graphics', 'rectangle', 'constraint'], ['mnt', 'qualitas', 'qualitas', 'corpus', 'compile', 'jfreechart', 'org', 'jfree', 'chart', 'block', 'block', 'border', 'block', 'border', 'double', 'double', 'double', 'double', 'paint'], ['mnt', 'qualitas', 'qualitas', 'corpus', 'compile', 'jfreechart', 'org', 'jfree', 'chart', 'chart', 'utilities', 'write', 'chart', 'as', 'pn', 'output', 'stream', 'j', 'free', 'chart', 'int', 'int'], ['mnt', 'qualitas', 'qualitas', 'corpus', 'compile', 'jfreechart', 'org', 'jfree', 'chart', 'chart', 'utilities', 'encode', 'as', 'pn', 'buffered', 'image', 'boolean', 'int'], ['mnt', 'qualitas', 'qualitas', 'corpus', 'compile', 'jfreechart', 'org', 'jfree', 'chart', 'renderer', 'category', 'category', 'item', 'renderer', 'draw', 'domain', 'gridline', 'graphics', 'category', 'plot', 'rectangle', 'double'], ['mnt', 'qualitas', 'qualitas', 'corpus', 'compile', 'jfreechart', 'org', 'jfree', 'chart', 'renderer', 'category', 'abstract', 'category', 'item', 'renderer', 'draw', 'domain', 'gridline', 'graphics', 'category', 'plot', 'rectangle', 'double'], ['mnt', 'qualitas', 'qualitas', 'corpus', 'compile', 'jfreechart', 'org', 'jfree', 'chart', 'renderer', 'category', 'line', 'renderer', 'd', 'draw', 'domain', 'gridline', 'graphics', 'category', 'plot', 'rectangle', 'double'], ['mnt', 'qualitas', 'qualitas', 'corpus', 'compile', 'jfreechart', 'org', 'jfree', 'chart', 'renderer', 'xy', 'stacked', 'xy', 'area', 'renderer', 'get', 'previous', 'height', 'table', 'xy', 'dataset', 'int', 'int'], ['mnt', 'qualitas', 'qualitas', 'corpus', 'compile', 'jfreechart', 'org', 'jfree', 'chart', 'renderer', 'xy', 'xy', 'step', 'area', 'renderer', 'initialise', 'graphics', 'rectangle', 'xy', 'plot', 'xy', 'dataset', 'plot', 'rendering', 'info'], ['mnt', 'qualitas', 'qualitas', 'corpus', 'compile', 'jfreechart', 'org', 'jfree', 'chart', 'renderer', 'abstract', 'renderer', 'set', 'series', 'visible', 'int', 'boolean', 'boolean'], ['mnt', 'qualitas', 'qualitas', 'corpus', 'compile', 'jfreechart', 'org', 'jfree', 'data', 'time', 'dynamic', 'time', 'series', 'collection', 'add', 'value', 'int', 'int', 'float'], ['mnt', 'qualitas', 'qualitas', 'corpus', 'compile', 'jfreechart', 'org', 'jfree', 'chart', 'axis', 'period', 'axis', 'create', 'instance', 'class', 'date', 'time', 'zone', 'locale'], ['mnt', 'qualitas', 'qualitas', 'corpus', 'compile', 'jfreechart', 'org', 'jfree', 'chart', 'plot', 'category', 'plot', 'zoom', 'range', 'axes', 'double', 'plot', 'rendering', 'info', 'point', 'boolean'], ['mnt', 'qualitas', 'qualitas', 'corpus', 'compile', 'jfreechart', 'org', 'jfree', 'chart', 'plot', 'xy', 'plot', 'draw', 'graphics', 'rectangle', 'point', 'plot', 'state', 'plot', 'rendering', 'info'], ['mnt', 'qualitas', 'qualitas', 'corpus', 'compile', 'jfreechart', 'org', 'jfree', 'chart', 'plot', 'xy', 'plot', 'handle', 'click', 'int', 'int', 'plot', 'rendering', 'info'], ['mnt', 'qualitas', 'qualitas', 'corpus', 'compile', 'jfreechart', 'org', 'jfree', 'chart', 'entity', 'j', 'free', 'chart', 'entity', 'j', 'free', 'chart', 'entity', 'shape', 'j', 'free', 'chart', 'string'], ['mnt', 'qualitas', 'qualitas', 'corpus', 'compile', 'jfreechart', 'org', 'jfree', 'chart', 'util', 'log', 'format', 'format', 'long', 'string', 'buffer', 'field', 'position'], ['mnt', 'qualitas', 'qualitas', 'corpus', 'compile', 'jfreechart', 'org', 'jfree', 'chart', 'util', 'resource', 'bundle', 'wrapper', 'get', 'bundle', 'string', 'locale', 'class', 'loader'], ['mnt', 'qualitas', 'qualitas', 'corpus', 'compile', 'jfreechart', 'org', 'jfree', 'chart', 'annotations', 'xy', 'image', 'annotation', 'draw', 'graphics', 'xy', 'plot', 'rectangle', 'value', 'axis', 'value', 'axis', 'int', 'plot', 'rendering', 'info'], ['mnt', 'qualitas', 'qualitas', 'corpus', 'compile', 'jfreechart', 'org', 'jfree', 'chart', 'chart', 'factory', 'create', 'stacked', 'xy', 'area', 'chart', 'string', 'string', 'string', 'table', 'xy', 'dataset', 'plot', 'orientation', 'boolean', 'boolean', 'boolean'], ['mnt', 'qualitas', 'qualitas', 'corpus', 'compile', 'jfreechart', 'org', 'jfree', 'chart', 'chart', 'factory', 'create', 'wind', 'plot', 'string', 'string', 'string', 'wind', 'dataset', 'boolean', 'boolean', 'boolean'], ['mnt', 'qualitas', 'qualitas', 'corpus', 'compile', 'jfreechart', 'org', 'jfree', 'chart', 'legend', 'item', 'legend', 'item', 'string', 'string', 'string', 'string', 'shape', 'paint', 'stroke', 'paint'], ['mnt', 'qualitas', 'qualitas', 'corpus', 'compile', 'jfreechart', 'org', 'jfree', 'chart', 'renderer', 'category', 'line', 'renderer', 'd', 'draw', 'item', 'graphics', 'category', 'item', 'renderer', 'state', 'rectangle', 'category', 'plot', 'category', 'axis', 'value', 'axis', 'category', 'dataset', 'int', 'int', 'int'], ['mnt', 'qualitas', 'qualitas', 'corpus', 'compile', 'jfreechart', 'org', 'jfree', 'chart', 'renderer', 'category', 'bar', 'renderer', 'draw', 'item', 'graphics', 'category', 'item', 'renderer', 'state', 'rectangle', 'category', 'plot', 'category', 'axis', 'value', 'axis', 'category', 'dataset', 'int', 'int', 'int'], ['mnt', 'qualitas', 'qualitas', 'corpus', 'compile', 'jfreechart', 'org', 'jfree', 'chart', 'renderer', 'category', 'layered', 'bar', 'renderer', 'draw', 'item', 'graphics', 'category', 'item', 'renderer', 'state', 'rectangle', 'category', 'plot', 'category', 'axis', 'value', 'axis', 'category', 'dataset', 'int', 'int', 'int'], ['mnt', 'qualitas', 'qualitas', 'corpus', 'compile', 'jfreechart', 'org', 'jfree', 'chart', 'renderer', 'category', 'layered', 'bar', 'renderer', 'draw', 'vertical', 'item', 'graphics', 'category', 'item', 'renderer', 'state', 'rectangle', 'category', 'plot', 'category', 'axis', 'value', 'axis', 'category', 'dataset', 'int', 'int'], ['mnt', 'qualitas', 'qualitas', 'corpus', 'compile', 'jfreechart', 'org', 'jfree', 'chart', 'renderer', 'xy', 'xy', 'step', 'renderer', 'draw', 'item', 'graphics', 'xy', 'item', 'renderer', 'state', 'rectangle', 'plot', 'rendering', 'info', 'xy', 'plot', 'value', 'axis', 'value', 'axis', 'xy', 'dataset', 'int', 'int', 'crosshair', 'state', 'int'], ['mnt', 'qualitas', 'qualitas', 'corpus', 'compile', 'jfreechart', 'org', 'jfree', 'chart', 'renderer', 'xy', 'xy', 'bubble', 'renderer', 'draw', 'item', 'graphics', 'xy', 'item', 'renderer', 'state', 'rectangle', 'plot', 'rendering', 'info', 'xy', 'plot', 'value', 'axis', 'value', 'axis', 'xy', 'dataset', 'int', 'int', 'crosshair', 'state', 'int'], ['mnt', 'qualitas', 'qualitas', 'corpus', 'compile', 'jfreechart', 'org', 'jfree', 'chart', 'axis', 'period', 'axis', 'label', 'info', 'period', 'axis', 'label', 'info', 'class', 'date', 'format', 'rectangle', 'insets', 'font', 'paint', 'boolean', 'stroke', 'paint'], ['mnt', 'qualitas', 'qualitas', 'corpus', 'compile', 'jfreechart', 'org', 'jfree', 'chart', 'plot', 'category', 'plot', 'draw', 'range', 'crosshair', 'graphics', 'rectangle', 'plot', 'orientation', 'double', 'value', 'axis', 'stroke', 'paint'], ['mnt', 'qualitas', 'qualitas', 'corpus', 'compile', 'jfreechart', 'org', 'jfree', 'chart', 'plot', 'xy', 'plot', 'draw', 'domain', 'crosshair', 'graphics', 'rectangle', 'plot', 'orientation', 'double', 'value', 'axis', 'stroke', 'paint'], ['mnt', 'qualitas', 'qualitas', 'corpus', 'compile', 'jgroups', 'org', 'jgroups', 'channel', 'get', 'protocol', 'stack'], ['mnt', 'qualitas', 'qualitas', 'corpus', 'compile', 'jgroups', 'org', 'jgroups', 'view', 'view', 'view', 'id', 'vector'], ['mnt', 'qualitas', 'qualitas', 'corpus', 'compile', 'jgroups', 'org', 'jgroups', 'demos', 'quote', 'client', 'print', 'all', 'stocks'], ['mnt', 'qualitas', 'qualitas', 'corpus', 'compile', 'jgroups', 'org', 'jgroups', 'blocks', 'cache', 'reaper', 'run'], ['mnt', 'qualitas', 'qualitas', 'corpus', 'compile', 'jgroups', 'org', 'jgroups', 'blocks', 'request', 'correlator', 'start'], ['mnt', 'qualitas', 'qualitas', 'corpus', 'compile', 'jgroups', 'org', 'jgroups', 'util', 'singleton', 'address', 'write', 'to', 'data', 'output', 'stream'], ['mnt', 'qualitas', 'qualitas', 'corpus', 'compile', 'jgroups', 'org', 'jgroups', 'util', 'socket', 'factory', 'close', 'datagram', 'socket'], ['mnt', 'qualitas', 'qualitas', 'corpus', 'compile', 'jgroups', 'org', 'jgroups', 'util', 'ack', 'collector', 'wait', 'for', 'all', 'acks', 'object'], ['mnt', 'qualitas', 'qualitas', 'corpus', 'compile', 'jgroups', 'org', 'jgroups', 'protocols', 'f', 'sock', 'set', 'log', 'suspected', 'messages', 'boolean'], ['mnt', 'qualitas', 'qualitas', 'corpus', 'compile', 'jgroups', 'org', 'jgroups', 'protocols', 'auth', 'get', 'configurable', 'objects', 'list'], ['mnt', 'qualitas', 'qualitas', 'corpus', 'compile', 'jgroups', 'org', 'jgroups', 'protocols', 'discard', 'set', 'drop', 'down', 'unicasts', 'int'], ['mnt', 'qualitas', 'qualitas', 'corpus', 'compile', 'jgroups', 'org', 'jgroups', 'protocols', 'unicas', 'print', 'connections'], ['mnt', 'qualitas', 'qualitas', 'corpus', 'compile', 'jgroups', 'org', 'jgroups', 'protocols', 'unicas', 'unicast', 'header', 'to', 'string', 'string', 'builder'], ['mnt', 'qualitas', 'qualitas', 'corpus', 'compile', 'jgroups', 'org', 'jgroups', 'conf', 'property', 'converters', 'initial', 'hosts', 'to', 'string', 'object'], ['mnt', 'qualitas', 'qualitas', 'corpus', 'compile', 'jgroups', 'org', 'jgroups', 'auth', 'm', 'token', 'set', 'auth', 'value', 'string'], ['mnt', 'qualitas', 'qualitas', 'corpus', 'compile', 'jgroups', 'org', 'jgroups', 'blocks', 'mux', 'mux', 'message', 'dispatcher', 'mux', 'message', 'dispatcher', 'short', 'channel', 'message', 'listener', 'membership', 'listener', 'request', 'handler'], ['mnt', 'qualitas', 'qualitas', 'corpus', 'compile', 'jgroups', 'org', 'jgroups', 'protocols', 'pbcast', 'client', 'gms', 'impl', 'join', 'internal', 'address', 'boolean', 'boolean'], ['mnt', 'qualitas', 'qualitas', 'corpus', 'compile', 'jgroups', 'org', 'jgroups', 'protocols', 'pbcast', 'merger', 'send', 'merge', 'response', 'address', 'view', 'digest', 'merge', 'id'], ['mnt', 'qualitas', 'qualitas', 'corpus', 'compile', 'jgroups', 'org', 'jgroups', 'protocols', 'pbcast', 'nakack', 'create', 'nak', 'receiver', 'window', 'address', 'long', 'long'], ['mnt', 'qualitas', 'qualitas', 'corpus', 'compile', 'jgroups', 'org', 'jgroups', 'version', 'encode', 'int', 'int', 'int'], ['mnt', 'qualitas', 'qualitas', 'corpus', 'compile', 'jgroups', 'org', 'jgroups', 'blocks', 'distributed', 'lock', 'manager', 'unlock', 'object', 'object', 'long'], ['mnt', 'qualitas', 'qualitas', 'corpus', 'compile', 'jgroups', 'org', 'jgroups', 'blocks', 'grid', 'filesystem', 'get', 'output', 'string', 'boolean', 'short', 'int'], ['mnt', 'qualitas', 'qualitas', 'corpus', 'compile', 'jgroups', 'org', 'jgroups', 'blocks', 'grid', 'output', 'stream', 'write', 'byte', 'int', 'int'], ['mnt', 'qualitas', 'qualitas', 'corpus', 'compile', 'jgroups', 'org', 'jgroups', 'blocks', 'connection', 'table', 'connection', 'table', 'receiver', 'inet', 'address', 'inet', 'address', 'int', 'int'], ['mnt', 'qualitas', 'qualitas', 'corpus', 'compile', 'jgroups', 'org', 'jgroups', 'blocks', 'basic', 'connection', 'table', 'receive', 'address', 'byte', 'int', 'int'], ['mnt', 'qualitas', 'qualitas', 'corpus', 'compile', 'jgroups', 'org', 'jgroups', 'blocks', 'basic', 'connection', 'table', 'connection', 'send', 'byte', 'int', 'int', 'boolean'], ['mnt', 'qualitas', 'qualitas', 'corpus', 'compile', 'jgroups', 'org', 'jgroups', 'blocks', 'rpc', 'dispatcher', 'rpc', 'dispatcher', 'channel', 'message', 'listener', 'membership', 'listener', 'object', 'boolean', 'boolean'], ['mnt', 'qualitas', 'qualitas', 'corpus', 'compile', 'jgroups', 'org', 'jgroups', 'blocks', 'rpc', 'dispatcher', 'marshaller', 'object', 'from', 'byte', 'buffer', 'byte', 'int', 'int'], ['mnt', 'qualitas', 'qualitas', 'corpus', 'compile', 'jgroups', 'org', 'jgroups', 'blocks', 'replicated', 'map', 'replace', 'serializable', 'serializable', 'serializable'], ['mnt', 'qualitas', 'qualitas', 'corpus', 'compile', 'jgroups', 'org', 'jgroups', 'blocks', 'connection', 'table', 'ni', 'write', 'handler', 'write', 'socket', 'channel', 'byte', 'buffer', 'my', 'future', 'selector', 'write', 'handler'], ['mnt', 'qualitas', 'qualitas', 'corpus', 'compile', 'jgroups', 'org', 'jgroups', 'util', 'proxy', 'proxy', 'inet', 'address', 'int', 'inet', 'address', 'int', 'boolean', 'boolean'], ['mnt', 'qualitas', 'qualitas', 'corpus', 'compile', 'jgroups', 'org', 'jgroups', 'util', 'j', 'unit', 'xml', 'reporter', 'print', 'print', 'stream', 'string', 'string', 'string'], ['mnt', 'qualitas', 'qualitas', 'corpus', 'compile', 'jgroups', 'org', 'jgroups', 'protocols', 'pin', 'list', 'bucket', 'response', 'list', 'bucket', 'handler', 'end', 'element', 'string', 'string', 'string'], ['mnt', 'qualitas', 'qualitas', 'corpus', 'compile', 'jgroups', 'org', 'jgroups', 'protocols', 'tcpgossip', 'connect', 'router', 'stub', 'string', 'address'], ['mnt', 'qualitas', 'qualitas', 'corpus', 'compile', 'jgroups', 'org', 'jgroups', 'stack', 'range', 'based', 'retransmitter', 'range', 'task', 'range', 'task', 'seqno', 'interval', 'retransmit', 'command', 'address'], ['mnt', 'qualitas', 'qualitas', 'corpus', 'compile', 'jgroups', 'org', 'jgroups', 'stack', 'gossip', 'router', 'route', 'address', 'string', 'byte'], ['mnt', 'qualitas', 'qualitas', 'corpus', 'compile', 'jgroups', 'org', 'jgroups', 'demos', 'memcached', 'server', 'start', 'string', 'inet', 'address', 'int', 'int', 'int', 'long', 'long', 'boolean', 'boolean', 'int', 'long', 'int', 'long'], ['mnt', 'qualitas', 'qualitas', 'corpus', 'compile', 'jgroups', 'org', 'jgroups', 'demos', 'draw', 'draw', 'string', 'boolean', 'boolean', 'boolean', 'long', 'boolean', 'boolean', 'string'], ['mnt', 'qualitas', 'qualitas', 'corpus', 'compile', 'jgroups', 'org', 'jgroups', 'demos', 'repl', 'cache', 'demo', 'start', 'string', 'string', 'long', 'long', 'boolean', 'boolean', 'int', 'long', 'int', 'long'], ['mnt', 'qualitas', 'qualitas', 'corpus', 'compile', 'jgroups', 'org', 'jgroups', 'blocks', 'tcp', 'connection', 'map', 'tcp', 'connection', 'map', 'string', 'thread', 'factory', 'receiver', 'inet', 'address', 'inet', 'address', 'int', 'int', 'long', 'long'], ['mnt', 'qualitas', 'qualitas', 'corpus', 'compile', 'jgroups', 'org', 'jgroups', 'blocks', 'connection', 'table', 'connection', 'table', 'receiver', 'inet', 'address', 'inet', 'address', 'int', 'int', 'long', 'long'], ['mnt', 'qualitas', 'qualitas', 'corpus', 'compile', 'jgroups', 'org', 'jgroups', 'blocks', 'rpc', 'dispatcher', 'call', 'remote', 'methods', 'vector', 'address', 'string', 'object', 'class', 'int', 'long', 'boolean'], ['mnt', 'qualitas', 'qualitas', 'corpus', 'compile', 'jgroups', 'org', 'jgroups', 'blocks', 'rpc', 'dispatcher', 'call', 'remote', 'methods', 'vector', 'address', 'string', 'object', 'class', 'int', 'long', 'boolean', 'rsp', 'filter'], ['mnt', 'qualitas', 'qualitas', 'corpus', 'compile', 'jgroups', 'org', 'jgroups', 'blocks', 'rpc', 'dispatcher', 'call', 'remote', 'methods', 'vector', 'address', 'string', 'object', 'string', 'int', 'long', 'boolean'], ['mnt', 'qualitas', 'qualitas', 'corpus', 'compile', 'jgroups', 'org', 'jgroups', 'blocks', 'rpc', 'dispatcher', 'call', 'remote', 'methods', 'with', 'future', 'vector', 'address', 'method', 'call', 'int', 'long', 'boolean', 'boolean', 'rsp', 'filter'], ['mnt', 'qualitas', 'qualitas', 'corpus', 'compile', 'jgroups', 'org', 'jgroups', 'blocks', 'connection', 'table', 'nio', 'connection', 'table', 'ni', 'receiver', 'inet', 'address', 'inet', 'address', 'int', 'int', 'long', 'long'], ['mnt', 'qualitas', 'qualitas', 'corpus', 'compile', 'jgroups', 'org', 'jgroups', 'blocks', 'connection', 'table', 'nio', 'connection', 'table', 'ni', 'receiver', 'inet', 'address', 'inet', 'address', 'int', 'int', 'long', 'long', 'boolean'], ['mnt', 'qualitas', 'qualitas', 'corpus', 'compile', 'jgroups', 'org', 'jgroups', 'util', 'thread', 'manager', 'thread', 'pool', 'executor', 'thread', 'manager', 'thread', 'pool', 'executor', 'int', 'int', 'long', 'time', 'unit', 'blocking', 'queue', 'runnable', 'thread', 'factory', 'rejected', 'execution', 'handler'], ['mnt', 'qualitas', 'qualitas', 'corpus', 'compile', 'jgroups', 'org', 'jgroups', 'util', 'proxy', 'proxy', 'inet', 'address', 'int', 'inet', 'address', 'int', 'boolean', 'boolean', 'string'], ['mnt', 'qualitas', 'qualitas', 'corpus', 'compile', 'jmoney', 'net', 'sf', 'jmoney', 'gui', 'net', 'sf', 'jmoney', 'gui', 'entry', 'list', 'item', 'labels', 'action', 'performed', 'action', 'event'], ['mnt', 'qualitas', 'qualitas', 'corpus', 'compile', 'jmoney', 'net', 'sf', 'jmoney', 'gui', 'net', 'sf', 'jmoney', 'gui', 'date', 'combo', 'box', 'date', 'popup', 'mouse', 'released', 'mouse', 'event'], ['mnt', 'qualitas', 'qualitas', 'corpus', 'compile', 'jmoney', 'net', 'sf', 'jmoney', 'gui', 'account', 'entries', 'panel', 'update', 'date', 'date'], ['mnt', 'qualitas', 'qualitas', 'corpus', 'compile', 'jmoney', 'net', 'sf', 'jmoney', 'gui', 'editable', 'metal', 'theme', 'set', 'secondary', 'color', 'ui', 'resource'], ['mnt', 'qualitas', 'qualitas', 'corpus', 'compile', 'jmoney', 'net', 'sf', 'jmoney', 'gui', 'net', 'sf', 'jmoney', 'gui', 'main', 'frame', 'action', 'performed', 'action', 'event'], ['mnt', 'qualitas', 'qualitas', 'corpus', 'compile', 'jmoney', 'net', 'sf', 'jmoney', 'gui', 'net', 'sf', 'jmoney', 'gui', 'main', 'frame', 'menu', 'bar', 'action', 'performed', 'action', 'event'], ['mnt', 'qualitas', 'qualitas', 'corpus', 'compile', 'jmoney', 'net', 'sf', 'jmoney', 'gui', 'account', 'properties', 'panel', 'update', 'name'], ['mnt', 'qualitas', 'qualitas', 'corpus', 'compile', 'jmoney', 'net', 'sf', 'jmoney', 'gui', 'account', 'properties', 'panel', 'update', 'min', 'balance', 'parse', 'exception'], ['mnt', 'qualitas', 'qualitas', 'corpus', 'compile', 'jmoney', 'net', 'sf', 'jmoney', 'gui', 'about', 'dialog', 'show', 'dialog'], ['mnt', 'qualitas', 'qualitas', 'corpus', 'compile', 'jmoney', 'net', 'sf', 'jmoney', 'gui', 'account', 'balances', 'report', 'panel', 'account', 'balances', 'report', 'panel'], ['mnt', 'qualitas', 'qualitas', 'corpus', 'compile', 'jmoney', 'net', 'sf', 'jmoney', 'gui', 'account', 'balances', 'report', 'panel', 'item', 'get', 'currency', 'code'], ['mnt', 'qualitas', 'qualitas', 'corpus', 'compile', 'jmoney', 'net', 'sf', 'jmoney', 'model', 'session', 'get', 'new', 'account', 'java', 'lang', 'string'], ['mnt', 'qualitas', 'qualitas', 'corpus', 'compile', 'jmoney', 'net', 'sf', 'jmoney', 'model', 'account', 'compare', 'to', 'java', 'lang', 'object'], ['mnt', 'qualitas', 'qualitas', 'corpus', 'compile', 'jmoney', 'net', 'sf', 'jmoney', 'user', 'properties', 'get', 'default', 'currency'], ['mnt', 'qualitas', 'qualitas', 'corpus', 'compile', 'jmoney', 'net', 'sf', 'jmoney', 'entry', 'comparator', 'compare', 'entries', 'entry', 'entry'], ['mnt', 'qualitas', 'qualitas', 'corpus', 'compile', 'jmoney', 'net', 'sf', 'jmoney', 'gui', 'status', 'combo', 'box', 'renderer', 'get', 'list', 'cell', 'renderer', 'component', 'j', 'list', 'object', 'int', 'boolean', 'boolean'], ['mnt', 'qualitas', 'qualitas', 'corpus', 'compile', 'jmoney', 'net', 'sf', 'jmoney', 'gui', 'account', 'chooser', 'show', 'dialog', 'vector', 'string', 'boolean'], ['mnt', 'qualitas', 'qualitas', 'corpus', 'compile', 'jmoney', 'net', 'sf', 'jmoney', 'gui', 'category', 'combo', 'box', 'renderer', 'get', 'list', 'cell', 'renderer', 'component', 'j', 'list', 'object', 'int', 'boolean', 'boolean'], ['mnt', 'qualitas', 'qualitas', 'corpus', 'compile', 'jmoney', 'net', 'sf', 'jmoney', 'gui', 'income', 'expense', 'report', 'panel', 'add', 'entries', 'vector', 'hash', 'map', 'string', 'vector'], ['mnt', 'qualitas', 'qualitas', 'corpus', 'compile', 'jmoney', 'net', 'sf', 'jmoney', 'gui', 'income', 'expense', 'report', 'panel', 'item', 'item', 'category', 'string', 'long'], ['mnt', 'qualitas', 'qualitas', 'corpus', 'compile', 'jmoney', 'net', 'sf', 'jmoney', 'gui', 'entry', 'filter', 'panel', 'filter', 'entry', 'entry', 'account', 'very', 'simple', 'date', 'format'], ['mnt', 'qualitas', 'qualitas', 'corpus', 'compile', 'jmoney', 'net', 'sf', 'jmoney', 'gui', 'transfer', 'dialog', 'show', 'dialog', 'account', 'account', 'long', 'long'], ['mnt', 'qualitas', 'qualitas', 'corpus', 'compile', 'jmoney', 'net', 'sf', 'jmoney', 'gui', 'splitted', 'entry', 'dialog', 'show', 'dialog', 'splitted', 'entry', 'session', 'account'], ['mnt', 'qualitas', 'qualitas', 'corpus', 'compile', 'jmoney', 'net', 'sf', 'jmoney', 'gui', 'splitted', 'entry', 'dialog', 'entry', 'table', 'model', 'set', 'value', 'at', 'object', 'int', 'int'], ['mnt', 'qualitas', 'qualitas', 'corpus', 'compile', 'jmoney', 'net', 'sf', 'jmoney', 'gui', 'account', 'entries', 'panel', 'entry', 'cell', 'renderer', 'get', 'list', 'cell', 'renderer', 'component', 'j', 'list', 'object', 'int', 'boolean', 'boolean'], ['mnt', 'qualitas', 'qualitas', 'corpus', 'compile', 'jmoney', 'net', 'sf', 'jmoney', 'entry', 'filter', 'filter', 'entry', 'entry', 'account', 'very', 'simple', 'date', 'format', 'int'], ['mnt', 'qualitas', 'qualitas', 'corpus', 'compile', 'jmoney', 'net', 'sf', 'jmoney', 'entry', 'filter', 'check', 'entry', 'entry', 'account', 'very', 'simple', 'date', 'format'], ['mnt', 'qualitas', 'qualitas', 'corpus', 'compile', 'jmoney', 'net', 'sf', 'jmoney', 'sorted', 'tree', 'model', 'insert', 'node', 'into', 'mutable', 'tree', 'node', 'mutable', 'tree', 'node', 'int'], ['mnt', 'qualitas', 'qualitas', 'corpus', 'compile', 'jmoney', 'net', 'sf', 'jmoney', 'io', 'qif', 'import', 'accountimport', 'account', 'session', 'account', 'buffered', 'reader'], ['mnt', 'qualitas', 'qualitas', 'corpus', 'compile', 'jmoney', 'net', 'sf', 'jmoney', 'io', 'qif', 'extract', 'splitted', 'category', 'session', 'accounts', 'account', 'entry', 'string'], ['mnt', 'qualitas', 'qualitas', 'corpus', 'compile', 'jmoney', 'net', 'sf', 'jmoney', 'io', 'qif', 'extract', 'splitted', 'amount', 'entry', 'string', 'short'], ['mnt', 'qualitas', 'qualitas', 'corpus', 'compile', 'jmoney', 'net', 'sf', 'jmoney', 'io', 'qif', 'extract', 'amount', 'entry', 'string', 'short'], ['mnt', 'qualitas', 'qualitas', 'corpus', 'compile', 'jmoney', 'net', 'sf', 'jmoney', 'io', 'qif', 'extract', 'category', 'session', 'accounts', 'account', 'entry', 'string'], ['mnt', 'qualitas', 'qualitas', 'corpus', 'compile', 'jmoney', 'net', 'sf', 'jmoney', 'io', 'qif', 'export', 'account', 'session', 'account', 'file'], ['mnt', 'qualitas', 'qualitas', 'corpus', 'compile', 'jmoney', 'net', 'sf', 'jmoney', 'io', 'qif', 'get', 'subcategory', 'string', 'simple', 'category', 'session'], ['mnt', 'qualitas', 'qualitas', 'corpus', 'compile', 'jmoney', 'net', 'sf', 'jmoney', 'io', 'file', 'format', 'export', 'account', 'session', 'account', 'file'], ['mnt', 'qualitas', 'qualitas', 'corpus', 'compile', 'jmoney', 'net', 'sf', 'jmoney', 'gui', 'category', 'panel', 'category', 'tree', 'cell', 'renderer', 'get', 'tree', 'cell', 'renderer', 'component', 'j', 'tree', 'object', 'boolean', 'boolean', 'boolean', 'int', 'boolean'], ['mnt', 'qualitas', 'qualitas', 'corpus', 'compile', 'jmoney', 'net', 'sf', 'jmoney', 'gui', 'navigation', 'tree', 'cell', 'renderer', 'get', 'tree', 'cell', 'renderer', 'component', 'j', 'tree', 'object', 'boolean', 'boolean', 'boolean', 'int', 'boolean'], ['mnt', 'qualitas', 'qualitas', 'corpus', 'compile', 'poi', 'org', 'apache', 'poi', 'ss', 'usermodel', 'footer', 'get', 'center'], ['mnt', 'qualitas', 'qualitas', 'corpus', 'compile', 'poi', 'org', 'apache', 'poi', 'hssf', 'usermodel', 'dv', 'constraint', 'set', 'operator', 'int'], ['mnt', 'qualitas', 'qualitas', 'corpus', 'compile', 'poi', 'org', 'apache', 'poi', 'hssf', 'usermodel', 'escher', 'graphics', 'find', 'smallest', 'int'], ['mnt', 'qualitas', 'qualitas', 'corpus', 'compile', 'poi', 'org', 'apache', 'poi', 'hssf', 'usermodel', 'hssf', 'workbook', 'create', 'font'], ['mnt', 'qualitas', 'qualitas', 'corpus', 'compile', 'poi', 'org', 'apache', 'poi', 'hssf', 'record', 'text', 'object', 'record', 'get', 'horizontal', 'text', 'alignment'], ['mnt', 'qualitas', 'qualitas', 'corpus', 'compile', 'poi', 'org', 'apache', 'poi', 'hssf', 'record', 'format', 'record', 'clone'], ['mnt', 'qualitas', 'qualitas', 'corpus', 'compile', 'poi', 'org', 'apache', 'poi', 'hssf', 'record', 'chart', 'chart', 'title', 'format', 'record', 'ct', 'format', 'set', 'offset', 'int'], ['mnt', 'qualitas', 'qualitas', 'corpus', 'compile', 'poi', 'org', 'apache', 'poi', 'hssf', 'record', 'chart', 'legend', 'record', 'get', 'sid'], ['mnt', 'qualitas', 'qualitas', 'corpus', 'compile', 'poi', 'org', 'apache', 'poi', 'ddf', 'escher', 'container', 'record', 'display', 'print', 'writer', 'int'], ['mnt', 'qualitas', 'qualitas', 'corpus', 'compile', 'poi', 'org', 'apache', 'poi', 'hssf', 'model', 'workbook', 'get', 'ex', 'format', 'at', 'int'], ['mnt', 'qualitas', 'qualitas', 'corpus', 'compile', 'poi', 'org', 'apache', 'poi', 'ss', 'formula', 'formula', 'parser', 'simple', 'range', 'part', 'get', 'cell', 'reference'], ['mnt', 'qualitas', 'qualitas', 'corpus', 'compile', 'poi', 'org', 'apache', 'poi', 'hpsf', 'special', 'property', 'set', 'set', 'os', 'version', 'int'], ['mnt', 'qualitas', 'qualitas', 'corpus', 'compile', 'poi', 'org', 'apache', 'poi', 'hpsf', 'document', 'summary', 'information', 'get', 'par', 'count'], ['mnt', 'qualitas', 'qualitas', 'corpus', 'compile', 'poi', 'org', 'apache', 'poi', 'hpsf', 'summary', 'information', 'get', 'keywords'], ['mnt', 'qualitas', 'qualitas', 'corpus', 'compile', 'poi', 'org', 'apache', 'poi', 'hssf', 'util', 'hssf', 'color', 'ligh', 'turquoise', 'get', 'index'], ['mnt', 'qualitas', 'qualitas', 'corpus', 'compile', 'poi', 'org', 'apache', 'poi', 'util', 'null', 'logger', 'log', 'int', 'object', 'object', 'object'], ['mnt', 'qualitas', 'qualitas', 'corpus', 'compile', 'poi', 'org', 'apache', 'poi', 'util', 'little', 'endian', 'put', 'byte', 'byte', 'int', 'int'], ['mnt', 'qualitas', 'qualitas', 'corpus', 'compile', 'poi', 'org', 'apache', 'poi', 'hssf', 'record', 'formula', 'functions', 'hyperlink', 'evaluate', 'int', 'int', 'value', 'eval'], ['mnt', 'qualitas', 'qualitas', 'corpus', 'compile', 'poi', 'org', 'apache', 'poi', 'hssf', 'record', 'formula', 'functions', 'replace', 'evaluate', 'int', 'int', 'value', 'eval', 'value', 'eval', 'value', 'eval', 'value', 'eval'], ['mnt', 'qualitas', 'qualitas', 'corpus', 'compile', 'poi', 'org', 'apache', 'poi', 'hssf', 'record', 'formula', 'functions', 'lookup', 'utils', 'lookup', 'index', 'of', 'value', 'value', 'eval', 'value', 'vector', 'boolean'], ['mnt', 'qualitas', 'qualitas', 'corpus', 'compile', 'poi', 'org', 'apache', 'poi', 'hssf', 'record', 'formula', 'functions', 'text', 'function', 'evaluate', 'value', 'eval', 'int', 'int'], ['mnt', 'qualitas', 'qualitas', 'corpus', 'compile', 'poi', 'org', 'apache', 'poi', 'hssf', 'record', 'formula', 'functions', 'text', 'function', 'search', 'find', 'evaluate', 'int', 'int', 'value', 'eval', 'value', 'eval'], ['mnt', 'qualitas', 'qualitas', 'corpus', 'compile', 'poi', 'org', 'apache', 'poi', 'hssf', 'record', 'formula', 'functions', 'sumproduct', 'evaluate', 'value', 'eval', 'int', 'int'], ['mnt', 'qualitas', 'qualitas', 'corpus', 'compile', 'poi', 'org', 'apache', 'poi', 'hssf', 'record', 'formula', 'functions', 'substitute', 'replace', 'one', 'occurrence', 'string', 'string', 'string', 'int'], ['mnt', 'qualitas', 'qualitas', 'corpus', 'compile', 'poi', 'org', 'apache', 'poi', 'hssf', 'record', 'formula', 'functions', 'days', 'evaluate', 'double', 'double', 'boolean'], ['mnt', 'qualitas', 'qualitas', 'corpus', 'compile', 'poi', 'org', 'apache', 'poi', 'hssf', 'usermodel', 'escher', 'graphics', 'draw', 'rect', 'int', 'int', 'int', 'int'], ['mnt', 'qualitas', 'qualitas', 'corpus', 'compile', 'poi', 'org', 'apache', 'poi', 'hssf', 'usermodel', 'escher', 'graphics', 'draw', 'string', 'attributed', 'character', 'iterator', 'int', 'int'], ['mnt', 'qualitas', 'qualitas', 'corpus', 'compile', 'poi', 'org', 'apache', 'poi', 'hssf', 'record', 'escher', 'aggregate', 'convert', 'group', 'hssf', 'shape', 'group', 'escher', 'container', 'record', 'map'], ['mnt', 'qualitas', 'qualitas', 'corpus', 'compile', 'poi', 'org', 'apache', 'poi', 'hssf', 'record', 'formula', 'formula', 'shifter', 'formula', 'shifter', 'int', 'int', 'int', 'int'], ['mnt', 'qualitas', 'qualitas', 'corpus', 'compile', 'poi', 'org', 'apache', 'poi', 'ddf', 'escher', 'opt', 'record', 'fill', 'fields', 'byte', 'int', 'escher', 'record', 'factory'], ['mnt', 'qualitas', 'qualitas', 'corpus', 'compile', 'poi', 'org', 'apache', 'poi', 'ddf', 'escher', 'spgr', 'record', 'serialize', 'int', 'byte', 'escher', 'serialization', 'listener'], ['mnt', 'qualitas', 'qualitas', 'corpus', 'compile', 'poi', 'org', 'apache', 'poi', 'ddf', 'escher', 'metafile', 'blip', 'serialize', 'int', 'byte', 'escher', 'serialization', 'listener'], ['mnt', 'qualitas', 'qualitas', 'corpus', 'compile', 'poi', 'org', 'apache', 'poi', 'ddf', 'escher', 'child', 'anchor', 'record', 'fill', 'fields', 'byte', 'int', 'escher', 'record', 'factory'], ['mnt', 'qualitas', 'qualitas', 'corpus', 'compile', 'poi', 'org', 'apache', 'poi', 'ss', 'formula', 'formula', 'used', 'blank', 'cell', 'set', 'contains', 'cell', 'book', 'sheet', 'key', 'int', 'int'], ['mnt', 'qualitas', 'qualitas', 'corpus', 'compile', 'poi', 'org', 'apache', 'poi', 'ss', 'formula', 'i', 'evaluation', 'listener', 'on', 'read', 'plain', 'value', 'int', 'int', 'int', 'i', 'cache', 'entry'], ['mnt', 'qualitas', 'qualitas', 'corpus', 'compile', 'poi', 'org', 'apache', 'poi', 'ss', 'util', 'cell', 'range', 'address', 'cell', 'range', 'address', 'int', 'int', 'int', 'int'], ['mnt', 'qualitas', 'qualitas', 'corpus', 'compile', 'poi', 'org', 'apache', 'poi', 'util', 'null', 'logger', 'log', 'int', 'object', 'object', 'object', 'object', 'object', 'object', 'object', 'object'], ['mnt', 'qualitas', 'qualitas', 'corpus', 'compile', 'poi', 'org', 'apache', 'poi', 'util', 'null', 'logger', 'log', 'int', 'object', 'object', 'object', 'object', 'object', 'object', 'throwable'], ['mnt', 'qualitas', 'qualitas', 'corpus', 'compile', 'poi', 'org', 'apache', 'poi', 'util', 'null', 'logger', 'log', 'int', 'object', 'object', 'object', 'object', 'object', 'object', 'object', 'object', 'throwable'], ['mnt', 'qualitas', 'qualitas', 'corpus', 'compile', 'poi', 'org', 'apache', 'poi', 'util', 'poi', 'logger', 'log', 'int', 'object', 'object', 'object', 'object', 'object', 'object', 'object', 'throwable'], ['mnt', 'qualitas', 'qualitas', 'corpus', 'compile', 'poi', 'org', 'apache', 'poi', 'hssf', 'record', 'formula', 'functions', 'finance', 'function', 'evaluate', 'int', 'int', 'value', 'eval', 'value', 'eval', 'value', 'eval', 'value', 'eval', 'value', 'eval'], ['mnt', 'qualitas', 'qualitas', 'corpus', 'compile', 'poi', 'org', 'apache', 'poi', 'hssf', 'usermodel', 'escher', 'graphics', 'draw', 'image', 'image', 'int', 'int', 'int', 'int', 'int', 'int', 'int', 'int', 'color', 'image', 'observer'], ['mnt', 'qualitas', 'qualitas', 'corpus', 'compile', 'poi', 'org', 'apache', 'poi', 'hssf', 'usermodel', 'escher', 'graphics', 'draw', 'image', 'image', 'int', 'int', 'int', 'int', 'int', 'int', 'int', 'int', 'image', 'observer'], ['mnt', 'qualitas', 'qualitas', 'corpus', 'compile', 'poi', 'org', 'apache', 'poi', 'hssf', 'usermodel', 'escher', 'graphics', 'draw', 'image', 'image', 'int', 'int', 'int', 'int', 'color', 'image', 'observer'], ['mnt', 'qualitas', 'qualitas', 'corpus', 'compile', 'poi', 'org', 'apache', 'poi', 'hssf', 'usermodel', 'escher', 'graphics', 'd', 'draw', 'image', 'image', 'int', 'int', 'int', 'int', 'int', 'int', 'int', 'int', 'color', 'image', 'observer'], ['mnt', 'qualitas', 'qualitas', 'corpus', 'compile', 'poi', 'org', 'apache', 'poi', 'hssf', 'usermodel', 'escher', 'graphics', 'd', 'draw', 'image', 'image', 'int', 'int', 'int', 'int', 'color', 'image', 'observer'], ['mnt', 'qualitas', 'qualitas', 'corpus', 'compile', 'poi', 'org', 'apache', 'poi', 'hssf', 'usermodel', 'hssf', 'client', 'anchor', 'set', 'anchor', 'short', 'int', 'int', 'int', 'short', 'int', 'int', 'int'], ['mnt', 'qualitas', 'qualitas', 'corpus', 'compile', 'poi', 'org', 'apache', 'poi', 'hssf', 'record', 'dv', 'record', 'dv', 'record', 'int', 'int', 'int', 'boolean', 'boolean', 'boolean', 'boolean', 'string', 'string', 'boolean', 'string', 'string', 'ptg', 'ptg', 'cell', 'range', 'address', 'list'], ['mnt', 'qualitas', 'qualitas', 'corpus', 'compile', 'trove', 'gnu', 'trove', 't', 'hash', 'iterator', 't', 'hash', 'iterator', 't', 'object', 'hash'], ['mnt', 'qualitas', 'qualitas', 'corpus', 'compile', 'trove', 'gnu', 'trove', 'serialization', 'procedure', 'execute', 'long', 'double'], ['mnt', 'qualitas', 'qualitas', 'corpus', 'compile', 'trove', 'gnu', 'trove', 'serialization', 'procedure', 'execute', 'float', 'double'], ['mnt', 'qualitas', 'qualitas', 'corpus', 'compile', 'trove', 'gnu', 'trove', 't', 'linked', 'list', 'iterator', 'impl', 'remove'], ['mnt', 'qualitas', 'qualitas', 'corpus', 'compile', 'trove', 'gnu', 'trove', 't', 'hash', 'map', 'hash', 'code'], ['mnt', 'qualitas', 'qualitas', 'corpus', 'compile', 'trove', 'gnu', 'trove', 't', 'hash', 'set', 't', 'hash', 'set', 't', 'object', 'hashing', 'strategy'], ['mnt', 'qualitas', 'qualitas', 'corpus', 'compile', 'trove', 'gnu', 'trove', 't', 'hash', 'set', 'clear'], ['mnt', 'qualitas', 'qualitas', 'corpus', 'compile', 'trove', 'gnu', 'trove', 't', 'object', 'hash', 'for', 'each', 't', 'object', 'procedure'], ['mnt', 'qualitas', 'qualitas', 'corpus', 'compile', 'trove', 'gnu', 'trove', 't', 'object', 'hash', 'compute', 'hash', 'code', 'object'], ['mnt', 'qualitas', 'qualitas', 'corpus', 'compile', 'trove', 'gnu', 'trove', 't', 'hash', 'capacity'], ['mnt', 'qualitas', 'qualitas', 'corpus', 'compile', 'trove', 'gnu', 'trove', 't', 'hash', 'rehash', 'int'], ['mnt', 'qualitas', 'qualitas', 'corpus', 'compile', 'trove', 'gnu', 'trove', 'benchmark', 'gnu', 'trove', 'benchmark', 'main', 'theirs'], ['mnt', 'qualitas', 'qualitas', 'corpus', 'compile', 'trove', 'gnu', 'trove', 'benchmark', 'gnu', 'trove', 'benchmark', 'main', 'theirs'], ['mnt', 'qualitas', 'qualitas', 'corpus', 'compile', 'trove', 'gnu', 'trove', 'generate', 'generate', 'generate', 'p', 'map', 'decorators', 'file', 'file'], ['mnt', 'qualitas', 'qualitas', 'corpus', 'compile', 'trove', 'gnu', 'trove', 't', 'hash', 'map', 't', 'hash', 'map', 'int', 'float', 't', 'object', 'hashing', 'strategy'], ['mnt', 'qualitas', 'qualitas', 'corpus', 'compile', 'trove', 'gnu', 'trove', 't', 'hash', 'map', 'do', 'put', 'object', 'object', 'int'], ['mnt', 'qualitas', 'qualitas', 'corpus', 'compile', 'trove', 'gnu', 'trove', 't', 'hash', 'set', 't', 'hash', 'set', 'int', 'float', 't', 'object', 'hashing', 'strategy'], ['mnt', 'qualitas', 'qualitas', 'corpus', 'compile', 'trove', 'gnu', 'trove', 't', 'object', 'hash', 't', 'object', 'hash', 'int', 'float', 't', 'object', 'hashing', 'strategy'], ['mnt', 'qualitas', 'qualitas', 'corpus', 'compile', 'trove', 'gnu', 'trove', 't', 'hash', 'map', 'entry', 'entry', 'object', 'object', 'int'], ['mnt', 'qualitas', 'qualitas', 'corpus', 'compile', 'trove', 'gnu', 'trove', 'benchmark', 'memory', 'usage', 'memory', 'comparator', 'memory', 'comparator', 'creator', 'creator', 'string'], ['mnt', 'qualitas', 'qualitas', 'corpus', 'compile', 'trove', 'gnu', 'trove', 'benchmark', 'compaction', 'benchmark', 'run', 'test', 'int', 'integer', 't', 'int', 'object', 'hash', 'map', 'integer', 'random'], ['mnt', 'qualitas', 'qualitas', 'corpus', 'compile', 'trove', 'gnu', 'trove', 'generate', 'generate', 'generate', 'string', 'string', 'string', 'file', 'file'], ['mnt', 'qualitas', 'qualitas', 'corpus', 'compile', 'trove', 'gnu', 'trove', 'generate', 'generate', 'generate', 'string', 'string', 'string', 'file', 'file'], ['mnt', 'qualitas', 'qualitas', 'corpus', 'compile', 'trove', 'gnu', 'trove', 'generate', 'generate', 'write', 'file', 'string', 'string', 'file'], ['mnt', 'qualitas', 'qualitas', 'corpus', 'compile', 'xalan', 'org', 'apache', 'xalan', 'templates', 'elem', 'literal', 'result', 'get', 'is', 'literal', 'result', 'as', 'stylesheet'], ['mnt', 'qualitas', 'qualitas', 'corpus', 'compile', 'xalan', 'org', 'apache', 'xalan', 'xsltc', 'compiler', 'mode', 'process', 'patterns', 'hashtable'], ['mnt', 'qualitas', 'qualitas', 'corpus', 'compile', 'xalan', 'org', 'apache', 'xalan', 'xsltc', 'compiler', 'cast', 'call', 'type', 'check', 'symbol', 'table'], ['mnt', 'qualitas', 'qualitas', 'corpus', 'compile', 'xalan', 'org', 'apache', 'xalan', 'xsltc', 'compiler', 'parser', 'end', 'document'], ['mnt', 'qualitas', 'qualitas', 'corpus', 'compile', 'xalan', 'org', 'apache', 'xalan', 'xsltc', 'compiler', 'util', 'security', 'support', 'get', 'file', 'input', 'stream', 'file'], ['mnt', 'qualitas', 'qualitas', 'corpus', 'compile', 'xalan', 'org', 'apache', 'xpath', 'axes', 'context', 'node', 'list', 'size'], ['mnt', 'qualitas', 'qualitas', 'corpus', 'compile', 'xalan', 'org', 'apache', 'xml', 'utils', 'un', 'impl', 'node', 'get', 'implementation'], ['mnt', 'qualitas', 'qualitas', 'corpus', 'compile', 'xalan', 'org', 'apache', 'xml', 'utils', 'suballocated', 'byte', 'vector', 'suballocated', 'byte', 'vector', 'int'], ['mnt', 'qualitas', 'qualitas', 'corpus', 'compile', 'xalan', 'org', 'apache', 'xml', 'utils', 'sax', 'source', 'locator', 'sax', 'source', 'locator', 'locator'], ['mnt', 'qualitas', 'qualitas', 'corpus', 'compile', 'xalan', 'org', 'apache', 'xalan', 'transformer', 'transformer', 'impl', 'get', 'parameter', 'string'], ['mnt', 'qualitas', 'qualitas', 'corpus', 'compile', 'xalan', 'org', 'apache', 'xpath', 'jaxp', 'x', 'path', 'expression', 'impl', 'eval', 'object', 'q', 'name'], ['mnt', 'qualitas', 'qualitas', 'corpus', 'compile', 'xalan', 'org', 'apache', 'xalan', 'processor', 'xslt', 'attribute', 'def', 'get', 'enum', 'names'], ['mnt', 'qualitas', 'qualitas', 'corpus', 'compile', 'xalan', 'org', 'apache', 'xalan', 'processor', 'xslt', 'element', 'def', 'get', 'multi', 'allowed'], ['mnt', 'qualitas', 'qualitas', 'corpus', 'compile', 'xalan', 'org', 'apache', 'xml', 'dtm', 'ref', 'dom', 'dtm', 'do', 'dt', 'mdefault', 'namespace', 'declaration', 'node', 'set', 'value', 'string'], ['mnt', 'qualitas', 'qualitas', 'corpus', 'compile', 'xalan', 'org', 'apache', 'xalan', 'templates', 'elem', 'literal', 'result', 'attribute', 'set', 'user', 'data', 'string', 'object', 'user', 'data', 'handler'], ['mnt', 'qualitas', 'qualitas', 'corpus', 'compile', 'xalan', 'org', 'apache', 'xalan', 'xsltc', 'trax', 'transformer', 'factory', 'impl', 'pi', 'param', 'wrapper', 'pi', 'param', 'wrapper', 'string', 'string', 'string'], ['mnt', 'qualitas', 'qualitas', 'corpus', 'compile', 'xalan', 'org', 'apache', 'xalan', 'xsltc', 'runtime', 'basis', 'library', 'compare', 'int', 'dtm', 'axis', 'iterator', 'int', 'do'], ['mnt', 'qualitas', 'qualitas', 'corpus', 'compile', 'xalan', 'org', 'apache', 'xalan', 'xsltc', 'dom', 'load', 'document', 'document', 'string', 'string', 'abstract', 'translet', 'do', 'boolean'], ['mnt', 'qualitas', 'qualitas', 'corpus', 'compile', 'xalan', 'org', 'apache', 'xalan', 'xsltc', 'dom', 'adaptive', 'result', 'tree', 'impl', 'adaptive', 'result', 'tree', 'impl', 'xsltcdtm', 'manager', 'int', 'dtmws', 'filter', 'int', 'boolean'], ['mnt', 'qualitas', 'qualitas', 'corpus', 'compile', 'xalan', 'org', 'apache', 'xalan', 'xsltc', 'dom', 'sort', 'settings', 'sort', 'settings', 'abstract', 'translet', 'int', 'int', 'locale', 'collator', 'string'], ['mnt', 'qualitas', 'qualitas', 'corpus', 'compile', 'xalan', 'org', 'apache', 'xml', 'serializer', 'elem', 'context', 'push', 'string', 'string', 'string'], ['mnt', 'qualitas', 'qualitas', 'corpus', 'compile', 'xalan', 'org', 'apache', 'xml', 'serializer', 'empty', 'serializer', 'start', 'prefix', 'mapping', 'string', 'string', 'boolean'], ['mnt', 'qualitas', 'qualitas', 'corpus', 'compile', 'xalan', 'org', 'apache', 'xml', 'serializer', 'empty', 'serializer', 'unparsed', 'entity', 'decl', 'string', 'string', 'string', 'string'], ['mnt', 'qualitas', 'qualitas', 'corpus', 'compile', 'xalan', 'org', 'apache', 'xml', 'serializer', 'to', 'text', 'stream', 'add', 'attribute', 'string', 'string', 'string', 'string', 'string', 'boolean'], ['mnt', 'qualitas', 'qualitas', 'corpus', 'compile', 'xalan', 'org', 'apache', 'xml', 'serializer', 'to', 'sax', 'handler', 'start', 'element', 'string', 'string', 'string'], ['mnt', 'qualitas', 'qualitas', 'corpus', 'compile', 'xalan', 'org', 'apache', 'xalan', 'xsltc', 'compiler', 'util', 'node', 'set', 'type', 'translate', 'to', 'class', 'generator', 'method', 'generator', 'real', 'type'], ['mnt', 'qualitas', 'qualitas', 'corpus', 'compile', 'xalan', 'org', 'apache', 'xpath', 'axes', 'walking', 'iterator', 'sorted', 'walking', 'iterator', 'sorted', 'compiler', 'int', 'int', 'boolean'], ['mnt', 'qualitas', 'qualitas', 'corpus', 'compile', 'xalan', 'org', 'apache', 'xpath', 'axes', 'walker', 'factory', 'load', 'one', 'walker', 'walking', 'iterator', 'compiler', 'int'], ['mnt', 'qualitas', 'qualitas', 'corpus', 'compile', 'xalan', 'org', 'apache', 'xpath', 'axes', 'walker', 'factory', 'load', 'walkers', 'walking', 'iterator', 'compiler', 'int', 'int'], ['mnt', 'qualitas', 'qualitas', 'corpus', 'compile', 'xalan', 'org', 'apache', 'xml', 'utils', 'xml', 'character', 'recognizer', 'is', 'white', 'space', 'char', 'int', 'int'], ['mnt', 'qualitas', 'qualitas', 'corpus', 'compile', 'xalan', 'org', 'apache', 'xalan', 'processor', 'stylesheet', 'handler', 'ignorable', 'whitespace', 'char', 'int', 'int'], ['mnt', 'qualitas', 'qualitas', 'corpus', 'compile', 'xalan', 'org', 'apache', 'xalan', 'processor', 'processor', 'global', 'param', 'decl', 'end', 'element', 'stylesheet', 'handler', 'string', 'string', 'string'], ['mnt', 'qualitas', 'qualitas', 'corpus', 'compile', 'xalan', 'org', 'apache', 'xml', 'dtm', 'object', 'factory', 'create', 'object', 'string', 'string', 'string'], ['mnt', 'qualitas', 'qualitas', 'corpus', 'compile', 'xalan', 'org', 'apache', 'xml', 'dtm', 'object', 'factory', 'look', 'up', 'factory', 'class', 'name', 'string', 'string', 'string'], ['mnt', 'qualitas', 'qualitas', 'corpus', 'compile', 'xalan', 'org', 'apache', 'xml', 'serializer', 'utils', 'uri', 'ur', 'string', 'string', 'string', 'int', 'string', 'string', 'string'], ['mnt', 'qualitas', 'qualitas', 'corpus', 'compile', 'xalan', 'org', 'apache', 'xml', 'dtm', 'ref', 'dtm', 'default', 'base', 'traversers', 'dtm', 'default', 'base', 'traversers', 'dtm', 'manager', 'source', 'int', 'dtmws', 'filter', 'xml', 'string', 'factory', 'boolean', 'int', 'boolean', 'boolean'], ['mnt', 'qualitas', 'qualitas', 'corpus', 'compile', 'xalan', 'org', 'apache', 'xalan', 'xsltc', 'dom', 'node', 'sort', 'record', 'factory', 'node', 'sort', 'record', 'factory', 'do', 'string', 'translet', 'string', 'string', 'string', 'string'], ['mnt', 'qualitas', 'qualitas', 'corpus', 'compile', 'xalan', 'org', 'apache', 'xalan', 'xsltc', 'dom', 'sax', 'impl', 'sax', 'impl', 'xsltcdtm', 'manager', 'source', 'int', 'dtmws', 'filter', 'xml', 'string', 'factory', 'boolean', 'boolean'], ['mnt', 'qualitas', 'qualitas', 'corpus', 'compile', 'xalan', 'org', 'apache', 'xml', 'serializer', 'to', 'stream', 'accum', 'default', 'entity', 'writer', 'char', 'int', 'char', 'int', 'boolean', 'boolean'], ['mnt', 'qualitas', 'qualitas', 'corpus', 'compile', 'xalan', 'org', 'apache', 'xalan', 'xsltc', 'compiler', 'util', 'test', 'generator', 'test', 'generator', 'int', 'type', 'type', 'string', 'string', 'string', 'instruction', 'list', 'constant', 'pool', 'gen'], ['mnt', 'qualitas', 'qualitas', 'corpus', 'compile', 'xalan', 'org', 'apache', 'xalan', 'xsltc', 'compiler', 'util', 'match', 'generator', 'match', 'generator', 'int', 'type', 'type', 'string', 'string', 'string', 'instruction', 'list', 'constant', 'pool', 'gen'], ['mnt', 'qualitas', 'qualitas', 'corpus', 'compile', 'xalan', 'org', 'apache', 'xalan', 'transformer', 'node', 'sort', 'key', 'node', 'sort', 'key', 'transformer', 'impl', 'x', 'path', 'boolean', 'boolean', 'string', 'boolean', 'prefix', 'resolver'], ['mnt', 'qualitas', 'qualitas', 'corpus', 'compile', 'xalan', 'org', 'apache', 'xalan', 'processor', 'xslt', 'attribute', 'def', 'xslt', 'attribute', 'def', 'string', 'string', 'boolean', 'boolean', 'boolean', 'int', 'string', 'int', 'string', 'int', 'string', 'int', 'string', 'int'], ['mnt', 'qualitas', 'qualitas', 'corpus', 'compile', 'xalan', 'org', 'apache', 'xalan', 'processor', 'xslt', 'element', 'def', 'xslt', 'element', 'def', 'xslt', 'schema', 'string', 'string', 'string', 'xslt', 'element', 'def', 'xslt', 'attribute', 'def', 'xslt', 'element', 'processor', 'class'], ['mnt', 'qualitas', 'qualitas', 'corpus', 'compile', 'xalan', 'org', 'apache', 'xalan', 'processor', 'xslt', 'element', 'def', 'xslt', 'element', 'def', 'xslt', 'schema', 'string', 'string', 'string', 'xslt', 'element', 'def', 'xslt', 'attribute', 'def', 'xslt', 'element', 'processor', 'class', 'boolean', 'int', 'boolean'], ['mnt', 'qualitas', 'qualitas', 'corpus', 'compile', 'xalan', 'org', 'apache', 'xalan', 'processor', 'xslt', 'element', 'def', 'build', 'string', 'string', 'string', 'xslt', 'element', 'def', 'xslt', 'attribute', 'def', 'xslt', 'element', 'processor', 'class'], ['mnt', 'qualitas', 'qualitas', 'corpus', 'compile', 'freemind', 'freemind', 'modes', 'mindmapmode', 'actions', 'xml', 'abstract', 'xml', 'action', 'action', 'performed', 'action', 'event'], ['mnt', 'qualitas', 'qualitas', 'corpus', 'compile', 'freemind', 'freemind', 'modes', 'mindmapmode', 'encrypted', 'mind', 'map', 'node', 'children', 'unfolded'], ['mnt', 'qualitas', 'qualitas', 'corpus', 'compile', 'freemind', 'freemind', 'modes', 'mindmapmode', 'freemind', 'modes', 'mindmapmode', 'mind', 'map', 'controller', 'apply', 'mind', 'map', 'map', 'model', 'mind', 'map', 'node', 'model'], ['mnt', 'qualitas', 'qualitas', 'corpus', 'compile', 'freemind', 'freemind', 'view', 'mindmapview', 'attributeview', 'freemind', 'view', 'mindmapview', 'attributeview', 'attribute', 'view', 'run'], ['mnt', 'qualitas', 'qualitas', 'corpus', 'compile', 'freemind', 'freemind', 'modes', 'mindmapmode', 'listeners', 'mind', 'map', 'node', 'motion', 'listener', 'stop', 'drag'], ['mnt', 'qualitas', 'qualitas', 'corpus', 'compile', 'freemind', 'freemind', 'controller', 'filter', 'condition', 'disjunct', 'conditions', 'disjunct', 'conditions', 'object'], ['mnt', 'qualitas', 'qualitas', 'corpus', 'compile', 'freemind', 'freemind', 'modes', 'node', 'adapter', 'get', 'tool', 'tip'], ['mnt', 'qualitas', 'qualitas', 'corpus', 'compile', 'freemind', 'freemind', 'modes', 'link', 'registry', 'adapter', 'i', 'registered', 'adapter', 'i', 'registered', 'adapter', 'mind', 'map', 'node', 'string'], ['mnt', 'qualitas', 'qualitas', 'corpus', 'compile', 'freemind', 'freemind', 'modes', 'mode', 'controller', 'refresh', 'map'], ['mnt', 'qualitas', 'qualitas', 'corpus', 'compile', 'freemind', 'freemind', 'main', 'tools', 'ut', 'string', 'to', 'byte', 'array', 'string'], ['mnt', 'qualitas', 'qualitas', 'corpus', 'compile', 'freemind', 'freemind', 'main', 'tools', 'name', 'mnemonic', 'holder', 'set', 'mnemonic', 'char'], ['mnt', 'qualitas', 'qualitas', 'corpus', 'compile', 'freemind', 'freemind', 'modes', 'mindmapmode', 'actions', 'change', 'arrows', 'in', 'arrow', 'link', 'action', 'action', 'performed', 'action', 'event'], ['mnt', 'qualitas', 'qualitas', 'corpus', 'compile', 'freemind', 'freemind', 'extensions', 'hook', 'registration', 'de', 'register'], ['mnt', 'qualitas', 'qualitas', 'corpus', 'compile', 'freemind', 'freemind', 'extensions', 'hook', 'descriptor', 'plugin', 'action', 'get', 'documentation'], ['mnt', 'qualitas', 'qualitas', 'corpus', 'compile', 'freemind', 'freemind', 'extensions', 'hook', 'factory', 'get', 'possible', 'node', 'hooks'], ['mnt', 'qualitas', 'qualitas', 'corpus', 'compile', 'freemind', 'freemind', 'view', 'mindmapview', 'edit', 'node', 'base', 'edit', 'control', 'cancel'], ['mnt', 'qualitas', 'qualitas', 'corpus', 'compile', 'freemind', 'freemind', 'common', 'separator', 'property', 'separator', 'property', 'string'], ['mnt', 'qualitas', 'qualitas', 'corpus', 'compile', 'freemind', 'freemind', 'modes', 'common', 'dialogs', 'enter', 'password', 'dialog', 'initialize'], ['mnt', 'qualitas', 'qualitas', 'corpus', 'compile', 'freemind', 'freemind', 'controller', 'filter', 'filter', 'toolbar', 'map', 'changed', 'freemind', 'controller', 'filter', 'filter', 'freemind', 'modes', 'mind', 'map'], ['mnt', 'qualitas', 'qualitas', 'corpus', 'compile', 'freemind', 'freemind', 'view', 'mindmapview', 'attributeview', 'attribute', 'table', 'my', 'focus', 'listener', 'focus', 'gained', 'focus', 'event'], ['mnt', 'qualitas', 'qualitas', 'corpus', 'compile', 'freemind', 'freemind', 'view', 'mindmapview', 'attributeview', 'reduced', 'attribute', 'table', 'model', 'decorator', 'rebuild', 'table', 'model'], ['mnt', 'qualitas', 'qualitas', 'corpus', 'compile', 'freemind', 'freemind', 'modes', 'mindmapmode', 'listeners', 'mind', 'map', 'node', 'motion', 'listener', 'mouse', 'dragged', 'mouse', 'event'], ['mnt', 'qualitas', 'qualitas', 'corpus', 'compile', 'freemind', 'freemind', 'modes', 'xml', 'element', 'adapter', 'process', 'unfinished', 'links', 'mind', 'map', 'link', 'registry'], ['mnt', 'qualitas', 'qualitas', 'corpus', 'compile', 'freemind', 'freemind', 'modes', 'controller', 'adapter', 'open'], ['mnt', 'qualitas', 'qualitas', 'corpus', 'compile', 'freemind', 'freemind', 'modes', 'mind', 'icon', 'get', 'icon'], ['mnt', 'qualitas', 'qualitas', 'corpus', 'compile', 'freemind', 'freemind', 'main', 'free', 'mind', 'get', 'logger', 'string'], ['mnt', 'qualitas', 'qualitas', 'corpus', 'compile', 'freemind', 'freemind', 'main', 'free', 'mind', 'load', 'maps', 'final', 'string', 'args', 'mode', 'controller', 'p', 'mode', 'controller'], ['mnt', 'qualitas', 'qualitas', 'corpus', 'compile', 'freemind', 'freemind', 'main', 'tools', 'get', 'file', 'reader'], ['mnt', 'qualitas', 'qualitas', 'corpus', 'compile', 'freemind', 'freemind', 'main', 'html', 'tools', 'get', 'maximal', 'original', 'position', 'int', 'array', 'list'], ['mnt', 'qualitas', 'qualitas', 'corpus', 'compile', 'freemind', 'freemind', 'modes', 'mindmapmode', 'actions', 'node', 'up', 'action', 'move', 'nodes', 'mind', 'map', 'node', 'list', 'int'], ['mnt', 'qualitas', 'qualitas', 'corpus', 'compile', 'freemind', 'freemind', 'modes', 'mindmapmode', 'actions', 'revert', 'action', 'act', 'xml', 'action'], ['mnt', 'qualitas', 'qualitas', 'corpus', 'compile', 'freemind', 'freemind', 'modes', 'mindmapmode', 'actions', 'new', 'child', 'action', 'add', 'new', 'mind', 'map', 'node', 'int', 'key', 'event'], ['mnt', 'qualitas', 'qualitas', 'corpus', 'compile', 'freemind', 'freemind', 'modes', 'mindmapmode', 'actions', 'paste', 'action', 'paste', 'transferable', 'mind', 'map', 'node', 'boolean', 'boolean'], ['mnt', 'qualitas', 'qualitas', 'corpus', 'compile', 'freemind', 'freemind', 'modes', 'mindmapmode', 'actions', 'node', 'general', 'action', 'xml', 'action', 'performed', 'action', 'event'], ['mnt', 'qualitas', 'qualitas', 'corpus', 'compile', 'freemind', 'freemind', 'extensions', 'hook', 'descriptor', 'plugin', 'action', 'get', 'instanciation', 'method'], ['mnt', 'qualitas', 'qualitas', 'corpus', 'compile', 'freemind', 'freemind', 'view', 'mindmapview', 'node', 'view', 'get', 'last', 'component', 'boolean', 'boolean'], ['mnt', 'qualitas', 'qualitas', 'corpus', 'compile', 'freemind', 'freemind', 'view', 'mindmapview', 'node', 'view', 'update', 'text'], ['mnt', 'qualitas', 'qualitas', 'corpus', 'compile', 'freemind', 'freemind', 'controller', 'filter', 'filter', 'composer', 'dialog', 'selected', 'attribute', 'change', 'listener', 'item', 'state', 'changed', 'item', 'event'], ['mnt', 'qualitas', 'qualitas', 'corpus', 'compile', 'freemind', 'freemind', 'modes', 'mindmapmode', 'mind', 'map', 'controller', 'set', 'image', 'by', 'file', 'chooser'], ['mnt', 'qualitas', 'qualitas', 'corpus', 'compile', 'freemind', 'freemind', 'modes', 'mindmapmode', 'listeners', 'mind', 'map', 'node', 'drop', 'listener', 'drop', 'drop', 'target', 'drop', 'event'], ['mnt', 'qualitas', 'qualitas', 'corpus', 'compile', 'freemind', 'freemind', 'modes', 'style', 'pattern', 'load', 'pattern', 'xml', 'element', 'list'], ['mnt', 'qualitas', 'qualitas', 'corpus', 'compile', 'freemind', 'freemind', 'main', 'free', 'mind', 'set', 'screen', 'bounds'], ['mnt', 'qualitas', 'qualitas', 'corpus', 'compile', 'freemind', 'freemind', 'main', 'tools', 'to', 'relative', 'ur', 'ur', 'base', 'ur', 'target'], ['mnt', 'qualitas', 'qualitas', 'corpus', 'compile', 'freemind', 'freemind', 'main', 'html', 'tools', 'unescape', 'html', 'unicode', 'entity', 'string'], ['mnt', 'qualitas', 'qualitas', 'corpus', 'compile', 'freemind', 'freemind', 'main', 'html', 'tools', 'remove', 'invalid', 'xml', 'characters', 'string'], ['mnt', 'qualitas', 'qualitas', 'corpus', 'compile', 'freemind', 'freemind', 'main', 'xml', 'element', 'scan', 'element', 'xml', 'element'], ['mnt', 'qualitas', 'qualitas', 'corpus', 'compile', 'freemind', 'freemind', 'modes', 'mindmapmode', 'actions', 'import', 'explorer', 'favorites', 'action', 'import', 'explorer', 'favorites', 'file', 'mind', 'map', 'node', 'boolean'], ['mnt', 'qualitas', 'qualitas', 'corpus', 'compile', 'freemind', 'freemind', 'modes', 'mindmapmode', 'actions', 'paste', 'action', 'paste', 'string', 'without', 'redisplay', 'transferable', 'mind', 'map', 'node', 'boolean', 'boolean'], ['mnt', 'qualitas', 'qualitas', 'corpus', 'compile', 'freemind', 'freemind', 'modes', 'mindmapmode', 'actions', 'paste', 'action', 'html', 'flavor', 'handler', 'paste', 'object', 'mind', 'map', 'node', 'boolean', 'boolean', 'transferable'], ['mnt', 'qualitas', 'qualitas', 'corpus', 'compile', 'freemind', 'freemind', 'extensions', 'import', 'wizard', 'add', 'classes', 'from', 'dir', 'vector', 'file', 'file', 'int'], ['mnt', 'qualitas', 'qualitas', 'corpus', 'compile', 'freemind', 'freemind', 'view', 'mindmapview', 'node', 'view', 'tree', 'nodes', 'removed', 'tree', 'model', 'event'], ['mnt', 'qualitas', 'qualitas', 'corpus', 'compile', 'freemind', 'freemind', 'modes', 'mindmapmode', 'hooks', 'mind', 'map', 'hook', 'factory', 'search', 'for', 'class', 'base', 'class', 'class', 'mode'], ['mnt', 'qualitas', 'qualitas', 'corpus', 'compile', 'freemind', 'freemind', 'modes', 'mindmapmode', 'hooks', 'mind', 'map', 'hook', 'factory', 'actualize', 'plugins'], ['mnt', 'qualitas', 'qualitas', 'corpus', 'compile', 'jasml', 'com', 'jasml', 'compiler', 'source', 'code', 'parser', 'parse', 'line', 'numbers', 'string'], ['mnt', 'qualitas', 'qualitas', 'corpus', 'compile', 'jasml', 'com', 'jasml', 'compiler', 'source', 'code', 'parser', 'parse', 'float', 'string'], ['mnt', 'qualitas', 'qualitas', 'corpus', 'compile', 'jasml', 'com', 'jasml', 'compiler', 'source', 'code', 'parser', 'parse', 'double', 'string'], ['mnt', 'qualitas', 'qualitas', 'corpus', 'compile', 'jasml', 'com', 'jasml', 'compiler', 'source', 'code', 'parser', 'main', 'string'], ['mnt', 'qualitas', 'qualitas', 'corpus', 'compile', 'jasml', 'com', 'jasml', 'compiler', 'constant', 'pool', 'generator', 'constant', 'pool', 'generator'], ['mnt', 'qualitas', 'qualitas', 'corpus', 'compile', 'jasml', 'com', 'jasml', 'compiler', 'constant', 'pool', 'generator', 'add', 'class', 'string'], ['mnt', 'qualitas', 'qualitas', 'corpus', 'compile', 'jasml', 'com', 'jasml', 'compiler', 'constant', 'pool', 'generator', 'ensure', 'capacity', 'constant', 'pool', 'item'], ['mnt', 'qualitas', 'qualitas', 'corpus', 'compile', 'jasml', 'com', 'jasml', 'compiler', 'scanner', 'consume', 'digits'], ['mnt', 'qualitas', 'qualitas', 'corpus', 'compile', 'jasml', 'com', 'jasml', 'compiler', 'scanner', 'exception', 'int', 'int', 'int', 'string'], ['mnt', 'qualitas', 'qualitas', 'corpus', 'compile', 'jasml', 'com', 'jasml', 'helper', 'util', 'pad', 'char', 'string', 'int', 'char'], ['mnt', 'qualitas', 'qualitas', 'corpus', 'compile', 'jasml', 'com', 'jasml', 'classes', 'attribute', 'code', 'attribute', 'code', 'int', 'int', 'int', 'int', 'opcode', 'int', 'exception', 'table', 'item', 'int', 'attribute'], ['mnt', 'qualitas', 'qualitas', 'corpus', 'compile', 'jasml', 'com', 'jasml', 'classes', 'attribute', 'code', 'opcode', 'opcode', 'int', 'byte', 'byte'], ['mnt', 'qualitas', 'qualitas', 'corpus', 'compile', 'jasml', 'com', 'jasml', 'classes', 'method', 'method', 'int', 'int', 'int', 'int', 'attribute'], ['mnt', 'qualitas', 'qualitas', 'corpus', 'compile', 'jasml', 'com', 'jasml', 'decompiler', 'source', 'code', 'builder', 'to', 'string', 'attribute', 'synthetic'], ['mnt', 'qualitas', 'qualitas', 'corpus', 'compile', 'jasml', 'com', 'jasml', 'decompiler', 'source', 'code', 'builder', 'to', 'string', 'attribute', 'line', 'number', 'table'], ['mnt', 'qualitas', 'qualitas', 'corpus', 'compile', 'jasml', 'com', 'jasml', 'decompiler', 'source', 'code', 'builder', 'to', 'string', 'constant', 'fieldref'], ['mnt', 'qualitas', 'qualitas', 'corpus', 'compile', 'jasml', 'com', 'jasml', 'decompiler', 'java', 'class', 'parser', 'read', 'methods'], ['mnt', 'qualitas', 'qualitas', 'corpus', 'compile', 'jasml', 'com', 'jasml', 'decompiler', 'java', 'class', 'parser', 'read', 'line', 'number', 'data', 'input', 'stream'], ['mnt', 'qualitas', 'qualitas', 'corpus', 'compile', 'jasml', 'com', 'jasml', 'decompiler', 'java', 'class', 'parser', 'read', 'local', 'variable', 'data', 'input', 'stream'], ['mnt', 'qualitas', 'qualitas', 'corpus', 'compile', 'jasml', 'com', 'jasml', 'compiler', 'source', 'code', 'parser', 'parse', 'class', 'signature'], ['mnt', 'qualitas', 'qualitas', 'corpus', 'compile', 'jasml', 'com', 'jasml', 'compiler', 'java', 'class', 'dumpper', 'dump', 'attribute', 'attribute'], ['mnt', 'qualitas', 'qualitas', 'corpus', 'compile', 'jasml', 'com', 'jasml', 'helper', 'opcode', 'loader', 'process', 'opcode', 'node'], ['mnt', 'qualitas', 'qualitas', 'corpus', 'compile', 'jasml', 'com', 'jasml', 'compiler', 'source', 'code', 'parser', 'parse', 'method', 'instructions', 'method'], ['mnt', 'qualitas', 'qualitas', 'corpus', 'compile', 'jasml', 'com', 'jasml', 'decompiler', 'source', 'code', 'builder', 'to', 'string', 'attribute', 'code', 'hash', 'set'], ['mnt', 'qualitas', 'qualitas', 'corpus', 'compile', 'jasml', 'com', 'jasml', 'decompiler', 'source', 'code', 'builder', 'calculate', 'references', 'method'], ['mnt', 'qualitas', 'qualitas', 'corpus', 'compile', 'jasml', 'com', 'jasml', 'decompiler', 'java', 'class', 'parser', 'parse', 'opcodes', 'byte'], ['mnt', 'qualitas', 'qualitas', 'corpus', 'compile', 'jasperreports', 'net', 'sf', 'jasperreports', 'engine', 'fill', 'jr', 'template', 'text', 'get', 'markup'], ['mnt', 'qualitas', 'qualitas', 'corpus', 'compile', 'jasperreports', 'net', 'sf', 'jasperreports', 'engine', 'fill', 'jr', 'fill', 'parameter', 'is', 'for', 'prompting'], ['mnt', 'qualitas', 'qualitas', 'corpus', 'compile', 'jasperreports', 'net', 'sf', 'jasperreports', 'engine', 'fill', 'jr', 'fill', 'text', 'element', 'get', 'top', 'padding'], ['mnt', 'qualitas', 'qualitas', 'corpus', 'compile', 'jasperreports', 'net', 'sf', 'jasperreports', 'engine', 'fill', 'jr', 'big', 'decimal', 'distinct', 'count', 'incrementer', 'increment', 'jr', 'calculable', 'object', 'abstract', 'value', 'provider'], ['mnt', 'qualitas', 'qualitas', 'corpus', 'compile', 'jasperreports', 'net', 'sf', 'jasperreports', 'engine', 'base', 'jr', 'base', 'report', 'get', 'column', 'header'], ['mnt', 'qualitas', 'qualitas', 'corpus', 'compile', 'jasperreports', 'net', 'sf', 'jasperreports', 'engine', 'base', 'jr', 'base', 'style', 'get', 'own', 'mode', 'value'], ['mnt', 'qualitas', 'qualitas', 'corpus', 'compile', 'jasperreports', 'net', 'sf', 'jasperreports', 'engine', 'base', 'jr', 'base', 'print', 'text', 'set', 'padding', 'int'], ['mnt', 'qualitas', 'qualitas', 'corpus', 'compile', 'jasperreports', 'net', 'sf', 'jasperreports', 'engine', 'base', 'jr', 'base', 'box', 'get', 'own', 'border', 'color'], ['mnt', 'qualitas', 'qualitas', 'corpus', 'compile', 'jasperreports', 'net', 'sf', 'jasperreports', 'engine', 'util', 'jr', 'xml', 'write', 'helper', 'stack', 'element', 'add', 'attribute', 'string', 'string', 'boolean'], ['mnt', 'qualitas', 'qualitas', 'corpus', 'compile', 'jasperreports', 'net', 'sf', 'jasperreports', 'engine', 'util', 'jr', 'query', 'executer', 'utils', 'jr', 'query', 'executer', 'utils'], ['mnt', 'qualitas', 'qualitas', 'corpus', 'compile', 'jasperreports', 'net', 'sf', 'jasperreports', 'engine', 'design', 'jr', 'design', 'chart', 'set', 'customizer', 'class', 'string'], ['mnt', 'qualitas', 'qualitas', 'corpus', 'compile', 'jasperreports', 'net', 'sf', 'jasperreports', 'engine', 'design', 'jr', 'jdt', 'compiler', 'jr', 'jdt', 'compiler'], ['mnt', 'qualitas', 'qualitas', 'corpus', 'compile', 'jasperreports', 'net', 'sf', 'jasperreports', 'engine', 'jr', 'element', 'dataset', 'get', 'reset', 'type', 'value'], ['mnt', 'qualitas', 'qualitas', 'corpus', 'compile', 'jasperreports', 'net', 'sf', 'jasperreports', 'charts', 'fill', 'jr', 'fill', 'bubble', 'plot', 'get', 'x', 'axis', 'vertical', 'tick', 'labels'], ['mnt', 'qualitas', 'qualitas', 'corpus', 'compile', 'jasperreports', 'net', 'sf', 'jasperreports', 'engine', 'export', 'jr', 'text', 'exporter', 'justify', 'text', 'string', 'int'], ['mnt', 'qualitas', 'qualitas', 'corpus', 'compile', 'jasperreports', 'net', 'sf', 'jasperreports', 'engine', 'export', 'occupied', 'grid', 'cell', 'get', 'type'], ['mnt', 'qualitas', 'qualitas', 'corpus', 'compile', 'jasperreports', 'net', 'sf', 'jasperreports', 'engine', 'data', 'jr', 'xls', 'data', 'source', 'check', 'read', 'started'], ['mnt', 'qualitas', 'qualitas', 'corpus', 'compile', 'jasperreports', 'net', 'sf', 'jasperreports', 'crosstabs', 'design', 'jr', 'design', 'crosstab', 'get', 'row', 'groups', 'list'], ['mnt', 'qualitas', 'qualitas', 'corpus', 'compile', 'jasperreports', 'net', 'sf', 'jasperreports', 'components', 'barbecue', 'barcode', 'providers', 'create', 'barcode', 'barcode', 'info'], ['mnt', 'qualitas', 'qualitas', 'corpus', 'compile', 'jasperreports', 'net', 'sf', 'jasperreports', 'engine', 'fill', 'jr', 'vertical', 'filler', 'fill', 'summary', 'no', 'last', 'footer', 'same', 'page'], ['mnt', 'qualitas', 'qualitas', 'corpus', 'compile', 'jasperreports', 'net', 'sf', 'jasperreports', 'engine', 'fill', 'jr', 'vertical', 'filler', 'fill', 'summary', 'with', 'last', 'footer', 'no', 'page', 'bands'], ['mnt', 'qualitas', 'qualitas', 'corpus', 'compile', 'jasperreports', 'net', 'sf', 'jasperreports', 'engine', 'fill', 'jr', 'fill', 'dataset', 'next'], ['mnt', 'qualitas', 'qualitas', 'corpus', 'compile', 'jasperreports', 'net', 'sf', 'jasperreports', 'engine', 'fill', 'jr', 'fill', 'crosstab', 'crosstab', 'filler', 'reset', 'variables'], ['mnt', 'qualitas', 'qualitas', 'corpus', 'compile', 'jasperreports', 'net', 'sf', 'jasperreports', 'engine', 'fill', 'default', 'chart', 'theme', 'calculate', 'tick', 'units', 'axis', 'boolean'], ['mnt', 'qualitas', 'qualitas', 'corpus', 'compile', 'jasperreports', 'net', 'sf', 'jasperreports', 'engine', 'fill', 'jr', 'base', 'filler', 'set', 'identity', 'data', 'jr', 'virtual', 'print', 'page', 'object', 'id', 'pair'], ['mnt', 'qualitas', 'qualitas', 'corpus', 'compile', 'jasperreports', 'net', 'sf', 'jasperreports', 'engine', 'util', 'jr', 'string', 'util', 'replace', 'c', 'rwith', 'l', 'string'], ['mnt', 'qualitas', 'qualitas', 'corpus', 'compile', 'jasperreports', 'net', 'sf', 'jasperreports', 'engine', 'util', 'jr', 'api', 'writer', 'write', 'properties', 'jr', 'properties', 'holder', 'string'], ['mnt', 'qualitas', 'qualitas', 'corpus', 'compile', 'jasperreports', 'net', 'sf', 'jasperreports', 'engine', 'design', 'jr', 'verifier', 'verify', 'empty', 'background'], ['mnt', 'qualitas', 'qualitas', 'corpus', 'compile', 'jasperreports', 'net', 'sf', 'jasperreports', 'olap', 'mapping', 'mapping', 'lexer', 'min', 'boolean'], ['mnt', 'qualitas', 'qualitas', 'corpus', 'compile', 'jasperreports', 'net', 'sf', 'jasperreports', 'engine', 'export', 'ooxml', 'pptx', 'run', 'helper', 'export', 'props', 'string', 'map', 'map', 'locale'], ['mnt', 'qualitas', 'qualitas', 'corpus', 'compile', 'jasperreports', 'net', 'sf', 'jasperreports', 'engine', 'export', 'ooxml', 'jr', 'xlsx', 'exporter', 'close', 'workbook', 'output', 'stream', 'os'], ['mnt', 'qualitas', 'qualitas', 'corpus', 'compile', 'jasperreports', 'net', 'sf', 'jasperreports', 'engine', 'export', 'j', 'excel', 'api', 'exporter', 'get', 'suitable', 'paper', 'size', 'jasper', 'print'], ['mnt', 'qualitas', 'qualitas', 'corpus', 'compile', 'jasperreports', 'net', 'sf', 'jasperreports', 'engine', 'export', 'jr', 'xml', 'exporter', 'export', 'properties', 'jr', 'properties', 'holder'], ['mnt', 'qualitas', 'qualitas', 'corpus', 'compile', 'jasperreports', 'net', 'sf', 'jasperreports', 'engine', 'export', 'jr', 'rtf', 'exporter', 'export', 'elements', 'collection'], ['mnt', 'qualitas', 'qualitas', 'corpus', 'compile', 'jasperreports', 'net', 'sf', 'jasperreports', 'engine', 'export', 'jr', 'grid', 'layout', 'is', 'overlap', 'int', 'int', 'int', 'int'], ['mnt', 'qualitas', 'qualitas', 'corpus', 'compile', 'jasperreports', 'net', 'sf', 'jasperreports', 'engine', 'export', 'jr', 'grid', 'layout', 'set', 'grid', 'element', 'element', 'wrapper', 'int', 'int', 'int', 'int'], ['mnt', 'qualitas', 'qualitas', 'corpus', 'compile', 'jasperreports', 'net', 'sf', 'jasperreports', 'components', 'table', 'fill', 'fill', 'table', 'fill', 'column', 'evaluator', 'visit', 'column', 'group', 'column', 'group'], ['mnt', 'qualitas', 'qualitas', 'corpus', 'compile', 'jasperreports', 'net', 'sf', 'jasperreports', 'crosstabs', 'design', 'jr', 'design', 'crosstab', 'inherit', 'cell', 'size', 'int', 'int'], ['mnt', 'qualitas', 'qualitas', 'corpus', 'compile', 'jasperreports', 'net', 'sf', 'jasperreports', 'engine', 'fill', 'jr', 'fill', 'crosstab', 'crosstab', 'filler', 'compute', 'breakable', 'headers', 'header', 'cell', 'jr', 'fill', 'crosstab', 'group', 'int', 'boolean', 'boolean'], ['mnt', 'qualitas', 'qualitas', 'corpus', 'compile', 'jasperreports', 'net', 'sf', 'jasperreports', 'engine', 'fill', 'jr', 'horizontal', 'filler', 'fill', 'group', 'footers', 'boolean'], ['mnt', 'qualitas', 'qualitas', 'corpus', 'compile', 'jasperreports', 'net', 'sf', 'jasperreports', 'engine', 'fill', 'text', 'measurer', 'append', 'truncate', 'suffix', 'attributed', 'character', 'iterator'], ['mnt', 'qualitas', 'qualitas', 'corpus', 'compile', 'jasperreports', 'net', 'sf', 'jasperreports', 'engine', 'fill', 'jr', 'fill', 'element', 'group', 'get', 'stretch', 'height', 'diff'], ['mnt', 'qualitas', 'qualitas', 'corpus', 'compile', 'jasperreports', 'net', 'sf', 'jasperreports', 'engine', 'util', 'jr', 'api', 'writer', 'write', 'crosstab', 'jr', 'crosstab', 'string'], ['mnt', 'qualitas', 'qualitas', 'corpus', 'compile', 'jasperreports', 'net', 'sf', 'jasperreports', 'engine', 'util', 'jr', 'styled', 'text', 'parser', 'parse', 'style', 'jr', 'styled', 'text', 'node'], ['mnt', 'qualitas', 'qualitas', 'corpus', 'compile', 'jasperreports', 'net', 'sf', 'jasperreports', 'engine', 'design', 'jr', 'jdt', 'compiler', 'get', 'name', 'environment', 'jr', 'compilation', 'unit'], ['mnt', 'qualitas', 'qualitas', 'corpus', 'compile', 'jasperreports', 'net', 'sf', 'jasperreports', 'engine', 'export', 'j', 'excel', 'api', 'exporter', 'get', 'loaded', 'font', 'jr', 'font', 'int', 'locale'], ['mnt', 'qualitas', 'qualitas', 'corpus', 'compile', 'jasperreports', 'net', 'sf', 'jasperreports', 'engine', 'export', 'jr', 'xml', 'exporter', 'export', 'report', 'to', 'file'], ['mnt', 'qualitas', 'qualitas', 'corpus', 'compile', 'jasperreports', 'net', 'sf', 'jasperreports', 'engine', 'export', 'jr', 'xhtml', 'exporter', 'export', 'image', 'jr', 'print', 'image'], ['mnt', 'qualitas', 'qualitas', 'corpus', 'compile', 'jasperreports', 'net', 'sf', 'jasperreports', 'engine', 'export', 'jr', 'pdf', 'exporter', 'export', 'report'], ['mnt', 'qualitas', 'qualitas', 'corpus', 'compile', 'jasperreports', 'net', 'sf', 'jasperreports', 'engine', 'export', 'jr', 'html', 'exporter', 'export', 'report', 'to', 'writer'], ['mnt', 'qualitas', 'qualitas', 'corpus', 'compile', 'jasperreports', 'net', 'sf', 'jasperreports', 'engine', 'export', 'jr', 'html', 'exporter', 'get', 'hyperlink', 'target', 'jr', 'print', 'hyperlink'], ['mnt', 'qualitas', 'qualitas', 'corpus', 'compile', 'jasperreports', 'net', 'sf', 'jasperreports', 'engine', 'export', 'jr', 'xls', 'abstract', 'exporter', 'export', 'report'], ['mnt', 'qualitas', 'qualitas', 'corpus', 'compile', 'jasperreports', 'net', 'sf', 'jasperreports', 'engine', 'export', 'jr', 'csv', 'exporter', 'export', 'report'], ['mnt', 'qualitas', 'qualitas', 'corpus', 'compile', 'jasperreports', 'net', 'sf', 'jasperreports', 'engine', 'export', 'xmlss', 'jr', 'xmlss', 'exporter', 'export', 'report'], ['mnt', 'qualitas', 'qualitas', 'corpus', 'compile', 'jasperreports', 'net', 'sf', 'jasperreports', 'crosstabs', 'design', 'jr', 'design', 'crosstab', 'inherit', 'cells'], ['mnt', 'qualitas', 'qualitas', 'corpus', 'compile', 'jasperreports', 'net', 'sf', 'jasperreports', 'ee', 'servlets', 'xml', 'servlet', 'service', 'http', 'servlet', 'request', 'http', 'servlet', 'response'], ['mnt', 'qualitas', 'qualitas', 'corpus', 'compile', 'jasperreports', 'net', 'sf', 'jasperreports', 'view', 'jr', 'viewer', 'create', 'hyperlinks', 'list', 'int', 'int'], ['mnt', 'qualitas', 'qualitas', 'corpus', 'compile', 'j', 'fin', 'date', 'math', 'org', 'jfin', 'date', 'daycount', 'defaultimpl', 'business', 'business', 'holiday', 'calendar'], ['mnt', 'qualitas', 'qualitas', 'corpus', 'compile', 'j', 'fin', 'date', 'math', 'org', 'jfin', 'date', 'daycount', 'defaultimpl', 'daycount', 'calculator', 'factory', 'impl', 'get', 'e'], ['mnt', 'qualitas', 'qualitas', 'corpus', 'compile', 'j', 'fin', 'date', 'math', 'org', 'jfin', 'date', 'accrual', 'accrual', 'schedule', 'contains', 'all', 'collection'], ['mnt', 'qualitas', 'qualitas', 'corpus', 'compile', 'j', 'fin', 'date', 'math', 'org', 'jfin', 'date', 'accrual', 'payment', 'set', 'payment', 'calendar', 'calendar'], ['mnt', 'qualitas', 'qualitas', 'corpus', 'compile', 'j', 'fin', 'date', 'math', 'org', 'jfin', 'date', 'typed', 'schedule', 'generator', 'generate', 'schedule', 'calendar', 'tenor', 'frequency', 'stub', 'type'], ['mnt', 'qualitas', 'qualitas', 'corpus', 'compile', 'j', 'fin', 'date', 'math', 'org', 'jfin', 'date', 'typed', 'schedule', 'generator', 'create', 'period', 'calendar', 'calendar', 'calendar', 'calendar', 'boolean'], ['mnt', 'qualitas', 'qualitas', 'corpus', 'compile', 'j', 'fin', 'date', 'math', 'org', 'jfin', 'date', 'tenor', 'get', 'calendar', 'unit'], ['mnt', 'qualitas', 'qualitas', 'corpus', 'compile', 'j', 'fin', 'date', 'math', 'org', 'jfin', 'date', 'accrual', 'impl', 'fixed', 'accrual', 'period', 'is', 'payment', 'possible'], ['mnt', 'qualitas', 'qualitas', 'corpus', 'compile', 'j', 'fin', 'date', 'math', 'org', 'jfin', 'common', 'iso', 'currency', 'iso', 'currency', 'string', 'iso', 'country', 'string'], ['mnt', 'qualitas', 'qualitas', 'corpus', 'compile', 'j', 'fin', 'date', 'math', 'org', 'jfin', 'common', 'csv', 'file', 'format', 'tokenizer', 'split', 'string'], ['mnt', 'qualitas', 'qualitas', 'corpus', 'compile', 'j', 'fin', 'date', 'math', 'org', 'jfin', 'common', 'csv', 'file', 'format', 'tokenizer', 'has', 'next'], ['mnt', 'qualitas', 'qualitas', 'corpus', 'compile', 'j', 'fin', 'date', 'math', 'org', 'jfin', 'common', 'csv', 'file', 'format', 'tokenizer', 'get', 'tokens'], ['mnt', 'qualitas', 'qualitas', 'corpus', 'compile', 'j', 'fin', 'date', 'math', 'org', 'jfin', 'date', 'holiday', 'financialcalendarimpl', 'holiday', 'file', 'entry', 'holiday', 'file', 'entry', 'string', 'info', 'file'], ['mnt', 'qualitas', 'qualitas', 'corpus', 'compile', 'j', 'fin', 'date', 'math', 'org', 'jfin', 'date', 'holiday', 'financialcalendarimpl', 'holiday', 'file', 'entry', 'holiday', 'file', 'entry', 'string', 'info', 'file', 'entry', 'string'], ['mnt', 'qualitas', 'qualitas', 'corpus', 'compile', 'j', 'fin', 'date', 'math', 'org', 'jfin', 'date', 'holiday', 'financialcalendarimpl', 'info', 'file', 'entry', 'get', 'country', 'mapping', 'string'], ['mnt', 'qualitas', 'qualitas', 'corpus', 'compile', 'j', 'fin', 'date', 'math', 'org', 'jfin', 'date', 'holiday', 'financialcalendarimpl', 'info', 'file', 'load', 'file'], ['mnt', 'qualitas', 'qualitas', 'corpus', 'compile', 'j', 'fin', 'date', 'math', 'org', 'jfin', 'date', 'holiday', 'financialcalendarimpl', 'financial', 'calendar', 'holiday', 'calendar', 'get', 'locale'], ['mnt', 'qualitas', 'qualitas', 'corpus', 'compile', 'j', 'fin', 'date', 'math', 'org', 'jfin', 'date', 'daycount', 'daycount', 'exception', 'daycount', 'exception', 'string'], ['mnt', 'qualitas', 'qualitas', 'corpus', 'compile', 'j', 'fin', 'date', 'math', 'org', 'jfin', 'date', 'holiday', 'defaultimpl', 'weekend', 'holiday', 'calendar', 'is', 'weekend', 'calendar'], ['mnt', 'qualitas', 'qualitas', 'corpus', 'compile', 'j', 'fin', 'date', 'math', 'org', 'jfin', 'date', 'typed', 'schedule', 'generator', 'generate', 'schedule', 'internal', 'calendar', 'calendar', 'int', 'int', 'stub', 'type'], ['mnt', 'qualitas', 'qualitas', 'corpus', 'compile', 'j', 'fin', 'date', 'math', 'org', 'jfin', 'date', 'schedule', 'generator', 'generate', 'schedule', 'calendar', 'calendar', 'int', 'int', 'stub', 'type', 'period', 'int'], ['mnt', 'qualitas', 'qualitas', 'corpus', 'compile', 'j', 'fin', 'date', 'math', 'org', 'jfin', 'common', 'csv', 'file', 'format', 'tokenizer', 'initialise', 'string'], ['mnt', 'qualitas', 'qualitas', 'corpus', 'compile', 'jfreechart', 'org', 'jfree', 'chart', 'annotations', 'xy', 'text', 'annotation', 'set', 'outline', 'visible', 'boolean'], ['mnt', 'qualitas', 'qualitas', 'corpus', 'compile', 'jfreechart', 'org', 'jfree', 'data', 'statistics', 'default', 'statistical', 'category', 'dataset', 'get', 'row', 'count'], ['mnt', 'qualitas', 'qualitas', 'corpus', 'compile', 'jfreechart', 'org', 'jfree', 'chart', 'chart', 'panel', 'set', 'minimum', 'draw', 'width', 'int'], ['mnt', 'qualitas', 'qualitas', 'corpus', 'compile', 'jfreechart', 'org', 'jfree', 'chart', 'j', 'free', 'chart', 'handle', 'click', 'int', 'int', 'chart', 'rendering', 'info'], ['mnt', 'qualitas', 'qualitas', 'corpus', 'compile', 'jfreechart', 'org', 'jfree', 'chart', 'renderer', 'category', 'category', 'item', 'renderer', 'get', 'positive', 'item', 'label', 'position'], ['mnt', 'qualitas', 'qualitas', 'corpus', 'compile', 'jfreechart', 'org', 'jfree', 'chart', 'renderer', 'category', 'abstract', 'category', 'item', 'renderer', 'abstract', 'category', 'item', 'renderer'], ['mnt', 'qualitas', 'qualitas', 'corpus', 'compile', 'jfreechart', 'org', 'jfree', 'chart', 'renderer', 'xy', 'xy', 'item', 'renderer', 'set', 'item', 'labels', 'visible', 'boolean'], ['mnt', 'qualitas', 'qualitas', 'corpus', 'compile', 'jfreechart', 'org', 'jfree', 'chart', 'renderer', 'xy', 'xy', 'line', 'and', 'shape', 'renderer', 'set', 'shapes', 'filled', 'boolean'], ['mnt', 'qualitas', 'qualitas', 'corpus', 'compile', 'jfreechart', 'org', 'jfree', 'chart', 'renderer', 'abstract', 'renderer', 'get', 'item', 'visible', 'int', 'int'], ['mnt', 'qualitas', 'qualitas', 'corpus', 'compile', 'jfreechart', 'org', 'jfree', 'chart', 'renderer', 'abstract', 'renderer', 'set', 'item', 'label', 'paint', 'paint', 'boolean'], ['mnt', 'qualitas', 'qualitas', 'corpus', 'compile', 'jfreechart', 'org', 'jfree', 'data', 'time', 'year', 'get', 'last', 'millisecond'], ['mnt', 'qualitas', 'qualitas', 'corpus', 'compile', 'jfreechart', 'org', 'jfree', 'data', 'time', 'dynamic', 'time', 'series', 'collection', 'wrap', 'offset', 'int'], ['mnt', 'qualitas', 'qualitas', 'corpus', 'compile', 'jfreechart', 'org', 'jfree', 'chart', 'axis', 'cyclic', 'number', 'axis', 'get', 'cycle', 'bound'], ['mnt', 'qualitas', 'qualitas', 'corpus', 'compile', 'jfreechart', 'org', 'jfree', 'chart', 'axis', 'number', 'axis', 'get', 'auto', 'range', 'sticky', 'zero'], ['mnt', 'qualitas', 'qualitas', 'corpus', 'compile', 'jfreechart', 'org', 'jfree', 'chart', 'plot', 'dial', 'dial', 'plot', 'get', 'scale', 'int'], ['mnt', 'qualitas', 'qualitas', 'corpus', 'compile', 'jfreechart', 'org', 'jfree', 'chart', 'title', 'legend', 'graphic', 'set', 'line', 'paint', 'paint'], ['mnt', 'qualitas', 'qualitas', 'corpus', 'compile', 'jfreechart', 'org', 'jfree', 'data', 'data', 'utilities', 'create', 'number', 'array', 'double'], ['mnt', 'qualitas', 'qualitas', 'corpus', 'compile', 'jfreechart', 'org', 'jfree', 'chart', 'editor', 'default', 'title', 'editor', 'get', 'title', 'font'], ['mnt', 'qualitas', 'qualitas', 'corpus', 'compile', 'jfreechart', 'org', 'jfree', 'chart', 'editor', 'chart', 'editor', 'factory', 'create', 'editor', 'j', 'free', 'chart'], ['mnt', 'qualitas', 'qualitas', 'corpus', 'compile', 'jfreechart', 'org', 'jfree', 'data', 'xy', 'default', 'table', 'xy', 'dataset', 'update', 'x', 'points', 'xy', 'series'], ['mnt', 'qualitas', 'qualitas', 'corpus', 'compile', 'jfreechart', 'org', 'jfree', 'chart', 'labels', 'custom', 'xy', 'tool', 'tip', 'generator', 'equals', 'object'], ['mnt', 'qualitas', 'qualitas', 'corpus', 'compile', 'jfreechart', 'org', 'jfree', 'chart', 'renderer', 'category', 'line', 'and', 'shape', 'renderer', 'draw', 'item', 'graphics', 'category', 'item', 'renderer', 'state', 'rectangle', 'category', 'plot', 'category', 'axis', 'value', 'axis', 'category', 'dataset', 'int', 'int', 'int'], ['mnt', 'qualitas', 'qualitas', 'corpus', 'compile', 'jfreechart', 'org', 'jfree', 'chart', 'renderer', 'category', 'statistical', 'line', 'and', 'shape', 'renderer', 'draw', 'item', 'graphics', 'category', 'item', 'renderer', 'state', 'rectangle', 'category', 'plot', 'category', 'axis', 'value', 'axis', 'category', 'dataset', 'int', 'int', 'int'], ['mnt', 'qualitas', 'qualitas', 'corpus', 'compile', 'jfreechart', 'org', 'jfree', 'chart', 'renderer', 'xy', 'xy', 'shape', 'renderer', 'draw', 'item', 'graphics', 'xy', 'item', 'renderer', 'state', 'rectangle', 'plot', 'rendering', 'info', 'xy', 'plot', 'value', 'axis', 'value', 'axis', 'xy', 'dataset', 'int', 'int', 'crosshair', 'state', 'int'], ['mnt', 'qualitas', 'qualitas', 'corpus', 'compile', 'jfreechart', 'org', 'jfree', 'chart', 'renderer', 'xy', 'abstract', 'xy', 'item', 'renderer', 'draw', 'range', 'marker', 'graphics', 'xy', 'plot', 'value', 'axis', 'marker', 'rectangle'], ['mnt', 'qualitas', 'qualitas', 'corpus', 'compile', 'jfreechart', 'org', 'jfree', 'chart', 'renderer', 'wafer', 'map', 'renderer', 'get', 'legend', 'collection'], ['mnt', 'qualitas', 'qualitas', 'corpus', 'compile', 'jfreechart', 'org', 'jfree', 'data', 'time', 'time', 'period', 'values', 'collection', 'get', 'domain', 'bounds', 'boolean'], ['mnt', 'qualitas', 'qualitas', 'corpus', 'compile', 'jfreechart', 'org', 'jfree', 'chart', 'axis', 'date', 'axis', 'refresh', 'ticks', 'vertical', 'graphics', 'rectangle', 'rectangle', 'edge'], ['mnt', 'qualitas', 'qualitas', 'corpus', 'compile', 'jfreechart', 'org', 'jfree', 'chart', 'axis', 'segmented', 'timeline', 'add', 'base', 'timeline', 'exception', 'long'], ['mnt', 'qualitas', 'qualitas', 'corpus', 'compile', 'jfreechart', 'org', 'jfree', 'chart', 'axis', 'period', 'axis', 'draw', 'tick', 'marks', 'horizontal', 'graphics', 'axis', 'state', 'rectangle', 'rectangle', 'edge'], ['mnt', 'qualitas', 'qualitas', 'corpus', 'compile', 'jfreechart', 'org', 'jfree', 'chart', 'plot', 'combined', 'domain', 'category', 'plot', 'get', 'categories'], ['mnt', 'qualitas', 'qualitas', 'corpus', 'compile', 'jfreechart', 'org', 'jfree', 'chart', 'plot', 'category', 'plot', 'datasets', 'mapped', 'to', 'domain', 'axis', 'int'], ['mnt', 'qualitas', 'qualitas', 'corpus', 'compile', 'jfreechart', 'org', 'jfree', 'data', 'general', 'dataset', 'utilities', 'find', 'minimum', 'range', 'value', 'xy', 'dataset'], ['mnt', 'qualitas', 'qualitas', 'corpus', 'compile', 'jfreechart', 'org', 'jfree', 'data', 'general', 'dataset', 'utilities', 'find', 'maximum', 'range', 'value', 'category', 'dataset'], ['mnt', 'qualitas', 'qualitas', 'corpus', 'compile', 'jfreechart', 'org', 'jfree', 'data', 'general', 'dataset', 'utilities', 'find', 'maximum', 'range', 'value', 'xy', 'dataset'], ['mnt', 'qualitas', 'qualitas', 'corpus', 'compile', 'jfreechart', 'org', 'jfree', 'data', 'general', 'dataset', 'utilities', 'find', 'stacked', 'range', 'bounds', 'category', 'dataset', 'double'], ['mnt', 'qualitas', 'qualitas', 'corpus', 'compile', 'jfreechart', 'org', 'jfree', 'chart', 'urls', 'custom', 'pie', 'url', 'generator', 'equals', 'object'], ['mnt', 'qualitas', 'qualitas', 'corpus', 'compile', 'jfreechart', 'org', 'jfree', 'chart', 'urls', 'custom', 'xyurl', 'generator', 'equals', 'object'], ['mnt', 'qualitas', 'qualitas', 'corpus', 'compile', 'jfreechart', 'org', 'jfree', 'data', 'xy', 'default', 'wind', 'dataset', 'default', 'wind', 'dataset', 'list', 'series', 'keys', 'object', 'data'], ['mnt', 'qualitas', 'qualitas', 'corpus', 'compile', 'jfreechart', 'org', 'jfree', 'data', 'statistics', 'default', 'statistical', 'category', 'dataset', 'update', 'bounds'], ['mnt', 'qualitas', 'qualitas', 'corpus', 'compile', 'jfreechart', 'org', 'jfree', 'data', 'statistics', 'statistics', 'calculate', 'mean', 'collection', 'boolean'], ['mnt', 'qualitas', 'qualitas', 'corpus', 'compile', 'jfreechart', 'org', 'jfree', 'chart', 'renderer', 'category', 'min', 'max', 'category', 'renderer', 'draw', 'item', 'graphics', 'category', 'item', 'renderer', 'state', 'rectangle', 'category', 'plot', 'category', 'axis', 'value', 'axis', 'category', 'dataset', 'int', 'int', 'int'], ['mnt', 'qualitas', 'qualitas', 'corpus', 'compile', 'jfreechart', 'org', 'jfree', 'chart', 'renderer', 'xy', 'standard', 'xy', 'item', 'renderer', 'draw', 'item', 'graphics', 'xy', 'item', 'renderer', 'state', 'rectangle', 'plot', 'rendering', 'info', 'xy', 'plot', 'value', 'axis', 'value', 'axis', 'xy', 'dataset', 'int', 'int', 'crosshair', 'state', 'int'], ['mnt', 'qualitas', 'qualitas', 'corpus', 'compile', 'jfreechart', 'org', 'jfree', 'data', 'time', 'week', 'parse', 'week', 'string'], ['mnt', 'qualitas', 'qualitas', 'corpus', 'compile', 'jfreechart', 'org', 'jfree', 'data', 'time', 'moving', 'average', 'create', 'moving', 'average', 'time', 'series', 'string', 'int', 'int'], ['mnt', 'qualitas', 'qualitas', 'corpus', 'compile', 'jfreechart', 'org', 'jfree', 'data', 'time', 'moving', 'average', 'create', 'moving', 'average', 'xy', 'dataset', 'int', 'string', 'double', 'double'], ['mnt', 'qualitas', 'qualitas', 'corpus', 'compile', 'jfreechart', 'org', 'jfree', 'chart', 'axis', 'logarithmic', 'axis', 'refresh', 'ticks', 'horizontal', 'graphics', 'rectangle', 'rectangle', 'edge'], ['mnt', 'qualitas', 'qualitas', 'corpus', 'compile', 'jfreechart', 'org', 'jfree', 'chart', 'axis', 'logarithmic', 'axis', 'refresh', 'ticks', 'vertical', 'graphics', 'rectangle', 'rectangle', 'edge'], ['mnt', 'qualitas', 'qualitas', 'corpus', 'compile', 'jfreechart', 'org', 'jfree', 'chart', 'plot', 'pie', 'plot', 'd', 'draw', 'side', 'graphics', 'rectangle', 'arc', 'area', 'area', 'paint', 'paint', 'stroke', 'boolean', 'boolean'], ['mnt', 'qualitas', 'qualitas', 'corpus', 'compile', 'jfreechart', 'org', 'jfree', 'chart', 'plot', 'ring', 'plot', 'draw', 'item', 'graphics', 'int', 'rectangle', 'pie', 'plot', 'state', 'int'], ['mnt', 'qualitas', 'qualitas', 'corpus', 'compile', 'jfreechart', 'org', 'jfree', 'chart', 'plot', 'category', 'plot', 'get', 'legend', 'items'], ['mnt', 'qualitas', 'qualitas', 'corpus', 'compile', 'jfreechart', 'org', 'jfree', 'chart', 'plot', 'category', 'plot', 'render', 'graphics', 'rectangle', 'int', 'plot', 'rendering', 'info', 'category', 'crosshair', 'state'], ['mnt', 'qualitas', 'qualitas', 'corpus', 'compile', 'jfreechart', 'org', 'jfree', 'chart', 'plot', 'xy', 'plot', 'render', 'graphics', 'rectangle', 'int', 'plot', 'rendering', 'info', 'crosshair', 'state'], ['mnt', 'qualitas', 'qualitas', 'corpus', 'compile', 'jfreechart', 'org', 'jfree', 'chart', 'plot', 'xy', 'plot', 'get', 'data', 'range', 'value', 'axis'], ['mnt', 'qualitas', 'qualitas', 'corpus', 'compile', 'jfreechart', 'org', 'jfree', 'data', 'jdbc', 'jdbcxy', 'dataset', 'execute', 'query', 'string'], ['mnt', 'qualitas', 'qualitas', 'corpus', 'compile', 'jfreechart', 'org', 'jfree', 'data', 'jdbc', 'jdbc', 'category', 'dataset', 'execute', 'query', 'connection', 'string'], ['mnt', 'qualitas', 'qualitas', 'corpus', 'compile', 'jfreechart', 'org', 'jfree', 'data', 'general', 'dataset', 'utilities', 'iterate', 'range', 'bounds', 'category', 'dataset', 'boolean'], ['mnt', 'qualitas', 'qualitas', 'corpus', 'compile', 'jgroups', 'org', 'jgroups', 'protocols', 'pbcast', 'nakack', 'get', 'max', 'xmit', 'size'], ['mnt', 'qualitas', 'qualitas', 'corpus', 'compile', 'jgroups', 'org', 'jgroups', 'j', 'channel', 'factory', 'is', 'expose', 'protocols'], ['mnt', 'qualitas', 'qualitas', 'corpus', 'compile', 'jgroups', 'org', 'jgroups', 'demos', 'draw', 'repl', 'window', 'iconified', 'window', 'event'], ['mnt', 'qualitas', 'qualitas', 'corpus', 'compile', 'jgroups', 'org', 'jgroups', 'demos', 'replicated', 'tree', 'demo', 'replicated', 'tree', 'view', 'exit', 'action', 'action', 'performed', 'action', 'event'], ['mnt', 'qualitas', 'qualitas', 'corpus', 'compile', 'jgroups', 'org', 'jgroups', 'blocks', 'two', 'phase', 'voting', 'adapter', 'two', 'phase', 'wrapper', 'commit'], ['mnt', 'qualitas', 'qualitas', 'corpus', 'compile', 'jgroups', 'org', 'jgroups', 'blocks', 'distributed', 'tree', 'get', 'local', 'address'], ['mnt', 'qualitas', 'qualitas', 'corpus', 'compile', 'jgroups', 'org', 'jgroups', 'blocks', 'replicated', 'hash', 'map', 'add', 'notifier', 'notification'], ['mnt', 'qualitas', 'qualitas', 'corpus', 'compile', 'jgroups', 'org', 'jgroups', 'blocks', 'memcached', 'connector', 'set', 'cache', 'partitioned', 'hash', 'map'], ['mnt', 'qualitas', 'qualitas', 'corpus', 'compile', 'jgroups', 'org', 'jgroups', 'blocks', 'grid', 'file', 'get', 'path'], ['mnt', 'qualitas', 'qualitas', 'corpus', 'compile', 'jgroups', 'org', 'jgroups', 'blocks', 'connection', 'table', 'nio', 'connection', 'table', 'ni', 'receiver', 'inet', 'address', 'inet', 'address', 'long', 'long', 'int', 'int'], ['mnt', 'qualitas', 'qualitas', 'corpus', 'compile', 'jgroups', 'org', 'jgroups', 'blocks', 'partitioned', 'hash', 'map', 'get', 'local', 'address'], ['mnt', 'qualitas', 'qualitas', 'corpus', 'compile', 'jgroups', 'org', 'jgroups', 'mux', 'mux', 'channel', 'get', 'address'], ['mnt', 'qualitas', 'qualitas', 'corpus', 'compile', 'jgroups', 'org', 'jgroups', 'util', 'util', 'left', 'members', 'view', 'view'], ['mnt', 'qualitas', 'qualitas', 'corpus', 'compile', 'jgroups', 'org', 'jgroups', 'util', 'unmodifiable', 'vector', 'list', 'iterator'], ['mnt', 'qualitas', 'qualitas', 'corpus', 'compile', 'jgroups', 'org', 'jgroups', 'util', 'seqno', 'table', 'entry', 'entry', 'long'], ['mnt', 'qualitas', 'qualitas', 'corpus', 'compile', 'jgroups', 'org', 'jgroups', 'protocols', 'stats', 'get', 'received', 'messages'], ['mnt', 'qualitas', 'qualitas', 'corpus', 'compile', 'jgroups', 'org', 'jgroups', 'persistence', 'cannot', 'create', 'schema', 'exception', 'to', 'string'], ['mnt', 'qualitas', 'qualitas', 'corpus', 'compile', 'jgroups', 'org', 'jgroups', 'stack', 'gossip', 'router', 'set', 'linger', 'timeout', 'long'], ['mnt', 'qualitas', 'qualitas', 'corpus', 'compile', 'jgroups', 'org', 'jgroups', 'stack', 'nak', 'receiver', 'window', 'get', 'smoothed', 'loss', 'rate'], ['mnt', 'qualitas', 'qualitas', 'corpus', 'compile', 'jgroups', 'org', 'jgroups', 'protocols', 'pbcast', 'client', 'gms', 'impl', 'join', 'internal', 'address', 'boolean', 'boolean'], ['mnt', 'qualitas', 'qualitas', 'corpus', 'compile', 'jgroups', 'org', 'jgroups', 'protocols', 'pbcast', 'streamin', 'stat', 'transfe', 'state', 'provider', 'thread', 'spawner', 'run'], ['mnt', 'qualitas', 'qualitas', 'corpus', 'compile', 'jgroups', 'org', 'jgroups', 'j', 'channel', 'factory', 'parse', 'element', 'boolean'], ['mnt', 'qualitas', 'qualitas', 'corpus', 'compile', 'jgroups', 'org', 'jgroups', 'demos', 'total', 'order', 'receiver', 'thread', 'run'], ['mnt', 'qualitas', 'qualitas', 'corpus', 'compile', 'jgroups', 'org', 'jgroups', 'blocks', 'multi', 'request', 'send', 'request', 'list', 'address', 'long', 'request', 'options'], ['mnt', 'qualitas', 'qualitas', 'corpus', 'compile', 'jgroups', 'org', 'jgroups', 'blocks', 'repl', 'cache', 'get'], ['mnt', 'qualitas', 'qualitas', 'corpus', 'compile', 'jgroups', 'org', 'jgroups', 'blocks', 'repl', 'cache', 'custom', 'marshaller', 'object', 'to', 'byte', 'buffer', 'object'], ['mnt', 'qualitas', 'qualitas', 'corpus', 'compile', 'jgroups', 'org', 'jgroups', 'blocks', 'abstract', 'connection', 'map', 'reaper', 'run'], ['mnt', 'qualitas', 'qualitas', 'corpus', 'compile', 'jgroups', 'org', 'jgroups', 'util', 'properties', 'to', 'xml', 'recurse', 'list', 'class', 'string', 'class', 'extends', 'annotation'], ['mnt', 'qualitas', 'qualitas', 'corpus', 'compile', 'jgroups', 'org', 'jgroups', 'util', 'util', 'object', 'to', 'stream', 'object', 'data', 'output', 'stream'], ['mnt', 'qualitas', 'qualitas', 'corpus', 'compile', 'jgroups', 'org', 'jgroups', 'util', 'proxy', 'main', 'string'], ['mnt', 'qualitas', 'qualitas', 'corpus', 'compile', 'jgroups', 'org', 'jgroups', 'protocols', 't', 'incoming', 'packet', 'run'], ['mnt', 'qualitas', 'qualitas', 'corpus', 'compile', 'jgroups', 'org', 'jgroups', 'protocols', 'compress', 'down', 'event'], ['mnt', 'qualitas', 'qualitas', 'corpus', 'compile', 'jgroups', 'org', 'jgroups', 'protocols', 'scop', 'queue', 'thread', 'run'], ['mnt', 'qualitas', 'qualitas', 'corpus', 'compile', 'jgroups', 'org', 'jgroups', 'protocols', 'unicas', 'handle', 'data', 'received', 'address', 'long', 'long', 'boolean', 'message', 'event'], ['mnt', 'qualitas', 'qualitas', 'corpus', 'compile', 'jgroups', 'org', 'jgroups', 'stack', 'configurator', 'create', 'protocols', 'vector', 'protocol', 'configuration', 'protocol', 'stack'], ['mnt', 'qualitas', 'qualitas', 'corpus', 'compile', 'jgroups', 'org', 'jgroups', 'stack', 'configurator', 'check', 'dependency', 'references', 'present', 'list', 'accessible', 'object', 'map', 'string', 'accessible', 'object'], ['mnt', 'qualitas', 'qualitas', 'corpus', 'compile', 'jgroups', 'org', 'jgroups', 'stack', 'nak', 'receiver', 'window', 'remove', 'boolean'], ['mnt', 'qualitas', 'qualitas', 'corpus', 'compile', 'jgroups', 'org', 'jgroups', 'stack', 'ack', 'mcast', 'sender', 'window', 'wait', 'until', 'all', 'acks', 'received', 'long'], ['mnt', 'qualitas', 'qualitas', 'corpus', 'compile', 'jgroups', 'org', 'jgroups', 'blocks', 'repl', 'cache', 'put', 'short', 'long', 'boolean'], ['mnt', 'qualitas', 'qualitas', 'corpus', 'compile', 'jgroups', 'org', 'jgroups', 'blocks', 'memcached', 'connector', 'request', 'handler', 'run'], ['mnt', 'qualitas', 'qualitas', 'corpus', 'compile', 'jgroups', 'org', 'jgroups', 'util', 'util', 'get', 'all', 'declared', 'methods', 'with', 'annotations', 'class', 'class', 'extends', 'annotation'], ['mnt', 'qualitas', 'qualitas', 'corpus', 'compile', 'jgroups', 'org', 'jgroups', 'util', 'util', 'replace', 'properties', 'string', 'properties'], ['mnt', 'qualitas', 'qualitas', 'corpus', 'compile', 'jgroups', 'org', 'jgroups', 'util', 'proxy', 'loop', 'selector'], ['mnt', 'qualitas', 'qualitas', 'corpus', 'compile', 'jgroups', 'org', 'jgroups', 'protocols', 't', 'transfer', 'queue', 'bundler', 'run'], ['mnt', 'qualitas', 'qualitas', 'corpus', 'compile', 'jgroups', 'org', 'jgroups', 'protocols', 'ping', 'read', 'all', 'string'], ['mnt', 'qualitas', 'qualitas', 'corpus', 'compile', 'jgroups', 'org', 'jgroups', 'protocols', 'compress', 'up', 'event'], ['mnt', 'qualitas', 'qualitas', 'corpus', 'compile', 'jgroups', 'org', 'jgroups', 'protocols', 'auth', 'up', 'event'], ['mnt', 'qualitas', 'qualitas', 'corpus', 'compile', 'jgroups', 'org', 'jgroups', 'protocols', 'fil', 'ping', 'send', 'get', 'members', 'request', 'string', 'promise', 'boolean'], ['mnt', 'qualitas', 'qualitas', 'corpus', 'compile', 'jgroups', 'org', 'jgroups', 'protocols', 'rat', 'limiter', 'down', 'event'], ['mnt', 'qualitas', 'qualitas', 'corpus', 'compile', 'jgroups', 'org', 'jgroups', 'protocols', 'sfc', 'down', 'event'], ['mnt', 'qualitas', 'qualitas', 'corpus', 'compile', 'jgroups', 'org', 'jgroups', 'stack', 'configurator', 'set', 'default', 'values', 'vector', 'protocol', 'configuration', 'vector', 'protocol', 'stack', 'type'], ['mnt', 'qualitas', 'qualitas', 'corpus', 'compile', 'jgroups', 'org', 'jgroups', 'stack', 'configurator', 'remove', 'deprecated', 'properties', 'object', 'map', 'string', 'string'], ['mnt', 'qualitas', 'qualitas', 'corpus', 'compile', 'jgroups', 'org', 'jgroups', 'stack', 'protocol', 'stack', 'copy', 'protocols', 'protocol', 'stack'], ['mnt', 'qualitas', 'qualitas', 'corpus', 'compile', 'jgroups', 'org', 'jgroups', 'stack', 'protocol', 'stack', 'destroy'], ['mnt', 'qualitas', 'qualitas', 'corpus', 'compile', 'jgroups', 'org', 'jgroups', 'stack', 'protocol', 'stack', 'start', 'stack', 'string', 'address'], ['mnt', 'qualitas', 'qualitas', 'corpus', 'compile', 'jgroups', 'org', 'jgroups', 'stack', 'protocol', 'stack', 'stop', 'stack', 'string'], ['mnt', 'qualitas', 'qualitas', 'corpus', 'compile', 'jmoney', 'net', 'sf', 'jmoney', 'gui', 'selection', 'combo', 'box', 'set', 'selected', 'item', 'without', 'event', 'object'], ['mnt', 'qualitas', 'qualitas', 'corpus', 'compile', 'jmoney', 'net', 'sf', 'jmoney', 'gui', 'category', 'combo', 'box', 'category', 'combo', 'box'], ['mnt', 'qualitas', 'qualitas', 'corpus', 'compile', 'jmoney', 'net', 'sf', 'jmoney', 'gui', 'category', 'panel', 'update', 'u'], ['mnt', 'qualitas', 'qualitas', 'corpus', 'compile', 'jmoney', 'net', 'sf', 'jmoney', 'gui', 'font', 'chooser', 'show', 'dialog', 'font'], ['mnt', 'qualitas', 'qualitas', 'corpus', 'compile', 'jmoney', 'net', 'sf', 'jmoney', 'gui', 'font', 'chooser', 'update', 'preview'], ['mnt', 'qualitas', 'qualitas', 'corpus', 'compile', 'jmoney', 'net', 'sf', 'jmoney', 'gui', 'account', 'panel', 'set', 'session', 'session'], ['mnt', 'qualitas', 'qualitas', 'corpus', 'compile', 'jmoney', 'net', 'sf', 'jmoney', 'gui', 'account', 'entries', 'panel', 'search', 'entry', 'backwards', 'string'], ['mnt', 'qualitas', 'qualitas', 'corpus', 'compile', 'jmoney', 'net', 'sf', 'jmoney', 'gui', 'editable', 'metal', 'theme', 'get', 'secondary'], ['mnt', 'qualitas', 'qualitas', 'corpus', 'compile', 'jmoney', 'net', 'sf', 'jmoney', 'gui', 'editable', 'metal', 'theme', 'set', 'user', 'font', 'font', 'ui', 'resource'], ['mnt', 'qualitas', 'qualitas', 'corpus', 'compile', 'jmoney', 'net', 'sf', 'jmoney', 'gui', 'main', 'frame', 'import', 'm'], ['mnt', 'qualitas', 'qualitas', 'corpus', 'compile', 'jmoney', 'net', 'sf', 'jmoney', 'gui', 'main', 'frame', 'menu', 'bar', 'set', 'session', 'opened', 'boolean'], ['mnt', 'qualitas', 'qualitas', 'corpus', 'compile', 'jmoney', 'net', 'sf', 'jmoney', 'gui', 'entry', 'list', 'item', 'set', 'date', 'format', 'very', 'simple', 'date', 'format'], ['mnt', 'qualitas', 'qualitas', 'corpus', 'compile', 'jmoney', 'net', 'sf', 'jmoney', 'gui', 'main', 'frame', 'tool', 'bar', 'jb', 'init'], ['mnt', 'qualitas', 'qualitas', 'corpus', 'compile', 'jmoney', 'net', 'sf', 'jmoney', 'model', 'double', 'entry', 'set', 'memo', 'string'], ['mnt', 'qualitas', 'qualitas', 'corpus', 'compile', 'jmoney', 'net', 'sf', 'jmoney', 'model', 'account', 'get', 'entries'], ['mnt', 'qualitas', 'qualitas', 'corpus', 'compile', 'jmoney', 'net', 'sf', 'jmoney', 'entry', 'filter', 'check', 'category', 'net', 'sf', 'jmoney', 'model', 'entry'], ['mnt', 'qualitas', 'qualitas', 'corpus', 'compile', 'jmoney', 'net', 'sf', 'jmoney', 'sorted', 'tree', 'model', 'sort', 'children', 'sorted', 'tree', 'node'], ['mnt', 'qualitas', 'qualitas', 'corpus', 'compile', 'jmoney', 'net', 'sf', 'jmoney', 'entry', 'comparator', 'get', 'instance', 'string', 'string'], ['mnt', 'qualitas', 'qualitas', 'corpus', 'compile', 'jmoney', 'net', 'sf', 'jmoney', 'entry', 'comparator', 'category', 'comparator', 'compare', 'entries', 'entry', 'entry'], ['mnt', 'qualitas', 'qualitas', 'corpus', 'compile', 'jmoney', 'net', 'sf', 'jmoney', 'io', 'qif', 'export', 'account', 'session', 'account', 'file'], ['mnt', 'qualitas', 'qualitas', 'corpus', 'compile', 'jmoney', 'net', 'sf', 'jmoney', 'io', 'm', 'import', 'transaction', 'session', 'buffered', 'reader'], ['mnt', 'qualitas', 'qualitas', 'corpus', 'compile', 'jmoney', 'net', 'sf', 'jmoney', 'io', 'qif', 'remove', 'similar', 'transfer', 'account', 'entry'], ['mnt', 'qualitas', 'qualitas', 'corpus', 'compile', 'poi', 'org', 'apache', 'poi', 'util', 'string', 'util', 'write', 'unicode', 'string', 'flag', 'and', 'data', 'endian', 'output', 'string'], ['mnt', 'qualitas', 'qualitas', 'corpus', 'compile', 'poi', 'org', 'apache', 'poi', 'ss', 'usermodel', 'cell', 'value', 'cell', 'value', 'string'], ['mnt', 'qualitas', 'qualitas', 'corpus', 'compile', 'poi', 'org', 'apache', 'poi', 'hssf', 'usermodel', 'hssf', 'cell', 'to', 'string'], ['mnt', 'qualitas', 'qualitas', 'corpus', 'compile', 'poi', 'org', 'apache', 'poi', 'hssf', 'usermodel', 'hssf', 'font', 'formatting', 'is', 'outline', 'on'], ['mnt', 'qualitas', 'qualitas', 'corpus', 'compile', 'poi', 'org', 'apache', 'poi', 'hssf', 'usermodel', 'hssf', 'workbook', 'get', 'workbook'], ['mnt', 'qualitas', 'qualitas', 'corpus', 'compile', 'poi', 'org', 'apache', 'poi', 'hssf', 'record', 'abstract', 'escher', 'holder', 'record', 'decode'], ['mnt', 'qualitas', 'qualitas', 'corpus', 'compile', 'poi', 'org', 'apache', 'poi', 'hssf', 'record', 'chart', 'series', 'index', 'record', 'get', 'data', 'size'], ['mnt', 'qualitas', 'qualitas', 'corpus', 'compile', 'poi', 'org', 'apache', 'poi', 'hssf', 'record', 'formula', 'func', 'var', 'ptg', 'create', 'stringint'], ['mnt', 'qualitas', 'qualitas', 'corpus', 'compile', 'poi', 'org', 'apache', 'poi', 'hssf', 'record', 'formula', 'attr', 'ptg', 'is', 'optimized', 'choose'], ['mnt', 'qualitas', 'qualitas', 'corpus', 'compile', 'poi', 'org', 'apache', 'poi', 'hssf', 'record', 'aggregates', 'record', 'aggregate', 'position', 'tracking', 'visitor', 'position', 'tracking', 'visitor', 'record', 'visitor', 'int'], ['mnt', 'qualitas', 'qualitas', 'corpus', 'compile', 'poi', 'org', 'apache', 'poi', 'hssf', 'record', 'aggregates', 'row', 'records', 'aggregate', 'create', 'dimensions', 'dimensions', 'record'], ['mnt', 'qualitas', 'qualitas', 'corpus', 'compile', 'poi', 'org', 'apache', 'poi', 'hssf', 'record', 'crypto', 'biff', 'decrypting', 'stream', 'read', 'int'], ['mnt', 'qualitas', 'qualitas', 'corpus', 'compile', 'poi', 'org', 'apache', 'poi', 'ddf', 'escher', 'complex', 'property', 'serialize', 'complex', 'part', 'byte', 'int'], ['mnt', 'qualitas', 'qualitas', 'corpus', 'compile', 'poi', 'org', 'apache', 'poi', 'hssf', 'model', 'simple', 'filled', 'shape', 'get', 'obj', 'record'], ['mnt', 'qualitas', 'qualitas', 'corpus', 'compile', 'poi', 'org', 'apache', 'poi', 'ss', 'formula', 'evaluation', 'cache', 'are', 'values', 'equal', 'value', 'eval', 'value', 'eval'], ['mnt', 'qualitas', 'qualitas', 'corpus', 'compile', 'poi', 'org', 'apache', 'poi', 'hpsf', 'custom', 'properties', 'put', 'custom', 'property'], ['mnt', 'qualitas', 'qualitas', 'corpus', 'compile', 'poi', 'org', 'apache', 'poi', 'hpsf', 'document', 'summary', 'information', 'get', 'hidden', 'count'], ['mnt', 'qualitas', 'qualitas', 'corpus', 'compile', 'poi', 'org', 'apache', 'poi', 'ss', 'util', 'mutable', 'fp', 'number', 'normalise', 'bit'], ['mnt', 'qualitas', 'qualitas', 'corpus', 'compile', 'poi', 'org', 'apache', 'poi', 'poifs', 'storage', 'header', 'block', 'writer', 'calculate', 'xbat', 'storage', 'requirements', 'int'], ['mnt', 'qualitas', 'qualitas', 'corpus', 'compile', 'poi', 'org', 'apache', 'poi', 'util', 'binary', 'tree', 'values', 'by', 'value'], ['mnt', 'qualitas', 'qualitas', 'corpus', 'compile', 'poi', 'org', 'apache', 'poi', 'util', 'binary', 'tree', 'do', 'red', 'black', 'insert', 'node', 'int'], ['mnt', 'qualitas', 'qualitas', 'corpus', 'compile', 'poi', 'org', 'apache', 'poi', 'util', 'binary', 'tree', 'values'], ['mnt', 'qualitas', 'qualitas', 'corpus', 'compile', 'poi', 'org', 'apache', 'poi', 'hssf', 'usermodel', 'hssf', 'sheet', 'shift', 'rows', 'int', 'int', 'int', 'boolean', 'boolean', 'boolean'], ['mnt', 'qualitas', 'qualitas', 'corpus', 'compile', 'poi', 'org', 'apache', 'poi', 'hssf', 'usermodel', 'hssf', 'workbook', 'search', 'for', 'pictures', 'list', 'list', 'hssf', 'picture', 'data'], ['mnt', 'qualitas', 'qualitas', 'corpus', 'compile', 'poi', 'org', 'apache', 'poi', 'hssf', 'usermodel', 'hssf', 'workbook', 'get', 'all', 'embedded', 'objects', 'list', 'list', 'hssf', 'object', 'data'], ['mnt', 'qualitas', 'qualitas', 'corpus', 'compile', 'poi', 'org', 'apache', 'poi', 'hssf', 'usermodel', 'static', 'font', 'metrics', 'get', 'font', 'details', 'font'], ['mnt', 'qualitas', 'qualitas', 'corpus', 'compile', 'poi', 'org', 'apache', 'poi', 'hssf', 'record', 'hyperlink', 'record', 'hyperlink', 'record', 'record', 'input', 'stream'], ['mnt', 'qualitas', 'qualitas', 'corpus', 'compile', 'poi', 'org', 'apache', 'poi', 'hssf', 'record', 'record', 'factory', 'input', 'stream', 'stream', 'encryption', 'info', 'stream', 'encryption', 'info', 'record', 'input', 'stream', 'list', 'record'], ['mnt', 'qualitas', 'qualitas', 'corpus', 'compile', 'poi', 'org', 'apache', 'poi', 'hssf', 'record', 'escher', 'aggregate', 'convert', 'shapes', 'hssf', 'shape', 'container', 'escher', 'container', 'record', 'map'], ['mnt', 'qualitas', 'qualitas', 'corpus', 'compile', 'poi', 'org', 'apache', 'poi', 'poifs', 'filesystem', 'document', 'input', 'stream', 'read', 'fully', 'byte', 'int', 'int'], ['mnt', 'qualitas', 'qualitas', 'corpus', 'compile', 'poi', 'org', 'apache', 'poi', 'hssf', 'dev', 'biff', 'viewer', 'create', 'records', 'input', 'stream', 'print', 'stream', 'biff', 'record', 'listener', 'boolean'], ['mnt', 'qualitas', 'qualitas', 'corpus', 'compile', 'poi', 'org', 'apache', 'poi', 'hssf', 'record', 'aggregates', 'chart', 'substream', 'record', 'aggregate', 'chart', 'substream', 'record', 'aggregate', 'record', 'stream'], ['mnt', 'qualitas', 'qualitas', 'corpus', 'compile', 'poi', 'org', 'apache', 'poi', 'hssf', 'model', 'workbook', 'find', 'drawing', 'group'], ['mnt', 'qualitas', 'qualitas', 'corpus', 'compile', 'poi', 'org', 'apache', 'poi', 'hssf', 'model', 'drawing', 'manager', 'allocate', 'shape', 'id', 'short'], ['mnt', 'qualitas', 'qualitas', 'corpus', 'compile', 'poi', 'org', 'apache', 'poi', 'ss', 'formula', 'formula', 'parser', 'parse', 'rangeable'], ['mnt', 'qualitas', 'qualitas', 'corpus', 'compile', 'poi', 'org', 'apache', 'poi', 'ss', 'formula', 'formula', 'cell', 'cache', 'entry', 'set', 'remove', 'cell', 'cache', 'entry'], ['mnt', 'qualitas', 'qualitas', 'corpus', 'compile', 'poi', 'org', 'apache', 'poi', 'hpsf', 'property', 'read', 'dictionary', 'byte', 'long', 'int', 'int'], ['mnt', 'qualitas', 'qualitas', 'corpus', 'compile', 'poi', 'org', 'apache', 'poi', 'poifs', 'dev', 'poifs', 'view', 'engine', 'inspect', 'viewable', 'object', 'boolean', 'int', 'string'], ['mnt', 'qualitas', 'qualitas', 'corpus', 'compile', 'poi', 'org', 'apache', 'poi', 'util', 'binary', 'tree', 'do', 'red', 'black', 'delete', 'fixup', 'node', 'int'], ['mnt', 'qualitas', 'qualitas', 'corpus', 'compile', 'poi', 'org', 'apache', 'poi', 'hssf', 'record', 'formula', 'functions', 'boolean', 'function', 'calculate', 'value', 'eval'], ['mnt', 'qualitas', 'qualitas', 'corpus', 'compile', 'poi', 'org', 'apache', 'poi', 'hssf', 'usermodel', 'hssf', 'cell', 'find', 'cell', 'comment', 'sheet', 'int', 'int'], ['mnt', 'qualitas', 'qualitas', 'corpus', 'compile', 'poi', 'org', 'apache', 'poi', 'hssf', 'usermodel', 'hssf', 'optimiser', 'optimise', 'fonts', 'hssf', 'workbook'], ['mnt', 'qualitas', 'qualitas', 'corpus', 'compile', 'poi', 'org', 'apache', 'poi', 'hssf', 'usermodel', 'hssf', 'sheet', 'auto', 'size', 'column', 'int', 'boolean'], ['mnt', 'qualitas', 'qualitas', 'corpus', 'compile', 'poi', 'org', 'apache', 'poi', 'poifs', 'filesystem', 'poifs', 'document', 'path', 'equals', 'object'], ['mnt', 'qualitas', 'qualitas', 'corpus', 'compile', 'poi', 'org', 'apache', 'poi', 'ddf', 'escher', 'dump', 'dump', 'old', 'long', 'input', 'stream', 'print', 'stream'], ['mnt', 'qualitas', 'qualitas', 'corpus', 'compile', 'poi', 'org', 'apache', 'poi', 'hssf', 'model', 'workbook', 'serialize', 'int', 'byte'], ['mnt', 'qualitas', 'qualitas', 'corpus', 'compile', 'poi', 'org', 'apache', 'poi', 'ss', 'formula', 'workbook', 'evaluator', 'evaluate', 'formula', 'operation', 'evaluation', 'context', 'ptg'], ['mnt', 'qualitas', 'qualitas', 'corpus', 'compile', 'poi', 'org', 'apache', 'poi', 'ss', 'formula', 'evaluation', 'cache', 'notify', 'update', 'cell', 'int', 'int', 'evaluation', 'cell'], ['mnt', 'qualitas', 'qualitas', 'corpus', 'compile', 'poi', 'org', 'apache', 'poi', 'hssf', 'eventmodel', 'event', 'record', 'factory', 'process', 'records', 'input', 'stream'], ['mnt', 'qualitas', 'qualitas', 'corpus', 'compile', 'poi', 'org', 'apache', 'poi', 'hssf', 'extractor', 'excel', 'extractor', 'get', 'text'], ['mnt', 'qualitas', 'qualitas', 'corpus', 'compile', 'trove', 'gnu', 'trove', 'serialization', 'procedure', 'execute', 'byte', 'long'], ['mnt', 'qualitas', 'qualitas', 'corpus', 'compile', 'trove', 'gnu', 'trove', 'serialization', 'procedure', 'execute', 'float', 'short'], ['mnt', 'qualitas', 'qualitas', 'corpus', 'compile', 'trove', 'gnu', 'trove', 'serialization', 'procedure', 'execute', 'object', 'short'], ['mnt', 'qualitas', 'qualitas', 'corpus', 'compile', 'trove', 'gnu', 'trove', 't', 'linked', 'list', 't', 'linked', 'list'], ['mnt', 'qualitas', 'qualitas', 'corpus', 'compile', 'trove', 'gnu', 'trove', 't', 'linked', 'list', 'add', 'last', 't', 'linkable'], ['mnt', 'qualitas', 'qualitas', 'corpus', 'compile', 'trove', 'gnu', 'trove', 't', 'linked', 'list', 'get', 'next', 't', 'linkable'], ['mnt', 'qualitas', 'qualitas', 'corpus', 'compile', 'trove', 'gnu', 'trove', 't', 'linked', 'list', 'for', 'each', 'value', 't', 'object', 'procedure'], ['mnt', 'qualitas', 'qualitas', 'corpus', 'compile', 'trove', 'gnu', 'trove', 't', 'linked', 'list', 'iterator', 'impl', 'previous', 'index'], ['mnt', 'qualitas', 'qualitas', 'corpus', 'compile', 'trove', 'gnu', 'trove', 't', 'hash', 'set', 't', 'hash', 'set'], ['mnt', 'qualitas', 'qualitas', 'corpus', 'compile', 'trove', 'gnu', 'trove', 't', 'hash', 'set', 'retain', 'all', 'collection'], ['mnt', 'qualitas', 'qualitas', 'corpus', 'compile', 'trove', 'gnu', 'trove', 't', 'hash', 'map', 'map', 'backed', 'view', 'to', 'array'], ['mnt', 'qualitas', 'qualitas', 'corpus', 'compile', 'trove', 'gnu', 'trove', 't', 'object', 'hash', 't', 'object', 'hash', 'int', 't', 'object', 'hashing', 'strategy'], ['mnt', 'qualitas', 'qualitas', 'corpus', 'compile', 'trove', 'gnu', 'trove', 't', 'object', 'hash', 'capacity'], ['mnt', 'qualitas', 'qualitas', 'corpus', 'compile', 'trove', 'gnu', 'trove', 't', 'hash', 'map', 'entry', 'entry', 'int'], ['mnt', 'qualitas', 'qualitas', 'corpus', 'compile', 'trove', 'gnu', 'trove', 't', 'linkable', 'adapter', 'set', 'previous', 'gnu', 'trove', 't', 'linkable'], ['mnt', 'qualitas', 'qualitas', 'corpus', 'compile', 'trove', 'gnu', 'trove', 't', 'hash', 'capacity'], ['mnt', 'qualitas', 'qualitas', 'corpus', 'compile', 'trove', 'gnu', 'trove', 'benchmark', 'result', 'get', 'ours'], ['mnt', 'qualitas', 'qualitas', 'corpus', 'compile', 'trove', 'gnu', 'trove', 'benchmark', 'operation', 'theirs'], ['mnt', 'qualitas', 'qualitas', 'corpus', 'compile', 'trove', 'gnu', 'trove', 'benchmark', 'main', 'get', 'map', 'put', 'op'], ['mnt', 'qualitas', 'qualitas', 'corpus', 'compile', 'trove', 'gnu', 'trove', 't', 'object', 'hash', 'insertion', 'index'], ['mnt', 'qualitas', 'qualitas', 'corpus', 'compile', 'trove', 'gnu', 'trove', 'generate', 'generate', 'generate', 'decorators', 'class', 'file', 'file'], ['mnt', 'qualitas', 'qualitas', 'corpus', 'compile', 'xalan', 'org', 'apache', 'xalan', 'templates', 'avt', 'part', 'simple', 'call', 'visitors', 'xslt', 'visitor'], ['mnt', 'qualitas', 'qualitas', 'corpus', 'compile', 'xalan', 'org', 'apache', 'xalan', 'xsltc', 'compiler', 'variable', 'base', 'add', 'reference', 'variable', 'ref', 'base'], ['mnt', 'qualitas', 'qualitas', 'corpus', 'compile', 'xalan', 'org', 'apache', 'xalan', 'xsltc', 'compiler', 'syntax', 'tree', 'node', 'element', 'at', 'int'], ['mnt', 'qualitas', 'qualitas', 'corpus', 'compile', 'xalan', 'org', 'apache', 'xml', 'serializer', 'utils', 'att', 'list', 'get', 'q', 'name', 'int'], ['mnt', 'qualitas', 'qualitas', 'corpus', 'compile', 'xalan', 'org', 'apache', 'xml', 'dtm', 'ref', 'incremental', 'sax', 'source', 'filter', 'set', 'content', 'handler', 'content', 'handler'], ['mnt', 'qualitas', 'qualitas', 'corpus', 'compile', 'xalan', 'org', 'apache', 'xalan', 'xsltc', 'dom', 'simple', 'result', 'tree', 'impl', 'is', 'supported', 'string', 'string'], ['mnt', 'qualitas', 'qualitas', 'corpus', 'compile', 'xalan', 'org', 'apache', 'xalan', 'xsltc', 'dom', 'adaptive', 'result', 'tree', 'impl', 'get', 'expanded', 'type', 'i', 'int'], ['mnt', 'qualitas', 'qualitas', 'corpus', 'compile', 'xalan', 'org', 'apache', 'xalan', 'xsltc', 'dom', 'sax', 'impl', 'handle', 'text', 'escaping'], ['mnt', 'qualitas', 'qualitas', 'corpus', 'compile', 'xalan', 'org', 'apache', 'xml', 'res', 'xml', 'error', 'resources', 'zh', 'get', 'contents'], ['mnt', 'qualitas', 'qualitas', 'corpus', 'compile', 'xalan', 'org', 'apache', 'xml', 'res', 'xml', 'error', 'resources', 'fr', 'get', 'contents'], ['mnt', 'qualitas', 'qualitas', 'corpus', 'compile', 'xalan', 'org', 'apache', 'xalan', 'lib', 'sql', 'dtm', 'document', 'index', 'node', 'int', 'int'], ['mnt', 'qualitas', 'qualitas', 'corpus', 'compile', 'xalan', 'org', 'apache', 'xalan', 'xsltc', 'compiler', 'util', 'security', 'support', 'get', 'file', 'exists', 'file'], ['mnt', 'qualitas', 'qualitas', 'corpus', 'compile', 'xalan', 'org', 'apache', 'xpath', 'axes', 'loc', 'path', 'iterator', 'bool', 'x', 'path', 'context'], ['mnt', 'qualitas', 'qualitas', 'corpus', 'compile', 'xalan', 'org', 'apache', 'xpath', 'axes', 'descendant', 'iterator', 'descendant', 'iterator', 'compiler', 'int', 'int'], ['mnt', 'qualitas', 'qualitas', 'corpus', 'compile', 'xalan', 'org', 'apache', 'xpath', 'objects', 'xr', 'tree', 'frag', 'str', 'string'], ['mnt', 'qualitas', 'qualitas', 'corpus', 'compile', 'xalan', 'org', 'apache', 'xml', 'utils', 'un', 'impl', 'node', 'set', 'id', 'attribute', 'string', 'boolean'], ['mnt', 'qualitas', 'qualitas', 'corpus', 'compile', 'xalan', 'org', 'apache', 'xml', 'utils', 'string', 'comparable', 'get', 'comparator', 'string', 'locale', 'collator', 'string'], ['mnt', 'qualitas', 'qualitas', 'corpus', 'compile', 'xalan', 'org', 'apache', 'xml', 'utils', 'node', 'vector', 'insert', 'in', 'order', 'int', 'int'], ['mnt', 'qualitas', 'qualitas', 'corpus', 'compile', 'xalan', 'org', 'apache', 'xalan', 'processor', 'xslt', 'element', 'def', 'q', 'name', 'equals', 'string', 'string'], ['mnt', 'qualitas', 'qualitas', 'corpus', 'compile', 'xalan', 'org', 'apache', 'xalan', 'templates', 'elem', 'template', 'element', 'resolve', 'prefix', 'tables'], ['mnt', 'qualitas', 'qualitas', 'corpus', 'compile', 'xalan', 'org', 'apache', 'xalan', 'templates', 'elem', 'template', 'element', 'unexecute', 'ns', 'decls', 'transformer', 'impl', 'string'], ['mnt', 'qualitas', 'qualitas', 'corpus', 'compile', 'xalan', 'org', 'apache', 'xalan', 'templates', 'template', 'list', 'get', 'template', 'x', 'path', 'context', 'int', 'q', 'name', 'int', 'int', 'boolean', 'dt'], ['mnt', 'qualitas', 'qualitas', 'corpus', 'compile', 'xalan', 'org', 'apache', 'xpath', 'functions', 'object', 'factory', 'find', 'provider', 'class', 'string', 'class', 'loader', 'boolean'], ['mnt', 'qualitas', 'qualitas', 'corpus', 'compile', 'xalan', 'org', 'apache', 'xalan', 'xsltc', 'compiler', 'function', 'call', 'find', 'constructors'], ['mnt', 'qualitas', 'qualitas', 'corpus', 'compile', 'xalan', 'org', 'apache', 'xml', 'dtm', 'ref', 'dtm', 'default', 'base', 'iterators', 'typed', 'preceding', 'sibling', 'iterator', 'next'], ['mnt', 'qualitas', 'qualitas', 'corpus', 'compile', 'xalan', 'org', 'apache', 'xalan', 'xsltc', 'dom', 'domws', 'filter', 'get', 'should', 'strip', 'space', 'int', 'dt'], ['mnt', 'qualitas', 'qualitas', 'corpus', 'compile', 'xalan', 'org', 'apache', 'xml', 'serializer', 'to', 'html', 'stream', 'trie', 'put', 'string', 'object'], ['mnt', 'qualitas', 'qualitas', 'corpus', 'compile', 'xalan', 'org', 'apache', 'xml', 'serializer', 'tree', 'walker', 'traverse', 'node', 'node'], ['mnt', 'qualitas', 'qualitas', 'corpus', 'compile', 'xalan', 'org', 'apache', 'xalan', 'xsltc', 'compiler', 'util', 'object', 'factory', 'find', 'class', 'loader'], ['mnt', 'qualitas', 'qualitas', 'corpus', 'compile', 'xalan', 'org', 'apache', 'xpath', 'axes', 'union', 'child', 'iterator', 'accept', 'node', 'int'], ['mnt', 'qualitas', 'qualitas', 'corpus', 'compile', 'xalan', 'org', 'apache', 'xml', 'utils', 'dom', 'helper', 'is', 'node', 'after', 'node', 'node'], ['mnt', 'qualitas', 'qualitas', 'corpus', 'compile', 'xalan', 'org', 'apache', 'xml', 'utils', 'dom', 'helper', 'is', 'node', 'after', 'sibling', 'node', 'node', 'node'], ['mnt', 'qualitas', 'qualitas', 'corpus', 'compile', 'xalan', 'org', 'apache', 'xml', 'utils', 'tree', 'walker', 'traverse', 'fragment', 'node'], ['mnt', 'qualitas', 'qualitas', 'corpus', 'compile', 'xalan', 'org', 'apache', 'xml', 'utils', 'xm', 'char', 'is', 'xm', 'valid', 'nmtoken', 'string'], ['mnt', 'qualitas', 'qualitas', 'corpus', 'compile', 'xalan', 'org', 'apache', 'xalan', 'transformer', 'transformer', 'impl', 'create', 'serialization', 'handler', 'result', 'output', 'properties'], ['mnt', 'qualitas', 'qualitas', 'corpus', 'compile', 'xalan', 'org', 'apache', 'xalan', 'transformer', 'transformer', 'impl', 'wait', 'transform', 'thread'], ['mnt', 'qualitas', 'qualitas', 'corpus', 'compile', 'xalan', 'org', 'apache', 'xml', 'serializer', 'dom', 'do', 'tree', 'walker', 'traverse', 'node'], ['mnt', 'qualitas', 'qualitas', 'corpus', 'compile', 'xalan', 'org', 'apache', 'xalan', 'xsltc', 'cmdline', 'object', 'factory', 'find', 'provider', 'class', 'string', 'class', 'loader', 'boolean'], ['mnt', 'qualitas', 'qualitas', 'corpus', 'compile', 'xalan', 'org', 'apache', 'xalan', 'templates', 'elem', 'call', 'template', 'execute', 'transformer', 'impl'], ['mnt', 'qualitas', 'qualitas', 'corpus', 'compile', 'xalan', 'org', 'apache', 'xalan', 'xsltc', 'runtime', 'object', 'factory', 'look', 'up', 'factory', 'class', 'name', 'string', 'string', 'string'], ['mnt', 'qualitas', 'qualitas', 'corpus', 'compile', 'xalan', 'org', 'apache', 'xml', 'dtm', 'ref', 'dtm', 'manager', 'default', 'get', 'dt', 'source', 'boolean', 'dtmws', 'filter', 'boolean', 'boolean'], ['mnt', 'qualitas', 'qualitas', 'corpus', 'compile', 'xalan', 'org', 'apache', 'xml', 'dtm', 'ref', 'dtm', 'default', 'base', 'iterators', 'typed', 'preceding', 'iterator', 'next'], ['mnt', 'qualitas', 'qualitas', 'corpus', 'compile', 'xalan', 'org', 'apache', 'xalan', 'xsltc', 'dom', 'bit', 'array', 'get', 'bit', 'number', 'int'], ['mnt', 'qualitas', 'qualitas', 'corpus', 'compile', 'xalan', 'org', 'apache', 'xml', 'serializer', 'encoding', 'info', 'encoding', 'impl', 'encoding', 'impl', 'string', 'int', 'int', 'int'], ['mnt', 'qualitas', 'qualitas', 'corpus', 'compile', 'xalan', 'org', 'apache', 'xml', 'serializer', 'writer', 'to', 'ut', 'buffered', 'write', 'char', 'int', 'int'], ['mnt', 'qualitas', 'qualitas', 'corpus', 'compile', 'xalan', 'org', 'apache', 'xalan', 'xsltc', 'compiler', 'util', 'method', 'generator', 'widen', 'conditional', 'branch', 'target', 'offsets'], ['mnt', 'qualitas', 'qualitas', 'corpus', 'compile', 'xalan', 'org', 'apache', 'xpath', 'axes', 'predicated', 'node', 'test', 'execute', 'predicates', 'int', 'x', 'path', 'context'], ['mnt', 'qualitas', 'qualitas', 'corpus', 'compile', 'xalan', 'org', 'apache', 'xml', 'utils', 'dom', 'helper', 'get', 'namespace', 'of', 'node', 'node'], ['mnt', 'qualitas', 'qualitas', 'corpus', 'compile', 'xalan', 'org', 'apache', 'xml', 'utils', 'object', 'factory', 'look', 'up', 'factory', 'class', 'name', 'string', 'string', 'string'], ['mnt', 'qualitas', 'qualitas', 'corpus', 'compile', 'xalan', 'org', 'apache', 'xpath', 'operations', 'variable', 'get', 'elem', 'variable'], ['mnt', 'qualitas', 'qualitas', 'corpus', 'compile', 'xalan', 'org', 'apache', 'xalan', 'transformer', 'transformer', 'identity', 'impl', 'transform', 'source', 'result'], ['mnt', 'qualitas', 'qualitas', 'corpus', 'compile', 'xalan', 'org', 'apache', 'xalan', 'transformer', 'key', 'table', 'get', 'refs', 'table'], ['mnt', 'qualitas', 'qualitas', 'corpus', 'compile', 'xalan', 'org', 'apache', 'xml', 'serializer', 'dom', 'do', 'tree', 'walker', 'is', 'wfxml', 'char', 'string', 'character'], ['mnt', 'qualitas', 'qualitas', 'corpus', 'compile', 'xalan', 'org', 'apache', 'xml', 'serializer', 'dom', 'do', 'tree', 'walker', 'init', 'properties', 'properties'], ['mnt', 'qualitas', 'qualitas', 'corpus', 'compile', 'xalan', 'org', 'apache', 'xml', 'dtm', 'ref', 'sax', 'dtm', 'sa', 'dt', 'typed', 'ancestor', 'iterator', 'set', 'start', 'node', 'int'], ['mnt', 'qualitas', 'qualitas', 'corpus', 'compile', 'xalan', 'org', 'apache', 'xalan', 'extensions', 'xsl', 'processor', 'context', 'output', 'to', 'result', 'tree', 'stylesheet', 'object']]\n"
          ]
        }
      ],
      "source": [
        "print(word_groups)"
      ]
    },
    {
      "cell_type": "code",
      "execution_count": 34,
      "metadata": {
        "colab": {
          "base_uri": "https://localhost:8080/",
          "height": 35
        },
        "id": "BOS9R9I_IyzQ",
        "outputId": "5079e81b-e2cb-49aa-a598-87cbd4d183f5"
      },
      "outputs": [
        {
          "output_type": "execute_result",
          "data": {
            "text/plain": [
              "'mnt qualitas qualitas corpus compile freemind freemind modes common plugins reminder hook base shutdown map hook'"
            ],
            "application/vnd.google.colaboratory.intrinsic+json": {
              "type": "string"
            }
          },
          "metadata": {},
          "execution_count": 34
        }
      ],
      "source": [
        "' '.join(word_groups[0])"
      ]
    },
    {
      "cell_type": "code",
      "execution_count": 35,
      "metadata": {
        "id": "VQ7uU165uIII"
      },
      "outputs": [],
      "source": [
        "concat_word_groups = []\n",
        "for i in range(0,840):\n",
        "  string1 = word_groups[i]\n",
        "  appendstr = ' '.join(string1)\n",
        "  concat_word_groups.append(appendstr)"
      ]
    },
    {
      "cell_type": "code",
      "execution_count": 36,
      "metadata": {
        "colab": {
          "base_uri": "https://localhost:8080/"
        },
        "id": "phP1dCQwYIWQ",
        "outputId": "365dfe1d-9347-442a-cd59-e816a7416e89"
      },
      "outputs": [
        {
          "output_type": "stream",
          "name": "stdout",
          "text": [
            "['mnt qualitas qualitas corpus compile freemind freemind modes common plugins reminder hook base shutdown map hook', 'mnt qualitas qualitas corpus compile freemind freemind modes mindmapmode mind map map model string reader creator create reader', 'mnt qualitas qualitas corpus compile freemind freemind modes mindmapmode mind map controller new model mode controller', 'mnt qualitas qualitas corpus compile freemind freemind modes mind map node get color', 'mnt qualitas qualitas corpus compile freemind freemind modes controller adapter controller popup menu listener popup menu canceled popup menu event', 'mnt qualitas qualitas corpus compile freemind freemind modes mind map link registry get link for i string', 'mnt qualitas qualitas corpus compile freemind freemind modes mindmapmode actions new child action get do action class', 'mnt qualitas qualitas corpus compile freemind freemind modes mindmapmode actions mode controller action handler start transaction string', 'mnt qualitas qualitas corpus compile freemind freemind modes mindmapmode actions paste action node coordinate node coordinate mind map node boolean', 'mnt qualitas qualitas corpus compile freemind freemind extensions stateful node hook set content string string', 'mnt qualitas qualitas corpus compile freemind freemind view mindmapview arrow link view is target visible', 'mnt qualitas qualitas corpus compile freemind freemind view mindmapview arrow link view get zoom', 'mnt qualitas qualitas corpus compile freemind freemind modes schememode scheme map model get xml writer', 'mnt qualitas qualitas corpus compile freemind freemind common next line property next line property', 'mnt qualitas qualitas corpus compile freemind freemind controller filter filter composer dialog get file chooser', 'mnt qualitas qualitas corpus compile freemind freemind modes browsemode browse xml element browse xml element mode controller vector hash map', 'mnt qualitas qualitas corpus compile freemind freemind modes mindmapmode attributeactors mind map mode attribute controller perform set value at node attribute table model object int int', 'mnt qualitas qualitas corpus compile freemind freemind modes mindmapmode attributeactors set attribute value actor act node attribute table model int string', 'mnt qualitas qualitas corpus compile freemind freemind modes mindmapmode mind map xml element mind map xml element mode controller vector hash map', 'mnt qualitas qualitas corpus compile freemind freemind modes mindmapmode mind map arrow link model change inclination int int node view point', 'mnt qualitas qualitas corpus compile freemind freemind modes mindmapmode encrypted mind map node encrypted mind map node mind map free mind main object', 'mnt qualitas qualitas corpus compile freemind freemind modes mindmapmode mind map controller change arrows of arrow link boolean boolean mind map arrow link model', 'mnt qualitas qualitas corpus compile freemind freemind controller map module manager map module change observer compound after map module change map module mode map module mode', 'mnt qualitas qualitas corpus compile freemind freemind main free mind transpose string char string', 'mnt qualitas qualitas corpus compile freemind freemind main xml element get attribute string string boolean hashtable', 'mnt qualitas qualitas corpus compile freemind freemind main xml element get double attribute string string boolean hashtable', 'mnt qualitas qualitas corpus compile freemind freemind modes mindmapmode actions node up action move node to mind map node mind map node int', 'mnt qualitas qualitas corpus compile freemind freemind modes mindmapmode actions mind map actions change arrows of arrow link boolean mind map arrow link model boolean', 'mnt qualitas qualitas corpus compile freemind freemind modes mindmapmode actions toggle folded action create fold action boolean list iterator boolean', 'mnt qualitas qualitas corpus compile freemind freemind modes mindmapmode actions change arrows in arrow link action get action pair boolean mind map arrow link model boolean', 'mnt qualitas qualitas corpus compile freemind freemind preferences layout grab key dialog init buffer key binding vector', 'mnt qualitas qualitas corpus compile freemind freemind preferences layout option panel key property key property string string j dialog', 'mnt qualitas qualitas corpus compile freemind freemind view mindmapview node view get last component boolean boolean', 'mnt qualitas qualitas corpus compile freemind freemind view mindmapview left node view layout get main view out point point node view node view', 'mnt qualitas qualitas corpus compile freemind freemind view mindmapview vertical root node view layout get main view out point point node view node view', 'mnt qualitas qualitas corpus compile freemind freemind modes common common node key listener edit handler edit boolean boolean key event', 'mnt qualitas qualitas corpus compile freemind freemind modes mindmapmode attributeactors import attributes dialog my renderer get tree cell renderer component j tree boolean object boolean int boolean boolean', 'mnt qualitas qualitas corpus compile freemind freemind view mindmapview cloud view paint clouds double double double double double graphics graphics', 'mnt qualitas qualitas corpus compile freemind freemind view mindmapview path b box accum quad double double double double double double double double', 'mnt qualitas qualitas corpus compile freemind freemind view mindmapview path b box accum cubic double double double double double double double double double double', 'mnt qualitas qualitas corpus compile freemind freemind common optional dont show me again dialog optional dont show me again dialog component text translator int string j frame string dont show property handler', 'mnt qualitas qualitas corpus compile jasml com jasml compiler source code parser preprocess constant values string', 'mnt qualitas qualitas corpus compile jasml com jasml compiler source code parser parse integer string', 'mnt qualitas qualitas corpus compile jasml com jasml compiler grammer exception grammer exception string exception', 'mnt qualitas qualitas corpus compile jasml com jasml compiler scanner token type', 'mnt qualitas qualitas corpus compile jasml com jasml helper util has method body short', 'mnt qualitas qualitas corpus compile jasml com jasml helper util to inner class name string', 'mnt qualitas qualitas corpus compile jasml com jasml helper opcode loader load opcodes', 'mnt qualitas qualitas corpus compile jasml com jasml helper opcode loader prt string', 'mnt qualitas qualitas corpus compile jasml com jasml classes constant string constant string int', 'mnt qualitas qualitas corpus compile jasml com jasml decompiler source code builder to string constant methodref', 'mnt qualitas qualitas corpus compile jasml com jasml decompiler source code builder to string static java class', 'mnt qualitas qualitas corpus compile jasml com jasml decompiler java class parser read constant pool', 'mnt qualitas qualitas corpus compile jasml com jasml decompiler java class parser read interfaces int', 'mnt qualitas qualitas corpus compile jasml com jasml decompiler java class parser read field data input stream', 'mnt qualitas qualitas corpus compile jasml com jasml decompiler java class parser read exception table item data input stream', 'mnt qualitas qualitas corpus compile jasml com jasml compiler source code parser parse method attributes method array list labeled instructions attribute code array list', 'mnt qualitas qualitas corpus compile jasml com jasml compiler source code parser opcode wrapper opcode wrapper int byte byte object', 'mnt qualitas qualitas corpus compile jasml com jasml compiler grammer exception grammer exception int int int string', 'mnt qualitas qualitas corpus compile jasml com jasml compiler grammer exception grammer exception int int string', 'mnt qualitas qualitas corpus compile jasml com jasml compiler constant pool generator add fieldref string string string', 'mnt qualitas qualitas corpus compile jasml com jasml compiler constant pool generator add interface methodref string string string string', 'mnt qualitas qualitas corpus compile jasml com jasml compiler constant pool generator add methodref string string string string', 'mnt qualitas qualitas corpus compile jasml com jasml compiler constant pool generator add method name and type string string string', 'mnt qualitas qualitas corpus compile jasml com jasml compiler parsing exception parsing exception int int string', 'mnt qualitas qualitas corpus compile jasml com jasml compiler scanner partial scanner char int int int int', 'mnt qualitas qualitas corpus compile jasml com jasml compiler scanner scanner string int int', 'mnt qualitas qualitas corpus compile jasml com jasml compiler scanner exception int int int string', 'mnt qualitas qualitas corpus compile jasml com jasml helper util pad char string int char', 'mnt qualitas qualitas corpus compile jasml com jasml classes attribute line number table attribute line number table int int line number', 'mnt qualitas qualitas corpus compile jasml com jasml classes attribute inner classes inner class inner class int int int int', 'mnt qualitas qualitas corpus compile jasml com jasml classes attribute exceptions attribute exceptions int int int', 'mnt qualitas qualitas corpus compile jasml com jasml classes attribute code exception table item exception table item int int int int', 'mnt qualitas qualitas corpus compile jasml com jasml classes attribute code opcode opcode int byte byte', 'mnt qualitas qualitas corpus compile jasml com jasml classes attribute local variable table attribute local variable table int int local variable', 'mnt qualitas qualitas corpus compile jasml com jasml classes method method int int int int attribute', 'mnt qualitas qualitas corpus compile jasml com jasml decompiler source code builder get local variable name int int local variable', 'mnt qualitas qualitas corpus compile jasml com jasml classes attribute code attribute code int int int int opcode int exception table item int attribute', 'mnt qualitas qualitas corpus compile jasperreports net sf jasperreports engine base jr base break jr base break jr break jr base object factory', 'mnt qualitas qualitas corpus compile jasperreports net sf jasperreports engine base jr base print graphic element read object object input stream', 'mnt qualitas qualitas corpus compile jasperreports net sf jasperreports engine base jr base print text get mode value', 'mnt qualitas qualitas corpus compile jasperreports net sf jasperreports engine base jr base sort field clone', 'mnt qualitas qualitas corpus compile jasperreports net sf jasperreports engine util jr styled text length', 'mnt qualitas qualitas corpus compile jasperreports net sf jasperreports engine util jr xml write helper flush buffer', 'mnt qualitas qualitas corpus compile jasperreports net sf jasperreports engine jr abstract object factory get visit result jr visitable', 'mnt qualitas qualitas corpus compile jasperreports net sf jasperreports engine jr wrapping svg renderer get backcolor', 'mnt qualitas qualitas corpus compile jasperreports net sf jasperreports engine jr text field set blank when null boolean', 'mnt qualitas qualitas corpus compile jasperreports net sf jasperreports engine element decorator get height', 'mnt qualitas qualitas corpus compile jasperreports net sf jasperreports engine component fill context get report timezone', 'mnt qualitas qualitas corpus compile jasperreports net sf jasperreports engine export ooxml xlsx border info get id', 'mnt qualitas qualitas corpus compile jasperreports net sf jasperreports engine export jr pdf exporter get y align factor jr print image', 'mnt qualitas qualitas corpus compile jasperreports net sf jasperreports components table fill table report scriptlet after page init', 'mnt qualitas qualitas corpus compile jasperreports net sf jasperreports components spiderchart fill chart settings get hyperlink type value', 'mnt qualitas qualitas corpus compile jasperreports net sf jasperreports engine fill jr fill object factory collect used styles jr style map map', 'mnt qualitas qualitas corpus compile jasperreports net sf jasperreports engine fill jr fill subreport return value jr fill subreport return value jr subreport return value jr fill object factory jr base filler', 'mnt qualitas qualitas corpus compile jasperreports net sf jasperreports engine fill jr short variance incrementer combine jr calculable jr calculable abstract value provider', 'mnt qualitas qualitas corpus compile jasperreports net sf jasperreports engine fill jr fill break jr fill break jr base filler jr break jr fill object factory', 'mnt qualitas qualitas corpus compile jasperreports net sf jasperreports engine fill jr fill dataset run jr fill dataset run jr base filler jr dataset run jr fill dataset', 'mnt qualitas qualitas corpus compile jasperreports net sf jasperreports engine fill jr long count incrementer increment jr calculable object abstract value provider', 'mnt qualitas qualitas corpus compile jasperreports net sf jasperreports engine util jr properties get float property jr properties map string float', 'mnt qualitas qualitas corpus compile jasperreports net sf jasperreports engine util jr api writer write hyperlink jr hyperlink string string', 'mnt qualitas qualitas corpus compile jasperreports net sf jasperreports engine util jr styled text parser write map attributed character iterator string', 'mnt qualitas qualitas corpus compile jasperreports net sf jasperreports engine xml jr property digester rule begin string string attributes', 'mnt qualitas qualitas corpus compile jasperreports net sf jasperreports engine xml jr xml template writer write template jr template output stream string', 'mnt qualitas qualitas corpus compile jasperreports net sf jasperreports engine design jr source compile task jr source compile task jasper design jr design dataset jr expression collector string', 'mnt qualitas qualitas corpus compile jasperreports net sf jasperreports engine jasper run manager run report to pdf jasper report map connection', 'mnt qualitas qualitas corpus compile jasperreports net sf jasperreports engine export oasis jr odt exporter export line table builder jr print line jr exporter grid cell', 'mnt qualitas qualitas corpus compile jasperreports net sf jasperreports engine export j excel api exporter add blank cell jr exporter grid cell int int', 'mnt qualitas qualitas corpus compile jasperreports net sf jasperreports engine export jr exporter grid cell jr exporter grid cell element wrapper int int int int', 'mnt qualitas qualitas corpus compile jasperreports net sf jasperreports engine export jr grid layout create cuts element wrapper int int boolean', 'mnt qualitas qualitas corpus compile jasperreports net sf jasperreports engine export jr html exporter string provider get string for collapsed t object int int', 'mnt qualitas qualitas corpus compile jasperreports net sf jasperreports engine convert crosstab converter add crosstab rows report converter jr crosstab int int list', 'mnt qualitas qualitas corpus compile jasperreports net sf jasperreports crosstabs design jr design crosstab get total variable name jr crosstab measure jr crosstab row group jr crosstab column group', 'mnt qualitas qualitas corpus compile jasperreports net sf jasperreports components spiderchart spider chart xml writer write chart chart settings jr xml write helper jr xml writer xml namespace', 'mnt qualitas qualitas corpus compile jasperreports net sf jasperreports engine util jr api writer write axis format string jr font color jr font color string boolean color string string boolean', 'mnt qualitas qualitas corpus compile jasperreports net sf jasperreports engine util jr box util set to box byte byte byte byte byte color color color color color integer integer integer integer integer jr line box', 'mnt qualitas qualitas corpus compile jasperreports net sf jasperreports engine export j excel api exporter style info style info pattern colour int int int writable font jr exporter grid cell boolean', 'mnt qualitas qualitas corpus compile jasperreports net sf jasperreports engine export j excel api exporter style info style info pattern colour int int int writable font box style', 'mnt qualitas qualitas corpus compile jasperreports net sf jasperreports engine export jr xls exporter create text cell jr print text jr exporter grid cell int int jr styled text style info short', 'mnt qualitas qualitas corpus compile jasperreports net sf jasperreports engine export jr xls exporter get loaded cell style short short short short short hssf font jr exporter grid cell', 'mnt qualitas qualitas corpus compile jasperreports net sf jasperreports engine export jr xls exporter style info style info short short short short short hssf font box style', 'mnt qualitas qualitas corpus compile jasperreports net sf jasperreports engine export jr rtf exporter export right pen jr pen jr pen jr pen int int int int', 'mnt qualitas qualitas corpus compile jasperreports net sf jasperreports engine export jr grid layout jr grid layout exporter nature list int int int int cuts info', 'mnt qualitas qualitas corpus compile jasperreports net sf jasperreports engine export jr grid layout jr grid layout exporter nature element wrapper int int int int string', 'mnt qualitas qualitas corpus compile jasperreports net sf jasperreports engine export text renderer initialize graphics int int int int int int int int float horizontal align enum vertical align enum float float int boolean', 'mnt qualitas qualitas corpus compile jasperreports net sf jasperreports engine export draw element drawer draw top pen graphics jr pen jr pen jr pen jr print element int int', 'mnt qualitas qualitas corpus compile jasperreports net sf jasperreports engine export draw element drawer draw left pen graphics jr pen jr pen jr pen jr print element int int', 'mnt qualitas qualitas corpus compile jasperreports net sf jasperreports engine export draw element drawer draw bottom pen graphics jr pen jr pen jr pen jr print element int int', 'mnt qualitas qualitas corpus compile j fin date math org jfin date daycount defaultimpl isda actual actual calculate daycount fraction calendar calendar', 'mnt qualitas qualitas corpus compile j fin date math org jfin date daycount defaultimpl daycount calculator factory impl get actual fixed', 'mnt qualitas qualitas corpus compile j fin date math org jfin date accrual accrual exception accrual exception throwable string', 'mnt qualitas qualitas corpus compile j fin date math org jfin date accrual accrual schedule get end calendar', 'mnt qualitas qualitas corpus compile j fin date math org jfin date accrual accrual schedule add accrual period', 'mnt qualitas qualitas corpus compile j fin date math org jfin date accrual accrual schedule add all int collection', 'mnt qualitas qualitas corpus compile j fin date math org jfin date accrual notional get amount', 'mnt qualitas qualitas corpus compile j fin date math org jfin date accrual payment payment payment', 'mnt qualitas qualitas corpus compile j fin date math org jfin date accrual payment clone', 'mnt qualitas qualitas corpus compile j fin date math org jfin date accrual payment set currency iso currency', 'mnt qualitas qualitas corpus compile j fin date math org jfin date tenor set amount int', 'mnt qualitas qualitas corpus compile j fin date math org jfin date accrual impl float accrual period get fixing adjustment type', 'mnt qualitas qualitas corpus compile j fin date math org jfin date accrual impl float accrual period get fixing business day convention', 'mnt qualitas qualitas corpus compile j fin date math org jfin common csv file format tokenizer next byte', 'mnt qualitas qualitas corpus compile j fin date math org jfin date holiday financialcalendarimpl info file entry set code string', 'mnt qualitas qualitas corpus compile j fin date math org jfin date daycount defaultimpl isda actual actual calculate daycount fraction calendar calendar calendar calendar', 'mnt qualitas qualitas corpus compile j fin date math org jfin date daycount defaultimpl i calculate daycount fraction calendar calendar calendar calendar', 'mnt qualitas qualitas corpus compile j fin date math org jfin date daycount defaultimpl u calculate daycount fraction calendar calendar calendar calendar', 'mnt qualitas qualitas corpus compile j fin date math org jfin date daycount defaultimpl actual fixed calculate daycount fraction calendar calendar calendar calendar', 'mnt qualitas qualitas corpus compile j fin date math org jfin date daycount defaultimpl actual calculate daycount fraction calendar calendar calendar calendar', 'mnt qualitas qualitas corpus compile j fin date math org jfin date daycount defaultimpl actual calculate daycount fraction calendar calendar calendar calendar', 'mnt qualitas qualitas corpus compile j fin date math org jfin date holiday holiday calendar advance calendar int int business day convention', 'mnt qualitas qualitas corpus compile j fin date math org jfin date holiday adjust calendar business day convention calendar', 'mnt qualitas qualitas corpus compile j fin date math org jfin date accrual notional period notional period calendar calendar notional', 'mnt qualitas qualitas corpus compile j fin date math org jfin date accrual notional period notional period calendar calendar double iso currency', 'mnt qualitas qualitas corpus compile j fin date math org jfin date accrual payment payment double iso currency calendar', 'mnt qualitas qualitas corpus compile j fin date math org jfin date typed schedule generator generate schedule calendar calendar int int stub type', 'mnt qualitas qualitas corpus compile j fin date math org jfin date typed schedule generator create period calendar calendar calendar calendar boolean', 'mnt qualitas qualitas corpus compile j fin date math org jfin date schedule generator generate schedule calendar string frequency stub type period', 'mnt qualitas qualitas corpus compile j fin date math org jfin date schedule generator generate schedule calendar tenor frequency stub type int', 'mnt qualitas qualitas corpus compile j fin date math org jfin date schedule generator generate schedule calendar tenor frequency stub type period int', 'mnt qualitas qualitas corpus compile j fin date math org jfin date schedule generator generate schedule calendar calendar frequency stub type', 'mnt qualitas qualitas corpus compile j fin date math org jfin date schedule generator generate schedule calendar calendar frequency stub type period', 'mnt qualitas qualitas corpus compile j fin date math org jfin common iso country iso country string string int', 'mnt qualitas qualitas corpus compile j fin date math org jfin common iso currency iso currency string iso country string', 'mnt qualitas qualitas corpus compile j fin date math org jfin common iso currency iso currency string iso currency string', 'mnt qualitas qualitas corpus compile j fin date math org jfin date schedule generator generate schedule calendar calendar int int stub type period int', 'mnt qualitas qualitas corpus compile j fin date math org jfin date holiday financialcalendarimpl info file entry string string string iso currency string iso country string string', 'mnt qualitas qualitas corpus compile jfreechart org jfree data xy interval xy dataset get end y value int int', 'mnt qualitas qualitas corpus compile jfreechart org jfree data xy xy dataset table model xy dataset table model table xy dataset', 'mnt qualitas qualitas corpus compile jfreechart org jfree data xy default table xy dataset get interval position factor', 'mnt qualitas qualitas corpus compile jfreechart org jfree chart annotations xy text annotation get paint', 'mnt qualitas qualitas corpus compile jfreechart org jfree chart annotations xy pointer annotation get tip radius', 'mnt qualitas qualitas corpus compile jfreechart org jfree chart block line border write object object output stream', 'mnt qualitas qualitas corpus compile jfreechart org jfree chart standard chart theme set plot outline paint paint', 'mnt qualitas qualitas corpus compile jfreechart org jfree chart standard chart theme apply to block container block container', 'mnt qualitas qualitas corpus compile jfreechart org jfree chart renderer category category item renderer set positive item label position item label position boolean', 'mnt qualitas qualitas corpus compile jfreechart org jfree chart renderer xy xy item renderer set series visible boolean boolean', 'mnt qualitas qualitas corpus compile jfreechart org jfree chart renderer xy abstract xy item renderer add annotation xy annotation layer', 'mnt qualitas qualitas corpus compile jfreechart org jfree chart plot multiple pie plot set aggregated items paint paint', 'mnt qualitas qualitas corpus compile jfreechart org jfree chart entity entity collection get entities', 'mnt qualitas qualitas corpus compile jfreechart org jfree chart plot dial standard dial range get scale index', 'mnt qualitas qualitas corpus compile jfreechart org jfree data keyed objects d remove object comparable comparable', 'mnt qualitas qualitas corpus compile jfreechart org jfree data xy y interval series y interval series comparable boolean boolean', 'mnt qualitas qualitas corpus compile jfreechart org jfree chart labels box and whisker xy tool tip generator box and whisker xy tool tip generator string date format number format', 'mnt qualitas qualitas corpus compile jfreechart org jfree chart labels bubble xy item label generator generate label string xy dataset int int', 'mnt qualitas qualitas corpus compile jfreechart org jfree chart block flow arrangement arrange f block container graphics rectangle constraint', 'mnt qualitas qualitas corpus compile jfreechart org jfree chart block block border block border double double double double paint', 'mnt qualitas qualitas corpus compile jfreechart org jfree chart chart utilities write chart as pn output stream j free chart int int', 'mnt qualitas qualitas corpus compile jfreechart org jfree chart chart utilities encode as pn buffered image boolean int', 'mnt qualitas qualitas corpus compile jfreechart org jfree chart renderer category category item renderer draw domain gridline graphics category plot rectangle double', 'mnt qualitas qualitas corpus compile jfreechart org jfree chart renderer category abstract category item renderer draw domain gridline graphics category plot rectangle double', 'mnt qualitas qualitas corpus compile jfreechart org jfree chart renderer category line renderer d draw domain gridline graphics category plot rectangle double', 'mnt qualitas qualitas corpus compile jfreechart org jfree chart renderer xy stacked xy area renderer get previous height table xy dataset int int', 'mnt qualitas qualitas corpus compile jfreechart org jfree chart renderer xy xy step area renderer initialise graphics rectangle xy plot xy dataset plot rendering info', 'mnt qualitas qualitas corpus compile jfreechart org jfree chart renderer abstract renderer set series visible int boolean boolean', 'mnt qualitas qualitas corpus compile jfreechart org jfree data time dynamic time series collection add value int int float', 'mnt qualitas qualitas corpus compile jfreechart org jfree chart axis period axis create instance class date time zone locale', 'mnt qualitas qualitas corpus compile jfreechart org jfree chart plot category plot zoom range axes double plot rendering info point boolean', 'mnt qualitas qualitas corpus compile jfreechart org jfree chart plot xy plot draw graphics rectangle point plot state plot rendering info', 'mnt qualitas qualitas corpus compile jfreechart org jfree chart plot xy plot handle click int int plot rendering info', 'mnt qualitas qualitas corpus compile jfreechart org jfree chart entity j free chart entity j free chart entity shape j free chart string', 'mnt qualitas qualitas corpus compile jfreechart org jfree chart util log format format long string buffer field position', 'mnt qualitas qualitas corpus compile jfreechart org jfree chart util resource bundle wrapper get bundle string locale class loader', 'mnt qualitas qualitas corpus compile jfreechart org jfree chart annotations xy image annotation draw graphics xy plot rectangle value axis value axis int plot rendering info', 'mnt qualitas qualitas corpus compile jfreechart org jfree chart chart factory create stacked xy area chart string string string table xy dataset plot orientation boolean boolean boolean', 'mnt qualitas qualitas corpus compile jfreechart org jfree chart chart factory create wind plot string string string wind dataset boolean boolean boolean', 'mnt qualitas qualitas corpus compile jfreechart org jfree chart legend item legend item string string string string shape paint stroke paint', 'mnt qualitas qualitas corpus compile jfreechart org jfree chart renderer category line renderer d draw item graphics category item renderer state rectangle category plot category axis value axis category dataset int int int', 'mnt qualitas qualitas corpus compile jfreechart org jfree chart renderer category bar renderer draw item graphics category item renderer state rectangle category plot category axis value axis category dataset int int int', 'mnt qualitas qualitas corpus compile jfreechart org jfree chart renderer category layered bar renderer draw item graphics category item renderer state rectangle category plot category axis value axis category dataset int int int', 'mnt qualitas qualitas corpus compile jfreechart org jfree chart renderer category layered bar renderer draw vertical item graphics category item renderer state rectangle category plot category axis value axis category dataset int int', 'mnt qualitas qualitas corpus compile jfreechart org jfree chart renderer xy xy step renderer draw item graphics xy item renderer state rectangle plot rendering info xy plot value axis value axis xy dataset int int crosshair state int', 'mnt qualitas qualitas corpus compile jfreechart org jfree chart renderer xy xy bubble renderer draw item graphics xy item renderer state rectangle plot rendering info xy plot value axis value axis xy dataset int int crosshair state int', 'mnt qualitas qualitas corpus compile jfreechart org jfree chart axis period axis label info period axis label info class date format rectangle insets font paint boolean stroke paint', 'mnt qualitas qualitas corpus compile jfreechart org jfree chart plot category plot draw range crosshair graphics rectangle plot orientation double value axis stroke paint', 'mnt qualitas qualitas corpus compile jfreechart org jfree chart plot xy plot draw domain crosshair graphics rectangle plot orientation double value axis stroke paint', 'mnt qualitas qualitas corpus compile jgroups org jgroups channel get protocol stack', 'mnt qualitas qualitas corpus compile jgroups org jgroups view view view id vector', 'mnt qualitas qualitas corpus compile jgroups org jgroups demos quote client print all stocks', 'mnt qualitas qualitas corpus compile jgroups org jgroups blocks cache reaper run', 'mnt qualitas qualitas corpus compile jgroups org jgroups blocks request correlator start', 'mnt qualitas qualitas corpus compile jgroups org jgroups util singleton address write to data output stream', 'mnt qualitas qualitas corpus compile jgroups org jgroups util socket factory close datagram socket', 'mnt qualitas qualitas corpus compile jgroups org jgroups util ack collector wait for all acks object', 'mnt qualitas qualitas corpus compile jgroups org jgroups protocols f sock set log suspected messages boolean', 'mnt qualitas qualitas corpus compile jgroups org jgroups protocols auth get configurable objects list', 'mnt qualitas qualitas corpus compile jgroups org jgroups protocols discard set drop down unicasts int', 'mnt qualitas qualitas corpus compile jgroups org jgroups protocols unicas print connections', 'mnt qualitas qualitas corpus compile jgroups org jgroups protocols unicas unicast header to string string builder', 'mnt qualitas qualitas corpus compile jgroups org jgroups conf property converters initial hosts to string object', 'mnt qualitas qualitas corpus compile jgroups org jgroups auth m token set auth value string', 'mnt qualitas qualitas corpus compile jgroups org jgroups blocks mux mux message dispatcher mux message dispatcher short channel message listener membership listener request handler', 'mnt qualitas qualitas corpus compile jgroups org jgroups protocols pbcast client gms impl join internal address boolean boolean', 'mnt qualitas qualitas corpus compile jgroups org jgroups protocols pbcast merger send merge response address view digest merge id', 'mnt qualitas qualitas corpus compile jgroups org jgroups protocols pbcast nakack create nak receiver window address long long', 'mnt qualitas qualitas corpus compile jgroups org jgroups version encode int int int', 'mnt qualitas qualitas corpus compile jgroups org jgroups blocks distributed lock manager unlock object object long', 'mnt qualitas qualitas corpus compile jgroups org jgroups blocks grid filesystem get output string boolean short int', 'mnt qualitas qualitas corpus compile jgroups org jgroups blocks grid output stream write byte int int', 'mnt qualitas qualitas corpus compile jgroups org jgroups blocks connection table connection table receiver inet address inet address int int', 'mnt qualitas qualitas corpus compile jgroups org jgroups blocks basic connection table receive address byte int int', 'mnt qualitas qualitas corpus compile jgroups org jgroups blocks basic connection table connection send byte int int boolean', 'mnt qualitas qualitas corpus compile jgroups org jgroups blocks rpc dispatcher rpc dispatcher channel message listener membership listener object boolean boolean', 'mnt qualitas qualitas corpus compile jgroups org jgroups blocks rpc dispatcher marshaller object from byte buffer byte int int', 'mnt qualitas qualitas corpus compile jgroups org jgroups blocks replicated map replace serializable serializable serializable', 'mnt qualitas qualitas corpus compile jgroups org jgroups blocks connection table ni write handler write socket channel byte buffer my future selector write handler', 'mnt qualitas qualitas corpus compile jgroups org jgroups util proxy proxy inet address int inet address int boolean boolean', 'mnt qualitas qualitas corpus compile jgroups org jgroups util j unit xml reporter print print stream string string string', 'mnt qualitas qualitas corpus compile jgroups org jgroups protocols pin list bucket response list bucket handler end element string string string', 'mnt qualitas qualitas corpus compile jgroups org jgroups protocols tcpgossip connect router stub string address', 'mnt qualitas qualitas corpus compile jgroups org jgroups stack range based retransmitter range task range task seqno interval retransmit command address', 'mnt qualitas qualitas corpus compile jgroups org jgroups stack gossip router route address string byte', 'mnt qualitas qualitas corpus compile jgroups org jgroups demos memcached server start string inet address int int int long long boolean boolean int long int long', 'mnt qualitas qualitas corpus compile jgroups org jgroups demos draw draw string boolean boolean boolean long boolean boolean string', 'mnt qualitas qualitas corpus compile jgroups org jgroups demos repl cache demo start string string long long boolean boolean int long int long', 'mnt qualitas qualitas corpus compile jgroups org jgroups blocks tcp connection map tcp connection map string thread factory receiver inet address inet address int int long long', 'mnt qualitas qualitas corpus compile jgroups org jgroups blocks connection table connection table receiver inet address inet address int int long long', 'mnt qualitas qualitas corpus compile jgroups org jgroups blocks rpc dispatcher call remote methods vector address string object class int long boolean', 'mnt qualitas qualitas corpus compile jgroups org jgroups blocks rpc dispatcher call remote methods vector address string object class int long boolean rsp filter', 'mnt qualitas qualitas corpus compile jgroups org jgroups blocks rpc dispatcher call remote methods vector address string object string int long boolean', 'mnt qualitas qualitas corpus compile jgroups org jgroups blocks rpc dispatcher call remote methods with future vector address method call int long boolean boolean rsp filter', 'mnt qualitas qualitas corpus compile jgroups org jgroups blocks connection table nio connection table ni receiver inet address inet address int int long long', 'mnt qualitas qualitas corpus compile jgroups org jgroups blocks connection table nio connection table ni receiver inet address inet address int int long long boolean', 'mnt qualitas qualitas corpus compile jgroups org jgroups util thread manager thread pool executor thread manager thread pool executor int int long time unit blocking queue runnable thread factory rejected execution handler', 'mnt qualitas qualitas corpus compile jgroups org jgroups util proxy proxy inet address int inet address int boolean boolean string', 'mnt qualitas qualitas corpus compile jmoney net sf jmoney gui net sf jmoney gui entry list item labels action performed action event', 'mnt qualitas qualitas corpus compile jmoney net sf jmoney gui net sf jmoney gui date combo box date popup mouse released mouse event', 'mnt qualitas qualitas corpus compile jmoney net sf jmoney gui account entries panel update date date', 'mnt qualitas qualitas corpus compile jmoney net sf jmoney gui editable metal theme set secondary color ui resource', 'mnt qualitas qualitas corpus compile jmoney net sf jmoney gui net sf jmoney gui main frame action performed action event', 'mnt qualitas qualitas corpus compile jmoney net sf jmoney gui net sf jmoney gui main frame menu bar action performed action event', 'mnt qualitas qualitas corpus compile jmoney net sf jmoney gui account properties panel update name', 'mnt qualitas qualitas corpus compile jmoney net sf jmoney gui account properties panel update min balance parse exception', 'mnt qualitas qualitas corpus compile jmoney net sf jmoney gui about dialog show dialog', 'mnt qualitas qualitas corpus compile jmoney net sf jmoney gui account balances report panel account balances report panel', 'mnt qualitas qualitas corpus compile jmoney net sf jmoney gui account balances report panel item get currency code', 'mnt qualitas qualitas corpus compile jmoney net sf jmoney model session get new account java lang string', 'mnt qualitas qualitas corpus compile jmoney net sf jmoney model account compare to java lang object', 'mnt qualitas qualitas corpus compile jmoney net sf jmoney user properties get default currency', 'mnt qualitas qualitas corpus compile jmoney net sf jmoney entry comparator compare entries entry entry', 'mnt qualitas qualitas corpus compile jmoney net sf jmoney gui status combo box renderer get list cell renderer component j list object int boolean boolean', 'mnt qualitas qualitas corpus compile jmoney net sf jmoney gui account chooser show dialog vector string boolean', 'mnt qualitas qualitas corpus compile jmoney net sf jmoney gui category combo box renderer get list cell renderer component j list object int boolean boolean', 'mnt qualitas qualitas corpus compile jmoney net sf jmoney gui income expense report panel add entries vector hash map string vector', 'mnt qualitas qualitas corpus compile jmoney net sf jmoney gui income expense report panel item item category string long', 'mnt qualitas qualitas corpus compile jmoney net sf jmoney gui entry filter panel filter entry entry account very simple date format', 'mnt qualitas qualitas corpus compile jmoney net sf jmoney gui transfer dialog show dialog account account long long', 'mnt qualitas qualitas corpus compile jmoney net sf jmoney gui splitted entry dialog show dialog splitted entry session account', 'mnt qualitas qualitas corpus compile jmoney net sf jmoney gui splitted entry dialog entry table model set value at object int int', 'mnt qualitas qualitas corpus compile jmoney net sf jmoney gui account entries panel entry cell renderer get list cell renderer component j list object int boolean boolean', 'mnt qualitas qualitas corpus compile jmoney net sf jmoney entry filter filter entry entry account very simple date format int', 'mnt qualitas qualitas corpus compile jmoney net sf jmoney entry filter check entry entry account very simple date format', 'mnt qualitas qualitas corpus compile jmoney net sf jmoney sorted tree model insert node into mutable tree node mutable tree node int', 'mnt qualitas qualitas corpus compile jmoney net sf jmoney io qif import accountimport account session account buffered reader', 'mnt qualitas qualitas corpus compile jmoney net sf jmoney io qif extract splitted category session accounts account entry string', 'mnt qualitas qualitas corpus compile jmoney net sf jmoney io qif extract splitted amount entry string short', 'mnt qualitas qualitas corpus compile jmoney net sf jmoney io qif extract amount entry string short', 'mnt qualitas qualitas corpus compile jmoney net sf jmoney io qif extract category session accounts account entry string', 'mnt qualitas qualitas corpus compile jmoney net sf jmoney io qif export account session account file', 'mnt qualitas qualitas corpus compile jmoney net sf jmoney io qif get subcategory string simple category session', 'mnt qualitas qualitas corpus compile jmoney net sf jmoney io file format export account session account file', 'mnt qualitas qualitas corpus compile jmoney net sf jmoney gui category panel category tree cell renderer get tree cell renderer component j tree object boolean boolean boolean int boolean', 'mnt qualitas qualitas corpus compile jmoney net sf jmoney gui navigation tree cell renderer get tree cell renderer component j tree object boolean boolean boolean int boolean', 'mnt qualitas qualitas corpus compile poi org apache poi ss usermodel footer get center', 'mnt qualitas qualitas corpus compile poi org apache poi hssf usermodel dv constraint set operator int', 'mnt qualitas qualitas corpus compile poi org apache poi hssf usermodel escher graphics find smallest int', 'mnt qualitas qualitas corpus compile poi org apache poi hssf usermodel hssf workbook create font', 'mnt qualitas qualitas corpus compile poi org apache poi hssf record text object record get horizontal text alignment', 'mnt qualitas qualitas corpus compile poi org apache poi hssf record format record clone', 'mnt qualitas qualitas corpus compile poi org apache poi hssf record chart chart title format record ct format set offset int', 'mnt qualitas qualitas corpus compile poi org apache poi hssf record chart legend record get sid', 'mnt qualitas qualitas corpus compile poi org apache poi ddf escher container record display print writer int', 'mnt qualitas qualitas corpus compile poi org apache poi hssf model workbook get ex format at int', 'mnt qualitas qualitas corpus compile poi org apache poi ss formula formula parser simple range part get cell reference', 'mnt qualitas qualitas corpus compile poi org apache poi hpsf special property set set os version int', 'mnt qualitas qualitas corpus compile poi org apache poi hpsf document summary information get par count', 'mnt qualitas qualitas corpus compile poi org apache poi hpsf summary information get keywords', 'mnt qualitas qualitas corpus compile poi org apache poi hssf util hssf color ligh turquoise get index', 'mnt qualitas qualitas corpus compile poi org apache poi util null logger log int object object object', 'mnt qualitas qualitas corpus compile poi org apache poi util little endian put byte byte int int', 'mnt qualitas qualitas corpus compile poi org apache poi hssf record formula functions hyperlink evaluate int int value eval', 'mnt qualitas qualitas corpus compile poi org apache poi hssf record formula functions replace evaluate int int value eval value eval value eval value eval', 'mnt qualitas qualitas corpus compile poi org apache poi hssf record formula functions lookup utils lookup index of value value eval value vector boolean', 'mnt qualitas qualitas corpus compile poi org apache poi hssf record formula functions text function evaluate value eval int int', 'mnt qualitas qualitas corpus compile poi org apache poi hssf record formula functions text function search find evaluate int int value eval value eval', 'mnt qualitas qualitas corpus compile poi org apache poi hssf record formula functions sumproduct evaluate value eval int int', 'mnt qualitas qualitas corpus compile poi org apache poi hssf record formula functions substitute replace one occurrence string string string int', 'mnt qualitas qualitas corpus compile poi org apache poi hssf record formula functions days evaluate double double boolean', 'mnt qualitas qualitas corpus compile poi org apache poi hssf usermodel escher graphics draw rect int int int int', 'mnt qualitas qualitas corpus compile poi org apache poi hssf usermodel escher graphics draw string attributed character iterator int int', 'mnt qualitas qualitas corpus compile poi org apache poi hssf record escher aggregate convert group hssf shape group escher container record map', 'mnt qualitas qualitas corpus compile poi org apache poi hssf record formula formula shifter formula shifter int int int int', 'mnt qualitas qualitas corpus compile poi org apache poi ddf escher opt record fill fields byte int escher record factory', 'mnt qualitas qualitas corpus compile poi org apache poi ddf escher spgr record serialize int byte escher serialization listener', 'mnt qualitas qualitas corpus compile poi org apache poi ddf escher metafile blip serialize int byte escher serialization listener', 'mnt qualitas qualitas corpus compile poi org apache poi ddf escher child anchor record fill fields byte int escher record factory', 'mnt qualitas qualitas corpus compile poi org apache poi ss formula formula used blank cell set contains cell book sheet key int int', 'mnt qualitas qualitas corpus compile poi org apache poi ss formula i evaluation listener on read plain value int int int i cache entry', 'mnt qualitas qualitas corpus compile poi org apache poi ss util cell range address cell range address int int int int', 'mnt qualitas qualitas corpus compile poi org apache poi util null logger log int object object object object object object object object', 'mnt qualitas qualitas corpus compile poi org apache poi util null logger log int object object object object object object throwable', 'mnt qualitas qualitas corpus compile poi org apache poi util null logger log int object object object object object object object object throwable', 'mnt qualitas qualitas corpus compile poi org apache poi util poi logger log int object object object object object object object throwable', 'mnt qualitas qualitas corpus compile poi org apache poi hssf record formula functions finance function evaluate int int value eval value eval value eval value eval value eval', 'mnt qualitas qualitas corpus compile poi org apache poi hssf usermodel escher graphics draw image image int int int int int int int int color image observer', 'mnt qualitas qualitas corpus compile poi org apache poi hssf usermodel escher graphics draw image image int int int int int int int int image observer', 'mnt qualitas qualitas corpus compile poi org apache poi hssf usermodel escher graphics draw image image int int int int color image observer', 'mnt qualitas qualitas corpus compile poi org apache poi hssf usermodel escher graphics d draw image image int int int int int int int int color image observer', 'mnt qualitas qualitas corpus compile poi org apache poi hssf usermodel escher graphics d draw image image int int int int color image observer', 'mnt qualitas qualitas corpus compile poi org apache poi hssf usermodel hssf client anchor set anchor short int int int short int int int', 'mnt qualitas qualitas corpus compile poi org apache poi hssf record dv record dv record int int int boolean boolean boolean boolean string string boolean string string ptg ptg cell range address list', 'mnt qualitas qualitas corpus compile trove gnu trove t hash iterator t hash iterator t object hash', 'mnt qualitas qualitas corpus compile trove gnu trove serialization procedure execute long double', 'mnt qualitas qualitas corpus compile trove gnu trove serialization procedure execute float double', 'mnt qualitas qualitas corpus compile trove gnu trove t linked list iterator impl remove', 'mnt qualitas qualitas corpus compile trove gnu trove t hash map hash code', 'mnt qualitas qualitas corpus compile trove gnu trove t hash set t hash set t object hashing strategy', 'mnt qualitas qualitas corpus compile trove gnu trove t hash set clear', 'mnt qualitas qualitas corpus compile trove gnu trove t object hash for each t object procedure', 'mnt qualitas qualitas corpus compile trove gnu trove t object hash compute hash code object', 'mnt qualitas qualitas corpus compile trove gnu trove t hash capacity', 'mnt qualitas qualitas corpus compile trove gnu trove t hash rehash int', 'mnt qualitas qualitas corpus compile trove gnu trove benchmark gnu trove benchmark main theirs', 'mnt qualitas qualitas corpus compile trove gnu trove benchmark gnu trove benchmark main theirs', 'mnt qualitas qualitas corpus compile trove gnu trove generate generate generate p map decorators file file', 'mnt qualitas qualitas corpus compile trove gnu trove t hash map t hash map int float t object hashing strategy', 'mnt qualitas qualitas corpus compile trove gnu trove t hash map do put object object int', 'mnt qualitas qualitas corpus compile trove gnu trove t hash set t hash set int float t object hashing strategy', 'mnt qualitas qualitas corpus compile trove gnu trove t object hash t object hash int float t object hashing strategy', 'mnt qualitas qualitas corpus compile trove gnu trove t hash map entry entry object object int', 'mnt qualitas qualitas corpus compile trove gnu trove benchmark memory usage memory comparator memory comparator creator creator string', 'mnt qualitas qualitas corpus compile trove gnu trove benchmark compaction benchmark run test int integer t int object hash map integer random', 'mnt qualitas qualitas corpus compile trove gnu trove generate generate generate string string string file file', 'mnt qualitas qualitas corpus compile trove gnu trove generate generate generate string string string file file', 'mnt qualitas qualitas corpus compile trove gnu trove generate generate write file string string file', 'mnt qualitas qualitas corpus compile xalan org apache xalan templates elem literal result get is literal result as stylesheet', 'mnt qualitas qualitas corpus compile xalan org apache xalan xsltc compiler mode process patterns hashtable', 'mnt qualitas qualitas corpus compile xalan org apache xalan xsltc compiler cast call type check symbol table', 'mnt qualitas qualitas corpus compile xalan org apache xalan xsltc compiler parser end document', 'mnt qualitas qualitas corpus compile xalan org apache xalan xsltc compiler util security support get file input stream file', 'mnt qualitas qualitas corpus compile xalan org apache xpath axes context node list size', 'mnt qualitas qualitas corpus compile xalan org apache xml utils un impl node get implementation', 'mnt qualitas qualitas corpus compile xalan org apache xml utils suballocated byte vector suballocated byte vector int', 'mnt qualitas qualitas corpus compile xalan org apache xml utils sax source locator sax source locator locator', 'mnt qualitas qualitas corpus compile xalan org apache xalan transformer transformer impl get parameter string', 'mnt qualitas qualitas corpus compile xalan org apache xpath jaxp x path expression impl eval object q name', 'mnt qualitas qualitas corpus compile xalan org apache xalan processor xslt attribute def get enum names', 'mnt qualitas qualitas corpus compile xalan org apache xalan processor xslt element def get multi allowed', 'mnt qualitas qualitas corpus compile xalan org apache xml dtm ref dom dtm do dt mdefault namespace declaration node set value string', 'mnt qualitas qualitas corpus compile xalan org apache xalan templates elem literal result attribute set user data string object user data handler', 'mnt qualitas qualitas corpus compile xalan org apache xalan xsltc trax transformer factory impl pi param wrapper pi param wrapper string string string', 'mnt qualitas qualitas corpus compile xalan org apache xalan xsltc runtime basis library compare int dtm axis iterator int do', 'mnt qualitas qualitas corpus compile xalan org apache xalan xsltc dom load document document string string abstract translet do boolean', 'mnt qualitas qualitas corpus compile xalan org apache xalan xsltc dom adaptive result tree impl adaptive result tree impl xsltcdtm manager int dtmws filter int boolean', 'mnt qualitas qualitas corpus compile xalan org apache xalan xsltc dom sort settings sort settings abstract translet int int locale collator string', 'mnt qualitas qualitas corpus compile xalan org apache xml serializer elem context push string string string', 'mnt qualitas qualitas corpus compile xalan org apache xml serializer empty serializer start prefix mapping string string boolean', 'mnt qualitas qualitas corpus compile xalan org apache xml serializer empty serializer unparsed entity decl string string string string', 'mnt qualitas qualitas corpus compile xalan org apache xml serializer to text stream add attribute string string string string string boolean', 'mnt qualitas qualitas corpus compile xalan org apache xml serializer to sax handler start element string string string', 'mnt qualitas qualitas corpus compile xalan org apache xalan xsltc compiler util node set type translate to class generator method generator real type', 'mnt qualitas qualitas corpus compile xalan org apache xpath axes walking iterator sorted walking iterator sorted compiler int int boolean', 'mnt qualitas qualitas corpus compile xalan org apache xpath axes walker factory load one walker walking iterator compiler int', 'mnt qualitas qualitas corpus compile xalan org apache xpath axes walker factory load walkers walking iterator compiler int int', 'mnt qualitas qualitas corpus compile xalan org apache xml utils xml character recognizer is white space char int int', 'mnt qualitas qualitas corpus compile xalan org apache xalan processor stylesheet handler ignorable whitespace char int int', 'mnt qualitas qualitas corpus compile xalan org apache xalan processor processor global param decl end element stylesheet handler string string string', 'mnt qualitas qualitas corpus compile xalan org apache xml dtm object factory create object string string string', 'mnt qualitas qualitas corpus compile xalan org apache xml dtm object factory look up factory class name string string string', 'mnt qualitas qualitas corpus compile xalan org apache xml serializer utils uri ur string string string int string string string', 'mnt qualitas qualitas corpus compile xalan org apache xml dtm ref dtm default base traversers dtm default base traversers dtm manager source int dtmws filter xml string factory boolean int boolean boolean', 'mnt qualitas qualitas corpus compile xalan org apache xalan xsltc dom node sort record factory node sort record factory do string translet string string string string', 'mnt qualitas qualitas corpus compile xalan org apache xalan xsltc dom sax impl sax impl xsltcdtm manager source int dtmws filter xml string factory boolean boolean', 'mnt qualitas qualitas corpus compile xalan org apache xml serializer to stream accum default entity writer char int char int boolean boolean', 'mnt qualitas qualitas corpus compile xalan org apache xalan xsltc compiler util test generator test generator int type type string string string instruction list constant pool gen', 'mnt qualitas qualitas corpus compile xalan org apache xalan xsltc compiler util match generator match generator int type type string string string instruction list constant pool gen', 'mnt qualitas qualitas corpus compile xalan org apache xalan transformer node sort key node sort key transformer impl x path boolean boolean string boolean prefix resolver', 'mnt qualitas qualitas corpus compile xalan org apache xalan processor xslt attribute def xslt attribute def string string boolean boolean boolean int string int string int string int string int', 'mnt qualitas qualitas corpus compile xalan org apache xalan processor xslt element def xslt element def xslt schema string string string xslt element def xslt attribute def xslt element processor class', 'mnt qualitas qualitas corpus compile xalan org apache xalan processor xslt element def xslt element def xslt schema string string string xslt element def xslt attribute def xslt element processor class boolean int boolean', 'mnt qualitas qualitas corpus compile xalan org apache xalan processor xslt element def build string string string xslt element def xslt attribute def xslt element processor class', 'mnt qualitas qualitas corpus compile freemind freemind modes mindmapmode actions xml abstract xml action action performed action event', 'mnt qualitas qualitas corpus compile freemind freemind modes mindmapmode encrypted mind map node children unfolded', 'mnt qualitas qualitas corpus compile freemind freemind modes mindmapmode freemind modes mindmapmode mind map controller apply mind map map model mind map node model', 'mnt qualitas qualitas corpus compile freemind freemind view mindmapview attributeview freemind view mindmapview attributeview attribute view run', 'mnt qualitas qualitas corpus compile freemind freemind modes mindmapmode listeners mind map node motion listener stop drag', 'mnt qualitas qualitas corpus compile freemind freemind controller filter condition disjunct conditions disjunct conditions object', 'mnt qualitas qualitas corpus compile freemind freemind modes node adapter get tool tip', 'mnt qualitas qualitas corpus compile freemind freemind modes link registry adapter i registered adapter i registered adapter mind map node string', 'mnt qualitas qualitas corpus compile freemind freemind modes mode controller refresh map', 'mnt qualitas qualitas corpus compile freemind freemind main tools ut string to byte array string', 'mnt qualitas qualitas corpus compile freemind freemind main tools name mnemonic holder set mnemonic char', 'mnt qualitas qualitas corpus compile freemind freemind modes mindmapmode actions change arrows in arrow link action action performed action event', 'mnt qualitas qualitas corpus compile freemind freemind extensions hook registration de register', 'mnt qualitas qualitas corpus compile freemind freemind extensions hook descriptor plugin action get documentation', 'mnt qualitas qualitas corpus compile freemind freemind extensions hook factory get possible node hooks', 'mnt qualitas qualitas corpus compile freemind freemind view mindmapview edit node base edit control cancel', 'mnt qualitas qualitas corpus compile freemind freemind common separator property separator property string', 'mnt qualitas qualitas corpus compile freemind freemind modes common dialogs enter password dialog initialize', 'mnt qualitas qualitas corpus compile freemind freemind controller filter filter toolbar map changed freemind controller filter filter freemind modes mind map', 'mnt qualitas qualitas corpus compile freemind freemind view mindmapview attributeview attribute table my focus listener focus gained focus event', 'mnt qualitas qualitas corpus compile freemind freemind view mindmapview attributeview reduced attribute table model decorator rebuild table model', 'mnt qualitas qualitas corpus compile freemind freemind modes mindmapmode listeners mind map node motion listener mouse dragged mouse event', 'mnt qualitas qualitas corpus compile freemind freemind modes xml element adapter process unfinished links mind map link registry', 'mnt qualitas qualitas corpus compile freemind freemind modes controller adapter open', 'mnt qualitas qualitas corpus compile freemind freemind modes mind icon get icon', 'mnt qualitas qualitas corpus compile freemind freemind main free mind get logger string', 'mnt qualitas qualitas corpus compile freemind freemind main free mind load maps final string args mode controller p mode controller', 'mnt qualitas qualitas corpus compile freemind freemind main tools get file reader', 'mnt qualitas qualitas corpus compile freemind freemind main html tools get maximal original position int array list', 'mnt qualitas qualitas corpus compile freemind freemind modes mindmapmode actions node up action move nodes mind map node list int', 'mnt qualitas qualitas corpus compile freemind freemind modes mindmapmode actions revert action act xml action', 'mnt qualitas qualitas corpus compile freemind freemind modes mindmapmode actions new child action add new mind map node int key event', 'mnt qualitas qualitas corpus compile freemind freemind modes mindmapmode actions paste action paste transferable mind map node boolean boolean', 'mnt qualitas qualitas corpus compile freemind freemind modes mindmapmode actions node general action xml action performed action event', 'mnt qualitas qualitas corpus compile freemind freemind extensions hook descriptor plugin action get instanciation method', 'mnt qualitas qualitas corpus compile freemind freemind view mindmapview node view get last component boolean boolean', 'mnt qualitas qualitas corpus compile freemind freemind view mindmapview node view update text', 'mnt qualitas qualitas corpus compile freemind freemind controller filter filter composer dialog selected attribute change listener item state changed item event', 'mnt qualitas qualitas corpus compile freemind freemind modes mindmapmode mind map controller set image by file chooser', 'mnt qualitas qualitas corpus compile freemind freemind modes mindmapmode listeners mind map node drop listener drop drop target drop event', 'mnt qualitas qualitas corpus compile freemind freemind modes style pattern load pattern xml element list', 'mnt qualitas qualitas corpus compile freemind freemind main free mind set screen bounds', 'mnt qualitas qualitas corpus compile freemind freemind main tools to relative ur ur base ur target', 'mnt qualitas qualitas corpus compile freemind freemind main html tools unescape html unicode entity string', 'mnt qualitas qualitas corpus compile freemind freemind main html tools remove invalid xml characters string', 'mnt qualitas qualitas corpus compile freemind freemind main xml element scan element xml element', 'mnt qualitas qualitas corpus compile freemind freemind modes mindmapmode actions import explorer favorites action import explorer favorites file mind map node boolean', 'mnt qualitas qualitas corpus compile freemind freemind modes mindmapmode actions paste action paste string without redisplay transferable mind map node boolean boolean', 'mnt qualitas qualitas corpus compile freemind freemind modes mindmapmode actions paste action html flavor handler paste object mind map node boolean boolean transferable', 'mnt qualitas qualitas corpus compile freemind freemind extensions import wizard add classes from dir vector file file int', 'mnt qualitas qualitas corpus compile freemind freemind view mindmapview node view tree nodes removed tree model event', 'mnt qualitas qualitas corpus compile freemind freemind modes mindmapmode hooks mind map hook factory search for class base class class mode', 'mnt qualitas qualitas corpus compile freemind freemind modes mindmapmode hooks mind map hook factory actualize plugins', 'mnt qualitas qualitas corpus compile jasml com jasml compiler source code parser parse line numbers string', 'mnt qualitas qualitas corpus compile jasml com jasml compiler source code parser parse float string', 'mnt qualitas qualitas corpus compile jasml com jasml compiler source code parser parse double string', 'mnt qualitas qualitas corpus compile jasml com jasml compiler source code parser main string', 'mnt qualitas qualitas corpus compile jasml com jasml compiler constant pool generator constant pool generator', 'mnt qualitas qualitas corpus compile jasml com jasml compiler constant pool generator add class string', 'mnt qualitas qualitas corpus compile jasml com jasml compiler constant pool generator ensure capacity constant pool item', 'mnt qualitas qualitas corpus compile jasml com jasml compiler scanner consume digits', 'mnt qualitas qualitas corpus compile jasml com jasml compiler scanner exception int int int string', 'mnt qualitas qualitas corpus compile jasml com jasml helper util pad char string int char', 'mnt qualitas qualitas corpus compile jasml com jasml classes attribute code attribute code int int int int opcode int exception table item int attribute', 'mnt qualitas qualitas corpus compile jasml com jasml classes attribute code opcode opcode int byte byte', 'mnt qualitas qualitas corpus compile jasml com jasml classes method method int int int int attribute', 'mnt qualitas qualitas corpus compile jasml com jasml decompiler source code builder to string attribute synthetic', 'mnt qualitas qualitas corpus compile jasml com jasml decompiler source code builder to string attribute line number table', 'mnt qualitas qualitas corpus compile jasml com jasml decompiler source code builder to string constant fieldref', 'mnt qualitas qualitas corpus compile jasml com jasml decompiler java class parser read methods', 'mnt qualitas qualitas corpus compile jasml com jasml decompiler java class parser read line number data input stream', 'mnt qualitas qualitas corpus compile jasml com jasml decompiler java class parser read local variable data input stream', 'mnt qualitas qualitas corpus compile jasml com jasml compiler source code parser parse class signature', 'mnt qualitas qualitas corpus compile jasml com jasml compiler java class dumpper dump attribute attribute', 'mnt qualitas qualitas corpus compile jasml com jasml helper opcode loader process opcode node', 'mnt qualitas qualitas corpus compile jasml com jasml compiler source code parser parse method instructions method', 'mnt qualitas qualitas corpus compile jasml com jasml decompiler source code builder to string attribute code hash set', 'mnt qualitas qualitas corpus compile jasml com jasml decompiler source code builder calculate references method', 'mnt qualitas qualitas corpus compile jasml com jasml decompiler java class parser parse opcodes byte', 'mnt qualitas qualitas corpus compile jasperreports net sf jasperreports engine fill jr template text get markup', 'mnt qualitas qualitas corpus compile jasperreports net sf jasperreports engine fill jr fill parameter is for prompting', 'mnt qualitas qualitas corpus compile jasperreports net sf jasperreports engine fill jr fill text element get top padding', 'mnt qualitas qualitas corpus compile jasperreports net sf jasperreports engine fill jr big decimal distinct count incrementer increment jr calculable object abstract value provider', 'mnt qualitas qualitas corpus compile jasperreports net sf jasperreports engine base jr base report get column header', 'mnt qualitas qualitas corpus compile jasperreports net sf jasperreports engine base jr base style get own mode value', 'mnt qualitas qualitas corpus compile jasperreports net sf jasperreports engine base jr base print text set padding int', 'mnt qualitas qualitas corpus compile jasperreports net sf jasperreports engine base jr base box get own border color', 'mnt qualitas qualitas corpus compile jasperreports net sf jasperreports engine util jr xml write helper stack element add attribute string string boolean', 'mnt qualitas qualitas corpus compile jasperreports net sf jasperreports engine util jr query executer utils jr query executer utils', 'mnt qualitas qualitas corpus compile jasperreports net sf jasperreports engine design jr design chart set customizer class string', 'mnt qualitas qualitas corpus compile jasperreports net sf jasperreports engine design jr jdt compiler jr jdt compiler', 'mnt qualitas qualitas corpus compile jasperreports net sf jasperreports engine jr element dataset get reset type value', 'mnt qualitas qualitas corpus compile jasperreports net sf jasperreports charts fill jr fill bubble plot get x axis vertical tick labels', 'mnt qualitas qualitas corpus compile jasperreports net sf jasperreports engine export jr text exporter justify text string int', 'mnt qualitas qualitas corpus compile jasperreports net sf jasperreports engine export occupied grid cell get type', 'mnt qualitas qualitas corpus compile jasperreports net sf jasperreports engine data jr xls data source check read started', 'mnt qualitas qualitas corpus compile jasperreports net sf jasperreports crosstabs design jr design crosstab get row groups list', 'mnt qualitas qualitas corpus compile jasperreports net sf jasperreports components barbecue barcode providers create barcode barcode info', 'mnt qualitas qualitas corpus compile jasperreports net sf jasperreports engine fill jr vertical filler fill summary no last footer same page', 'mnt qualitas qualitas corpus compile jasperreports net sf jasperreports engine fill jr vertical filler fill summary with last footer no page bands', 'mnt qualitas qualitas corpus compile jasperreports net sf jasperreports engine fill jr fill dataset next', 'mnt qualitas qualitas corpus compile jasperreports net sf jasperreports engine fill jr fill crosstab crosstab filler reset variables', 'mnt qualitas qualitas corpus compile jasperreports net sf jasperreports engine fill default chart theme calculate tick units axis boolean', 'mnt qualitas qualitas corpus compile jasperreports net sf jasperreports engine fill jr base filler set identity data jr virtual print page object id pair', 'mnt qualitas qualitas corpus compile jasperreports net sf jasperreports engine util jr string util replace c rwith l string', 'mnt qualitas qualitas corpus compile jasperreports net sf jasperreports engine util jr api writer write properties jr properties holder string', 'mnt qualitas qualitas corpus compile jasperreports net sf jasperreports engine design jr verifier verify empty background', 'mnt qualitas qualitas corpus compile jasperreports net sf jasperreports olap mapping mapping lexer min boolean', 'mnt qualitas qualitas corpus compile jasperreports net sf jasperreports engine export ooxml pptx run helper export props string map map locale', 'mnt qualitas qualitas corpus compile jasperreports net sf jasperreports engine export ooxml jr xlsx exporter close workbook output stream os', 'mnt qualitas qualitas corpus compile jasperreports net sf jasperreports engine export j excel api exporter get suitable paper size jasper print', 'mnt qualitas qualitas corpus compile jasperreports net sf jasperreports engine export jr xml exporter export properties jr properties holder', 'mnt qualitas qualitas corpus compile jasperreports net sf jasperreports engine export jr rtf exporter export elements collection', 'mnt qualitas qualitas corpus compile jasperreports net sf jasperreports engine export jr grid layout is overlap int int int int', 'mnt qualitas qualitas corpus compile jasperreports net sf jasperreports engine export jr grid layout set grid element element wrapper int int int int', 'mnt qualitas qualitas corpus compile jasperreports net sf jasperreports components table fill fill table fill column evaluator visit column group column group', 'mnt qualitas qualitas corpus compile jasperreports net sf jasperreports crosstabs design jr design crosstab inherit cell size int int', 'mnt qualitas qualitas corpus compile jasperreports net sf jasperreports engine fill jr fill crosstab crosstab filler compute breakable headers header cell jr fill crosstab group int boolean boolean', 'mnt qualitas qualitas corpus compile jasperreports net sf jasperreports engine fill jr horizontal filler fill group footers boolean', 'mnt qualitas qualitas corpus compile jasperreports net sf jasperreports engine fill text measurer append truncate suffix attributed character iterator', 'mnt qualitas qualitas corpus compile jasperreports net sf jasperreports engine fill jr fill element group get stretch height diff', 'mnt qualitas qualitas corpus compile jasperreports net sf jasperreports engine util jr api writer write crosstab jr crosstab string', 'mnt qualitas qualitas corpus compile jasperreports net sf jasperreports engine util jr styled text parser parse style jr styled text node', 'mnt qualitas qualitas corpus compile jasperreports net sf jasperreports engine design jr jdt compiler get name environment jr compilation unit', 'mnt qualitas qualitas corpus compile jasperreports net sf jasperreports engine export j excel api exporter get loaded font jr font int locale', 'mnt qualitas qualitas corpus compile jasperreports net sf jasperreports engine export jr xml exporter export report to file', 'mnt qualitas qualitas corpus compile jasperreports net sf jasperreports engine export jr xhtml exporter export image jr print image', 'mnt qualitas qualitas corpus compile jasperreports net sf jasperreports engine export jr pdf exporter export report', 'mnt qualitas qualitas corpus compile jasperreports net sf jasperreports engine export jr html exporter export report to writer', 'mnt qualitas qualitas corpus compile jasperreports net sf jasperreports engine export jr html exporter get hyperlink target jr print hyperlink', 'mnt qualitas qualitas corpus compile jasperreports net sf jasperreports engine export jr xls abstract exporter export report', 'mnt qualitas qualitas corpus compile jasperreports net sf jasperreports engine export jr csv exporter export report', 'mnt qualitas qualitas corpus compile jasperreports net sf jasperreports engine export xmlss jr xmlss exporter export report', 'mnt qualitas qualitas corpus compile jasperreports net sf jasperreports crosstabs design jr design crosstab inherit cells', 'mnt qualitas qualitas corpus compile jasperreports net sf jasperreports ee servlets xml servlet service http servlet request http servlet response', 'mnt qualitas qualitas corpus compile jasperreports net sf jasperreports view jr viewer create hyperlinks list int int', 'mnt qualitas qualitas corpus compile j fin date math org jfin date daycount defaultimpl business business holiday calendar', 'mnt qualitas qualitas corpus compile j fin date math org jfin date daycount defaultimpl daycount calculator factory impl get e', 'mnt qualitas qualitas corpus compile j fin date math org jfin date accrual accrual schedule contains all collection', 'mnt qualitas qualitas corpus compile j fin date math org jfin date accrual payment set payment calendar calendar', 'mnt qualitas qualitas corpus compile j fin date math org jfin date typed schedule generator generate schedule calendar tenor frequency stub type', 'mnt qualitas qualitas corpus compile j fin date math org jfin date typed schedule generator create period calendar calendar calendar calendar boolean', 'mnt qualitas qualitas corpus compile j fin date math org jfin date tenor get calendar unit', 'mnt qualitas qualitas corpus compile j fin date math org jfin date accrual impl fixed accrual period is payment possible', 'mnt qualitas qualitas corpus compile j fin date math org jfin common iso currency iso currency string iso country string', 'mnt qualitas qualitas corpus compile j fin date math org jfin common csv file format tokenizer split string', 'mnt qualitas qualitas corpus compile j fin date math org jfin common csv file format tokenizer has next', 'mnt qualitas qualitas corpus compile j fin date math org jfin common csv file format tokenizer get tokens', 'mnt qualitas qualitas corpus compile j fin date math org jfin date holiday financialcalendarimpl holiday file entry holiday file entry string info file', 'mnt qualitas qualitas corpus compile j fin date math org jfin date holiday financialcalendarimpl holiday file entry holiday file entry string info file entry string', 'mnt qualitas qualitas corpus compile j fin date math org jfin date holiday financialcalendarimpl info file entry get country mapping string', 'mnt qualitas qualitas corpus compile j fin date math org jfin date holiday financialcalendarimpl info file load file', 'mnt qualitas qualitas corpus compile j fin date math org jfin date holiday financialcalendarimpl financial calendar holiday calendar get locale', 'mnt qualitas qualitas corpus compile j fin date math org jfin date daycount daycount exception daycount exception string', 'mnt qualitas qualitas corpus compile j fin date math org jfin date holiday defaultimpl weekend holiday calendar is weekend calendar', 'mnt qualitas qualitas corpus compile j fin date math org jfin date typed schedule generator generate schedule internal calendar calendar int int stub type', 'mnt qualitas qualitas corpus compile j fin date math org jfin date schedule generator generate schedule calendar calendar int int stub type period int', 'mnt qualitas qualitas corpus compile j fin date math org jfin common csv file format tokenizer initialise string', 'mnt qualitas qualitas corpus compile jfreechart org jfree chart annotations xy text annotation set outline visible boolean', 'mnt qualitas qualitas corpus compile jfreechart org jfree data statistics default statistical category dataset get row count', 'mnt qualitas qualitas corpus compile jfreechart org jfree chart chart panel set minimum draw width int', 'mnt qualitas qualitas corpus compile jfreechart org jfree chart j free chart handle click int int chart rendering info', 'mnt qualitas qualitas corpus compile jfreechart org jfree chart renderer category category item renderer get positive item label position', 'mnt qualitas qualitas corpus compile jfreechart org jfree chart renderer category abstract category item renderer abstract category item renderer', 'mnt qualitas qualitas corpus compile jfreechart org jfree chart renderer xy xy item renderer set item labels visible boolean', 'mnt qualitas qualitas corpus compile jfreechart org jfree chart renderer xy xy line and shape renderer set shapes filled boolean', 'mnt qualitas qualitas corpus compile jfreechart org jfree chart renderer abstract renderer get item visible int int', 'mnt qualitas qualitas corpus compile jfreechart org jfree chart renderer abstract renderer set item label paint paint boolean', 'mnt qualitas qualitas corpus compile jfreechart org jfree data time year get last millisecond', 'mnt qualitas qualitas corpus compile jfreechart org jfree data time dynamic time series collection wrap offset int', 'mnt qualitas qualitas corpus compile jfreechart org jfree chart axis cyclic number axis get cycle bound', 'mnt qualitas qualitas corpus compile jfreechart org jfree chart axis number axis get auto range sticky zero', 'mnt qualitas qualitas corpus compile jfreechart org jfree chart plot dial dial plot get scale int', 'mnt qualitas qualitas corpus compile jfreechart org jfree chart title legend graphic set line paint paint', 'mnt qualitas qualitas corpus compile jfreechart org jfree data data utilities create number array double', 'mnt qualitas qualitas corpus compile jfreechart org jfree chart editor default title editor get title font', 'mnt qualitas qualitas corpus compile jfreechart org jfree chart editor chart editor factory create editor j free chart', 'mnt qualitas qualitas corpus compile jfreechart org jfree data xy default table xy dataset update x points xy series', 'mnt qualitas qualitas corpus compile jfreechart org jfree chart labels custom xy tool tip generator equals object', 'mnt qualitas qualitas corpus compile jfreechart org jfree chart renderer category line and shape renderer draw item graphics category item renderer state rectangle category plot category axis value axis category dataset int int int', 'mnt qualitas qualitas corpus compile jfreechart org jfree chart renderer category statistical line and shape renderer draw item graphics category item renderer state rectangle category plot category axis value axis category dataset int int int', 'mnt qualitas qualitas corpus compile jfreechart org jfree chart renderer xy xy shape renderer draw item graphics xy item renderer state rectangle plot rendering info xy plot value axis value axis xy dataset int int crosshair state int', 'mnt qualitas qualitas corpus compile jfreechart org jfree chart renderer xy abstract xy item renderer draw range marker graphics xy plot value axis marker rectangle', 'mnt qualitas qualitas corpus compile jfreechart org jfree chart renderer wafer map renderer get legend collection', 'mnt qualitas qualitas corpus compile jfreechart org jfree data time time period values collection get domain bounds boolean', 'mnt qualitas qualitas corpus compile jfreechart org jfree chart axis date axis refresh ticks vertical graphics rectangle rectangle edge', 'mnt qualitas qualitas corpus compile jfreechart org jfree chart axis segmented timeline add base timeline exception long', 'mnt qualitas qualitas corpus compile jfreechart org jfree chart axis period axis draw tick marks horizontal graphics axis state rectangle rectangle edge', 'mnt qualitas qualitas corpus compile jfreechart org jfree chart plot combined domain category plot get categories', 'mnt qualitas qualitas corpus compile jfreechart org jfree chart plot category plot datasets mapped to domain axis int', 'mnt qualitas qualitas corpus compile jfreechart org jfree data general dataset utilities find minimum range value xy dataset', 'mnt qualitas qualitas corpus compile jfreechart org jfree data general dataset utilities find maximum range value category dataset', 'mnt qualitas qualitas corpus compile jfreechart org jfree data general dataset utilities find maximum range value xy dataset', 'mnt qualitas qualitas corpus compile jfreechart org jfree data general dataset utilities find stacked range bounds category dataset double', 'mnt qualitas qualitas corpus compile jfreechart org jfree chart urls custom pie url generator equals object', 'mnt qualitas qualitas corpus compile jfreechart org jfree chart urls custom xyurl generator equals object', 'mnt qualitas qualitas corpus compile jfreechart org jfree data xy default wind dataset default wind dataset list series keys object data', 'mnt qualitas qualitas corpus compile jfreechart org jfree data statistics default statistical category dataset update bounds', 'mnt qualitas qualitas corpus compile jfreechart org jfree data statistics statistics calculate mean collection boolean', 'mnt qualitas qualitas corpus compile jfreechart org jfree chart renderer category min max category renderer draw item graphics category item renderer state rectangle category plot category axis value axis category dataset int int int', 'mnt qualitas qualitas corpus compile jfreechart org jfree chart renderer xy standard xy item renderer draw item graphics xy item renderer state rectangle plot rendering info xy plot value axis value axis xy dataset int int crosshair state int', 'mnt qualitas qualitas corpus compile jfreechart org jfree data time week parse week string', 'mnt qualitas qualitas corpus compile jfreechart org jfree data time moving average create moving average time series string int int', 'mnt qualitas qualitas corpus compile jfreechart org jfree data time moving average create moving average xy dataset int string double double', 'mnt qualitas qualitas corpus compile jfreechart org jfree chart axis logarithmic axis refresh ticks horizontal graphics rectangle rectangle edge', 'mnt qualitas qualitas corpus compile jfreechart org jfree chart axis logarithmic axis refresh ticks vertical graphics rectangle rectangle edge', 'mnt qualitas qualitas corpus compile jfreechart org jfree chart plot pie plot d draw side graphics rectangle arc area area paint paint stroke boolean boolean', 'mnt qualitas qualitas corpus compile jfreechart org jfree chart plot ring plot draw item graphics int rectangle pie plot state int', 'mnt qualitas qualitas corpus compile jfreechart org jfree chart plot category plot get legend items', 'mnt qualitas qualitas corpus compile jfreechart org jfree chart plot category plot render graphics rectangle int plot rendering info category crosshair state', 'mnt qualitas qualitas corpus compile jfreechart org jfree chart plot xy plot render graphics rectangle int plot rendering info crosshair state', 'mnt qualitas qualitas corpus compile jfreechart org jfree chart plot xy plot get data range value axis', 'mnt qualitas qualitas corpus compile jfreechart org jfree data jdbc jdbcxy dataset execute query string', 'mnt qualitas qualitas corpus compile jfreechart org jfree data jdbc jdbc category dataset execute query connection string', 'mnt qualitas qualitas corpus compile jfreechart org jfree data general dataset utilities iterate range bounds category dataset boolean', 'mnt qualitas qualitas corpus compile jgroups org jgroups protocols pbcast nakack get max xmit size', 'mnt qualitas qualitas corpus compile jgroups org jgroups j channel factory is expose protocols', 'mnt qualitas qualitas corpus compile jgroups org jgroups demos draw repl window iconified window event', 'mnt qualitas qualitas corpus compile jgroups org jgroups demos replicated tree demo replicated tree view exit action action performed action event', 'mnt qualitas qualitas corpus compile jgroups org jgroups blocks two phase voting adapter two phase wrapper commit', 'mnt qualitas qualitas corpus compile jgroups org jgroups blocks distributed tree get local address', 'mnt qualitas qualitas corpus compile jgroups org jgroups blocks replicated hash map add notifier notification', 'mnt qualitas qualitas corpus compile jgroups org jgroups blocks memcached connector set cache partitioned hash map', 'mnt qualitas qualitas corpus compile jgroups org jgroups blocks grid file get path', 'mnt qualitas qualitas corpus compile jgroups org jgroups blocks connection table nio connection table ni receiver inet address inet address long long int int', 'mnt qualitas qualitas corpus compile jgroups org jgroups blocks partitioned hash map get local address', 'mnt qualitas qualitas corpus compile jgroups org jgroups mux mux channel get address', 'mnt qualitas qualitas corpus compile jgroups org jgroups util util left members view view', 'mnt qualitas qualitas corpus compile jgroups org jgroups util unmodifiable vector list iterator', 'mnt qualitas qualitas corpus compile jgroups org jgroups util seqno table entry entry long', 'mnt qualitas qualitas corpus compile jgroups org jgroups protocols stats get received messages', 'mnt qualitas qualitas corpus compile jgroups org jgroups persistence cannot create schema exception to string', 'mnt qualitas qualitas corpus compile jgroups org jgroups stack gossip router set linger timeout long', 'mnt qualitas qualitas corpus compile jgroups org jgroups stack nak receiver window get smoothed loss rate', 'mnt qualitas qualitas corpus compile jgroups org jgroups protocols pbcast client gms impl join internal address boolean boolean', 'mnt qualitas qualitas corpus compile jgroups org jgroups protocols pbcast streamin stat transfe state provider thread spawner run', 'mnt qualitas qualitas corpus compile jgroups org jgroups j channel factory parse element boolean', 'mnt qualitas qualitas corpus compile jgroups org jgroups demos total order receiver thread run', 'mnt qualitas qualitas corpus compile jgroups org jgroups blocks multi request send request list address long request options', 'mnt qualitas qualitas corpus compile jgroups org jgroups blocks repl cache get', 'mnt qualitas qualitas corpus compile jgroups org jgroups blocks repl cache custom marshaller object to byte buffer object', 'mnt qualitas qualitas corpus compile jgroups org jgroups blocks abstract connection map reaper run', 'mnt qualitas qualitas corpus compile jgroups org jgroups util properties to xml recurse list class string class extends annotation', 'mnt qualitas qualitas corpus compile jgroups org jgroups util util object to stream object data output stream', 'mnt qualitas qualitas corpus compile jgroups org jgroups util proxy main string', 'mnt qualitas qualitas corpus compile jgroups org jgroups protocols t incoming packet run', 'mnt qualitas qualitas corpus compile jgroups org jgroups protocols compress down event', 'mnt qualitas qualitas corpus compile jgroups org jgroups protocols scop queue thread run', 'mnt qualitas qualitas corpus compile jgroups org jgroups protocols unicas handle data received address long long boolean message event', 'mnt qualitas qualitas corpus compile jgroups org jgroups stack configurator create protocols vector protocol configuration protocol stack', 'mnt qualitas qualitas corpus compile jgroups org jgroups stack configurator check dependency references present list accessible object map string accessible object', 'mnt qualitas qualitas corpus compile jgroups org jgroups stack nak receiver window remove boolean', 'mnt qualitas qualitas corpus compile jgroups org jgroups stack ack mcast sender window wait until all acks received long', 'mnt qualitas qualitas corpus compile jgroups org jgroups blocks repl cache put short long boolean', 'mnt qualitas qualitas corpus compile jgroups org jgroups blocks memcached connector request handler run', 'mnt qualitas qualitas corpus compile jgroups org jgroups util util get all declared methods with annotations class class extends annotation', 'mnt qualitas qualitas corpus compile jgroups org jgroups util util replace properties string properties', 'mnt qualitas qualitas corpus compile jgroups org jgroups util proxy loop selector', 'mnt qualitas qualitas corpus compile jgroups org jgroups protocols t transfer queue bundler run', 'mnt qualitas qualitas corpus compile jgroups org jgroups protocols ping read all string', 'mnt qualitas qualitas corpus compile jgroups org jgroups protocols compress up event', 'mnt qualitas qualitas corpus compile jgroups org jgroups protocols auth up event', 'mnt qualitas qualitas corpus compile jgroups org jgroups protocols fil ping send get members request string promise boolean', 'mnt qualitas qualitas corpus compile jgroups org jgroups protocols rat limiter down event', 'mnt qualitas qualitas corpus compile jgroups org jgroups protocols sfc down event', 'mnt qualitas qualitas corpus compile jgroups org jgroups stack configurator set default values vector protocol configuration vector protocol stack type', 'mnt qualitas qualitas corpus compile jgroups org jgroups stack configurator remove deprecated properties object map string string', 'mnt qualitas qualitas corpus compile jgroups org jgroups stack protocol stack copy protocols protocol stack', 'mnt qualitas qualitas corpus compile jgroups org jgroups stack protocol stack destroy', 'mnt qualitas qualitas corpus compile jgroups org jgroups stack protocol stack start stack string address', 'mnt qualitas qualitas corpus compile jgroups org jgroups stack protocol stack stop stack string', 'mnt qualitas qualitas corpus compile jmoney net sf jmoney gui selection combo box set selected item without event object', 'mnt qualitas qualitas corpus compile jmoney net sf jmoney gui category combo box category combo box', 'mnt qualitas qualitas corpus compile jmoney net sf jmoney gui category panel update u', 'mnt qualitas qualitas corpus compile jmoney net sf jmoney gui font chooser show dialog font', 'mnt qualitas qualitas corpus compile jmoney net sf jmoney gui font chooser update preview', 'mnt qualitas qualitas corpus compile jmoney net sf jmoney gui account panel set session session', 'mnt qualitas qualitas corpus compile jmoney net sf jmoney gui account entries panel search entry backwards string', 'mnt qualitas qualitas corpus compile jmoney net sf jmoney gui editable metal theme get secondary', 'mnt qualitas qualitas corpus compile jmoney net sf jmoney gui editable metal theme set user font font ui resource', 'mnt qualitas qualitas corpus compile jmoney net sf jmoney gui main frame import m', 'mnt qualitas qualitas corpus compile jmoney net sf jmoney gui main frame menu bar set session opened boolean', 'mnt qualitas qualitas corpus compile jmoney net sf jmoney gui entry list item set date format very simple date format', 'mnt qualitas qualitas corpus compile jmoney net sf jmoney gui main frame tool bar jb init', 'mnt qualitas qualitas corpus compile jmoney net sf jmoney model double entry set memo string', 'mnt qualitas qualitas corpus compile jmoney net sf jmoney model account get entries', 'mnt qualitas qualitas corpus compile jmoney net sf jmoney entry filter check category net sf jmoney model entry', 'mnt qualitas qualitas corpus compile jmoney net sf jmoney sorted tree model sort children sorted tree node', 'mnt qualitas qualitas corpus compile jmoney net sf jmoney entry comparator get instance string string', 'mnt qualitas qualitas corpus compile jmoney net sf jmoney entry comparator category comparator compare entries entry entry', 'mnt qualitas qualitas corpus compile jmoney net sf jmoney io qif export account session account file', 'mnt qualitas qualitas corpus compile jmoney net sf jmoney io m import transaction session buffered reader', 'mnt qualitas qualitas corpus compile jmoney net sf jmoney io qif remove similar transfer account entry', 'mnt qualitas qualitas corpus compile poi org apache poi util string util write unicode string flag and data endian output string', 'mnt qualitas qualitas corpus compile poi org apache poi ss usermodel cell value cell value string', 'mnt qualitas qualitas corpus compile poi org apache poi hssf usermodel hssf cell to string', 'mnt qualitas qualitas corpus compile poi org apache poi hssf usermodel hssf font formatting is outline on', 'mnt qualitas qualitas corpus compile poi org apache poi hssf usermodel hssf workbook get workbook', 'mnt qualitas qualitas corpus compile poi org apache poi hssf record abstract escher holder record decode', 'mnt qualitas qualitas corpus compile poi org apache poi hssf record chart series index record get data size', 'mnt qualitas qualitas corpus compile poi org apache poi hssf record formula func var ptg create stringint', 'mnt qualitas qualitas corpus compile poi org apache poi hssf record formula attr ptg is optimized choose', 'mnt qualitas qualitas corpus compile poi org apache poi hssf record aggregates record aggregate position tracking visitor position tracking visitor record visitor int', 'mnt qualitas qualitas corpus compile poi org apache poi hssf record aggregates row records aggregate create dimensions dimensions record', 'mnt qualitas qualitas corpus compile poi org apache poi hssf record crypto biff decrypting stream read int', 'mnt qualitas qualitas corpus compile poi org apache poi ddf escher complex property serialize complex part byte int', 'mnt qualitas qualitas corpus compile poi org apache poi hssf model simple filled shape get obj record', 'mnt qualitas qualitas corpus compile poi org apache poi ss formula evaluation cache are values equal value eval value eval', 'mnt qualitas qualitas corpus compile poi org apache poi hpsf custom properties put custom property', 'mnt qualitas qualitas corpus compile poi org apache poi hpsf document summary information get hidden count', 'mnt qualitas qualitas corpus compile poi org apache poi ss util mutable fp number normalise bit', 'mnt qualitas qualitas corpus compile poi org apache poi poifs storage header block writer calculate xbat storage requirements int', 'mnt qualitas qualitas corpus compile poi org apache poi util binary tree values by value', 'mnt qualitas qualitas corpus compile poi org apache poi util binary tree do red black insert node int', 'mnt qualitas qualitas corpus compile poi org apache poi util binary tree values', 'mnt qualitas qualitas corpus compile poi org apache poi hssf usermodel hssf sheet shift rows int int int boolean boolean boolean', 'mnt qualitas qualitas corpus compile poi org apache poi hssf usermodel hssf workbook search for pictures list list hssf picture data', 'mnt qualitas qualitas corpus compile poi org apache poi hssf usermodel hssf workbook get all embedded objects list list hssf object data', 'mnt qualitas qualitas corpus compile poi org apache poi hssf usermodel static font metrics get font details font', 'mnt qualitas qualitas corpus compile poi org apache poi hssf record hyperlink record hyperlink record record input stream', 'mnt qualitas qualitas corpus compile poi org apache poi hssf record record factory input stream stream encryption info stream encryption info record input stream list record', 'mnt qualitas qualitas corpus compile poi org apache poi hssf record escher aggregate convert shapes hssf shape container escher container record map', 'mnt qualitas qualitas corpus compile poi org apache poi poifs filesystem document input stream read fully byte int int', 'mnt qualitas qualitas corpus compile poi org apache poi hssf dev biff viewer create records input stream print stream biff record listener boolean', 'mnt qualitas qualitas corpus compile poi org apache poi hssf record aggregates chart substream record aggregate chart substream record aggregate record stream', 'mnt qualitas qualitas corpus compile poi org apache poi hssf model workbook find drawing group', 'mnt qualitas qualitas corpus compile poi org apache poi hssf model drawing manager allocate shape id short', 'mnt qualitas qualitas corpus compile poi org apache poi ss formula formula parser parse rangeable', 'mnt qualitas qualitas corpus compile poi org apache poi ss formula formula cell cache entry set remove cell cache entry', 'mnt qualitas qualitas corpus compile poi org apache poi hpsf property read dictionary byte long int int', 'mnt qualitas qualitas corpus compile poi org apache poi poifs dev poifs view engine inspect viewable object boolean int string', 'mnt qualitas qualitas corpus compile poi org apache poi util binary tree do red black delete fixup node int', 'mnt qualitas qualitas corpus compile poi org apache poi hssf record formula functions boolean function calculate value eval', 'mnt qualitas qualitas corpus compile poi org apache poi hssf usermodel hssf cell find cell comment sheet int int', 'mnt qualitas qualitas corpus compile poi org apache poi hssf usermodel hssf optimiser optimise fonts hssf workbook', 'mnt qualitas qualitas corpus compile poi org apache poi hssf usermodel hssf sheet auto size column int boolean', 'mnt qualitas qualitas corpus compile poi org apache poi poifs filesystem poifs document path equals object', 'mnt qualitas qualitas corpus compile poi org apache poi ddf escher dump dump old long input stream print stream', 'mnt qualitas qualitas corpus compile poi org apache poi hssf model workbook serialize int byte', 'mnt qualitas qualitas corpus compile poi org apache poi ss formula workbook evaluator evaluate formula operation evaluation context ptg', 'mnt qualitas qualitas corpus compile poi org apache poi ss formula evaluation cache notify update cell int int evaluation cell', 'mnt qualitas qualitas corpus compile poi org apache poi hssf eventmodel event record factory process records input stream', 'mnt qualitas qualitas corpus compile poi org apache poi hssf extractor excel extractor get text', 'mnt qualitas qualitas corpus compile trove gnu trove serialization procedure execute byte long', 'mnt qualitas qualitas corpus compile trove gnu trove serialization procedure execute float short', 'mnt qualitas qualitas corpus compile trove gnu trove serialization procedure execute object short', 'mnt qualitas qualitas corpus compile trove gnu trove t linked list t linked list', 'mnt qualitas qualitas corpus compile trove gnu trove t linked list add last t linkable', 'mnt qualitas qualitas corpus compile trove gnu trove t linked list get next t linkable', 'mnt qualitas qualitas corpus compile trove gnu trove t linked list for each value t object procedure', 'mnt qualitas qualitas corpus compile trove gnu trove t linked list iterator impl previous index', 'mnt qualitas qualitas corpus compile trove gnu trove t hash set t hash set', 'mnt qualitas qualitas corpus compile trove gnu trove t hash set retain all collection', 'mnt qualitas qualitas corpus compile trove gnu trove t hash map map backed view to array', 'mnt qualitas qualitas corpus compile trove gnu trove t object hash t object hash int t object hashing strategy', 'mnt qualitas qualitas corpus compile trove gnu trove t object hash capacity', 'mnt qualitas qualitas corpus compile trove gnu trove t hash map entry entry int', 'mnt qualitas qualitas corpus compile trove gnu trove t linkable adapter set previous gnu trove t linkable', 'mnt qualitas qualitas corpus compile trove gnu trove t hash capacity', 'mnt qualitas qualitas corpus compile trove gnu trove benchmark result get ours', 'mnt qualitas qualitas corpus compile trove gnu trove benchmark operation theirs', 'mnt qualitas qualitas corpus compile trove gnu trove benchmark main get map put op', 'mnt qualitas qualitas corpus compile trove gnu trove t object hash insertion index', 'mnt qualitas qualitas corpus compile trove gnu trove generate generate generate decorators class file file', 'mnt qualitas qualitas corpus compile xalan org apache xalan templates avt part simple call visitors xslt visitor', 'mnt qualitas qualitas corpus compile xalan org apache xalan xsltc compiler variable base add reference variable ref base', 'mnt qualitas qualitas corpus compile xalan org apache xalan xsltc compiler syntax tree node element at int', 'mnt qualitas qualitas corpus compile xalan org apache xml serializer utils att list get q name int', 'mnt qualitas qualitas corpus compile xalan org apache xml dtm ref incremental sax source filter set content handler content handler', 'mnt qualitas qualitas corpus compile xalan org apache xalan xsltc dom simple result tree impl is supported string string', 'mnt qualitas qualitas corpus compile xalan org apache xalan xsltc dom adaptive result tree impl get expanded type i int', 'mnt qualitas qualitas corpus compile xalan org apache xalan xsltc dom sax impl handle text escaping', 'mnt qualitas qualitas corpus compile xalan org apache xml res xml error resources zh get contents', 'mnt qualitas qualitas corpus compile xalan org apache xml res xml error resources fr get contents', 'mnt qualitas qualitas corpus compile xalan org apache xalan lib sql dtm document index node int int', 'mnt qualitas qualitas corpus compile xalan org apache xalan xsltc compiler util security support get file exists file', 'mnt qualitas qualitas corpus compile xalan org apache xpath axes loc path iterator bool x path context', 'mnt qualitas qualitas corpus compile xalan org apache xpath axes descendant iterator descendant iterator compiler int int', 'mnt qualitas qualitas corpus compile xalan org apache xpath objects xr tree frag str string', 'mnt qualitas qualitas corpus compile xalan org apache xml utils un impl node set id attribute string boolean', 'mnt qualitas qualitas corpus compile xalan org apache xml utils string comparable get comparator string locale collator string', 'mnt qualitas qualitas corpus compile xalan org apache xml utils node vector insert in order int int', 'mnt qualitas qualitas corpus compile xalan org apache xalan processor xslt element def q name equals string string', 'mnt qualitas qualitas corpus compile xalan org apache xalan templates elem template element resolve prefix tables', 'mnt qualitas qualitas corpus compile xalan org apache xalan templates elem template element unexecute ns decls transformer impl string', 'mnt qualitas qualitas corpus compile xalan org apache xalan templates template list get template x path context int q name int int boolean dt', 'mnt qualitas qualitas corpus compile xalan org apache xpath functions object factory find provider class string class loader boolean', 'mnt qualitas qualitas corpus compile xalan org apache xalan xsltc compiler function call find constructors', 'mnt qualitas qualitas corpus compile xalan org apache xml dtm ref dtm default base iterators typed preceding sibling iterator next', 'mnt qualitas qualitas corpus compile xalan org apache xalan xsltc dom domws filter get should strip space int dt', 'mnt qualitas qualitas corpus compile xalan org apache xml serializer to html stream trie put string object', 'mnt qualitas qualitas corpus compile xalan org apache xml serializer tree walker traverse node node', 'mnt qualitas qualitas corpus compile xalan org apache xalan xsltc compiler util object factory find class loader', 'mnt qualitas qualitas corpus compile xalan org apache xpath axes union child iterator accept node int', 'mnt qualitas qualitas corpus compile xalan org apache xml utils dom helper is node after node node', 'mnt qualitas qualitas corpus compile xalan org apache xml utils dom helper is node after sibling node node node', 'mnt qualitas qualitas corpus compile xalan org apache xml utils tree walker traverse fragment node', 'mnt qualitas qualitas corpus compile xalan org apache xml utils xm char is xm valid nmtoken string', 'mnt qualitas qualitas corpus compile xalan org apache xalan transformer transformer impl create serialization handler result output properties', 'mnt qualitas qualitas corpus compile xalan org apache xalan transformer transformer impl wait transform thread', 'mnt qualitas qualitas corpus compile xalan org apache xml serializer dom do tree walker traverse node', 'mnt qualitas qualitas corpus compile xalan org apache xalan xsltc cmdline object factory find provider class string class loader boolean', 'mnt qualitas qualitas corpus compile xalan org apache xalan templates elem call template execute transformer impl', 'mnt qualitas qualitas corpus compile xalan org apache xalan xsltc runtime object factory look up factory class name string string string', 'mnt qualitas qualitas corpus compile xalan org apache xml dtm ref dtm manager default get dt source boolean dtmws filter boolean boolean', 'mnt qualitas qualitas corpus compile xalan org apache xml dtm ref dtm default base iterators typed preceding iterator next', 'mnt qualitas qualitas corpus compile xalan org apache xalan xsltc dom bit array get bit number int', 'mnt qualitas qualitas corpus compile xalan org apache xml serializer encoding info encoding impl encoding impl string int int int', 'mnt qualitas qualitas corpus compile xalan org apache xml serializer writer to ut buffered write char int int', 'mnt qualitas qualitas corpus compile xalan org apache xalan xsltc compiler util method generator widen conditional branch target offsets', 'mnt qualitas qualitas corpus compile xalan org apache xpath axes predicated node test execute predicates int x path context', 'mnt qualitas qualitas corpus compile xalan org apache xml utils dom helper get namespace of node node', 'mnt qualitas qualitas corpus compile xalan org apache xml utils object factory look up factory class name string string string', 'mnt qualitas qualitas corpus compile xalan org apache xpath operations variable get elem variable', 'mnt qualitas qualitas corpus compile xalan org apache xalan transformer transformer identity impl transform source result', 'mnt qualitas qualitas corpus compile xalan org apache xalan transformer key table get refs table', 'mnt qualitas qualitas corpus compile xalan org apache xml serializer dom do tree walker is wfxml char string character', 'mnt qualitas qualitas corpus compile xalan org apache xml serializer dom do tree walker init properties properties', 'mnt qualitas qualitas corpus compile xalan org apache xml dtm ref sax dtm sa dt typed ancestor iterator set start node int', 'mnt qualitas qualitas corpus compile xalan org apache xalan extensions xsl processor context output to result tree stylesheet object']\n"
          ]
        }
      ],
      "source": [
        "print(concat_word_groups)"
      ]
    },
    {
      "cell_type": "code",
      "execution_count": 37,
      "metadata": {
        "colab": {
          "base_uri": "https://localhost:8080/"
        },
        "id": "t213rdJUtvJN",
        "outputId": "6ebe9250-2d1b-4a17-ea69-3254f8cfefd5"
      },
      "outputs": [
        {
          "output_type": "stream",
          "name": "stdout",
          "text": [
            "mnt qualitas qualitas corpus compile freemind freemind modes common plugins reminder hook base shutdown map hook\n"
          ]
        }
      ],
      "source": [
        "string1 = word_groups[0]\n",
        "string2 = ' '.join(string1)\n",
        "print(string2)"
      ]
    },
    {
      "cell_type": "markdown",
      "metadata": {
        "id": "qHXOnyz-bhD6"
      },
      "source": [
        "#Word Embeddings using Gensim Word2Vec"
      ]
    },
    {
      "cell_type": "code",
      "execution_count": 47,
      "metadata": {
        "id": "KtlM8YM_WDxH"
      },
      "outputs": [],
      "source": [
        "# def WordEmbedding(tokenizedwords): #creates a dictionary with vocab words and corresponding vectors \n",
        "#   model = Word2Vec(tokenizedwords, min_count=1, sg=1, size=50) #skipgram model \n",
        "#   model.train(tokenizedwords, total_examples=model.corpus_count, epochs=10)\n",
        "#   keys = list(model.wv.vocab.keys())\n",
        "#   values = list(model.wv.vectors)\n",
        "#   wdict = {}\n",
        "#   for i in range(840):\n",
        "#     wdict[keys[i]] = values[i]\n",
        "#   return wdict\n",
        "\n",
        "# word_vec = WordEmbedding(word_groups) #this contains the key as word and value as the vector"
      ]
    },
    {
      "cell_type": "code",
      "execution_count": 40,
      "metadata": {
        "id": "PlrnqEhZtM2t"
      },
      "outputs": [],
      "source": [
        "# def VectorRep(groupofwords,dictionary): #gives a list of list which contains vectors for each word \n",
        "#   rep=[]\n",
        "#   for i in groupofwords:\n",
        "#     l=[]\n",
        "#     for j in i:\n",
        "#       l.append(dictionary.get(j))\n",
        "#     rep.append(l)\n",
        "#   return rep\n",
        "\n",
        "# vector_rep = VectorRep(word_groups, word_vec)"
      ]
    },
    {
      "cell_type": "code",
      "execution_count": 41,
      "metadata": {
        "id": "_jdzgI9y7VMq"
      },
      "outputs": [],
      "source": [
        "# def AvgLength(vectorrepresentation):\n",
        "#   sum = 0\n",
        "#   for i in range(840):\n",
        "#     sum += len(vectorrepresentation[i])\n",
        "#   avg = sum/840\n",
        "#   return avg\n",
        "\n",
        "# AvgLength(vector_rep)"
      ]
    },
    {
      "cell_type": "code",
      "execution_count": 42,
      "metadata": {
        "id": "_zR3Tt4ZEHDL"
      },
      "outputs": [],
      "source": [
        "# def FindMaxLength(lst):\n",
        "#     maxList = max((x) for x in lst)\n",
        "#     maxLength = max(len(x) for x in lst )\n",
        "  \n",
        "#     return maxList, maxLength\n",
        "      \n",
        "# print(FindMaxLength(word_groups))"
      ]
    },
    {
      "cell_type": "code",
      "execution_count": 43,
      "metadata": {
        "id": "A54MLD0B5Xie"
      },
      "outputs": [],
      "source": [
        "# x = np.zeros(50)\n",
        "# print(x)\n",
        "# type(x)\n",
        "# m = x.tolist()\n",
        "# type(m)"
      ]
    },
    {
      "cell_type": "code",
      "execution_count": 44,
      "metadata": {
        "id": "s76Gc7sF5jsy"
      },
      "outputs": [],
      "source": [
        "# tensor1 = tf.zeros(4,4)\n",
        "# print(tensor1)"
      ]
    },
    {
      "cell_type": "code",
      "execution_count": 45,
      "metadata": {
        "id": "lJIfREQL1YJ4"
      },
      "outputs": [],
      "source": [
        "# tensor = tf.convert_to_tensor(vector_rep[0]) \n",
        "# print(tensor.shape)"
      ]
    },
    {
      "cell_type": "code",
      "execution_count": 46,
      "metadata": {
        "id": "jDY-SAEW08P_"
      },
      "outputs": [],
      "source": [
        "# type(vector_rep)"
      ]
    },
    {
      "cell_type": "markdown",
      "metadata": {
        "id": "B10AlMV1rFZY"
      },
      "source": [
        "# Neural Network Architecture"
      ]
    },
    {
      "cell_type": "markdown",
      "metadata": {
        "id": "xTG76df9UnCH"
      },
      "source": [
        "## Left Branch : CNN \n",
        "\n",
        "\n"
      ]
    },
    {
      "cell_type": "code",
      "execution_count": null,
      "metadata": {
        "id": "xtHVg87jrizi"
      },
      "outputs": [],
      "source": [
        "def CNNFeatureExtraction(trainX): # CNN with 3 conv1d layers for feature extraction from structural feature\n",
        "  epochs, batch_size, test_batch_size = 120, 50, 50\n",
        "  height, width, depth = trainX.shape[0], trainX.shape[1], trainX.shape[2]\n",
        "  model_left = Sequential()\n",
        "  model_left.add(Convolution1D(filters=32, kernel_size=3, activation='relu', input_shape=(width,depth)))\n",
        "  model_left.add(Convolution1D(filters=64, kernel_size=3, activation='relu'))\n",
        "  model_left.add(Convolution1D(filters=64, kernel_size=3, activation='relu'))\n",
        "  model_left.add(Flatten())\n",
        "  return model_left"
      ]
    },
    {
      "cell_type": "markdown",
      "metadata": {
        "id": "kk8eTgxVp2ZE"
      },
      "source": [
        "## Right Branch : "
      ]
    },
    {
      "cell_type": "markdown",
      "metadata": {
        "id": "A7QlWJ7FP0FO"
      },
      "source": [
        "DistilBERT"
      ]
    },
    {
      "cell_type": "code",
      "execution_count": 48,
      "metadata": {
        "id": "EJfaF9ZnCfa5"
      },
      "outputs": [],
      "source": [
        "# def evaluate_model(trainX, trainy, testX, testy): \n",
        "# \tepochs, batch_size, test_batch_size = 120, 50, 50\n",
        "# \theight, width, depth = trainX.shape[0], trainX.shape[1], trainX.shape[2]\n",
        "# \tmodel = Sequential()\n",
        "# \tmodel.add(Convolution1D(filters=32, kernel_size=3, activation='relu', input_shape=(width,depth)))\n",
        "# \tmodel.add(Convolution1D(filters=64, kernel_size=3, activation='relu'))\n",
        "# \tmodel.add(Flatten())\n",
        "# \tmodel.add(Dense(1, activation='sigmoid'))\n",
        "# \tmodel.compile(loss='binary_crossentropy', optimizer='adam', metrics=['accuracy'])\n",
        "# \tmodel.fit(trainX, trainy, epochs=epochs, batch_size=batch_size)\n",
        "# \t_, accuracy = model.evaluate(testX, testy, batch_size=test_batch_size)\n",
        "# \treturn accuracy\n",
        "\n",
        "# model_accuracy = evaluate_model(X_crosstrain, Y_crosstrain, X_crosstest, Y_crosstest)"
      ]
    }
  ],
  "metadata": {
    "colab": {
      "collapsed_sections": [],
      "name": "Code_Smell_Classification_using_Deep_Learning.ipynb",
      "provenance": [],
      "mount_file_id": "1oLm38-bOBa5vl7NZmwvQngGlyP2wpVDZ",
      "authorship_tag": "ABX9TyMWsHwjlNcyp7oJwZcoW7l5",
      "include_colab_link": true
    },
    "kernelspec": {
      "display_name": "Python 3",
      "name": "python3"
    },
    "language_info": {
      "name": "python"
    },
    "accelerator": "GPU"
  },
  "nbformat": 4,
  "nbformat_minor": 0
}