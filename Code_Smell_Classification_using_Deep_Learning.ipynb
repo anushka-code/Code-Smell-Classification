{
  "cells": [
    {
      "cell_type": "markdown",
      "metadata": {
        "id": "view-in-github",
        "colab_type": "text"
      },
      "source": [
        "<a href=\"https://colab.research.google.com/github/anushka-code/Code-Smell-Classification/blob/main/Code_Smell_Classification_using_Deep_Learning.ipynb\" target=\"_parent\"><img src=\"https://colab.research.google.com/assets/colab-badge.svg\" alt=\"Open In Colab\"/></a>"
      ]
    },
    {
      "cell_type": "markdown",
      "metadata": {
        "id": "43MndqI-FQco"
      },
      "source": [
        "#Code Smell Detection (Smelly/Non Smelly) using Structural & Semantic Features \n",
        "\n",
        "#Code Smells Targetted: \n",
        "\n",
        "\n",
        "1.   Long Parameters List\n",
        "2.   Switch Statements\n",
        "\n",
        "\n",
        "\n",
        "\n",
        "\n"
      ]
    },
    {
      "cell_type": "markdown",
      "metadata": {
        "id": "QMyUsHLL788D"
      },
      "source": [
        "###Importing Libraries"
      ]
    },
    {
      "cell_type": "code",
      "source": [
        "#!pip install transformers"
      ],
      "metadata": {
        "id": "st0sXOh2xRj4"
      },
      "execution_count": 1,
      "outputs": []
    },
    {
      "cell_type": "code",
      "execution_count": 2,
      "metadata": {
        "id": "noy7PwtVGNTg"
      },
      "outputs": [],
      "source": [
        "import numpy as np\n",
        "import pandas as pd\n",
        "import tensorflow as tf\n",
        "from tensorflow import keras\n",
        "from keras.models import Functional, Model, Sequential\n",
        "from keras.layers import Input, Convolution1D, MaxPooling1D, Flatten, Dense, concatenate\n",
        "from keras.utils import np_utils\n",
        "from keras.preprocessing.text import Tokenizer\n",
        "from tensorflow.keras.preprocessing.sequence import pad_sequences\n",
        "import sklearn\n",
        "from sklearn.preprocessing import MinMaxScaler\n",
        "from sklearn import model_selection\n",
        "from sklearn.model_selection import StratifiedKFold, GridSearchCV\n",
        "from sklearn.model_selection import train_test_split\n",
        "from sklearn.feature_extraction.text import TfidfVectorizer\n",
        "from sklearn.pipeline import Pipeline, FeatureUnion\n",
        "from sklearn.ensemble import RandomForestClassifier\n",
        "from sklearn.preprocessing import FunctionTransformer\n",
        "import imblearn\n",
        "from imblearn.over_sampling import SMOTE\n",
        "import nltk \n",
        "from nltk.tokenize import RegexpTokenizer\n",
        "import re\n",
        "import gensim\n",
        "from gensim.models import Word2Vec\n",
        "from gensim.scripts.glove2word2vec import glove2word2vec\n",
        "\n",
        "# import transformers\n",
        "# from transformers import DistilBertTokenizer\n",
        "# from transformers import TFDistilBertForSequenceClassification\n",
        "# from transformers import TFDistilBertModel"
      ]
    },
    {
      "cell_type": "markdown",
      "metadata": {
        "id": "Gl2ewKuLLSik"
      },
      "source": [
        "###Mounting Google Drive"
      ]
    },
    {
      "cell_type": "code",
      "execution_count": 3,
      "metadata": {
        "id": "EVp73IfEKQAV"
      },
      "outputs": [],
      "source": [
        "from pydrive.auth import GoogleAuth\n",
        "from pydrive.drive import GoogleDrive\n",
        "from google.colab import auth\n",
        "from oauth2client.client import GoogleCredentials\n",
        "\n",
        "auth.authenticate_user()\n",
        "gauth = GoogleAuth()\n",
        "gauth.credentials = GoogleCredentials.get_application_default()\n",
        "drive = GoogleDrive(gauth)"
      ]
    },
    {
      "cell_type": "markdown",
      "metadata": {
        "id": "6R-MYnl67itv"
      },
      "source": [
        "###Dataset Loader"
      ]
    },
    {
      "cell_type": "code",
      "execution_count": 4,
      "metadata": {
        "id": "ULHBQ7_L53EO"
      },
      "outputs": [],
      "source": [
        "def DataLoader(link, name_of_file):\n",
        "  id = link.split(\"/\")[-2]\n",
        "  downloaded = drive.CreateFile({'id':id}) \n",
        "  downloaded.GetContentFile(name_of_file)\n",
        "  dataframe = pd.read_csv(name_of_file)\n",
        "  return dataframe\n",
        "\n",
        "link1 = 'https://drive.google.com/file/d/1EfbAqgr7i9h4yFwEoU3igG34Gt48l6WT/view?usp=sharing'\n",
        "link2 = 'https://drive.google.com/file/d/1Ya1OMWsz1yyXAaZheIck-roX0M9UWiqg/view?usp=sharing'\n",
        "link3 = 'https://drive.google.com/file/d/1xeMRB6ACyjep6VF_rDRq8cXkA58ZlEZs/view?usp=sharing'\n",
        "link4 = 'https://drive.google.com/file/d/1OxxMX7-kc7mQUvb2DSJR_fbtvZ5bB1Ef/view?usp=sharing'\n",
        "link5 = 'https://drive.google.com/file/d/1mRIgoXhLwCdao7f9yD2QTSi7JNZNq9zJ/view?usp=sharing'\n",
        "link6 = 'https://drive.google.com/file/d/1rLkJAwHkBAAkHMp2L1Y1AzuniIZdyB7x/view?usp=sharing'\n",
        "name1 = 'long_parameters_list_structural.csv'\n",
        "name2 = 'switch_statements_structural.csv'\n",
        "name3 = 'long_parameters_list_semantic.csv'\n",
        "name4 = 'switch_statements_semantic.csv'\n",
        "name5 = 'multilabel_classification_dataset.csv'\n",
        "name6 = 'semantic_final.csv'\n",
        "\n",
        "df_lp = DataLoader(link1, name1)\n",
        "df_ss = DataLoader(link2, name2)\n",
        "df_lpm = DataLoader(link3, name3)\n",
        "df_ssm = DataLoader(link4, name4)\n",
        "df_multilabel = DataLoader(link5, name5)\n",
        "df_semantic = DataLoader(link6,name6)"
      ]
    },
    {
      "cell_type": "markdown",
      "metadata": {
        "id": "V-VE5KVKkMHL"
      },
      "source": [
        "Long Parameters List Structural Dataset"
      ]
    },
    {
      "cell_type": "code",
      "execution_count": 5,
      "metadata": {
        "id": "MJ8g3uXM6qPO",
        "colab": {
          "base_uri": "https://localhost:8080/",
          "height": 299
        },
        "outputId": "64f51255-4e37-4a19-8009-4211ef281945"
      },
      "outputs": [
        {
          "output_type": "execute_result",
          "data": {
            "text/plain": [
              "   NOP_method  CC_method ATFD_method FDP_method  CM_method  MAXNESTING_method  \\\n",
              "0           0          0           0          0          0                  2   \n",
              "1           0          0           0          0          0                  1   \n",
              "2           1          0           0          0          0                  1   \n",
              "3           0          5           0          0          9                  0   \n",
              "4           1          0           1          1          0                  1   \n",
              "\n",
              "   LOC_method  CYCLO_method  NMCS_method  NOLV_method  ...  NOI_package  \\\n",
              "0           8             2            0            0  ...            0   \n",
              "1           3             1            0            0  ...            0   \n",
              "2           2             1            0            1  ...            0   \n",
              "3           1             1            0            0  ...           11   \n",
              "4           3             1            0            1  ...           11   \n",
              "\n",
              "  LOC_package NOM_package  NOPK_project  NOCS_project NOI_project  \\\n",
              "0         229          16            43           849          78   \n",
              "1        4223         240            43           849          78   \n",
              "2        4223         240            43           849          78   \n",
              "3        6037         728            43           849          78   \n",
              "4        6037         728            43           849          78   \n",
              "\n",
              "   NOM_project  NOMNAMM_project  LOC_project  is_long_parameters_list  \n",
              "0         5788             4778        65687                    False  \n",
              "1         5788             4778        65687                    False  \n",
              "2         5788             4778        65687                    False  \n",
              "3         5788             4778        65687                    False  \n",
              "4         5788             4778        65687                    False  \n",
              "\n",
              "[5 rows x 57 columns]"
            ],
            "text/html": [
              "\n",
              "  <div id=\"df-79f48c26-b277-4fc5-bdd1-5f81bf8142a9\">\n",
              "    <div class=\"colab-df-container\">\n",
              "      <div>\n",
              "<style scoped>\n",
              "    .dataframe tbody tr th:only-of-type {\n",
              "        vertical-align: middle;\n",
              "    }\n",
              "\n",
              "    .dataframe tbody tr th {\n",
              "        vertical-align: top;\n",
              "    }\n",
              "\n",
              "    .dataframe thead th {\n",
              "        text-align: right;\n",
              "    }\n",
              "</style>\n",
              "<table border=\"1\" class=\"dataframe\">\n",
              "  <thead>\n",
              "    <tr style=\"text-align: right;\">\n",
              "      <th></th>\n",
              "      <th>NOP_method</th>\n",
              "      <th>CC_method</th>\n",
              "      <th>ATFD_method</th>\n",
              "      <th>FDP_method</th>\n",
              "      <th>CM_method</th>\n",
              "      <th>MAXNESTING_method</th>\n",
              "      <th>LOC_method</th>\n",
              "      <th>CYCLO_method</th>\n",
              "      <th>NMCS_method</th>\n",
              "      <th>NOLV_method</th>\n",
              "      <th>...</th>\n",
              "      <th>NOI_package</th>\n",
              "      <th>LOC_package</th>\n",
              "      <th>NOM_package</th>\n",
              "      <th>NOPK_project</th>\n",
              "      <th>NOCS_project</th>\n",
              "      <th>NOI_project</th>\n",
              "      <th>NOM_project</th>\n",
              "      <th>NOMNAMM_project</th>\n",
              "      <th>LOC_project</th>\n",
              "      <th>is_long_parameters_list</th>\n",
              "    </tr>\n",
              "  </thead>\n",
              "  <tbody>\n",
              "    <tr>\n",
              "      <th>0</th>\n",
              "      <td>0</td>\n",
              "      <td>0</td>\n",
              "      <td>0</td>\n",
              "      <td>0</td>\n",
              "      <td>0</td>\n",
              "      <td>2</td>\n",
              "      <td>8</td>\n",
              "      <td>2</td>\n",
              "      <td>0</td>\n",
              "      <td>0</td>\n",
              "      <td>...</td>\n",
              "      <td>0</td>\n",
              "      <td>229</td>\n",
              "      <td>16</td>\n",
              "      <td>43</td>\n",
              "      <td>849</td>\n",
              "      <td>78</td>\n",
              "      <td>5788</td>\n",
              "      <td>4778</td>\n",
              "      <td>65687</td>\n",
              "      <td>False</td>\n",
              "    </tr>\n",
              "    <tr>\n",
              "      <th>1</th>\n",
              "      <td>0</td>\n",
              "      <td>0</td>\n",
              "      <td>0</td>\n",
              "      <td>0</td>\n",
              "      <td>0</td>\n",
              "      <td>1</td>\n",
              "      <td>3</td>\n",
              "      <td>1</td>\n",
              "      <td>0</td>\n",
              "      <td>0</td>\n",
              "      <td>...</td>\n",
              "      <td>0</td>\n",
              "      <td>4223</td>\n",
              "      <td>240</td>\n",
              "      <td>43</td>\n",
              "      <td>849</td>\n",
              "      <td>78</td>\n",
              "      <td>5788</td>\n",
              "      <td>4778</td>\n",
              "      <td>65687</td>\n",
              "      <td>False</td>\n",
              "    </tr>\n",
              "    <tr>\n",
              "      <th>2</th>\n",
              "      <td>1</td>\n",
              "      <td>0</td>\n",
              "      <td>0</td>\n",
              "      <td>0</td>\n",
              "      <td>0</td>\n",
              "      <td>1</td>\n",
              "      <td>2</td>\n",
              "      <td>1</td>\n",
              "      <td>0</td>\n",
              "      <td>1</td>\n",
              "      <td>...</td>\n",
              "      <td>0</td>\n",
              "      <td>4223</td>\n",
              "      <td>240</td>\n",
              "      <td>43</td>\n",
              "      <td>849</td>\n",
              "      <td>78</td>\n",
              "      <td>5788</td>\n",
              "      <td>4778</td>\n",
              "      <td>65687</td>\n",
              "      <td>False</td>\n",
              "    </tr>\n",
              "    <tr>\n",
              "      <th>3</th>\n",
              "      <td>0</td>\n",
              "      <td>5</td>\n",
              "      <td>0</td>\n",
              "      <td>0</td>\n",
              "      <td>9</td>\n",
              "      <td>0</td>\n",
              "      <td>1</td>\n",
              "      <td>1</td>\n",
              "      <td>0</td>\n",
              "      <td>0</td>\n",
              "      <td>...</td>\n",
              "      <td>11</td>\n",
              "      <td>6037</td>\n",
              "      <td>728</td>\n",
              "      <td>43</td>\n",
              "      <td>849</td>\n",
              "      <td>78</td>\n",
              "      <td>5788</td>\n",
              "      <td>4778</td>\n",
              "      <td>65687</td>\n",
              "      <td>False</td>\n",
              "    </tr>\n",
              "    <tr>\n",
              "      <th>4</th>\n",
              "      <td>1</td>\n",
              "      <td>0</td>\n",
              "      <td>1</td>\n",
              "      <td>1</td>\n",
              "      <td>0</td>\n",
              "      <td>1</td>\n",
              "      <td>3</td>\n",
              "      <td>1</td>\n",
              "      <td>0</td>\n",
              "      <td>1</td>\n",
              "      <td>...</td>\n",
              "      <td>11</td>\n",
              "      <td>6037</td>\n",
              "      <td>728</td>\n",
              "      <td>43</td>\n",
              "      <td>849</td>\n",
              "      <td>78</td>\n",
              "      <td>5788</td>\n",
              "      <td>4778</td>\n",
              "      <td>65687</td>\n",
              "      <td>False</td>\n",
              "    </tr>\n",
              "  </tbody>\n",
              "</table>\n",
              "<p>5 rows × 57 columns</p>\n",
              "</div>\n",
              "      <button class=\"colab-df-convert\" onclick=\"convertToInteractive('df-79f48c26-b277-4fc5-bdd1-5f81bf8142a9')\"\n",
              "              title=\"Convert this dataframe to an interactive table.\"\n",
              "              style=\"display:none;\">\n",
              "        \n",
              "  <svg xmlns=\"http://www.w3.org/2000/svg\" height=\"24px\"viewBox=\"0 0 24 24\"\n",
              "       width=\"24px\">\n",
              "    <path d=\"M0 0h24v24H0V0z\" fill=\"none\"/>\n",
              "    <path d=\"M18.56 5.44l.94 2.06.94-2.06 2.06-.94-2.06-.94-.94-2.06-.94 2.06-2.06.94zm-11 1L8.5 8.5l.94-2.06 2.06-.94-2.06-.94L8.5 2.5l-.94 2.06-2.06.94zm10 10l.94 2.06.94-2.06 2.06-.94-2.06-.94-.94-2.06-.94 2.06-2.06.94z\"/><path d=\"M17.41 7.96l-1.37-1.37c-.4-.4-.92-.59-1.43-.59-.52 0-1.04.2-1.43.59L10.3 9.45l-7.72 7.72c-.78.78-.78 2.05 0 2.83L4 21.41c.39.39.9.59 1.41.59.51 0 1.02-.2 1.41-.59l7.78-7.78 2.81-2.81c.8-.78.8-2.07 0-2.86zM5.41 20L4 18.59l7.72-7.72 1.47 1.35L5.41 20z\"/>\n",
              "  </svg>\n",
              "      </button>\n",
              "      \n",
              "  <style>\n",
              "    .colab-df-container {\n",
              "      display:flex;\n",
              "      flex-wrap:wrap;\n",
              "      gap: 12px;\n",
              "    }\n",
              "\n",
              "    .colab-df-convert {\n",
              "      background-color: #E8F0FE;\n",
              "      border: none;\n",
              "      border-radius: 50%;\n",
              "      cursor: pointer;\n",
              "      display: none;\n",
              "      fill: #1967D2;\n",
              "      height: 32px;\n",
              "      padding: 0 0 0 0;\n",
              "      width: 32px;\n",
              "    }\n",
              "\n",
              "    .colab-df-convert:hover {\n",
              "      background-color: #E2EBFA;\n",
              "      box-shadow: 0px 1px 2px rgba(60, 64, 67, 0.3), 0px 1px 3px 1px rgba(60, 64, 67, 0.15);\n",
              "      fill: #174EA6;\n",
              "    }\n",
              "\n",
              "    [theme=dark] .colab-df-convert {\n",
              "      background-color: #3B4455;\n",
              "      fill: #D2E3FC;\n",
              "    }\n",
              "\n",
              "    [theme=dark] .colab-df-convert:hover {\n",
              "      background-color: #434B5C;\n",
              "      box-shadow: 0px 1px 3px 1px rgba(0, 0, 0, 0.15);\n",
              "      filter: drop-shadow(0px 1px 2px rgba(0, 0, 0, 0.3));\n",
              "      fill: #FFFFFF;\n",
              "    }\n",
              "  </style>\n",
              "\n",
              "      <script>\n",
              "        const buttonEl =\n",
              "          document.querySelector('#df-79f48c26-b277-4fc5-bdd1-5f81bf8142a9 button.colab-df-convert');\n",
              "        buttonEl.style.display =\n",
              "          google.colab.kernel.accessAllowed ? 'block' : 'none';\n",
              "\n",
              "        async function convertToInteractive(key) {\n",
              "          const element = document.querySelector('#df-79f48c26-b277-4fc5-bdd1-5f81bf8142a9');\n",
              "          const dataTable =\n",
              "            await google.colab.kernel.invokeFunction('convertToInteractive',\n",
              "                                                     [key], {});\n",
              "          if (!dataTable) return;\n",
              "\n",
              "          const docLinkHtml = 'Like what you see? Visit the ' +\n",
              "            '<a target=\"_blank\" href=https://colab.research.google.com/notebooks/data_table.ipynb>data table notebook</a>'\n",
              "            + ' to learn more about interactive tables.';\n",
              "          element.innerHTML = '';\n",
              "          dataTable['output_type'] = 'display_data';\n",
              "          await google.colab.output.renderOutput(dataTable, element);\n",
              "          const docLink = document.createElement('div');\n",
              "          docLink.innerHTML = docLinkHtml;\n",
              "          element.appendChild(docLink);\n",
              "        }\n",
              "      </script>\n",
              "    </div>\n",
              "  </div>\n",
              "  "
            ]
          },
          "metadata": {},
          "execution_count": 5
        }
      ],
      "source": [
        "df_lp.head(5)"
      ]
    },
    {
      "cell_type": "markdown",
      "metadata": {
        "id": "ykY52hFC7FaT"
      },
      "source": [
        "Switch Statements Structural Dataset\n",
        "\n"
      ]
    },
    {
      "cell_type": "code",
      "execution_count": 6,
      "metadata": {
        "id": "lL0zKacc7tMH",
        "colab": {
          "base_uri": "https://localhost:8080/",
          "height": 299
        },
        "outputId": "14502872-a136-40e4-b7d6-9afbdc026de2"
      },
      "outputs": [
        {
          "output_type": "execute_result",
          "data": {
            "text/plain": [
              "   NOP_method  CC_method ATFD_method FDP_method  CM_method  MAXNESTING_method  \\\n",
              "0           1          2           0          0          2                  1   \n",
              "1           0          0           0          0          0                  2   \n",
              "2           2          0           0          0          0                  1   \n",
              "3           0          0           0          0          0                  2   \n",
              "4           0          0           0          0          0                  1   \n",
              "\n",
              "   LOC_method  CYCLO_method  NMCS_method  NOLV_method  ...  NOI_package  \\\n",
              "0           5             1            0            1  ...            3   \n",
              "1           6             3            0            0  ...            0   \n",
              "2           3             1            0            2  ...            0   \n",
              "3           3             1            0            0  ...            0   \n",
              "4           3             1            0            0  ...            0   \n",
              "\n",
              "  LOC_package NOM_package  NOPK_project  NOCS_project NOI_project  \\\n",
              "0         439          53            43           849          78   \n",
              "1        4223         240            43           849          78   \n",
              "2        4223         240            43           849          78   \n",
              "3        1212         120            43           849          78   \n",
              "4         516          29            43           849          78   \n",
              "\n",
              "   NOM_project  NOMNAMM_project  LOC_project  is_switch_statements  \n",
              "0         5788             4778        65687                 False  \n",
              "1         5788             4778        65687                 False  \n",
              "2         5788             4778        65687                 False  \n",
              "3         5788             4778        65687                 False  \n",
              "4         5788             4778        65687                 False  \n",
              "\n",
              "[5 rows x 57 columns]"
            ],
            "text/html": [
              "\n",
              "  <div id=\"df-ca2ffa78-c1e0-4900-8563-f63c68f8df4d\">\n",
              "    <div class=\"colab-df-container\">\n",
              "      <div>\n",
              "<style scoped>\n",
              "    .dataframe tbody tr th:only-of-type {\n",
              "        vertical-align: middle;\n",
              "    }\n",
              "\n",
              "    .dataframe tbody tr th {\n",
              "        vertical-align: top;\n",
              "    }\n",
              "\n",
              "    .dataframe thead th {\n",
              "        text-align: right;\n",
              "    }\n",
              "</style>\n",
              "<table border=\"1\" class=\"dataframe\">\n",
              "  <thead>\n",
              "    <tr style=\"text-align: right;\">\n",
              "      <th></th>\n",
              "      <th>NOP_method</th>\n",
              "      <th>CC_method</th>\n",
              "      <th>ATFD_method</th>\n",
              "      <th>FDP_method</th>\n",
              "      <th>CM_method</th>\n",
              "      <th>MAXNESTING_method</th>\n",
              "      <th>LOC_method</th>\n",
              "      <th>CYCLO_method</th>\n",
              "      <th>NMCS_method</th>\n",
              "      <th>NOLV_method</th>\n",
              "      <th>...</th>\n",
              "      <th>NOI_package</th>\n",
              "      <th>LOC_package</th>\n",
              "      <th>NOM_package</th>\n",
              "      <th>NOPK_project</th>\n",
              "      <th>NOCS_project</th>\n",
              "      <th>NOI_project</th>\n",
              "      <th>NOM_project</th>\n",
              "      <th>NOMNAMM_project</th>\n",
              "      <th>LOC_project</th>\n",
              "      <th>is_switch_statements</th>\n",
              "    </tr>\n",
              "  </thead>\n",
              "  <tbody>\n",
              "    <tr>\n",
              "      <th>0</th>\n",
              "      <td>1</td>\n",
              "      <td>2</td>\n",
              "      <td>0</td>\n",
              "      <td>0</td>\n",
              "      <td>2</td>\n",
              "      <td>1</td>\n",
              "      <td>5</td>\n",
              "      <td>1</td>\n",
              "      <td>0</td>\n",
              "      <td>1</td>\n",
              "      <td>...</td>\n",
              "      <td>3</td>\n",
              "      <td>439</td>\n",
              "      <td>53</td>\n",
              "      <td>43</td>\n",
              "      <td>849</td>\n",
              "      <td>78</td>\n",
              "      <td>5788</td>\n",
              "      <td>4778</td>\n",
              "      <td>65687</td>\n",
              "      <td>False</td>\n",
              "    </tr>\n",
              "    <tr>\n",
              "      <th>1</th>\n",
              "      <td>0</td>\n",
              "      <td>0</td>\n",
              "      <td>0</td>\n",
              "      <td>0</td>\n",
              "      <td>0</td>\n",
              "      <td>2</td>\n",
              "      <td>6</td>\n",
              "      <td>3</td>\n",
              "      <td>0</td>\n",
              "      <td>0</td>\n",
              "      <td>...</td>\n",
              "      <td>0</td>\n",
              "      <td>4223</td>\n",
              "      <td>240</td>\n",
              "      <td>43</td>\n",
              "      <td>849</td>\n",
              "      <td>78</td>\n",
              "      <td>5788</td>\n",
              "      <td>4778</td>\n",
              "      <td>65687</td>\n",
              "      <td>False</td>\n",
              "    </tr>\n",
              "    <tr>\n",
              "      <th>2</th>\n",
              "      <td>2</td>\n",
              "      <td>0</td>\n",
              "      <td>0</td>\n",
              "      <td>0</td>\n",
              "      <td>0</td>\n",
              "      <td>1</td>\n",
              "      <td>3</td>\n",
              "      <td>1</td>\n",
              "      <td>0</td>\n",
              "      <td>2</td>\n",
              "      <td>...</td>\n",
              "      <td>0</td>\n",
              "      <td>4223</td>\n",
              "      <td>240</td>\n",
              "      <td>43</td>\n",
              "      <td>849</td>\n",
              "      <td>78</td>\n",
              "      <td>5788</td>\n",
              "      <td>4778</td>\n",
              "      <td>65687</td>\n",
              "      <td>False</td>\n",
              "    </tr>\n",
              "    <tr>\n",
              "      <th>3</th>\n",
              "      <td>0</td>\n",
              "      <td>0</td>\n",
              "      <td>0</td>\n",
              "      <td>0</td>\n",
              "      <td>0</td>\n",
              "      <td>2</td>\n",
              "      <td>3</td>\n",
              "      <td>1</td>\n",
              "      <td>0</td>\n",
              "      <td>0</td>\n",
              "      <td>...</td>\n",
              "      <td>0</td>\n",
              "      <td>1212</td>\n",
              "      <td>120</td>\n",
              "      <td>43</td>\n",
              "      <td>849</td>\n",
              "      <td>78</td>\n",
              "      <td>5788</td>\n",
              "      <td>4778</td>\n",
              "      <td>65687</td>\n",
              "      <td>False</td>\n",
              "    </tr>\n",
              "    <tr>\n",
              "      <th>4</th>\n",
              "      <td>0</td>\n",
              "      <td>0</td>\n",
              "      <td>0</td>\n",
              "      <td>0</td>\n",
              "      <td>0</td>\n",
              "      <td>1</td>\n",
              "      <td>3</td>\n",
              "      <td>1</td>\n",
              "      <td>0</td>\n",
              "      <td>0</td>\n",
              "      <td>...</td>\n",
              "      <td>0</td>\n",
              "      <td>516</td>\n",
              "      <td>29</td>\n",
              "      <td>43</td>\n",
              "      <td>849</td>\n",
              "      <td>78</td>\n",
              "      <td>5788</td>\n",
              "      <td>4778</td>\n",
              "      <td>65687</td>\n",
              "      <td>False</td>\n",
              "    </tr>\n",
              "  </tbody>\n",
              "</table>\n",
              "<p>5 rows × 57 columns</p>\n",
              "</div>\n",
              "      <button class=\"colab-df-convert\" onclick=\"convertToInteractive('df-ca2ffa78-c1e0-4900-8563-f63c68f8df4d')\"\n",
              "              title=\"Convert this dataframe to an interactive table.\"\n",
              "              style=\"display:none;\">\n",
              "        \n",
              "  <svg xmlns=\"http://www.w3.org/2000/svg\" height=\"24px\"viewBox=\"0 0 24 24\"\n",
              "       width=\"24px\">\n",
              "    <path d=\"M0 0h24v24H0V0z\" fill=\"none\"/>\n",
              "    <path d=\"M18.56 5.44l.94 2.06.94-2.06 2.06-.94-2.06-.94-.94-2.06-.94 2.06-2.06.94zm-11 1L8.5 8.5l.94-2.06 2.06-.94-2.06-.94L8.5 2.5l-.94 2.06-2.06.94zm10 10l.94 2.06.94-2.06 2.06-.94-2.06-.94-.94-2.06-.94 2.06-2.06.94z\"/><path d=\"M17.41 7.96l-1.37-1.37c-.4-.4-.92-.59-1.43-.59-.52 0-1.04.2-1.43.59L10.3 9.45l-7.72 7.72c-.78.78-.78 2.05 0 2.83L4 21.41c.39.39.9.59 1.41.59.51 0 1.02-.2 1.41-.59l7.78-7.78 2.81-2.81c.8-.78.8-2.07 0-2.86zM5.41 20L4 18.59l7.72-7.72 1.47 1.35L5.41 20z\"/>\n",
              "  </svg>\n",
              "      </button>\n",
              "      \n",
              "  <style>\n",
              "    .colab-df-container {\n",
              "      display:flex;\n",
              "      flex-wrap:wrap;\n",
              "      gap: 12px;\n",
              "    }\n",
              "\n",
              "    .colab-df-convert {\n",
              "      background-color: #E8F0FE;\n",
              "      border: none;\n",
              "      border-radius: 50%;\n",
              "      cursor: pointer;\n",
              "      display: none;\n",
              "      fill: #1967D2;\n",
              "      height: 32px;\n",
              "      padding: 0 0 0 0;\n",
              "      width: 32px;\n",
              "    }\n",
              "\n",
              "    .colab-df-convert:hover {\n",
              "      background-color: #E2EBFA;\n",
              "      box-shadow: 0px 1px 2px rgba(60, 64, 67, 0.3), 0px 1px 3px 1px rgba(60, 64, 67, 0.15);\n",
              "      fill: #174EA6;\n",
              "    }\n",
              "\n",
              "    [theme=dark] .colab-df-convert {\n",
              "      background-color: #3B4455;\n",
              "      fill: #D2E3FC;\n",
              "    }\n",
              "\n",
              "    [theme=dark] .colab-df-convert:hover {\n",
              "      background-color: #434B5C;\n",
              "      box-shadow: 0px 1px 3px 1px rgba(0, 0, 0, 0.15);\n",
              "      filter: drop-shadow(0px 1px 2px rgba(0, 0, 0, 0.3));\n",
              "      fill: #FFFFFF;\n",
              "    }\n",
              "  </style>\n",
              "\n",
              "      <script>\n",
              "        const buttonEl =\n",
              "          document.querySelector('#df-ca2ffa78-c1e0-4900-8563-f63c68f8df4d button.colab-df-convert');\n",
              "        buttonEl.style.display =\n",
              "          google.colab.kernel.accessAllowed ? 'block' : 'none';\n",
              "\n",
              "        async function convertToInteractive(key) {\n",
              "          const element = document.querySelector('#df-ca2ffa78-c1e0-4900-8563-f63c68f8df4d');\n",
              "          const dataTable =\n",
              "            await google.colab.kernel.invokeFunction('convertToInteractive',\n",
              "                                                     [key], {});\n",
              "          if (!dataTable) return;\n",
              "\n",
              "          const docLinkHtml = 'Like what you see? Visit the ' +\n",
              "            '<a target=\"_blank\" href=https://colab.research.google.com/notebooks/data_table.ipynb>data table notebook</a>'\n",
              "            + ' to learn more about interactive tables.';\n",
              "          element.innerHTML = '';\n",
              "          dataTable['output_type'] = 'display_data';\n",
              "          await google.colab.output.renderOutput(dataTable, element);\n",
              "          const docLink = document.createElement('div');\n",
              "          docLink.innerHTML = docLinkHtml;\n",
              "          element.appendChild(docLink);\n",
              "        }\n",
              "      </script>\n",
              "    </div>\n",
              "  </div>\n",
              "  "
            ]
          },
          "metadata": {},
          "execution_count": 6
        }
      ],
      "source": [
        "df_ss.head(5)"
      ]
    },
    {
      "cell_type": "markdown",
      "metadata": {
        "id": "CYV4ILz-X0lz"
      },
      "source": [
        "Long Parameters List Semantic Dataset"
      ]
    },
    {
      "cell_type": "code",
      "execution_count": 7,
      "metadata": {
        "id": "UrxaQ_rPVhQ9",
        "colab": {
          "base_uri": "https://localhost:8080/",
          "height": 250
        },
        "outputId": "e93f1b28-d040-4f0a-a6ce-83f3b7cd9329"
      },
      "outputs": [
        {
          "output_type": "execute_result",
          "data": {
            "text/plain": [
              "                                             project  \\\n",
              "0  /mnt/qualitas/qualitas_corpus_compile/freemind...   \n",
              "1  /mnt/qualitas/qualitas_corpus_compile/freemind...   \n",
              "2  /mnt/qualitas/qualitas_corpus_compile/freemind...   \n",
              "3  /mnt/qualitas/qualitas_corpus_compile/freemind...   \n",
              "4  /mnt/qualitas/qualitas_corpus_compile/freemind...   \n",
              "\n",
              "                         package  \\\n",
              "0  freemind.modes.common.plugins   \n",
              "1     freemind.modes.mindmapmode   \n",
              "2     freemind.modes.mindmapmode   \n",
              "3                 freemind.modes   \n",
              "4                 freemind.modes   \n",
              "\n",
              "                                           class  \\\n",
              "0                               ReminderHookBase   \n",
              "1            MindMapMapModel.StringReaderCreator   \n",
              "2                              MindMapController   \n",
              "3                                    MindMapNode   \n",
              "4  ControllerAdapter.ControllerPopupMenuListener   \n",
              "\n",
              "                              method  is_code_smell  \n",
              "0                  shutdownMapHook()          False  \n",
              "1                     createReader()          False  \n",
              "2           newModel(ModeController)          False  \n",
              "3                         getColor()          False  \n",
              "4  popupMenuCanceled(PopupMenuEvent)          False  "
            ],
            "text/html": [
              "\n",
              "  <div id=\"df-88db53e1-8c67-4b97-8d46-0176f2c2c96a\">\n",
              "    <div class=\"colab-df-container\">\n",
              "      <div>\n",
              "<style scoped>\n",
              "    .dataframe tbody tr th:only-of-type {\n",
              "        vertical-align: middle;\n",
              "    }\n",
              "\n",
              "    .dataframe tbody tr th {\n",
              "        vertical-align: top;\n",
              "    }\n",
              "\n",
              "    .dataframe thead th {\n",
              "        text-align: right;\n",
              "    }\n",
              "</style>\n",
              "<table border=\"1\" class=\"dataframe\">\n",
              "  <thead>\n",
              "    <tr style=\"text-align: right;\">\n",
              "      <th></th>\n",
              "      <th>project</th>\n",
              "      <th>package</th>\n",
              "      <th>class</th>\n",
              "      <th>method</th>\n",
              "      <th>is_code_smell</th>\n",
              "    </tr>\n",
              "  </thead>\n",
              "  <tbody>\n",
              "    <tr>\n",
              "      <th>0</th>\n",
              "      <td>/mnt/qualitas/qualitas_corpus_compile/freemind...</td>\n",
              "      <td>freemind.modes.common.plugins</td>\n",
              "      <td>ReminderHookBase</td>\n",
              "      <td>shutdownMapHook()</td>\n",
              "      <td>False</td>\n",
              "    </tr>\n",
              "    <tr>\n",
              "      <th>1</th>\n",
              "      <td>/mnt/qualitas/qualitas_corpus_compile/freemind...</td>\n",
              "      <td>freemind.modes.mindmapmode</td>\n",
              "      <td>MindMapMapModel.StringReaderCreator</td>\n",
              "      <td>createReader()</td>\n",
              "      <td>False</td>\n",
              "    </tr>\n",
              "    <tr>\n",
              "      <th>2</th>\n",
              "      <td>/mnt/qualitas/qualitas_corpus_compile/freemind...</td>\n",
              "      <td>freemind.modes.mindmapmode</td>\n",
              "      <td>MindMapController</td>\n",
              "      <td>newModel(ModeController)</td>\n",
              "      <td>False</td>\n",
              "    </tr>\n",
              "    <tr>\n",
              "      <th>3</th>\n",
              "      <td>/mnt/qualitas/qualitas_corpus_compile/freemind...</td>\n",
              "      <td>freemind.modes</td>\n",
              "      <td>MindMapNode</td>\n",
              "      <td>getColor()</td>\n",
              "      <td>False</td>\n",
              "    </tr>\n",
              "    <tr>\n",
              "      <th>4</th>\n",
              "      <td>/mnt/qualitas/qualitas_corpus_compile/freemind...</td>\n",
              "      <td>freemind.modes</td>\n",
              "      <td>ControllerAdapter.ControllerPopupMenuListener</td>\n",
              "      <td>popupMenuCanceled(PopupMenuEvent)</td>\n",
              "      <td>False</td>\n",
              "    </tr>\n",
              "  </tbody>\n",
              "</table>\n",
              "</div>\n",
              "      <button class=\"colab-df-convert\" onclick=\"convertToInteractive('df-88db53e1-8c67-4b97-8d46-0176f2c2c96a')\"\n",
              "              title=\"Convert this dataframe to an interactive table.\"\n",
              "              style=\"display:none;\">\n",
              "        \n",
              "  <svg xmlns=\"http://www.w3.org/2000/svg\" height=\"24px\"viewBox=\"0 0 24 24\"\n",
              "       width=\"24px\">\n",
              "    <path d=\"M0 0h24v24H0V0z\" fill=\"none\"/>\n",
              "    <path d=\"M18.56 5.44l.94 2.06.94-2.06 2.06-.94-2.06-.94-.94-2.06-.94 2.06-2.06.94zm-11 1L8.5 8.5l.94-2.06 2.06-.94-2.06-.94L8.5 2.5l-.94 2.06-2.06.94zm10 10l.94 2.06.94-2.06 2.06-.94-2.06-.94-.94-2.06-.94 2.06-2.06.94z\"/><path d=\"M17.41 7.96l-1.37-1.37c-.4-.4-.92-.59-1.43-.59-.52 0-1.04.2-1.43.59L10.3 9.45l-7.72 7.72c-.78.78-.78 2.05 0 2.83L4 21.41c.39.39.9.59 1.41.59.51 0 1.02-.2 1.41-.59l7.78-7.78 2.81-2.81c.8-.78.8-2.07 0-2.86zM5.41 20L4 18.59l7.72-7.72 1.47 1.35L5.41 20z\"/>\n",
              "  </svg>\n",
              "      </button>\n",
              "      \n",
              "  <style>\n",
              "    .colab-df-container {\n",
              "      display:flex;\n",
              "      flex-wrap:wrap;\n",
              "      gap: 12px;\n",
              "    }\n",
              "\n",
              "    .colab-df-convert {\n",
              "      background-color: #E8F0FE;\n",
              "      border: none;\n",
              "      border-radius: 50%;\n",
              "      cursor: pointer;\n",
              "      display: none;\n",
              "      fill: #1967D2;\n",
              "      height: 32px;\n",
              "      padding: 0 0 0 0;\n",
              "      width: 32px;\n",
              "    }\n",
              "\n",
              "    .colab-df-convert:hover {\n",
              "      background-color: #E2EBFA;\n",
              "      box-shadow: 0px 1px 2px rgba(60, 64, 67, 0.3), 0px 1px 3px 1px rgba(60, 64, 67, 0.15);\n",
              "      fill: #174EA6;\n",
              "    }\n",
              "\n",
              "    [theme=dark] .colab-df-convert {\n",
              "      background-color: #3B4455;\n",
              "      fill: #D2E3FC;\n",
              "    }\n",
              "\n",
              "    [theme=dark] .colab-df-convert:hover {\n",
              "      background-color: #434B5C;\n",
              "      box-shadow: 0px 1px 3px 1px rgba(0, 0, 0, 0.15);\n",
              "      filter: drop-shadow(0px 1px 2px rgba(0, 0, 0, 0.3));\n",
              "      fill: #FFFFFF;\n",
              "    }\n",
              "  </style>\n",
              "\n",
              "      <script>\n",
              "        const buttonEl =\n",
              "          document.querySelector('#df-88db53e1-8c67-4b97-8d46-0176f2c2c96a button.colab-df-convert');\n",
              "        buttonEl.style.display =\n",
              "          google.colab.kernel.accessAllowed ? 'block' : 'none';\n",
              "\n",
              "        async function convertToInteractive(key) {\n",
              "          const element = document.querySelector('#df-88db53e1-8c67-4b97-8d46-0176f2c2c96a');\n",
              "          const dataTable =\n",
              "            await google.colab.kernel.invokeFunction('convertToInteractive',\n",
              "                                                     [key], {});\n",
              "          if (!dataTable) return;\n",
              "\n",
              "          const docLinkHtml = 'Like what you see? Visit the ' +\n",
              "            '<a target=\"_blank\" href=https://colab.research.google.com/notebooks/data_table.ipynb>data table notebook</a>'\n",
              "            + ' to learn more about interactive tables.';\n",
              "          element.innerHTML = '';\n",
              "          dataTable['output_type'] = 'display_data';\n",
              "          await google.colab.output.renderOutput(dataTable, element);\n",
              "          const docLink = document.createElement('div');\n",
              "          docLink.innerHTML = docLinkHtml;\n",
              "          element.appendChild(docLink);\n",
              "        }\n",
              "      </script>\n",
              "    </div>\n",
              "  </div>\n",
              "  "
            ]
          },
          "metadata": {},
          "execution_count": 7
        }
      ],
      "source": [
        "df_lpm.head(5)"
      ]
    },
    {
      "cell_type": "markdown",
      "metadata": {
        "id": "kDWi4eGwYCot"
      },
      "source": [
        "Switch Statements Semantic Dataset"
      ]
    },
    {
      "cell_type": "code",
      "execution_count": 8,
      "metadata": {
        "id": "fpdgwNs3VnfQ",
        "colab": {
          "base_uri": "https://localhost:8080/",
          "height": 270
        },
        "outputId": "760e6d10-b0af-4060-bc44-da70e27be465"
      },
      "outputs": [
        {
          "output_type": "execute_result",
          "data": {
            "text/plain": [
              "                                             project  \\\n",
              "0  /mnt/qualitas/qualitas_corpus_compile/freemind...   \n",
              "1  /mnt/qualitas/qualitas_corpus_compile/freemind...   \n",
              "2  /mnt/qualitas/qualitas_corpus_compile/freemind...   \n",
              "3  /mnt/qualitas/qualitas_corpus_compile/freemind...   \n",
              "4  /mnt/qualitas/qualitas_corpus_compile/freemind...   \n",
              "\n",
              "                                   package  \\\n",
              "0   freemind.modes.mindmapmode.actions.xml   \n",
              "1               freemind.modes.mindmapmode   \n",
              "2               freemind.modes.mindmapmode   \n",
              "3  freemind.view.mindmapview.attributeview   \n",
              "4     freemind.modes.mindmapmode.listeners   \n",
              "\n",
              "                                               class  \\\n",
              "0                                  AbstractXmlAction   \n",
              "1                               EncryptedMindMapNode   \n",
              "2     freemind.modes.mindmapmode.MindMapController$1   \n",
              "3  freemind.view.mindmapview.attributeview.Attrib...   \n",
              "4                          MindMapNodeMotionListener   \n",
              "\n",
              "                                    method  is_code_smell  \n",
              "0             actionPerformed(ActionEvent)          False  \n",
              "1                       childrenUnfolded()          False  \n",
              "2  apply(MindMapMapModel,MindMapNodeModel)          False  \n",
              "3                                    run()          False  \n",
              "4                               stopDrag()          False  "
            ],
            "text/html": [
              "\n",
              "  <div id=\"df-fdf9689d-6746-469b-a786-381238576eb3\">\n",
              "    <div class=\"colab-df-container\">\n",
              "      <div>\n",
              "<style scoped>\n",
              "    .dataframe tbody tr th:only-of-type {\n",
              "        vertical-align: middle;\n",
              "    }\n",
              "\n",
              "    .dataframe tbody tr th {\n",
              "        vertical-align: top;\n",
              "    }\n",
              "\n",
              "    .dataframe thead th {\n",
              "        text-align: right;\n",
              "    }\n",
              "</style>\n",
              "<table border=\"1\" class=\"dataframe\">\n",
              "  <thead>\n",
              "    <tr style=\"text-align: right;\">\n",
              "      <th></th>\n",
              "      <th>project</th>\n",
              "      <th>package</th>\n",
              "      <th>class</th>\n",
              "      <th>method</th>\n",
              "      <th>is_code_smell</th>\n",
              "    </tr>\n",
              "  </thead>\n",
              "  <tbody>\n",
              "    <tr>\n",
              "      <th>0</th>\n",
              "      <td>/mnt/qualitas/qualitas_corpus_compile/freemind...</td>\n",
              "      <td>freemind.modes.mindmapmode.actions.xml</td>\n",
              "      <td>AbstractXmlAction</td>\n",
              "      <td>actionPerformed(ActionEvent)</td>\n",
              "      <td>False</td>\n",
              "    </tr>\n",
              "    <tr>\n",
              "      <th>1</th>\n",
              "      <td>/mnt/qualitas/qualitas_corpus_compile/freemind...</td>\n",
              "      <td>freemind.modes.mindmapmode</td>\n",
              "      <td>EncryptedMindMapNode</td>\n",
              "      <td>childrenUnfolded()</td>\n",
              "      <td>False</td>\n",
              "    </tr>\n",
              "    <tr>\n",
              "      <th>2</th>\n",
              "      <td>/mnt/qualitas/qualitas_corpus_compile/freemind...</td>\n",
              "      <td>freemind.modes.mindmapmode</td>\n",
              "      <td>freemind.modes.mindmapmode.MindMapController$1</td>\n",
              "      <td>apply(MindMapMapModel,MindMapNodeModel)</td>\n",
              "      <td>False</td>\n",
              "    </tr>\n",
              "    <tr>\n",
              "      <th>3</th>\n",
              "      <td>/mnt/qualitas/qualitas_corpus_compile/freemind...</td>\n",
              "      <td>freemind.view.mindmapview.attributeview</td>\n",
              "      <td>freemind.view.mindmapview.attributeview.Attrib...</td>\n",
              "      <td>run()</td>\n",
              "      <td>False</td>\n",
              "    </tr>\n",
              "    <tr>\n",
              "      <th>4</th>\n",
              "      <td>/mnt/qualitas/qualitas_corpus_compile/freemind...</td>\n",
              "      <td>freemind.modes.mindmapmode.listeners</td>\n",
              "      <td>MindMapNodeMotionListener</td>\n",
              "      <td>stopDrag()</td>\n",
              "      <td>False</td>\n",
              "    </tr>\n",
              "  </tbody>\n",
              "</table>\n",
              "</div>\n",
              "      <button class=\"colab-df-convert\" onclick=\"convertToInteractive('df-fdf9689d-6746-469b-a786-381238576eb3')\"\n",
              "              title=\"Convert this dataframe to an interactive table.\"\n",
              "              style=\"display:none;\">\n",
              "        \n",
              "  <svg xmlns=\"http://www.w3.org/2000/svg\" height=\"24px\"viewBox=\"0 0 24 24\"\n",
              "       width=\"24px\">\n",
              "    <path d=\"M0 0h24v24H0V0z\" fill=\"none\"/>\n",
              "    <path d=\"M18.56 5.44l.94 2.06.94-2.06 2.06-.94-2.06-.94-.94-2.06-.94 2.06-2.06.94zm-11 1L8.5 8.5l.94-2.06 2.06-.94-2.06-.94L8.5 2.5l-.94 2.06-2.06.94zm10 10l.94 2.06.94-2.06 2.06-.94-2.06-.94-.94-2.06-.94 2.06-2.06.94z\"/><path d=\"M17.41 7.96l-1.37-1.37c-.4-.4-.92-.59-1.43-.59-.52 0-1.04.2-1.43.59L10.3 9.45l-7.72 7.72c-.78.78-.78 2.05 0 2.83L4 21.41c.39.39.9.59 1.41.59.51 0 1.02-.2 1.41-.59l7.78-7.78 2.81-2.81c.8-.78.8-2.07 0-2.86zM5.41 20L4 18.59l7.72-7.72 1.47 1.35L5.41 20z\"/>\n",
              "  </svg>\n",
              "      </button>\n",
              "      \n",
              "  <style>\n",
              "    .colab-df-container {\n",
              "      display:flex;\n",
              "      flex-wrap:wrap;\n",
              "      gap: 12px;\n",
              "    }\n",
              "\n",
              "    .colab-df-convert {\n",
              "      background-color: #E8F0FE;\n",
              "      border: none;\n",
              "      border-radius: 50%;\n",
              "      cursor: pointer;\n",
              "      display: none;\n",
              "      fill: #1967D2;\n",
              "      height: 32px;\n",
              "      padding: 0 0 0 0;\n",
              "      width: 32px;\n",
              "    }\n",
              "\n",
              "    .colab-df-convert:hover {\n",
              "      background-color: #E2EBFA;\n",
              "      box-shadow: 0px 1px 2px rgba(60, 64, 67, 0.3), 0px 1px 3px 1px rgba(60, 64, 67, 0.15);\n",
              "      fill: #174EA6;\n",
              "    }\n",
              "\n",
              "    [theme=dark] .colab-df-convert {\n",
              "      background-color: #3B4455;\n",
              "      fill: #D2E3FC;\n",
              "    }\n",
              "\n",
              "    [theme=dark] .colab-df-convert:hover {\n",
              "      background-color: #434B5C;\n",
              "      box-shadow: 0px 1px 3px 1px rgba(0, 0, 0, 0.15);\n",
              "      filter: drop-shadow(0px 1px 2px rgba(0, 0, 0, 0.3));\n",
              "      fill: #FFFFFF;\n",
              "    }\n",
              "  </style>\n",
              "\n",
              "      <script>\n",
              "        const buttonEl =\n",
              "          document.querySelector('#df-fdf9689d-6746-469b-a786-381238576eb3 button.colab-df-convert');\n",
              "        buttonEl.style.display =\n",
              "          google.colab.kernel.accessAllowed ? 'block' : 'none';\n",
              "\n",
              "        async function convertToInteractive(key) {\n",
              "          const element = document.querySelector('#df-fdf9689d-6746-469b-a786-381238576eb3');\n",
              "          const dataTable =\n",
              "            await google.colab.kernel.invokeFunction('convertToInteractive',\n",
              "                                                     [key], {});\n",
              "          if (!dataTable) return;\n",
              "\n",
              "          const docLinkHtml = 'Like what you see? Visit the ' +\n",
              "            '<a target=\"_blank\" href=https://colab.research.google.com/notebooks/data_table.ipynb>data table notebook</a>'\n",
              "            + ' to learn more about interactive tables.';\n",
              "          element.innerHTML = '';\n",
              "          dataTable['output_type'] = 'display_data';\n",
              "          await google.colab.output.renderOutput(dataTable, element);\n",
              "          const docLink = document.createElement('div');\n",
              "          docLink.innerHTML = docLinkHtml;\n",
              "          element.appendChild(docLink);\n",
              "        }\n",
              "      </script>\n",
              "    </div>\n",
              "  </div>\n",
              "  "
            ]
          },
          "metadata": {},
          "execution_count": 8
        }
      ],
      "source": [
        "df_ssm.head(5)"
      ]
    },
    {
      "cell_type": "code",
      "source": [
        "# df_multilabel.head(5)"
      ],
      "metadata": {
        "id": "JDwoTKzJxibd"
      },
      "execution_count": 9,
      "outputs": []
    },
    {
      "cell_type": "code",
      "source": [
        "# df_multilabel.shape"
      ],
      "metadata": {
        "id": "0TxoQegwyCcd"
      },
      "execution_count": 10,
      "outputs": []
    },
    {
      "cell_type": "markdown",
      "metadata": {
        "id": "XA_16jIuNd8R"
      },
      "source": [
        "# Data Pre-Processing of Structural Dataset\n"
      ]
    },
    {
      "cell_type": "code",
      "execution_count": 11,
      "metadata": {
        "id": "lKKV80p59Yqb"
      },
      "outputs": [],
      "source": [
        "def PrePro(last_column, dataframe):\n",
        "  dataframe.rename(columns = {last_column :'is_code_smell'}, inplace = True) #rename column\n",
        "  dataframe['is_code_smell'] = dataframe[\"is_code_smell\"].astype(int) #change boolean labels to int labels\n",
        "  Y_part = dataframe.iloc[:,-1:]\n",
        "  X_part = dataframe.iloc[:,:56]\n",
        "  X_part = X_part.replace(to_replace =[\"?\"], value = np.nan) #replace non existing values with null\n",
        "  X_part = X_part.astype(float) #change datatype of features of X as float\n",
        "  return X_part,Y_part\n",
        "\n",
        "X_lp, Y_lp = PrePro('is_long_parameters_list',df_lp)\n",
        "X_ss, Y_ss = PrePro('is_switch_statements',df_ss)\n",
        "\n",
        "# X_m, Y_m = PrePro(df_multilabel)"
      ]
    },
    {
      "cell_type": "code",
      "execution_count": 12,
      "metadata": {
        "id": "gP2KF37rO06u"
      },
      "outputs": [],
      "source": [
        "def MeanforNaN(dataframe):   #function to fill null spaces with column mean \n",
        "  column_means = dataframe.mean()\n",
        "  dataframe = dataframe.fillna(column_means)\n",
        "  return dataframe\n",
        "\n",
        "X_lp = MeanforNaN(X_lp)\n",
        "X_ss = MeanforNaN(X_ss)"
      ]
    },
    {
      "cell_type": "code",
      "execution_count": 13,
      "metadata": {
        "id": "xgrWdh3GSoPT"
      },
      "outputs": [],
      "source": [
        "def ConCat(df1,df2): #concatenate code smell datasets\n",
        "  code_smells = [df1,df2]\n",
        "  joint = pd.concat(code_smells)\n",
        "  return joint\n",
        "\n",
        "X_train = ConCat(X_lp,X_ss)\n",
        "Y_train = ConCat(Y_lp,Y_ss)"
      ]
    },
    {
      "cell_type": "markdown",
      "metadata": {
        "id": "t0aP6KSybckZ"
      },
      "source": [
        "###Data Normalization"
      ]
    },
    {
      "cell_type": "code",
      "execution_count": 14,
      "metadata": {
        "id": "EfPBvzbGQWaQ"
      },
      "outputs": [],
      "source": [
        "def Normalize(dataframe): #apply MinMax normalisation to fit the values between 0 to 1\n",
        "  scaler = MinMaxScaler()\n",
        "  model = scaler.fit(dataframe)\n",
        "  scaled_data = model.transform(dataframe)\n",
        "  return scaled_data\n",
        "\n",
        "# X_m_sample = Normalize(X_m)\n",
        "X_sample = Normalize(X_train)"
      ]
    },
    {
      "cell_type": "markdown",
      "metadata": {
        "id": "LE1hY2iuaGYi"
      },
      "source": [
        "###Synthetic Minority Oversampling Technique (SMOTE) Algo for Imbalanced Datasets\n"
      ]
    },
    {
      "cell_type": "code",
      "execution_count": 15,
      "metadata": {
        "id": "YglrDQrabJgC",
        "colab": {
          "base_uri": "https://localhost:8080/"
        },
        "outputId": "9637795c-1db5-46ef-f72e-58c6324c30cb"
      },
      "outputs": [
        {
          "output_type": "execute_result",
          "data": {
            "text/plain": [
              "is_code_smell\n",
              "0                573\n",
              "1                267\n",
              "dtype: int64"
            ]
          },
          "metadata": {},
          "execution_count": 15
        }
      ],
      "source": [
        "Y_train.value_counts() #1/3rd are smelly, 2/3rd are non smelly "
      ]
    },
    {
      "cell_type": "code",
      "execution_count": 16,
      "metadata": {
        "id": "_KsXn_i2eGbv"
      },
      "outputs": [],
      "source": [
        "Y_sample = Y_train.to_numpy(dtype='int64', copy='True')"
      ]
    },
    {
      "cell_type": "code",
      "execution_count": 17,
      "metadata": {
        "id": "x1aLZXEIX-b5"
      },
      "outputs": [],
      "source": [
        "def Oversample(X_data,Y_data): # Using Smote obtain a 50-50 balanced dataset \n",
        "\n",
        "  sm = SMOTE(random_state = 2)\n",
        "  X_train_res, Y_train_res = sm.fit_resample(X_data, Y_data.ravel())\n",
        "  return X_train_res, Y_train_res\n",
        "\n",
        "X_new, Y_new = Oversample(X_sample,Y_sample)"
      ]
    },
    {
      "cell_type": "code",
      "execution_count": 18,
      "metadata": {
        "id": "6gRFjBvmsIny"
      },
      "outputs": [],
      "source": [
        "# X_train_final = X_new.reshape((1146,56,1)) # hence makes 573 smelly and 573 non smelly samples"
      ]
    },
    {
      "cell_type": "code",
      "source": [
        "X_struct = pd.DataFrame(X_new)"
      ],
      "metadata": {
        "id": "8vJ2IfBHLgQ9"
      },
      "execution_count": 19,
      "outputs": []
    },
    {
      "cell_type": "code",
      "source": [
        "Y_train_final = Y_new.reshape(1146,)"
      ],
      "metadata": {
        "id": "EjmEdUQi0WUt"
      },
      "execution_count": 20,
      "outputs": []
    },
    {
      "cell_type": "markdown",
      "metadata": {
        "id": "qHXOnyz-bhD6"
      },
      "source": [
        "#Word Embeddings using Gensim Word2Vec"
      ]
    },
    {
      "cell_type": "code",
      "execution_count": 21,
      "metadata": {
        "id": "KtlM8YM_WDxH"
      },
      "outputs": [],
      "source": [
        "# def WordEmbedding(tokenizedwords): #creates a dictionary with unique vocab words and corresponding vectors \n",
        "#   model = Word2Vec(tokenizedwords, min_count=1, sg=1, size=50) #skipgram model \n",
        "#   model.train(tokenizedwords, total_examples=model.corpus_count, epochs=10)\n",
        "#   keys = list(model.wv.vocab.keys())\n",
        "#   values = list(model.wv.vectors)\n",
        "#   wdict = {}\n",
        "#   for i in range(840):\n",
        "#     wdict[keys[i]] = values[i]\n",
        "#   return wdict\n",
        "\n",
        "# word_vec = WordEmbedding(word_groups) #this dictionary contains the key as word and value as the vector"
      ]
    },
    {
      "cell_type": "code",
      "execution_count": 22,
      "metadata": {
        "id": "PlrnqEhZtM2t"
      },
      "outputs": [],
      "source": [
        "# def VectorRep(groupofwords,dictionary): #gives a list of list which contains vectors for each word \n",
        "#   rep=[]\n",
        "#   for i in groupofwords:\n",
        "#     l=[]\n",
        "#     for j in i:\n",
        "#       l.append(dictionary.get(j))\n",
        "#     rep.append(l)\n",
        "#   return rep\n",
        "\n",
        "# vector_rep = VectorRep(word_groups, word_vec)"
      ]
    },
    {
      "cell_type": "code",
      "execution_count": 23,
      "metadata": {
        "id": "_jdzgI9y7VMq"
      },
      "outputs": [],
      "source": [
        "# def AvgLength(vectorrepresentation):\n",
        "#   sum = 0\n",
        "#   for i in range(840):\n",
        "#     sum += len(vectorrepresentation[i])\n",
        "#   avg = sum/840\n",
        "#   return avg\n",
        "\n",
        "# AvgLength(vector_rep)"
      ]
    },
    {
      "cell_type": "code",
      "execution_count": 24,
      "metadata": {
        "id": "_zR3Tt4ZEHDL"
      },
      "outputs": [],
      "source": [
        "# def FindMaxLength(lst):\n",
        "#     maxList = max((x) for x in lst)\n",
        "#     maxLength = max(len(x) for x in lst )\n",
        "  \n",
        "#     return maxList, maxLength\n",
        "      \n",
        "# print(FindMaxLength(word_groups))"
      ]
    },
    {
      "cell_type": "code",
      "execution_count": 25,
      "metadata": {
        "id": "A54MLD0B5Xie"
      },
      "outputs": [],
      "source": [
        "# x = np.zeros(50)\n",
        "# print(x)\n",
        "# type(x)\n",
        "# m = x.tolist()\n",
        "# type(m)"
      ]
    },
    {
      "cell_type": "code",
      "execution_count": 26,
      "metadata": {
        "id": "s76Gc7sF5jsy"
      },
      "outputs": [],
      "source": [
        "# tensor1 = tf.zeros(4,4)\n",
        "# print(tensor1)"
      ]
    },
    {
      "cell_type": "code",
      "execution_count": 27,
      "metadata": {
        "id": "lJIfREQL1YJ4"
      },
      "outputs": [],
      "source": [
        "# tensor = tf.convert_to_tensor(vector_rep[0]) \n",
        "# print(tensor.shape)"
      ]
    },
    {
      "cell_type": "code",
      "execution_count": 28,
      "metadata": {
        "id": "jDY-SAEW08P_"
      },
      "outputs": [],
      "source": [
        "# type(vector_rep)"
      ]
    },
    {
      "cell_type": "markdown",
      "source": [
        "#Text Pre Processing"
      ],
      "metadata": {
        "id": "zrt9DdUVG5kj"
      }
    },
    {
      "cell_type": "code",
      "execution_count": 29,
      "metadata": {
        "id": "9j75IG30zamu"
      },
      "outputs": [],
      "source": [
        "# df_sem = ConCat(df_lpm,df_ssm) #join long parameters list and switch statements dataset"
      ]
    },
    {
      "cell_type": "code",
      "execution_count": 30,
      "metadata": {
        "id": "UVAPhdzcXfCw"
      },
      "outputs": [],
      "source": [
        "def PrePro2(dataframe):\n",
        "  X_part = dataframe.iloc[:,:-1]  \n",
        "  return X_part\n",
        "\n",
        "X_sem= PrePro2(df_semantic) #separate as X and Y columns"
      ]
    },
    {
      "cell_type": "code",
      "execution_count": 31,
      "metadata": {
        "id": "6nY8I1fvotZq"
      },
      "outputs": [],
      "source": [
        "def ToList(dataframe, string): #converts pandas.core.series.Series to list of lists\n",
        "  new_column = dataframe[string].tolist()\n",
        "  return list(map(lambda x:[x], new_column))\n",
        "\n",
        "class_words = ToList(X_sem, 'class')\n",
        "method_words = ToList(X_sem, 'method')"
      ]
    },
    {
      "cell_type": "markdown",
      "source": [
        "###Tokenization"
      ],
      "metadata": {
        "id": "C2R_t5qPz2B4"
      }
    },
    {
      "cell_type": "code",
      "execution_count": 32,
      "metadata": {
        "id": "xNotzFqUZzjH"
      },
      "outputs": [],
      "source": [
        "def TokenizeGroups(text): #tokenizes as per CamelCase RegEx and converts to lowercase\n",
        "  tokenizer = RegexpTokenizer('[a-zA-Z](?:[a-z]+|[A-Z]*(?=[A-Z]|$))') # RegEx pattern for CamelCase \n",
        "  useful_text = tokenizer.tokenize(text) \n",
        "  useful_text = [x.lower() for x in useful_text]\n",
        "  return useful_text"
      ]
    },
    {
      "cell_type": "code",
      "execution_count": 33,
      "metadata": {
        "id": "l-UABH5DsTqd"
      },
      "outputs": [],
      "source": [
        "def LoopOver(list): #loops over all the samples to tokenize all the strings in each word group\n",
        "  for i in range(0,1146):\n",
        "    list[i] = TokenizeGroups(list[i][0])\n",
        "    i=i+1\n",
        "  return list\n",
        "\n",
        "class_words_sem = LoopOver(class_words)\n",
        "method_words_sem = LoopOver(method_words)"
      ]
    },
    {
      "cell_type": "code",
      "execution_count": 34,
      "metadata": {
        "id": "81zpWdFD_PY3"
      },
      "outputs": [],
      "source": [
        "def WordList(list1,list2): #concatenate the words of each project, package, class and method\n",
        "  final_list = []\n",
        "  for i in range(0,1146):\n",
        "    x = list1[i] + list2[i]\n",
        "    final_list.append(x)\n",
        "  res = [' '.join(ele) for ele in final_list]\n",
        "  df = pd.DataFrame(res)\n",
        "  return df\n",
        "\n",
        "word_groups = WordList(class_words_sem, method_words_sem)"
      ]
    },
    {
      "cell_type": "code",
      "source": [
        "word_groups.columns = [56]\n",
        "word_groups"
      ],
      "metadata": {
        "colab": {
          "base_uri": "https://localhost:8080/",
          "height": 424
        },
        "id": "hjP7gTqVOvVM",
        "outputId": "16e9735e-3990-4891-f17d-5a876b67a10d"
      },
      "execution_count": 35,
      "outputs": [
        {
          "output_type": "execute_result",
          "data": {
            "text/plain": [
              "                                                     56\n",
              "0                  reminder hook base shutdown map hook\n",
              "1     mind map map model string reader creator creat...\n",
              "2         mind map controller new model mode controller\n",
              "3                               mind map node get color\n",
              "4     controller adapter controller popup menu liste...\n",
              "...                                                 ...\n",
              "1141  byte buffer output stream byte buffer output s...\n",
              "1142  byte buffer output stream close array list int...\n",
              "1143  traffic get traffic results string string stri...\n",
              "1144  traffic get traffic results string int int int...\n",
              "1145  traffic get traffic results string string int ...\n",
              "\n",
              "[1146 rows x 1 columns]"
            ],
            "text/html": [
              "\n",
              "  <div id=\"df-c13f62ca-be8d-41c5-847b-97fb62a4a2bf\">\n",
              "    <div class=\"colab-df-container\">\n",
              "      <div>\n",
              "<style scoped>\n",
              "    .dataframe tbody tr th:only-of-type {\n",
              "        vertical-align: middle;\n",
              "    }\n",
              "\n",
              "    .dataframe tbody tr th {\n",
              "        vertical-align: top;\n",
              "    }\n",
              "\n",
              "    .dataframe thead th {\n",
              "        text-align: right;\n",
              "    }\n",
              "</style>\n",
              "<table border=\"1\" class=\"dataframe\">\n",
              "  <thead>\n",
              "    <tr style=\"text-align: right;\">\n",
              "      <th></th>\n",
              "      <th>56</th>\n",
              "    </tr>\n",
              "  </thead>\n",
              "  <tbody>\n",
              "    <tr>\n",
              "      <th>0</th>\n",
              "      <td>reminder hook base shutdown map hook</td>\n",
              "    </tr>\n",
              "    <tr>\n",
              "      <th>1</th>\n",
              "      <td>mind map map model string reader creator creat...</td>\n",
              "    </tr>\n",
              "    <tr>\n",
              "      <th>2</th>\n",
              "      <td>mind map controller new model mode controller</td>\n",
              "    </tr>\n",
              "    <tr>\n",
              "      <th>3</th>\n",
              "      <td>mind map node get color</td>\n",
              "    </tr>\n",
              "    <tr>\n",
              "      <th>4</th>\n",
              "      <td>controller adapter controller popup menu liste...</td>\n",
              "    </tr>\n",
              "    <tr>\n",
              "      <th>...</th>\n",
              "      <td>...</td>\n",
              "    </tr>\n",
              "    <tr>\n",
              "      <th>1141</th>\n",
              "      <td>byte buffer output stream byte buffer output s...</td>\n",
              "    </tr>\n",
              "    <tr>\n",
              "      <th>1142</th>\n",
              "      <td>byte buffer output stream close array list int...</td>\n",
              "    </tr>\n",
              "    <tr>\n",
              "      <th>1143</th>\n",
              "      <td>traffic get traffic results string string stri...</td>\n",
              "    </tr>\n",
              "    <tr>\n",
              "      <th>1144</th>\n",
              "      <td>traffic get traffic results string int int int...</td>\n",
              "    </tr>\n",
              "    <tr>\n",
              "      <th>1145</th>\n",
              "      <td>traffic get traffic results string string int ...</td>\n",
              "    </tr>\n",
              "  </tbody>\n",
              "</table>\n",
              "<p>1146 rows × 1 columns</p>\n",
              "</div>\n",
              "      <button class=\"colab-df-convert\" onclick=\"convertToInteractive('df-c13f62ca-be8d-41c5-847b-97fb62a4a2bf')\"\n",
              "              title=\"Convert this dataframe to an interactive table.\"\n",
              "              style=\"display:none;\">\n",
              "        \n",
              "  <svg xmlns=\"http://www.w3.org/2000/svg\" height=\"24px\"viewBox=\"0 0 24 24\"\n",
              "       width=\"24px\">\n",
              "    <path d=\"M0 0h24v24H0V0z\" fill=\"none\"/>\n",
              "    <path d=\"M18.56 5.44l.94 2.06.94-2.06 2.06-.94-2.06-.94-.94-2.06-.94 2.06-2.06.94zm-11 1L8.5 8.5l.94-2.06 2.06-.94-2.06-.94L8.5 2.5l-.94 2.06-2.06.94zm10 10l.94 2.06.94-2.06 2.06-.94-2.06-.94-.94-2.06-.94 2.06-2.06.94z\"/><path d=\"M17.41 7.96l-1.37-1.37c-.4-.4-.92-.59-1.43-.59-.52 0-1.04.2-1.43.59L10.3 9.45l-7.72 7.72c-.78.78-.78 2.05 0 2.83L4 21.41c.39.39.9.59 1.41.59.51 0 1.02-.2 1.41-.59l7.78-7.78 2.81-2.81c.8-.78.8-2.07 0-2.86zM5.41 20L4 18.59l7.72-7.72 1.47 1.35L5.41 20z\"/>\n",
              "  </svg>\n",
              "      </button>\n",
              "      \n",
              "  <style>\n",
              "    .colab-df-container {\n",
              "      display:flex;\n",
              "      flex-wrap:wrap;\n",
              "      gap: 12px;\n",
              "    }\n",
              "\n",
              "    .colab-df-convert {\n",
              "      background-color: #E8F0FE;\n",
              "      border: none;\n",
              "      border-radius: 50%;\n",
              "      cursor: pointer;\n",
              "      display: none;\n",
              "      fill: #1967D2;\n",
              "      height: 32px;\n",
              "      padding: 0 0 0 0;\n",
              "      width: 32px;\n",
              "    }\n",
              "\n",
              "    .colab-df-convert:hover {\n",
              "      background-color: #E2EBFA;\n",
              "      box-shadow: 0px 1px 2px rgba(60, 64, 67, 0.3), 0px 1px 3px 1px rgba(60, 64, 67, 0.15);\n",
              "      fill: #174EA6;\n",
              "    }\n",
              "\n",
              "    [theme=dark] .colab-df-convert {\n",
              "      background-color: #3B4455;\n",
              "      fill: #D2E3FC;\n",
              "    }\n",
              "\n",
              "    [theme=dark] .colab-df-convert:hover {\n",
              "      background-color: #434B5C;\n",
              "      box-shadow: 0px 1px 3px 1px rgba(0, 0, 0, 0.15);\n",
              "      filter: drop-shadow(0px 1px 2px rgba(0, 0, 0, 0.3));\n",
              "      fill: #FFFFFF;\n",
              "    }\n",
              "  </style>\n",
              "\n",
              "      <script>\n",
              "        const buttonEl =\n",
              "          document.querySelector('#df-c13f62ca-be8d-41c5-847b-97fb62a4a2bf button.colab-df-convert');\n",
              "        buttonEl.style.display =\n",
              "          google.colab.kernel.accessAllowed ? 'block' : 'none';\n",
              "\n",
              "        async function convertToInteractive(key) {\n",
              "          const element = document.querySelector('#df-c13f62ca-be8d-41c5-847b-97fb62a4a2bf');\n",
              "          const dataTable =\n",
              "            await google.colab.kernel.invokeFunction('convertToInteractive',\n",
              "                                                     [key], {});\n",
              "          if (!dataTable) return;\n",
              "\n",
              "          const docLinkHtml = 'Like what you see? Visit the ' +\n",
              "            '<a target=\"_blank\" href=https://colab.research.google.com/notebooks/data_table.ipynb>data table notebook</a>'\n",
              "            + ' to learn more about interactive tables.';\n",
              "          element.innerHTML = '';\n",
              "          dataTable['output_type'] = 'display_data';\n",
              "          await google.colab.output.renderOutput(dataTable, element);\n",
              "          const docLink = document.createElement('div');\n",
              "          docLink.innerHTML = docLinkHtml;\n",
              "          element.appendChild(docLink);\n",
              "        }\n",
              "      </script>\n",
              "    </div>\n",
              "  </div>\n",
              "  "
            ]
          },
          "metadata": {},
          "execution_count": 35
        }
      ]
    },
    {
      "cell_type": "code",
      "source": [
        "# def Sentences(group_of_words): #makes a list of lists containing sentences for each single sample \n",
        "#   lst = []\n",
        "#   for i in range(0,1146):\n",
        "#     appendlist = []\n",
        "#     string = group_of_words[i]\n",
        "#     appendstr = ' '.join(string)\n",
        "#     appendlist.append(appendstr)\n",
        "#     lst.append(appendlist)\n",
        "#   return lst\n",
        "\n",
        "# sentence_groups = Sentences(word_groups)"
      ],
      "metadata": {
        "id": "UKQKTlZQda2-"
      },
      "execution_count": 36,
      "outputs": []
    },
    {
      "cell_type": "code",
      "source": [
        "# token = Tokenizer()\n",
        "# token.fit_on_texts(word_groups)\n",
        "# vocab_size = len(token.word_index) + 1\n",
        "# print(vocab_size)"
      ],
      "metadata": {
        "id": "7j0n1y6NeMHa"
      },
      "execution_count": 37,
      "outputs": []
    },
    {
      "cell_type": "code",
      "source": [
        "# encoded_text = token.texts_to_sequences(word_groups)"
      ],
      "metadata": {
        "id": "Rx4baFvAfIX9"
      },
      "execution_count": 38,
      "outputs": []
    },
    {
      "cell_type": "code",
      "source": [
        "# max_length = 176\n",
        "# X = pad_sequences(encoded_text, maxlen = max_length, padding = 'pre')\n",
        "# print(X)"
      ],
      "metadata": {
        "id": "1MFdzBoevOnv"
      },
      "execution_count": 39,
      "outputs": []
    },
    {
      "cell_type": "code",
      "source": [
        "# token.word_index.items()"
      ],
      "metadata": {
        "id": "rpPGsC_cOGLt"
      },
      "execution_count": 40,
      "outputs": []
    },
    {
      "cell_type": "code",
      "source": [
        "# X.shape"
      ],
      "metadata": {
        "id": "OzhEZLPqw9Dk"
      },
      "execution_count": 41,
      "outputs": []
    },
    {
      "cell_type": "markdown",
      "source": [
        "### Random Forest Classifier"
      ],
      "metadata": {
        "id": "AhmT4WjJMmul"
      }
    },
    {
      "cell_type": "markdown",
      "source": [
        "###Glove Vectors"
      ],
      "metadata": {
        "id": "yJKcPwvvxGiE"
      }
    },
    {
      "cell_type": "code",
      "source": [
        "# import gensim.downloader as api\n",
        "# glove_gensim  = api.load('glove-wiki-gigaword-100') #100 dimension"
      ],
      "metadata": {
        "id": "oBj-JUIlJyWb"
      },
      "execution_count": 42,
      "outputs": []
    },
    {
      "cell_type": "code",
      "source": [
        "# vector_size = 100 \n",
        "# gensim_weight_matrix = np.zeros(( vocab_size ,vector_size)) \n",
        "# gensim_weight_matrix.shape"
      ],
      "metadata": {
        "id": "FiIMuMuMK2Iw"
      },
      "execution_count": 43,
      "outputs": []
    },
    {
      "cell_type": "code",
      "source": [
        "# for word, index in token.word_index.items():\n",
        "#     if index < vocab_size: \n",
        "#         if word in glove_gensim.wv.vocab:\n",
        "#             gensim_weight_matrix[index] = glove_gensim[word]\n",
        "#         else:\n",
        "#             gensim_weight_matrix[index] = np.zeros(100)"
      ],
      "metadata": {
        "id": "Rv-vxoeALV7w"
      },
      "execution_count": 44,
      "outputs": []
    },
    {
      "cell_type": "markdown",
      "metadata": {
        "id": "g04W7nK0nrK5"
      },
      "source": [
        "###Stratified K-Fold Cross Validation for Limited Data\n"
      ]
    },
    {
      "cell_type": "code",
      "execution_count": 45,
      "metadata": {
        "id": "5Vh34GxGoRlw"
      },
      "outputs": [],
      "source": [
        "# def CrossValidation(dataX,dataY): #split the dataset into train and test using k-5 fold cross validation\n",
        "#   skf = StratifiedKFold(n_splits=5, random_state = None, shuffle=True) \n",
        "\n",
        "#   for train_index, test_index in skf.split(dataX , dataY):\n",
        "#         X_crosstrain, X_crosstest = dataX[train_index], dataX[test_index] \n",
        "#         Y_crosstrain, Y_crosstest = dataY[train_index], dataY[test_index]\n",
        "#         return X_crosstrain,X_crosstest,Y_crosstrain,Y_crosstest\n",
        "\n",
        "# X_crosstrain,X_crosstest,Y_crosstrain,Y_crosstest = CrossValidation(X_train_final, Y_train_final)"
      ]
    },
    {
      "cell_type": "markdown",
      "source": [
        "### ML Model - Pipeline of Feature Union with RF Classifier & GridSearchCV"
      ],
      "metadata": {
        "id": "GDejXefWJLZn"
      }
    },
    {
      "cell_type": "code",
      "source": [
        "X_final = pd.concat([X_struct, word_groups], axis=1) # combining the structural and semantic data"
      ],
      "metadata": {
        "id": "aZ1v0t-aMqS6"
      },
      "execution_count": 48,
      "outputs": []
    },
    {
      "cell_type": "code",
      "source": [
        "X_ml_final = X_final.to_numpy() # converting df into numpy array"
      ],
      "metadata": {
        "id": "0Trocr5QuuqJ"
      },
      "execution_count": 49,
      "outputs": []
    },
    {
      "cell_type": "code",
      "source": [
        "def CrossValidation(dataX,dataY): #split the dataset into train and test using k-5 fold cross validation\n",
        "  skf = StratifiedKFold(n_splits=5, random_state = None, shuffle=True) \n",
        "\n",
        "  for train_index, test_index in skf.split(dataX , dataY):\n",
        "        X_crosstrain, X_crosstest = dataX[train_index], dataX[test_index] \n",
        "        Y_crosstrain, Y_crosstest = dataY[train_index], dataY[test_index]\n",
        "        return X_crosstrain,X_crosstest,Y_crosstrain,Y_crosstest\n",
        "\n",
        "X_crosstrain,X_crosstest,Y_crosstrain,Y_crosstest = CrossValidation(X_ml_final, Y_train_final)"
      ],
      "metadata": {
        "id": "Pr3lC7Ev6uIy"
      },
      "execution_count": 50,
      "outputs": []
    },
    {
      "cell_type": "code",
      "source": [
        "def get_numeric_data(x):\n",
        "    return [record[:-2].astype(float) for record in x] #gets the numeric data which is all the columns except last column\n",
        "\n",
        "def get_text_data(x):\n",
        "    return [record[-1] for record in x] # gets the text data which is the last column of the dataset"
      ],
      "metadata": {
        "id": "j4qqn1RCNPMK"
      },
      "execution_count": 51,
      "outputs": []
    },
    {
      "cell_type": "code",
      "source": [
        "transformer_numeric = FunctionTransformer(get_numeric_data) #transformer_numeric when transformed on some X will apply get_numeric_data on X\n",
        "transformer_text = FunctionTransformer(get_text_data)"
      ],
      "metadata": {
        "id": "h4XA9e6kPkzY"
      },
      "execution_count": 52,
      "outputs": []
    },
    {
      "cell_type": "code",
      "source": [
        "pipeline = Pipeline([\n",
        "    ('features', FeatureUnion([\n",
        "            ('numeric_features', Pipeline([\n",
        "                ('selector', transformer_numeric)\n",
        "            ])),\n",
        "             ('text_features', Pipeline([\n",
        "                ('selector', transformer_text),\n",
        "                ('vec', TfidfVectorizer(analyzer='word'))\n",
        "            ]))\n",
        "         ])),\n",
        "    ('clf', RandomForestClassifier())\n",
        "])"
      ],
      "metadata": {
        "id": "NArhOz7HQuPi"
      },
      "execution_count": 53,
      "outputs": []
    },
    {
      "cell_type": "code",
      "source": [
        "param_grid = {'clf__n_estimators': np.linspace(1, 100, 42, dtype=int),\n",
        "              'clf__min_samples_split': [2],\n",
        "              'clf__min_samples_leaf': [1],\n",
        "              'clf__max_features': [8],\n",
        "              'clf__max_depth': [None],\n",
        "              'clf__criterion': ['entropy'],\n",
        "              'clf__bootstrap': [False]}\n",
        "\n",
        "scoring = {'Accuracy': 'accuracy', 'F1': 'f1_macro'}\n",
        "refit = 'F1'"
      ],
      "metadata": {
        "id": "I6L9bv4pRSrP"
      },
      "execution_count": 108,
      "outputs": []
    },
    {
      "cell_type": "code",
      "source": [
        "rf_model = GridSearchCV(pipeline, param_grid=param_grid, scoring=scoring, \n",
        "                         refit=refit, n_jobs=-1, return_train_score=True, verbose=1)"
      ],
      "metadata": {
        "id": "BKIoV-6DRkaF"
      },
      "execution_count": 109,
      "outputs": []
    },
    {
      "cell_type": "code",
      "source": [
        "rf_model.fit(X_crosstrain, Y_crosstrain)\n",
        "# rf_best = rf_model.best_estimator_\n",
        "# print(rf_best)"
      ],
      "metadata": {
        "colab": {
          "base_uri": "https://localhost:8080/"
        },
        "id": "8QSAgQ6XRqb9",
        "outputId": "daec4eeb-20d0-495d-c913-35ef35246165"
      },
      "execution_count": 110,
      "outputs": [
        {
          "output_type": "stream",
          "name": "stdout",
          "text": [
            "Fitting 5 folds for each of 42 candidates, totalling 210 fits\n"
          ]
        },
        {
          "output_type": "execute_result",
          "data": {
            "text/plain": [
              "GridSearchCV(estimator=Pipeline(steps=[('features',\n",
              "                                        FeatureUnion(transformer_list=[('numeric_features',\n",
              "                                                                        Pipeline(steps=[('selector',\n",
              "                                                                                         FunctionTransformer(func=<function get_numeric_data at 0x7fb4f742e5f0>))])),\n",
              "                                                                       ('text_features',\n",
              "                                                                        Pipeline(steps=[('selector',\n",
              "                                                                                         FunctionTransformer(func=<function get_text_data at 0x7fb4f742e7a0>)),\n",
              "                                                                                        ('vec',\n",
              "                                                                                         TfidfVectorizer())]))])),\n",
              "                                       ('c...\n",
              "                         'clf__max_depth': [None], 'clf__max_features': [8],\n",
              "                         'clf__min_samples_leaf': [1],\n",
              "                         'clf__min_samples_split': [2],\n",
              "                         'clf__n_estimators': array([  1,   3,   5,   8,  10,  13,  15,  17,  20,  22,  25,  27,  29,\n",
              "        32,  34,  37,  39,  42,  44,  46,  49,  51,  54,  56,  58,  61,\n",
              "        63,  66,  68,  71,  73,  75,  78,  80,  83,  85,  87,  90,  92,\n",
              "        95,  97, 100])},\n",
              "             refit='F1', return_train_score=True,\n",
              "             scoring={'Accuracy': 'accuracy', 'F1': 'f1_macro'}, verbose=1)"
            ]
          },
          "metadata": {},
          "execution_count": 110
        }
      ]
    },
    {
      "cell_type": "code",
      "source": [
        "rf_model.score(X_crosstest, Y_crosstest)"
      ],
      "metadata": {
        "colab": {
          "base_uri": "https://localhost:8080/"
        },
        "id": "QqLxu4w2If07",
        "outputId": "0c1f4483-b759-4442-9665-fc3b79f29168"
      },
      "execution_count": 111,
      "outputs": [
        {
          "output_type": "execute_result",
          "data": {
            "text/plain": [
              "0.9086110007379236"
            ]
          },
          "metadata": {},
          "execution_count": 111
        }
      ]
    },
    {
      "cell_type": "markdown",
      "source": [
        "### Bi-LSTM"
      ],
      "metadata": {
        "id": "FUX88OQDC2hw"
      }
    },
    {
      "cell_type": "code",
      "source": [
        "from tensorflow.keras.layers import LSTM, Embedding, Bidirectional\n",
        "from tensorflow.compat.v1.keras.layers import CuDNNLSTM\n",
        "from tensorflow.keras.layers import Dropout"
      ],
      "metadata": {
        "id": "M5alk34sUI-h"
      },
      "execution_count": null,
      "outputs": []
    },
    {
      "cell_type": "code",
      "source": [
        "EMBEDDING_DIM = 100\n",
        "class_num = 1\n",
        "model = Sequential()\n",
        "model.add(Embedding(input_dim = vocab_size, output_dim = EMBEDDING_DIM, input_length= X.shape[1],\n",
        "                    weights = [gensim_weight_matrix],trainable = False))\n",
        "model.add(Bidirectional(CuDNNLSTM(100,return_sequences=True)))\n",
        "model.add(Bidirectional(CuDNNLSTM(200,return_sequences=True)))\n",
        "model.add(Bidirectional(CuDNNLSTM(200,return_sequences=True)))\n",
        "model.add(Bidirectional(CuDNNLSTM(100,return_sequences=False)))\n",
        "model.add(Dense(1, activation = 'sigmoid'))\n",
        "model.compile(optimizer = 'adam', loss = 'binary_crossentropy',  metrics = ['accuracy'])\n",
        "model.summary()"
      ],
      "metadata": {
        "id": "1YlgcfPcVPHX"
      },
      "execution_count": null,
      "outputs": []
    },
    {
      "cell_type": "code",
      "source": [
        "# model.fit(X, Y_train_final , epochs = 50, batch_size = 100)"
      ],
      "metadata": {
        "id": "9WmjYv8BV113"
      },
      "execution_count": null,
      "outputs": []
    },
    {
      "cell_type": "markdown",
      "source": [
        "###distilBERT"
      ],
      "metadata": {
        "id": "aKT7-wg_Kte3"
      }
    },
    {
      "cell_type": "code",
      "source": [
        "# def Sentences(group_of_words): #makes a list of lists containing sentences for each single sample \n",
        "#   lst = []\n",
        "#   for i in range(0,840):\n",
        "#     appendlist = []\n",
        "#     string = group_of_words[i]\n",
        "#     appendstr = ' '.join(string)\n",
        "#     appendlist.append(appendstr)\n",
        "#     lst.append(appendlist)\n",
        "#   return lst\n",
        "\n",
        "# concat_word_groups = Sentences(word_groups)"
      ],
      "metadata": {
        "id": "lSrPmI4p1mu6"
      },
      "execution_count": null,
      "outputs": []
    },
    {
      "cell_type": "code",
      "source": [
        "# pd.set_option('display.max_colwidth', None)\n",
        "# MODEL_NAME = 'distilbert-base-uncased-finetuned-sst-2-english'\n",
        "# BATCH_SIZE = 16\n",
        "# N_EPOCHS = 10\n",
        "# tokenizer = DistilBertTokenizer.from_pretrained(MODEL_NAME)\n",
        "# encoding = tokenizer(concat_word_groups, is_split_into_words = True, max_length = 10, padding = True, truncation=\"only_first\", return_tensors = \"tf\")\n",
        "# model_right = TFDistilBertModel.from_pretrained(\"distilbert-base-uncased\")\n",
        "# output = model_right(encoding)\n",
        "# last_hidden_states = output.last_hidden_state\n",
        "# berttensor = tf.convert_to_tensor(last_hidden_states)\n",
        "# berttensor1 = tf.reshape(last_hidden_states, [840, 7680])\n",
        "\n",
        "#model = TFDistilBertForSequenceClassification.from_pretrained(MODEL_NAME)\n",
        "# optimizerr = tf.keras.optimizers.Adam(learning_rate=5e-5)\n",
        "# losss = tf.keras.losses.SparseCategoricalCrossentropy(from_logits=True)\n",
        "# model.compile(optimizer=optimizerr,loss=losss,metrics=['accuracy'])\n",
        "# model.fit(train_dataset.shuffle(len(concat_word_groups)).batch(BATCH_SIZE),epochs=N_EPOCHS,batch_size=BATCH_SIZE)\n",
        "# output = model_right(encoding)"
      ],
      "metadata": {
        "id": "Di_XR0RRHXIT"
      },
      "execution_count": null,
      "outputs": []
    },
    {
      "cell_type": "code",
      "source": [
        "# train_dataset = tf.data.Dataset.from_tensor_slices((dict(encoding), Y_data))\n",
        "# model = TFDistilBertForSequenceClassification.from_pretrained(MODEL_NAME)\n",
        "# optimizerr = tf.keras.optimizers.Adam(learning_rate=5e-5)\n",
        "# losss = tf.keras.losses.SparseCategoricalCrossentropy(from_logits=True)\n",
        "# model.compile(optimizer=optimizerr,loss=losss,metrics=['accuracy'])\n",
        "# model.fit(train_dataset.shuffle(len(X_train)).batch(BATCH_SIZE),\n",
        "#           epochs=N_EPOCHS,\n",
        "#           batch_size=BATCH_SIZE)"
      ],
      "metadata": {
        "id": "KaxHPZc5YoPs"
      },
      "execution_count": null,
      "outputs": []
    },
    {
      "cell_type": "markdown",
      "metadata": {
        "id": "B10AlMV1rFZY"
      },
      "source": [
        "\n",
        "# Neural Network Architecture"
      ]
    },
    {
      "cell_type": "markdown",
      "metadata": {
        "id": "xTG76df9UnCH"
      },
      "source": [
        "## Left Branch : CNN \n",
        "\n",
        "\n"
      ]
    },
    {
      "cell_type": "code",
      "execution_count": null,
      "metadata": {
        "id": "xtHVg87jrizi"
      },
      "outputs": [],
      "source": [
        "# model = Sequential()\n",
        "# model.add(Convolution1D(filters=32, kernel_size=3, activation='relu', input_shape=(56,1)))\n",
        "# model.add(Convolution1D(filters=64, kernel_size=3, activation='relu'))\n",
        "# model.add(Convolution1D(filters=64, kernel_size=3, activation='relu'))\n",
        "# model.add(Flatten())\n",
        "# model.add(Dense(100, activation='relu'))\n",
        "# model.add(Dense(50, activation='relu'))\n",
        "# model.add(Dense(25, activation='relu'))\n",
        "# model.add(Dense(1, activation='sigmoid'))"
      ]
    },
    {
      "cell_type": "code",
      "source": [
        "# model.compile(optimizer='adam',loss='binary_crossentropy', metrics=['accuracy'])"
      ],
      "metadata": {
        "id": "9iTRTYRtCqkF"
      },
      "execution_count": null,
      "outputs": []
    },
    {
      "cell_type": "code",
      "source": [
        "# model.fit(X_crosstrain,Y_crosstrain, batch_size=50, epochs=150)\n",
        "# accuracy = model.evaluate(X_crosstest, Y_crosstest, batch_size=50)\n",
        "# print(accuracy)"
      ],
      "metadata": {
        "id": "MTxalRbpC5pG"
      },
      "execution_count": null,
      "outputs": []
    },
    {
      "cell_type": "code",
      "source": [
        "# Y_tensor =tf.convert_to_tensor(Y_tr)"
      ],
      "metadata": {
        "id": "r2kn2NjBwDe0"
      },
      "execution_count": null,
      "outputs": []
    },
    {
      "cell_type": "code",
      "source": [
        "# height, width, depth = X_tr.shape[0], X_tr.shape[1], X_tr.shape[2]\n",
        "# input_shape=(width,depth)\n",
        "# input = Input(shape=input_shape)\n",
        "# X = Convolution1D(filters=32, kernel_size=3, activation='relu')(input)\n",
        "# X = Convolution1D(filters=64, kernel_size=3, activation='relu')(X)\n",
        "# X = Convolution1D(filters=64, kernel_size=3, activation='relu')(X)\n",
        "# X = Flatten()(X)\n",
        "# concatenate = tf.keras.layers.Concatenate(axis=1)([X, berttensor1])\n",
        "# X = Dense(100, activation='relu')(concatenate)\n",
        "# X = Dense(50, activation='relu')(X)\n",
        "# X = Dense(10, activation = 'relu')(X)\n",
        "# output = Dense(1, activation = \"sigmoid\")(X)\n",
        "\n",
        "# model = Model(inputs=input, outputs=output)"
      ],
      "metadata": {
        "id": "0tYROUBOx8g6"
      },
      "execution_count": null,
      "outputs": []
    },
    {
      "cell_type": "code",
      "source": [
        "# newinput = Input(shape=[10880])\n",
        "# hidden1 = Dense(20, activation='relu')(newinput)\n",
        "# hidden2 = Dense(10, activation='relu')(hidden1)\n",
        "# output = Dense(1, activation='sigmoid')(hidden2)\n",
        "# model = Model(inputs=newinput, outputs=output)"
      ],
      "metadata": {
        "id": "k19C_Q8OuXYK"
      },
      "execution_count": null,
      "outputs": []
    },
    {
      "cell_type": "code",
      "source": [
        "# epochs, batch_size, test_batch_size = 50, 50, 50\n",
        "# model.compile(loss='binary_crossentropy', optimizer='adam', metrics=['accuracy'])\n",
        "# model.fit(X_tr,Y_tr, batch_size=batch_size, epochs=epochs)"
      ],
      "metadata": {
        "id": "EqxSZxvk8jal"
      },
      "execution_count": null,
      "outputs": []
    },
    {
      "cell_type": "code",
      "execution_count": null,
      "metadata": {
        "id": "EJfaF9ZnCfa5"
      },
      "outputs": [],
      "source": [
        "# def evaluate_model(trainX, trainy, testX, testy): \n",
        "# \tepochs, batch_size, test_batch_size = 120, 50, 50\n",
        "# \theight, width, depth = trainX.shape[0], trainX.shape[1], trainX.shape[2]\n",
        "# \tmodel = Sequential()\n",
        "# \tmodel.add(Convolution1D(filters=32, kernel_size=3, activation='relu', input_shape=(width,depth)))\n",
        "# \tmodel.add(Convolution1D(filters=64, kernel_size=3, activation='relu'))\n",
        "# \tmodel.add(Flatten())\n",
        "# \tmodel.add(Dense(1, activation='sigmoid'))\n",
        "# \tmodel.compile(loss='binary_crossentropy', optimizer='adam', metrics=['accuracy'])\n",
        "# \tmodel.fit(trainX, trainy, epochs=epochs, batch_size=batch_size)\n",
        "# \t_, accuracy = model.evaluate(testX, testy, batch_size=test_batch_size)\n",
        "# \treturn accuracy\n",
        "\n",
        "# model_accuracy = evaluate_model(X_crosstrain, Y_crosstrain, X_crosstest, Y_crosstest)"
      ]
    }
  ],
  "metadata": {
    "colab": {
      "collapsed_sections": [
        "yJKcPwvvxGiE",
        "FUX88OQDC2hw",
        "aKT7-wg_Kte3",
        "xTG76df9UnCH"
      ],
      "name": "Code_Smell_Classification_using_Deep_Learning.ipynb",
      "provenance": [],
      "include_colab_link": true
    },
    "kernelspec": {
      "display_name": "Python 3",
      "name": "python3"
    },
    "language_info": {
      "name": "python"
    }
  },
  "nbformat": 4,
  "nbformat_minor": 0
}