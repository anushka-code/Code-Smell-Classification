{
  "nbformat": 4,
  "nbformat_minor": 0,
  "metadata": {
    "colab": {
      "name": "Model3.ipynb",
      "provenance": [],
      "collapsed_sections": [],
      "authorship_tag": "ABX9TyMZpY/sgRDJz+UZkn0A+2P+",
      "include_colab_link": true
    },
    "kernelspec": {
      "name": "python3",
      "display_name": "Python 3"
    },
    "language_info": {
      "name": "python"
    },
    "accelerator": "GPU",
    "widgets": {
      "application/vnd.jupyter.widget-state+json": {
        "91b49d9af10d49c796f38ab7c72395a6": {
          "model_module": "@jupyter-widgets/controls",
          "model_name": "HBoxModel",
          "model_module_version": "1.5.0",
          "state": {
            "_dom_classes": [],
            "_model_module": "@jupyter-widgets/controls",
            "_model_module_version": "1.5.0",
            "_model_name": "HBoxModel",
            "_view_count": null,
            "_view_module": "@jupyter-widgets/controls",
            "_view_module_version": "1.5.0",
            "_view_name": "HBoxView",
            "box_style": "",
            "children": [
              "IPY_MODEL_99d46d0edc0f4cecb3d7201476a6a5bd",
              "IPY_MODEL_e92bc48be02547178124323373307a84",
              "IPY_MODEL_66838f8a7e2942229d47a1dda9032ae7"
            ],
            "layout": "IPY_MODEL_9560afbeb1bd4e3d9ce40e1317448b6c"
          }
        },
        "99d46d0edc0f4cecb3d7201476a6a5bd": {
          "model_module": "@jupyter-widgets/controls",
          "model_name": "HTMLModel",
          "model_module_version": "1.5.0",
          "state": {
            "_dom_classes": [],
            "_model_module": "@jupyter-widgets/controls",
            "_model_module_version": "1.5.0",
            "_model_name": "HTMLModel",
            "_view_count": null,
            "_view_module": "@jupyter-widgets/controls",
            "_view_module_version": "1.5.0",
            "_view_name": "HTMLView",
            "description": "",
            "description_tooltip": null,
            "layout": "IPY_MODEL_665280918a7d4c408efef9bfc5685d91",
            "placeholder": "​",
            "style": "IPY_MODEL_b3ce2a6454fd48eea59f8312ab227231",
            "value": "Downloading: 100%"
          }
        },
        "e92bc48be02547178124323373307a84": {
          "model_module": "@jupyter-widgets/controls",
          "model_name": "FloatProgressModel",
          "model_module_version": "1.5.0",
          "state": {
            "_dom_classes": [],
            "_model_module": "@jupyter-widgets/controls",
            "_model_module_version": "1.5.0",
            "_model_name": "FloatProgressModel",
            "_view_count": null,
            "_view_module": "@jupyter-widgets/controls",
            "_view_module_version": "1.5.0",
            "_view_name": "ProgressView",
            "bar_style": "success",
            "description": "",
            "description_tooltip": null,
            "layout": "IPY_MODEL_e813494e5e76442b9906fb58bf139d0e",
            "max": 28,
            "min": 0,
            "orientation": "horizontal",
            "style": "IPY_MODEL_711097b50bb4493d9c2317138806e3f4",
            "value": 28
          }
        },
        "66838f8a7e2942229d47a1dda9032ae7": {
          "model_module": "@jupyter-widgets/controls",
          "model_name": "HTMLModel",
          "model_module_version": "1.5.0",
          "state": {
            "_dom_classes": [],
            "_model_module": "@jupyter-widgets/controls",
            "_model_module_version": "1.5.0",
            "_model_name": "HTMLModel",
            "_view_count": null,
            "_view_module": "@jupyter-widgets/controls",
            "_view_module_version": "1.5.0",
            "_view_name": "HTMLView",
            "description": "",
            "description_tooltip": null,
            "layout": "IPY_MODEL_0416e24cced541dbbedbe952bb1f7017",
            "placeholder": "​",
            "style": "IPY_MODEL_f1464603371b43a9813f7bff7890e21e",
            "value": " 28.0/28.0 [00:00&lt;00:00, 646B/s]"
          }
        },
        "9560afbeb1bd4e3d9ce40e1317448b6c": {
          "model_module": "@jupyter-widgets/base",
          "model_name": "LayoutModel",
          "model_module_version": "1.2.0",
          "state": {
            "_model_module": "@jupyter-widgets/base",
            "_model_module_version": "1.2.0",
            "_model_name": "LayoutModel",
            "_view_count": null,
            "_view_module": "@jupyter-widgets/base",
            "_view_module_version": "1.2.0",
            "_view_name": "LayoutView",
            "align_content": null,
            "align_items": null,
            "align_self": null,
            "border": null,
            "bottom": null,
            "display": null,
            "flex": null,
            "flex_flow": null,
            "grid_area": null,
            "grid_auto_columns": null,
            "grid_auto_flow": null,
            "grid_auto_rows": null,
            "grid_column": null,
            "grid_gap": null,
            "grid_row": null,
            "grid_template_areas": null,
            "grid_template_columns": null,
            "grid_template_rows": null,
            "height": null,
            "justify_content": null,
            "justify_items": null,
            "left": null,
            "margin": null,
            "max_height": null,
            "max_width": null,
            "min_height": null,
            "min_width": null,
            "object_fit": null,
            "object_position": null,
            "order": null,
            "overflow": null,
            "overflow_x": null,
            "overflow_y": null,
            "padding": null,
            "right": null,
            "top": null,
            "visibility": null,
            "width": null
          }
        },
        "665280918a7d4c408efef9bfc5685d91": {
          "model_module": "@jupyter-widgets/base",
          "model_name": "LayoutModel",
          "model_module_version": "1.2.0",
          "state": {
            "_model_module": "@jupyter-widgets/base",
            "_model_module_version": "1.2.0",
            "_model_name": "LayoutModel",
            "_view_count": null,
            "_view_module": "@jupyter-widgets/base",
            "_view_module_version": "1.2.0",
            "_view_name": "LayoutView",
            "align_content": null,
            "align_items": null,
            "align_self": null,
            "border": null,
            "bottom": null,
            "display": null,
            "flex": null,
            "flex_flow": null,
            "grid_area": null,
            "grid_auto_columns": null,
            "grid_auto_flow": null,
            "grid_auto_rows": null,
            "grid_column": null,
            "grid_gap": null,
            "grid_row": null,
            "grid_template_areas": null,
            "grid_template_columns": null,
            "grid_template_rows": null,
            "height": null,
            "justify_content": null,
            "justify_items": null,
            "left": null,
            "margin": null,
            "max_height": null,
            "max_width": null,
            "min_height": null,
            "min_width": null,
            "object_fit": null,
            "object_position": null,
            "order": null,
            "overflow": null,
            "overflow_x": null,
            "overflow_y": null,
            "padding": null,
            "right": null,
            "top": null,
            "visibility": null,
            "width": null
          }
        },
        "b3ce2a6454fd48eea59f8312ab227231": {
          "model_module": "@jupyter-widgets/controls",
          "model_name": "DescriptionStyleModel",
          "model_module_version": "1.5.0",
          "state": {
            "_model_module": "@jupyter-widgets/controls",
            "_model_module_version": "1.5.0",
            "_model_name": "DescriptionStyleModel",
            "_view_count": null,
            "_view_module": "@jupyter-widgets/base",
            "_view_module_version": "1.2.0",
            "_view_name": "StyleView",
            "description_width": ""
          }
        },
        "e813494e5e76442b9906fb58bf139d0e": {
          "model_module": "@jupyter-widgets/base",
          "model_name": "LayoutModel",
          "model_module_version": "1.2.0",
          "state": {
            "_model_module": "@jupyter-widgets/base",
            "_model_module_version": "1.2.0",
            "_model_name": "LayoutModel",
            "_view_count": null,
            "_view_module": "@jupyter-widgets/base",
            "_view_module_version": "1.2.0",
            "_view_name": "LayoutView",
            "align_content": null,
            "align_items": null,
            "align_self": null,
            "border": null,
            "bottom": null,
            "display": null,
            "flex": null,
            "flex_flow": null,
            "grid_area": null,
            "grid_auto_columns": null,
            "grid_auto_flow": null,
            "grid_auto_rows": null,
            "grid_column": null,
            "grid_gap": null,
            "grid_row": null,
            "grid_template_areas": null,
            "grid_template_columns": null,
            "grid_template_rows": null,
            "height": null,
            "justify_content": null,
            "justify_items": null,
            "left": null,
            "margin": null,
            "max_height": null,
            "max_width": null,
            "min_height": null,
            "min_width": null,
            "object_fit": null,
            "object_position": null,
            "order": null,
            "overflow": null,
            "overflow_x": null,
            "overflow_y": null,
            "padding": null,
            "right": null,
            "top": null,
            "visibility": null,
            "width": null
          }
        },
        "711097b50bb4493d9c2317138806e3f4": {
          "model_module": "@jupyter-widgets/controls",
          "model_name": "ProgressStyleModel",
          "model_module_version": "1.5.0",
          "state": {
            "_model_module": "@jupyter-widgets/controls",
            "_model_module_version": "1.5.0",
            "_model_name": "ProgressStyleModel",
            "_view_count": null,
            "_view_module": "@jupyter-widgets/base",
            "_view_module_version": "1.2.0",
            "_view_name": "StyleView",
            "bar_color": null,
            "description_width": ""
          }
        },
        "0416e24cced541dbbedbe952bb1f7017": {
          "model_module": "@jupyter-widgets/base",
          "model_name": "LayoutModel",
          "model_module_version": "1.2.0",
          "state": {
            "_model_module": "@jupyter-widgets/base",
            "_model_module_version": "1.2.0",
            "_model_name": "LayoutModel",
            "_view_count": null,
            "_view_module": "@jupyter-widgets/base",
            "_view_module_version": "1.2.0",
            "_view_name": "LayoutView",
            "align_content": null,
            "align_items": null,
            "align_self": null,
            "border": null,
            "bottom": null,
            "display": null,
            "flex": null,
            "flex_flow": null,
            "grid_area": null,
            "grid_auto_columns": null,
            "grid_auto_flow": null,
            "grid_auto_rows": null,
            "grid_column": null,
            "grid_gap": null,
            "grid_row": null,
            "grid_template_areas": null,
            "grid_template_columns": null,
            "grid_template_rows": null,
            "height": null,
            "justify_content": null,
            "justify_items": null,
            "left": null,
            "margin": null,
            "max_height": null,
            "max_width": null,
            "min_height": null,
            "min_width": null,
            "object_fit": null,
            "object_position": null,
            "order": null,
            "overflow": null,
            "overflow_x": null,
            "overflow_y": null,
            "padding": null,
            "right": null,
            "top": null,
            "visibility": null,
            "width": null
          }
        },
        "f1464603371b43a9813f7bff7890e21e": {
          "model_module": "@jupyter-widgets/controls",
          "model_name": "DescriptionStyleModel",
          "model_module_version": "1.5.0",
          "state": {
            "_model_module": "@jupyter-widgets/controls",
            "_model_module_version": "1.5.0",
            "_model_name": "DescriptionStyleModel",
            "_view_count": null,
            "_view_module": "@jupyter-widgets/base",
            "_view_module_version": "1.2.0",
            "_view_name": "StyleView",
            "description_width": ""
          }
        },
        "4d5fe0688b9c461aaa9c646f68441682": {
          "model_module": "@jupyter-widgets/controls",
          "model_name": "HBoxModel",
          "model_module_version": "1.5.0",
          "state": {
            "_dom_classes": [],
            "_model_module": "@jupyter-widgets/controls",
            "_model_module_version": "1.5.0",
            "_model_name": "HBoxModel",
            "_view_count": null,
            "_view_module": "@jupyter-widgets/controls",
            "_view_module_version": "1.5.0",
            "_view_name": "HBoxView",
            "box_style": "",
            "children": [
              "IPY_MODEL_5182e11860d947438df5dbe57abbe456",
              "IPY_MODEL_c35c136dafaa4f189619fc93f43736aa",
              "IPY_MODEL_ad7ae83dc1ce4f83adcbfbdee4d47f2d"
            ],
            "layout": "IPY_MODEL_8c3d3a6f917546c0863258a9fb445ee5"
          }
        },
        "5182e11860d947438df5dbe57abbe456": {
          "model_module": "@jupyter-widgets/controls",
          "model_name": "HTMLModel",
          "model_module_version": "1.5.0",
          "state": {
            "_dom_classes": [],
            "_model_module": "@jupyter-widgets/controls",
            "_model_module_version": "1.5.0",
            "_model_name": "HTMLModel",
            "_view_count": null,
            "_view_module": "@jupyter-widgets/controls",
            "_view_module_version": "1.5.0",
            "_view_name": "HTMLView",
            "description": "",
            "description_tooltip": null,
            "layout": "IPY_MODEL_bb81c707de5848d2a2ba9c1d4e0f8153",
            "placeholder": "​",
            "style": "IPY_MODEL_1b53edfe91d841dfb7bae214b7e6f61b",
            "value": "Downloading: 100%"
          }
        },
        "c35c136dafaa4f189619fc93f43736aa": {
          "model_module": "@jupyter-widgets/controls",
          "model_name": "FloatProgressModel",
          "model_module_version": "1.5.0",
          "state": {
            "_dom_classes": [],
            "_model_module": "@jupyter-widgets/controls",
            "_model_module_version": "1.5.0",
            "_model_name": "FloatProgressModel",
            "_view_count": null,
            "_view_module": "@jupyter-widgets/controls",
            "_view_module_version": "1.5.0",
            "_view_name": "ProgressView",
            "bar_style": "success",
            "description": "",
            "description_tooltip": null,
            "layout": "IPY_MODEL_a27abcd47f51443c8e593419f1e61f56",
            "max": 231508,
            "min": 0,
            "orientation": "horizontal",
            "style": "IPY_MODEL_c2201d874d3141cfa21b1e528d5a15bb",
            "value": 231508
          }
        },
        "ad7ae83dc1ce4f83adcbfbdee4d47f2d": {
          "model_module": "@jupyter-widgets/controls",
          "model_name": "HTMLModel",
          "model_module_version": "1.5.0",
          "state": {
            "_dom_classes": [],
            "_model_module": "@jupyter-widgets/controls",
            "_model_module_version": "1.5.0",
            "_model_name": "HTMLModel",
            "_view_count": null,
            "_view_module": "@jupyter-widgets/controls",
            "_view_module_version": "1.5.0",
            "_view_name": "HTMLView",
            "description": "",
            "description_tooltip": null,
            "layout": "IPY_MODEL_bb808b743309495997f5d32978e4750b",
            "placeholder": "​",
            "style": "IPY_MODEL_1717be06b76a41679582ab577f6a545c",
            "value": " 226k/226k [00:00&lt;00:00, 581kB/s]"
          }
        },
        "8c3d3a6f917546c0863258a9fb445ee5": {
          "model_module": "@jupyter-widgets/base",
          "model_name": "LayoutModel",
          "model_module_version": "1.2.0",
          "state": {
            "_model_module": "@jupyter-widgets/base",
            "_model_module_version": "1.2.0",
            "_model_name": "LayoutModel",
            "_view_count": null,
            "_view_module": "@jupyter-widgets/base",
            "_view_module_version": "1.2.0",
            "_view_name": "LayoutView",
            "align_content": null,
            "align_items": null,
            "align_self": null,
            "border": null,
            "bottom": null,
            "display": null,
            "flex": null,
            "flex_flow": null,
            "grid_area": null,
            "grid_auto_columns": null,
            "grid_auto_flow": null,
            "grid_auto_rows": null,
            "grid_column": null,
            "grid_gap": null,
            "grid_row": null,
            "grid_template_areas": null,
            "grid_template_columns": null,
            "grid_template_rows": null,
            "height": null,
            "justify_content": null,
            "justify_items": null,
            "left": null,
            "margin": null,
            "max_height": null,
            "max_width": null,
            "min_height": null,
            "min_width": null,
            "object_fit": null,
            "object_position": null,
            "order": null,
            "overflow": null,
            "overflow_x": null,
            "overflow_y": null,
            "padding": null,
            "right": null,
            "top": null,
            "visibility": null,
            "width": null
          }
        },
        "bb81c707de5848d2a2ba9c1d4e0f8153": {
          "model_module": "@jupyter-widgets/base",
          "model_name": "LayoutModel",
          "model_module_version": "1.2.0",
          "state": {
            "_model_module": "@jupyter-widgets/base",
            "_model_module_version": "1.2.0",
            "_model_name": "LayoutModel",
            "_view_count": null,
            "_view_module": "@jupyter-widgets/base",
            "_view_module_version": "1.2.0",
            "_view_name": "LayoutView",
            "align_content": null,
            "align_items": null,
            "align_self": null,
            "border": null,
            "bottom": null,
            "display": null,
            "flex": null,
            "flex_flow": null,
            "grid_area": null,
            "grid_auto_columns": null,
            "grid_auto_flow": null,
            "grid_auto_rows": null,
            "grid_column": null,
            "grid_gap": null,
            "grid_row": null,
            "grid_template_areas": null,
            "grid_template_columns": null,
            "grid_template_rows": null,
            "height": null,
            "justify_content": null,
            "justify_items": null,
            "left": null,
            "margin": null,
            "max_height": null,
            "max_width": null,
            "min_height": null,
            "min_width": null,
            "object_fit": null,
            "object_position": null,
            "order": null,
            "overflow": null,
            "overflow_x": null,
            "overflow_y": null,
            "padding": null,
            "right": null,
            "top": null,
            "visibility": null,
            "width": null
          }
        },
        "1b53edfe91d841dfb7bae214b7e6f61b": {
          "model_module": "@jupyter-widgets/controls",
          "model_name": "DescriptionStyleModel",
          "model_module_version": "1.5.0",
          "state": {
            "_model_module": "@jupyter-widgets/controls",
            "_model_module_version": "1.5.0",
            "_model_name": "DescriptionStyleModel",
            "_view_count": null,
            "_view_module": "@jupyter-widgets/base",
            "_view_module_version": "1.2.0",
            "_view_name": "StyleView",
            "description_width": ""
          }
        },
        "a27abcd47f51443c8e593419f1e61f56": {
          "model_module": "@jupyter-widgets/base",
          "model_name": "LayoutModel",
          "model_module_version": "1.2.0",
          "state": {
            "_model_module": "@jupyter-widgets/base",
            "_model_module_version": "1.2.0",
            "_model_name": "LayoutModel",
            "_view_count": null,
            "_view_module": "@jupyter-widgets/base",
            "_view_module_version": "1.2.0",
            "_view_name": "LayoutView",
            "align_content": null,
            "align_items": null,
            "align_self": null,
            "border": null,
            "bottom": null,
            "display": null,
            "flex": null,
            "flex_flow": null,
            "grid_area": null,
            "grid_auto_columns": null,
            "grid_auto_flow": null,
            "grid_auto_rows": null,
            "grid_column": null,
            "grid_gap": null,
            "grid_row": null,
            "grid_template_areas": null,
            "grid_template_columns": null,
            "grid_template_rows": null,
            "height": null,
            "justify_content": null,
            "justify_items": null,
            "left": null,
            "margin": null,
            "max_height": null,
            "max_width": null,
            "min_height": null,
            "min_width": null,
            "object_fit": null,
            "object_position": null,
            "order": null,
            "overflow": null,
            "overflow_x": null,
            "overflow_y": null,
            "padding": null,
            "right": null,
            "top": null,
            "visibility": null,
            "width": null
          }
        },
        "c2201d874d3141cfa21b1e528d5a15bb": {
          "model_module": "@jupyter-widgets/controls",
          "model_name": "ProgressStyleModel",
          "model_module_version": "1.5.0",
          "state": {
            "_model_module": "@jupyter-widgets/controls",
            "_model_module_version": "1.5.0",
            "_model_name": "ProgressStyleModel",
            "_view_count": null,
            "_view_module": "@jupyter-widgets/base",
            "_view_module_version": "1.2.0",
            "_view_name": "StyleView",
            "bar_color": null,
            "description_width": ""
          }
        },
        "bb808b743309495997f5d32978e4750b": {
          "model_module": "@jupyter-widgets/base",
          "model_name": "LayoutModel",
          "model_module_version": "1.2.0",
          "state": {
            "_model_module": "@jupyter-widgets/base",
            "_model_module_version": "1.2.0",
            "_model_name": "LayoutModel",
            "_view_count": null,
            "_view_module": "@jupyter-widgets/base",
            "_view_module_version": "1.2.0",
            "_view_name": "LayoutView",
            "align_content": null,
            "align_items": null,
            "align_self": null,
            "border": null,
            "bottom": null,
            "display": null,
            "flex": null,
            "flex_flow": null,
            "grid_area": null,
            "grid_auto_columns": null,
            "grid_auto_flow": null,
            "grid_auto_rows": null,
            "grid_column": null,
            "grid_gap": null,
            "grid_row": null,
            "grid_template_areas": null,
            "grid_template_columns": null,
            "grid_template_rows": null,
            "height": null,
            "justify_content": null,
            "justify_items": null,
            "left": null,
            "margin": null,
            "max_height": null,
            "max_width": null,
            "min_height": null,
            "min_width": null,
            "object_fit": null,
            "object_position": null,
            "order": null,
            "overflow": null,
            "overflow_x": null,
            "overflow_y": null,
            "padding": null,
            "right": null,
            "top": null,
            "visibility": null,
            "width": null
          }
        },
        "1717be06b76a41679582ab577f6a545c": {
          "model_module": "@jupyter-widgets/controls",
          "model_name": "DescriptionStyleModel",
          "model_module_version": "1.5.0",
          "state": {
            "_model_module": "@jupyter-widgets/controls",
            "_model_module_version": "1.5.0",
            "_model_name": "DescriptionStyleModel",
            "_view_count": null,
            "_view_module": "@jupyter-widgets/base",
            "_view_module_version": "1.2.0",
            "_view_name": "StyleView",
            "description_width": ""
          }
        },
        "9db2f4a85a4f40d49fe039600dec0029": {
          "model_module": "@jupyter-widgets/controls",
          "model_name": "HBoxModel",
          "model_module_version": "1.5.0",
          "state": {
            "_dom_classes": [],
            "_model_module": "@jupyter-widgets/controls",
            "_model_module_version": "1.5.0",
            "_model_name": "HBoxModel",
            "_view_count": null,
            "_view_module": "@jupyter-widgets/controls",
            "_view_module_version": "1.5.0",
            "_view_name": "HBoxView",
            "box_style": "",
            "children": [
              "IPY_MODEL_a3acc213546346e1bc335ab49c3117d1",
              "IPY_MODEL_fb5454e7935d4d80a428a81672622e34",
              "IPY_MODEL_35ce211f2f0948b698981e93b763a2c3"
            ],
            "layout": "IPY_MODEL_4f5c262abe094a1d8a26a07a7a87aff6"
          }
        },
        "a3acc213546346e1bc335ab49c3117d1": {
          "model_module": "@jupyter-widgets/controls",
          "model_name": "HTMLModel",
          "model_module_version": "1.5.0",
          "state": {
            "_dom_classes": [],
            "_model_module": "@jupyter-widgets/controls",
            "_model_module_version": "1.5.0",
            "_model_name": "HTMLModel",
            "_view_count": null,
            "_view_module": "@jupyter-widgets/controls",
            "_view_module_version": "1.5.0",
            "_view_name": "HTMLView",
            "description": "",
            "description_tooltip": null,
            "layout": "IPY_MODEL_856915746f4b4e0bb8f15b3075312946",
            "placeholder": "​",
            "style": "IPY_MODEL_c7be478548fb4ab096659342329c5c56",
            "value": "Downloading: 100%"
          }
        },
        "fb5454e7935d4d80a428a81672622e34": {
          "model_module": "@jupyter-widgets/controls",
          "model_name": "FloatProgressModel",
          "model_module_version": "1.5.0",
          "state": {
            "_dom_classes": [],
            "_model_module": "@jupyter-widgets/controls",
            "_model_module_version": "1.5.0",
            "_model_name": "FloatProgressModel",
            "_view_count": null,
            "_view_module": "@jupyter-widgets/controls",
            "_view_module_version": "1.5.0",
            "_view_name": "ProgressView",
            "bar_style": "success",
            "description": "",
            "description_tooltip": null,
            "layout": "IPY_MODEL_6d13618d8c7e47d0a919a20c66a09ac6",
            "max": 466062,
            "min": 0,
            "orientation": "horizontal",
            "style": "IPY_MODEL_37d70ccbb1574c489ceca8b90d3c91c8",
            "value": 466062
          }
        },
        "35ce211f2f0948b698981e93b763a2c3": {
          "model_module": "@jupyter-widgets/controls",
          "model_name": "HTMLModel",
          "model_module_version": "1.5.0",
          "state": {
            "_dom_classes": [],
            "_model_module": "@jupyter-widgets/controls",
            "_model_module_version": "1.5.0",
            "_model_name": "HTMLModel",
            "_view_count": null,
            "_view_module": "@jupyter-widgets/controls",
            "_view_module_version": "1.5.0",
            "_view_name": "HTMLView",
            "description": "",
            "description_tooltip": null,
            "layout": "IPY_MODEL_7d9a372c56b3404ab4e81565aaf3b5e4",
            "placeholder": "​",
            "style": "IPY_MODEL_ec2e38cd63654a1aa05fd50a61cdc184",
            "value": " 455k/455k [00:00&lt;00:00, 522kB/s]"
          }
        },
        "4f5c262abe094a1d8a26a07a7a87aff6": {
          "model_module": "@jupyter-widgets/base",
          "model_name": "LayoutModel",
          "model_module_version": "1.2.0",
          "state": {
            "_model_module": "@jupyter-widgets/base",
            "_model_module_version": "1.2.0",
            "_model_name": "LayoutModel",
            "_view_count": null,
            "_view_module": "@jupyter-widgets/base",
            "_view_module_version": "1.2.0",
            "_view_name": "LayoutView",
            "align_content": null,
            "align_items": null,
            "align_self": null,
            "border": null,
            "bottom": null,
            "display": null,
            "flex": null,
            "flex_flow": null,
            "grid_area": null,
            "grid_auto_columns": null,
            "grid_auto_flow": null,
            "grid_auto_rows": null,
            "grid_column": null,
            "grid_gap": null,
            "grid_row": null,
            "grid_template_areas": null,
            "grid_template_columns": null,
            "grid_template_rows": null,
            "height": null,
            "justify_content": null,
            "justify_items": null,
            "left": null,
            "margin": null,
            "max_height": null,
            "max_width": null,
            "min_height": null,
            "min_width": null,
            "object_fit": null,
            "object_position": null,
            "order": null,
            "overflow": null,
            "overflow_x": null,
            "overflow_y": null,
            "padding": null,
            "right": null,
            "top": null,
            "visibility": null,
            "width": null
          }
        },
        "856915746f4b4e0bb8f15b3075312946": {
          "model_module": "@jupyter-widgets/base",
          "model_name": "LayoutModel",
          "model_module_version": "1.2.0",
          "state": {
            "_model_module": "@jupyter-widgets/base",
            "_model_module_version": "1.2.0",
            "_model_name": "LayoutModel",
            "_view_count": null,
            "_view_module": "@jupyter-widgets/base",
            "_view_module_version": "1.2.0",
            "_view_name": "LayoutView",
            "align_content": null,
            "align_items": null,
            "align_self": null,
            "border": null,
            "bottom": null,
            "display": null,
            "flex": null,
            "flex_flow": null,
            "grid_area": null,
            "grid_auto_columns": null,
            "grid_auto_flow": null,
            "grid_auto_rows": null,
            "grid_column": null,
            "grid_gap": null,
            "grid_row": null,
            "grid_template_areas": null,
            "grid_template_columns": null,
            "grid_template_rows": null,
            "height": null,
            "justify_content": null,
            "justify_items": null,
            "left": null,
            "margin": null,
            "max_height": null,
            "max_width": null,
            "min_height": null,
            "min_width": null,
            "object_fit": null,
            "object_position": null,
            "order": null,
            "overflow": null,
            "overflow_x": null,
            "overflow_y": null,
            "padding": null,
            "right": null,
            "top": null,
            "visibility": null,
            "width": null
          }
        },
        "c7be478548fb4ab096659342329c5c56": {
          "model_module": "@jupyter-widgets/controls",
          "model_name": "DescriptionStyleModel",
          "model_module_version": "1.5.0",
          "state": {
            "_model_module": "@jupyter-widgets/controls",
            "_model_module_version": "1.5.0",
            "_model_name": "DescriptionStyleModel",
            "_view_count": null,
            "_view_module": "@jupyter-widgets/base",
            "_view_module_version": "1.2.0",
            "_view_name": "StyleView",
            "description_width": ""
          }
        },
        "6d13618d8c7e47d0a919a20c66a09ac6": {
          "model_module": "@jupyter-widgets/base",
          "model_name": "LayoutModel",
          "model_module_version": "1.2.0",
          "state": {
            "_model_module": "@jupyter-widgets/base",
            "_model_module_version": "1.2.0",
            "_model_name": "LayoutModel",
            "_view_count": null,
            "_view_module": "@jupyter-widgets/base",
            "_view_module_version": "1.2.0",
            "_view_name": "LayoutView",
            "align_content": null,
            "align_items": null,
            "align_self": null,
            "border": null,
            "bottom": null,
            "display": null,
            "flex": null,
            "flex_flow": null,
            "grid_area": null,
            "grid_auto_columns": null,
            "grid_auto_flow": null,
            "grid_auto_rows": null,
            "grid_column": null,
            "grid_gap": null,
            "grid_row": null,
            "grid_template_areas": null,
            "grid_template_columns": null,
            "grid_template_rows": null,
            "height": null,
            "justify_content": null,
            "justify_items": null,
            "left": null,
            "margin": null,
            "max_height": null,
            "max_width": null,
            "min_height": null,
            "min_width": null,
            "object_fit": null,
            "object_position": null,
            "order": null,
            "overflow": null,
            "overflow_x": null,
            "overflow_y": null,
            "padding": null,
            "right": null,
            "top": null,
            "visibility": null,
            "width": null
          }
        },
        "37d70ccbb1574c489ceca8b90d3c91c8": {
          "model_module": "@jupyter-widgets/controls",
          "model_name": "ProgressStyleModel",
          "model_module_version": "1.5.0",
          "state": {
            "_model_module": "@jupyter-widgets/controls",
            "_model_module_version": "1.5.0",
            "_model_name": "ProgressStyleModel",
            "_view_count": null,
            "_view_module": "@jupyter-widgets/base",
            "_view_module_version": "1.2.0",
            "_view_name": "StyleView",
            "bar_color": null,
            "description_width": ""
          }
        },
        "7d9a372c56b3404ab4e81565aaf3b5e4": {
          "model_module": "@jupyter-widgets/base",
          "model_name": "LayoutModel",
          "model_module_version": "1.2.0",
          "state": {
            "_model_module": "@jupyter-widgets/base",
            "_model_module_version": "1.2.0",
            "_model_name": "LayoutModel",
            "_view_count": null,
            "_view_module": "@jupyter-widgets/base",
            "_view_module_version": "1.2.0",
            "_view_name": "LayoutView",
            "align_content": null,
            "align_items": null,
            "align_self": null,
            "border": null,
            "bottom": null,
            "display": null,
            "flex": null,
            "flex_flow": null,
            "grid_area": null,
            "grid_auto_columns": null,
            "grid_auto_flow": null,
            "grid_auto_rows": null,
            "grid_column": null,
            "grid_gap": null,
            "grid_row": null,
            "grid_template_areas": null,
            "grid_template_columns": null,
            "grid_template_rows": null,
            "height": null,
            "justify_content": null,
            "justify_items": null,
            "left": null,
            "margin": null,
            "max_height": null,
            "max_width": null,
            "min_height": null,
            "min_width": null,
            "object_fit": null,
            "object_position": null,
            "order": null,
            "overflow": null,
            "overflow_x": null,
            "overflow_y": null,
            "padding": null,
            "right": null,
            "top": null,
            "visibility": null,
            "width": null
          }
        },
        "ec2e38cd63654a1aa05fd50a61cdc184": {
          "model_module": "@jupyter-widgets/controls",
          "model_name": "DescriptionStyleModel",
          "model_module_version": "1.5.0",
          "state": {
            "_model_module": "@jupyter-widgets/controls",
            "_model_module_version": "1.5.0",
            "_model_name": "DescriptionStyleModel",
            "_view_count": null,
            "_view_module": "@jupyter-widgets/base",
            "_view_module_version": "1.2.0",
            "_view_name": "StyleView",
            "description_width": ""
          }
        },
        "6437d14ed30a439d9a77515311d91b15": {
          "model_module": "@jupyter-widgets/controls",
          "model_name": "HBoxModel",
          "model_module_version": "1.5.0",
          "state": {
            "_dom_classes": [],
            "_model_module": "@jupyter-widgets/controls",
            "_model_module_version": "1.5.0",
            "_model_name": "HBoxModel",
            "_view_count": null,
            "_view_module": "@jupyter-widgets/controls",
            "_view_module_version": "1.5.0",
            "_view_name": "HBoxView",
            "box_style": "",
            "children": [
              "IPY_MODEL_c066c8f9f57945b68269eaf97321683d",
              "IPY_MODEL_efc9955857784a8d99ddf8da0c630c60",
              "IPY_MODEL_fa099a8f69c04368932fe760ef6ee388"
            ],
            "layout": "IPY_MODEL_38de7ef7752b4ab6a78e57799177e838"
          }
        },
        "c066c8f9f57945b68269eaf97321683d": {
          "model_module": "@jupyter-widgets/controls",
          "model_name": "HTMLModel",
          "model_module_version": "1.5.0",
          "state": {
            "_dom_classes": [],
            "_model_module": "@jupyter-widgets/controls",
            "_model_module_version": "1.5.0",
            "_model_name": "HTMLModel",
            "_view_count": null,
            "_view_module": "@jupyter-widgets/controls",
            "_view_module_version": "1.5.0",
            "_view_name": "HTMLView",
            "description": "",
            "description_tooltip": null,
            "layout": "IPY_MODEL_6ab439833b0c4d7b8c1b841ad65d2a22",
            "placeholder": "​",
            "style": "IPY_MODEL_d7943271f565413da53413caca41f2ab",
            "value": "Downloading: 100%"
          }
        },
        "efc9955857784a8d99ddf8da0c630c60": {
          "model_module": "@jupyter-widgets/controls",
          "model_name": "FloatProgressModel",
          "model_module_version": "1.5.0",
          "state": {
            "_dom_classes": [],
            "_model_module": "@jupyter-widgets/controls",
            "_model_module_version": "1.5.0",
            "_model_name": "FloatProgressModel",
            "_view_count": null,
            "_view_module": "@jupyter-widgets/controls",
            "_view_module_version": "1.5.0",
            "_view_name": "ProgressView",
            "bar_style": "success",
            "description": "",
            "description_tooltip": null,
            "layout": "IPY_MODEL_f8b8cef0b4e548cf991d3c98d1201a82",
            "max": 483,
            "min": 0,
            "orientation": "horizontal",
            "style": "IPY_MODEL_2970b1af38a248f9a7472fc48b9f2ba6",
            "value": 483
          }
        },
        "fa099a8f69c04368932fe760ef6ee388": {
          "model_module": "@jupyter-widgets/controls",
          "model_name": "HTMLModel",
          "model_module_version": "1.5.0",
          "state": {
            "_dom_classes": [],
            "_model_module": "@jupyter-widgets/controls",
            "_model_module_version": "1.5.0",
            "_model_name": "HTMLModel",
            "_view_count": null,
            "_view_module": "@jupyter-widgets/controls",
            "_view_module_version": "1.5.0",
            "_view_name": "HTMLView",
            "description": "",
            "description_tooltip": null,
            "layout": "IPY_MODEL_0f2abfca05314d139355c5a83aa5f48a",
            "placeholder": "​",
            "style": "IPY_MODEL_b8c9206463e04096975fc94c88c17342",
            "value": " 483/483 [00:00&lt;00:00, 14.9kB/s]"
          }
        },
        "38de7ef7752b4ab6a78e57799177e838": {
          "model_module": "@jupyter-widgets/base",
          "model_name": "LayoutModel",
          "model_module_version": "1.2.0",
          "state": {
            "_model_module": "@jupyter-widgets/base",
            "_model_module_version": "1.2.0",
            "_model_name": "LayoutModel",
            "_view_count": null,
            "_view_module": "@jupyter-widgets/base",
            "_view_module_version": "1.2.0",
            "_view_name": "LayoutView",
            "align_content": null,
            "align_items": null,
            "align_self": null,
            "border": null,
            "bottom": null,
            "display": null,
            "flex": null,
            "flex_flow": null,
            "grid_area": null,
            "grid_auto_columns": null,
            "grid_auto_flow": null,
            "grid_auto_rows": null,
            "grid_column": null,
            "grid_gap": null,
            "grid_row": null,
            "grid_template_areas": null,
            "grid_template_columns": null,
            "grid_template_rows": null,
            "height": null,
            "justify_content": null,
            "justify_items": null,
            "left": null,
            "margin": null,
            "max_height": null,
            "max_width": null,
            "min_height": null,
            "min_width": null,
            "object_fit": null,
            "object_position": null,
            "order": null,
            "overflow": null,
            "overflow_x": null,
            "overflow_y": null,
            "padding": null,
            "right": null,
            "top": null,
            "visibility": null,
            "width": null
          }
        },
        "6ab439833b0c4d7b8c1b841ad65d2a22": {
          "model_module": "@jupyter-widgets/base",
          "model_name": "LayoutModel",
          "model_module_version": "1.2.0",
          "state": {
            "_model_module": "@jupyter-widgets/base",
            "_model_module_version": "1.2.0",
            "_model_name": "LayoutModel",
            "_view_count": null,
            "_view_module": "@jupyter-widgets/base",
            "_view_module_version": "1.2.0",
            "_view_name": "LayoutView",
            "align_content": null,
            "align_items": null,
            "align_self": null,
            "border": null,
            "bottom": null,
            "display": null,
            "flex": null,
            "flex_flow": null,
            "grid_area": null,
            "grid_auto_columns": null,
            "grid_auto_flow": null,
            "grid_auto_rows": null,
            "grid_column": null,
            "grid_gap": null,
            "grid_row": null,
            "grid_template_areas": null,
            "grid_template_columns": null,
            "grid_template_rows": null,
            "height": null,
            "justify_content": null,
            "justify_items": null,
            "left": null,
            "margin": null,
            "max_height": null,
            "max_width": null,
            "min_height": null,
            "min_width": null,
            "object_fit": null,
            "object_position": null,
            "order": null,
            "overflow": null,
            "overflow_x": null,
            "overflow_y": null,
            "padding": null,
            "right": null,
            "top": null,
            "visibility": null,
            "width": null
          }
        },
        "d7943271f565413da53413caca41f2ab": {
          "model_module": "@jupyter-widgets/controls",
          "model_name": "DescriptionStyleModel",
          "model_module_version": "1.5.0",
          "state": {
            "_model_module": "@jupyter-widgets/controls",
            "_model_module_version": "1.5.0",
            "_model_name": "DescriptionStyleModel",
            "_view_count": null,
            "_view_module": "@jupyter-widgets/base",
            "_view_module_version": "1.2.0",
            "_view_name": "StyleView",
            "description_width": ""
          }
        },
        "f8b8cef0b4e548cf991d3c98d1201a82": {
          "model_module": "@jupyter-widgets/base",
          "model_name": "LayoutModel",
          "model_module_version": "1.2.0",
          "state": {
            "_model_module": "@jupyter-widgets/base",
            "_model_module_version": "1.2.0",
            "_model_name": "LayoutModel",
            "_view_count": null,
            "_view_module": "@jupyter-widgets/base",
            "_view_module_version": "1.2.0",
            "_view_name": "LayoutView",
            "align_content": null,
            "align_items": null,
            "align_self": null,
            "border": null,
            "bottom": null,
            "display": null,
            "flex": null,
            "flex_flow": null,
            "grid_area": null,
            "grid_auto_columns": null,
            "grid_auto_flow": null,
            "grid_auto_rows": null,
            "grid_column": null,
            "grid_gap": null,
            "grid_row": null,
            "grid_template_areas": null,
            "grid_template_columns": null,
            "grid_template_rows": null,
            "height": null,
            "justify_content": null,
            "justify_items": null,
            "left": null,
            "margin": null,
            "max_height": null,
            "max_width": null,
            "min_height": null,
            "min_width": null,
            "object_fit": null,
            "object_position": null,
            "order": null,
            "overflow": null,
            "overflow_x": null,
            "overflow_y": null,
            "padding": null,
            "right": null,
            "top": null,
            "visibility": null,
            "width": null
          }
        },
        "2970b1af38a248f9a7472fc48b9f2ba6": {
          "model_module": "@jupyter-widgets/controls",
          "model_name": "ProgressStyleModel",
          "model_module_version": "1.5.0",
          "state": {
            "_model_module": "@jupyter-widgets/controls",
            "_model_module_version": "1.5.0",
            "_model_name": "ProgressStyleModel",
            "_view_count": null,
            "_view_module": "@jupyter-widgets/base",
            "_view_module_version": "1.2.0",
            "_view_name": "StyleView",
            "bar_color": null,
            "description_width": ""
          }
        },
        "0f2abfca05314d139355c5a83aa5f48a": {
          "model_module": "@jupyter-widgets/base",
          "model_name": "LayoutModel",
          "model_module_version": "1.2.0",
          "state": {
            "_model_module": "@jupyter-widgets/base",
            "_model_module_version": "1.2.0",
            "_model_name": "LayoutModel",
            "_view_count": null,
            "_view_module": "@jupyter-widgets/base",
            "_view_module_version": "1.2.0",
            "_view_name": "LayoutView",
            "align_content": null,
            "align_items": null,
            "align_self": null,
            "border": null,
            "bottom": null,
            "display": null,
            "flex": null,
            "flex_flow": null,
            "grid_area": null,
            "grid_auto_columns": null,
            "grid_auto_flow": null,
            "grid_auto_rows": null,
            "grid_column": null,
            "grid_gap": null,
            "grid_row": null,
            "grid_template_areas": null,
            "grid_template_columns": null,
            "grid_template_rows": null,
            "height": null,
            "justify_content": null,
            "justify_items": null,
            "left": null,
            "margin": null,
            "max_height": null,
            "max_width": null,
            "min_height": null,
            "min_width": null,
            "object_fit": null,
            "object_position": null,
            "order": null,
            "overflow": null,
            "overflow_x": null,
            "overflow_y": null,
            "padding": null,
            "right": null,
            "top": null,
            "visibility": null,
            "width": null
          }
        },
        "b8c9206463e04096975fc94c88c17342": {
          "model_module": "@jupyter-widgets/controls",
          "model_name": "DescriptionStyleModel",
          "model_module_version": "1.5.0",
          "state": {
            "_model_module": "@jupyter-widgets/controls",
            "_model_module_version": "1.5.0",
            "_model_name": "DescriptionStyleModel",
            "_view_count": null,
            "_view_module": "@jupyter-widgets/base",
            "_view_module_version": "1.2.0",
            "_view_name": "StyleView",
            "description_width": ""
          }
        },
        "1ed8f6ea0a724adabc1a2f791f5ca97f": {
          "model_module": "@jupyter-widgets/controls",
          "model_name": "HBoxModel",
          "model_module_version": "1.5.0",
          "state": {
            "_dom_classes": [],
            "_model_module": "@jupyter-widgets/controls",
            "_model_module_version": "1.5.0",
            "_model_name": "HBoxModel",
            "_view_count": null,
            "_view_module": "@jupyter-widgets/controls",
            "_view_module_version": "1.5.0",
            "_view_name": "HBoxView",
            "box_style": "",
            "children": [
              "IPY_MODEL_6b0d624ff6a744fb9f34c4b8e5cf1aaf",
              "IPY_MODEL_a6d2b89dcdeb4e2aa7089b0f2d21f4a5",
              "IPY_MODEL_716b8ca27c1f4501b592bd0096c03a27"
            ],
            "layout": "IPY_MODEL_1bbaa1032fb4441a8534f1dcee358eed"
          }
        },
        "6b0d624ff6a744fb9f34c4b8e5cf1aaf": {
          "model_module": "@jupyter-widgets/controls",
          "model_name": "HTMLModel",
          "model_module_version": "1.5.0",
          "state": {
            "_dom_classes": [],
            "_model_module": "@jupyter-widgets/controls",
            "_model_module_version": "1.5.0",
            "_model_name": "HTMLModel",
            "_view_count": null,
            "_view_module": "@jupyter-widgets/controls",
            "_view_module_version": "1.5.0",
            "_view_name": "HTMLView",
            "description": "",
            "description_tooltip": null,
            "layout": "IPY_MODEL_66fbefd009024e1aa78a62553a8efe7a",
            "placeholder": "​",
            "style": "IPY_MODEL_26e66785b5464cf1914cea7ce39a122a",
            "value": "Downloading: 100%"
          }
        },
        "a6d2b89dcdeb4e2aa7089b0f2d21f4a5": {
          "model_module": "@jupyter-widgets/controls",
          "model_name": "FloatProgressModel",
          "model_module_version": "1.5.0",
          "state": {
            "_dom_classes": [],
            "_model_module": "@jupyter-widgets/controls",
            "_model_module_version": "1.5.0",
            "_model_name": "FloatProgressModel",
            "_view_count": null,
            "_view_module": "@jupyter-widgets/controls",
            "_view_module_version": "1.5.0",
            "_view_name": "ProgressView",
            "bar_style": "success",
            "description": "",
            "description_tooltip": null,
            "layout": "IPY_MODEL_32223d2f8ffb470b817064a31c755b46",
            "max": 363423424,
            "min": 0,
            "orientation": "horizontal",
            "style": "IPY_MODEL_444424afbdae40f38afcac75c5c8c633",
            "value": 363423424
          }
        },
        "716b8ca27c1f4501b592bd0096c03a27": {
          "model_module": "@jupyter-widgets/controls",
          "model_name": "HTMLModel",
          "model_module_version": "1.5.0",
          "state": {
            "_dom_classes": [],
            "_model_module": "@jupyter-widgets/controls",
            "_model_module_version": "1.5.0",
            "_model_name": "HTMLModel",
            "_view_count": null,
            "_view_module": "@jupyter-widgets/controls",
            "_view_module_version": "1.5.0",
            "_view_name": "HTMLView",
            "description": "",
            "description_tooltip": null,
            "layout": "IPY_MODEL_8f77000715974f78859fa25ed629efed",
            "placeholder": "​",
            "style": "IPY_MODEL_1e6b300d4cbe4031b0d64b3184922c5f",
            "value": " 347M/347M [00:06&lt;00:00, 59.4MB/s]"
          }
        },
        "1bbaa1032fb4441a8534f1dcee358eed": {
          "model_module": "@jupyter-widgets/base",
          "model_name": "LayoutModel",
          "model_module_version": "1.2.0",
          "state": {
            "_model_module": "@jupyter-widgets/base",
            "_model_module_version": "1.2.0",
            "_model_name": "LayoutModel",
            "_view_count": null,
            "_view_module": "@jupyter-widgets/base",
            "_view_module_version": "1.2.0",
            "_view_name": "LayoutView",
            "align_content": null,
            "align_items": null,
            "align_self": null,
            "border": null,
            "bottom": null,
            "display": null,
            "flex": null,
            "flex_flow": null,
            "grid_area": null,
            "grid_auto_columns": null,
            "grid_auto_flow": null,
            "grid_auto_rows": null,
            "grid_column": null,
            "grid_gap": null,
            "grid_row": null,
            "grid_template_areas": null,
            "grid_template_columns": null,
            "grid_template_rows": null,
            "height": null,
            "justify_content": null,
            "justify_items": null,
            "left": null,
            "margin": null,
            "max_height": null,
            "max_width": null,
            "min_height": null,
            "min_width": null,
            "object_fit": null,
            "object_position": null,
            "order": null,
            "overflow": null,
            "overflow_x": null,
            "overflow_y": null,
            "padding": null,
            "right": null,
            "top": null,
            "visibility": null,
            "width": null
          }
        },
        "66fbefd009024e1aa78a62553a8efe7a": {
          "model_module": "@jupyter-widgets/base",
          "model_name": "LayoutModel",
          "model_module_version": "1.2.0",
          "state": {
            "_model_module": "@jupyter-widgets/base",
            "_model_module_version": "1.2.0",
            "_model_name": "LayoutModel",
            "_view_count": null,
            "_view_module": "@jupyter-widgets/base",
            "_view_module_version": "1.2.0",
            "_view_name": "LayoutView",
            "align_content": null,
            "align_items": null,
            "align_self": null,
            "border": null,
            "bottom": null,
            "display": null,
            "flex": null,
            "flex_flow": null,
            "grid_area": null,
            "grid_auto_columns": null,
            "grid_auto_flow": null,
            "grid_auto_rows": null,
            "grid_column": null,
            "grid_gap": null,
            "grid_row": null,
            "grid_template_areas": null,
            "grid_template_columns": null,
            "grid_template_rows": null,
            "height": null,
            "justify_content": null,
            "justify_items": null,
            "left": null,
            "margin": null,
            "max_height": null,
            "max_width": null,
            "min_height": null,
            "min_width": null,
            "object_fit": null,
            "object_position": null,
            "order": null,
            "overflow": null,
            "overflow_x": null,
            "overflow_y": null,
            "padding": null,
            "right": null,
            "top": null,
            "visibility": null,
            "width": null
          }
        },
        "26e66785b5464cf1914cea7ce39a122a": {
          "model_module": "@jupyter-widgets/controls",
          "model_name": "DescriptionStyleModel",
          "model_module_version": "1.5.0",
          "state": {
            "_model_module": "@jupyter-widgets/controls",
            "_model_module_version": "1.5.0",
            "_model_name": "DescriptionStyleModel",
            "_view_count": null,
            "_view_module": "@jupyter-widgets/base",
            "_view_module_version": "1.2.0",
            "_view_name": "StyleView",
            "description_width": ""
          }
        },
        "32223d2f8ffb470b817064a31c755b46": {
          "model_module": "@jupyter-widgets/base",
          "model_name": "LayoutModel",
          "model_module_version": "1.2.0",
          "state": {
            "_model_module": "@jupyter-widgets/base",
            "_model_module_version": "1.2.0",
            "_model_name": "LayoutModel",
            "_view_count": null,
            "_view_module": "@jupyter-widgets/base",
            "_view_module_version": "1.2.0",
            "_view_name": "LayoutView",
            "align_content": null,
            "align_items": null,
            "align_self": null,
            "border": null,
            "bottom": null,
            "display": null,
            "flex": null,
            "flex_flow": null,
            "grid_area": null,
            "grid_auto_columns": null,
            "grid_auto_flow": null,
            "grid_auto_rows": null,
            "grid_column": null,
            "grid_gap": null,
            "grid_row": null,
            "grid_template_areas": null,
            "grid_template_columns": null,
            "grid_template_rows": null,
            "height": null,
            "justify_content": null,
            "justify_items": null,
            "left": null,
            "margin": null,
            "max_height": null,
            "max_width": null,
            "min_height": null,
            "min_width": null,
            "object_fit": null,
            "object_position": null,
            "order": null,
            "overflow": null,
            "overflow_x": null,
            "overflow_y": null,
            "padding": null,
            "right": null,
            "top": null,
            "visibility": null,
            "width": null
          }
        },
        "444424afbdae40f38afcac75c5c8c633": {
          "model_module": "@jupyter-widgets/controls",
          "model_name": "ProgressStyleModel",
          "model_module_version": "1.5.0",
          "state": {
            "_model_module": "@jupyter-widgets/controls",
            "_model_module_version": "1.5.0",
            "_model_name": "ProgressStyleModel",
            "_view_count": null,
            "_view_module": "@jupyter-widgets/base",
            "_view_module_version": "1.2.0",
            "_view_name": "StyleView",
            "bar_color": null,
            "description_width": ""
          }
        },
        "8f77000715974f78859fa25ed629efed": {
          "model_module": "@jupyter-widgets/base",
          "model_name": "LayoutModel",
          "model_module_version": "1.2.0",
          "state": {
            "_model_module": "@jupyter-widgets/base",
            "_model_module_version": "1.2.0",
            "_model_name": "LayoutModel",
            "_view_count": null,
            "_view_module": "@jupyter-widgets/base",
            "_view_module_version": "1.2.0",
            "_view_name": "LayoutView",
            "align_content": null,
            "align_items": null,
            "align_self": null,
            "border": null,
            "bottom": null,
            "display": null,
            "flex": null,
            "flex_flow": null,
            "grid_area": null,
            "grid_auto_columns": null,
            "grid_auto_flow": null,
            "grid_auto_rows": null,
            "grid_column": null,
            "grid_gap": null,
            "grid_row": null,
            "grid_template_areas": null,
            "grid_template_columns": null,
            "grid_template_rows": null,
            "height": null,
            "justify_content": null,
            "justify_items": null,
            "left": null,
            "margin": null,
            "max_height": null,
            "max_width": null,
            "min_height": null,
            "min_width": null,
            "object_fit": null,
            "object_position": null,
            "order": null,
            "overflow": null,
            "overflow_x": null,
            "overflow_y": null,
            "padding": null,
            "right": null,
            "top": null,
            "visibility": null,
            "width": null
          }
        },
        "1e6b300d4cbe4031b0d64b3184922c5f": {
          "model_module": "@jupyter-widgets/controls",
          "model_name": "DescriptionStyleModel",
          "model_module_version": "1.5.0",
          "state": {
            "_model_module": "@jupyter-widgets/controls",
            "_model_module_version": "1.5.0",
            "_model_name": "DescriptionStyleModel",
            "_view_count": null,
            "_view_module": "@jupyter-widgets/base",
            "_view_module_version": "1.2.0",
            "_view_name": "StyleView",
            "description_width": ""
          }
        }
      }
    }
  },
  "cells": [
    {
      "cell_type": "markdown",
      "metadata": {
        "id": "view-in-github",
        "colab_type": "text"
      },
      "source": [
        "<a href=\"https://colab.research.google.com/github/anushka-code/Code-Smell-Classification/blob/main/Model3.ipynb\" target=\"_parent\"><img src=\"https://colab.research.google.com/assets/colab-badge.svg\" alt=\"Open In Colab\"/></a>"
      ]
    },
    {
      "cell_type": "markdown",
      "source": [
        "###Importing Libraries"
      ],
      "metadata": {
        "id": "cyc0-aFbWlfU"
      }
    },
    {
      "cell_type": "code",
      "source": [
        "!pip install transformers"
      ],
      "metadata": {
        "colab": {
          "base_uri": "https://localhost:8080/"
        },
        "id": "AdzOqFCUWy4g",
        "outputId": "e17cdd8a-283b-416e-e23c-ee40bce808bc"
      },
      "execution_count": 1,
      "outputs": [
        {
          "output_type": "stream",
          "name": "stdout",
          "text": [
            "Collecting transformers\n",
            "  Downloading transformers-4.19.0-py3-none-any.whl (4.2 MB)\n",
            "\u001b[K     |████████████████████████████████| 4.2 MB 15.3 MB/s \n",
            "\u001b[?25hRequirement already satisfied: tqdm>=4.27 in /usr/local/lib/python3.7/dist-packages (from transformers) (4.64.0)\n",
            "Requirement already satisfied: numpy>=1.17 in /usr/local/lib/python3.7/dist-packages (from transformers) (1.21.6)\n",
            "Requirement already satisfied: regex!=2019.12.17 in /usr/local/lib/python3.7/dist-packages (from transformers) (2019.12.20)\n",
            "Requirement already satisfied: importlib-metadata in /usr/local/lib/python3.7/dist-packages (from transformers) (4.11.3)\n",
            "Requirement already satisfied: packaging>=20.0 in /usr/local/lib/python3.7/dist-packages (from transformers) (21.3)\n",
            "Collecting huggingface-hub<1.0,>=0.1.0\n",
            "  Downloading huggingface_hub-0.6.0-py3-none-any.whl (84 kB)\n",
            "\u001b[K     |████████████████████████████████| 84 kB 4.4 MB/s \n",
            "\u001b[?25hRequirement already satisfied: requests in /usr/local/lib/python3.7/dist-packages (from transformers) (2.23.0)\n",
            "Collecting pyyaml>=5.1\n",
            "  Downloading PyYAML-6.0-cp37-cp37m-manylinux_2_5_x86_64.manylinux1_x86_64.manylinux_2_12_x86_64.manylinux2010_x86_64.whl (596 kB)\n",
            "\u001b[K     |████████████████████████████████| 596 kB 59.3 MB/s \n",
            "\u001b[?25hRequirement already satisfied: filelock in /usr/local/lib/python3.7/dist-packages (from transformers) (3.6.0)\n",
            "Collecting tokenizers!=0.11.3,<0.13,>=0.11.1\n",
            "  Downloading tokenizers-0.12.1-cp37-cp37m-manylinux_2_12_x86_64.manylinux2010_x86_64.whl (6.6 MB)\n",
            "\u001b[K     |████████████████████████████████| 6.6 MB 57.3 MB/s \n",
            "\u001b[?25hRequirement already satisfied: typing-extensions>=3.7.4.3 in /usr/local/lib/python3.7/dist-packages (from huggingface-hub<1.0,>=0.1.0->transformers) (4.2.0)\n",
            "Requirement already satisfied: pyparsing!=3.0.5,>=2.0.2 in /usr/local/lib/python3.7/dist-packages (from packaging>=20.0->transformers) (3.0.8)\n",
            "Requirement already satisfied: zipp>=0.5 in /usr/local/lib/python3.7/dist-packages (from importlib-metadata->transformers) (3.8.0)\n",
            "Requirement already satisfied: urllib3!=1.25.0,!=1.25.1,<1.26,>=1.21.1 in /usr/local/lib/python3.7/dist-packages (from requests->transformers) (1.24.3)\n",
            "Requirement already satisfied: chardet<4,>=3.0.2 in /usr/local/lib/python3.7/dist-packages (from requests->transformers) (3.0.4)\n",
            "Requirement already satisfied: certifi>=2017.4.17 in /usr/local/lib/python3.7/dist-packages (from requests->transformers) (2021.10.8)\n",
            "Requirement already satisfied: idna<3,>=2.5 in /usr/local/lib/python3.7/dist-packages (from requests->transformers) (2.10)\n",
            "Installing collected packages: pyyaml, tokenizers, huggingface-hub, transformers\n",
            "  Attempting uninstall: pyyaml\n",
            "    Found existing installation: PyYAML 3.13\n",
            "    Uninstalling PyYAML-3.13:\n",
            "      Successfully uninstalled PyYAML-3.13\n",
            "Successfully installed huggingface-hub-0.6.0 pyyaml-6.0 tokenizers-0.12.1 transformers-4.19.0\n"
          ]
        }
      ]
    },
    {
      "cell_type": "code",
      "execution_count": 2,
      "metadata": {
        "id": "-LPn72lgWarx"
      },
      "outputs": [],
      "source": [
        "import numpy as np\n",
        "import pandas as pd\n",
        "import tensorflow as tf\n",
        "from tensorflow import keras\n",
        "from keras.models import Functional, Model\n",
        "from keras.layers import Input, Convolution1D, MaxPooling1D, Flatten, Dense, concatenate\n",
        "import sklearn\n",
        "from sklearn.preprocessing import MinMaxScaler\n",
        "import imblearn\n",
        "from imblearn.over_sampling import SMOTE\n",
        "import nltk \n",
        "from nltk.tokenize import RegexpTokenizer\n",
        "import re\n",
        "import transformers\n",
        "from transformers import TFDistilBertModel, DistilBertConfig, DistilBertTokenizerFast"
      ]
    },
    {
      "cell_type": "markdown",
      "source": [
        "###Mounting Google Drive"
      ],
      "metadata": {
        "id": "LKvnm6EQX7Ww"
      }
    },
    {
      "cell_type": "code",
      "source": [
        "from pydrive.auth import GoogleAuth\n",
        "from pydrive.drive import GoogleDrive\n",
        "from google.colab import auth\n",
        "from oauth2client.client import GoogleCredentials\n",
        "\n",
        "auth.authenticate_user()\n",
        "gauth = GoogleAuth()\n",
        "gauth.credentials = GoogleCredentials.get_application_default()\n",
        "drive = GoogleDrive(gauth)"
      ],
      "metadata": {
        "id": "m_-Fg17ZX5PP"
      },
      "execution_count": 3,
      "outputs": []
    },
    {
      "cell_type": "markdown",
      "source": [
        "###Dataset Loader"
      ],
      "metadata": {
        "id": "ZX8XUq6vYEg3"
      }
    },
    {
      "cell_type": "code",
      "source": [
        "def DataLoader(link, name_of_file):\n",
        "  id = link.split(\"/\")[-2]\n",
        "  downloaded = drive.CreateFile({'id':id}) \n",
        "  downloaded.GetContentFile(name_of_file)\n",
        "  dataframe = pd.read_csv(name_of_file)\n",
        "  return dataframe\n",
        "\n",
        "\n",
        "link1 = 'https://drive.google.com/file/d/1EfbAqgr7i9h4yFwEoU3igG34Gt48l6WT/view?usp=sharing'\n",
        "link2 = 'https://drive.google.com/file/d/1Ya1OMWsz1yyXAaZheIck-roX0M9UWiqg/view?usp=sharing'\n",
        "link6 = 'https://drive.google.com/file/d/1rLkJAwHkBAAkHMp2L1Y1AzuniIZdyB7x/view?usp=sharing'\n",
        "\n",
        "name1 = 'long_parameters_list_structural.csv'\n",
        "name2 = 'switch_statements_structural.csv'\n",
        "name6 = 'semantic_final.csv'\n",
        "\n",
        "df_lp = DataLoader(link1, name1)\n",
        "df_ss = DataLoader(link2, name2)\n",
        "df_semantic = DataLoader(link6,name6)"
      ],
      "metadata": {
        "id": "nkTid7aWYDvk"
      },
      "execution_count": 4,
      "outputs": []
    },
    {
      "cell_type": "markdown",
      "source": [
        "###Data Pre-Processing of Structural Dataset\n"
      ],
      "metadata": {
        "id": "DV276xNnYsYT"
      }
    },
    {
      "cell_type": "code",
      "source": [
        "def PrePro(last_column, dataframe):\n",
        "  dataframe.rename(columns = {last_column :'is_code_smell'}, inplace = True) #rename column\n",
        "  dataframe['is_code_smell'] = dataframe[\"is_code_smell\"].astype(int) #change boolean labels to int labels\n",
        "  Y_part = dataframe.iloc[:,-1:]\n",
        "  X_part = dataframe.iloc[:,:56]\n",
        "  X_part = X_part.replace(to_replace =[\"?\"], value = np.nan) #replace non existing values with null\n",
        "  X_part = X_part.astype(float) #change datatype of features of X as float\n",
        "  return X_part,Y_part\n",
        "\n",
        "X_lp, Y_lp = PrePro('is_long_parameters_list',df_lp)\n",
        "X_ss, Y_ss = PrePro('is_switch_statements',df_ss)"
      ],
      "metadata": {
        "id": "IuDSChSSYtDn"
      },
      "execution_count": 5,
      "outputs": []
    },
    {
      "cell_type": "code",
      "source": [
        "def MeanforNaN(dataframe):   #function to fill null spaces with column mean \n",
        "  column_means = dataframe.mean()\n",
        "  dataframe = dataframe.fillna(column_means)\n",
        "  return dataframe\n",
        "\n",
        "X_lp = MeanforNaN(X_lp)\n",
        "X_ss = MeanforNaN(X_ss)"
      ],
      "metadata": {
        "id": "n16XB1OAYvca"
      },
      "execution_count": 6,
      "outputs": []
    },
    {
      "cell_type": "code",
      "source": [
        "def ConCat(df1,df2): #concatenate code smell datasets\n",
        "  code_smells = [df1,df2]\n",
        "  joint = pd.concat(code_smells)\n",
        "  return joint\n",
        "\n",
        "X_train = ConCat(X_lp,X_ss)\n",
        "Y_train = ConCat(Y_lp,Y_ss)"
      ],
      "metadata": {
        "id": "_teJ3lCFYxpF"
      },
      "execution_count": 7,
      "outputs": []
    },
    {
      "cell_type": "code",
      "source": [
        "def Normalize(dataframe): #apply MinMax normalisation to fit the values between 0 to 1\n",
        "  scaler = MinMaxScaler()\n",
        "  model = scaler.fit(dataframe)\n",
        "  scaled_data = model.transform(dataframe)\n",
        "  return scaled_data\n",
        "\n",
        "X_sample = Normalize(X_train)\n",
        "Y_sample = Y_train.to_numpy(dtype='int64', copy='True')"
      ],
      "metadata": {
        "id": "CA60jlL8Y0Gm"
      },
      "execution_count": 8,
      "outputs": []
    },
    {
      "cell_type": "markdown",
      "source": [
        "###Synthetic Minority Oversampling Technique (SMOTE) Algo for Imbalanced Datasets"
      ],
      "metadata": {
        "id": "qSohfYJJY4y-"
      }
    },
    {
      "cell_type": "code",
      "source": [
        "def Oversample(X_data,Y_data): # Using Smote obtain a 50-50 balanced dataset \n",
        "\n",
        "  sm = SMOTE(random_state = 2)\n",
        "  X_train_res, Y_train_res = sm.fit_resample(X_data, Y_data.ravel())\n",
        "  return X_train_res, Y_train_res\n",
        "\n",
        "X_new, Y_new = Oversample(X_sample,Y_sample)"
      ],
      "metadata": {
        "id": "EbSb_scKY4d6"
      },
      "execution_count": 9,
      "outputs": []
    },
    {
      "cell_type": "markdown",
      "source": [
        "###Text Pre Processing"
      ],
      "metadata": {
        "id": "BVYBwucyZEUl"
      }
    },
    {
      "cell_type": "code",
      "source": [
        "def PrePro2(dataframe):\n",
        "  X_part = dataframe.iloc[:,:-1]  \n",
        "  return X_part\n",
        "\n",
        "X_sem= PrePro2(df_semantic) #separate as X and Y columns"
      ],
      "metadata": {
        "id": "u4lKyHExY9AG"
      },
      "execution_count": 10,
      "outputs": []
    },
    {
      "cell_type": "code",
      "source": [
        "def ToList(dataframe, string): #converts pandas.core.series.Series to list of lists\n",
        "  new_column = dataframe[string].tolist()\n",
        "  return list(map(lambda x:[x], new_column))\n",
        "\n",
        "class_words = ToList(X_sem, 'class')\n",
        "method_words = ToList(X_sem, 'method')"
      ],
      "metadata": {
        "id": "-1ljuu1FZG8F"
      },
      "execution_count": 11,
      "outputs": []
    },
    {
      "cell_type": "markdown",
      "source": [
        "### Tokenization"
      ],
      "metadata": {
        "id": "rxrCYMJuZLNa"
      }
    },
    {
      "cell_type": "code",
      "source": [
        "def TokenizeGroups(text): #tokenizes as per CamelCase RegEx and converts to lowercase\n",
        "  tokenizer = RegexpTokenizer('[a-zA-Z](?:[a-z]+|[A-Z]*(?=[A-Z]|$))') # RegEx pattern for CamelCase \n",
        "  useful_text = tokenizer.tokenize(text) \n",
        "  useful_text = [x.lower() for x in useful_text]\n",
        "  return useful_text"
      ],
      "metadata": {
        "id": "RiDrg5GNZJXZ"
      },
      "execution_count": 12,
      "outputs": []
    },
    {
      "cell_type": "code",
      "source": [
        "def LoopOver(list): #loops over all the samples to tokenize all the strings in each word group\n",
        "  for i in range(0,1146):\n",
        "    list[i] = TokenizeGroups(list[i][0])\n",
        "    i=i+1\n",
        "  return list\n",
        "\n",
        "class_words_sem = LoopOver(class_words)\n",
        "method_words_sem = LoopOver(method_words)"
      ],
      "metadata": {
        "id": "haDhWLKgZOqw"
      },
      "execution_count": 13,
      "outputs": []
    },
    {
      "cell_type": "code",
      "source": [
        "def WordList(list1,list2): #concatenate the words of each project, package, class and method\n",
        "  final_list = []\n",
        "  for i in range(0,1146):\n",
        "    x = list1[i] + list2[i]\n",
        "    final_list.append(x)\n",
        "  res = [' '.join(ele) for ele in final_list]\n",
        "  return res\n",
        "\n",
        "word_groups = WordList(class_words_sem, method_words_sem)"
      ],
      "metadata": {
        "id": "n98ukwytZQy8"
      },
      "execution_count": 14,
      "outputs": []
    },
    {
      "cell_type": "markdown",
      "source": [
        "###distilBERT pretrained + CNN"
      ],
      "metadata": {
        "id": "qasnvwNTZoeS"
      }
    },
    {
      "cell_type": "code",
      "source": [
        "params = {'MAX_LENGTH': 30,\n",
        "          'EPOCHS': 50,\n",
        "          'LEARNING_RATE': 5e-5,\n",
        "          'FT_EPOCHS': 5,\n",
        "          'OPTIMIZER': 'adam',\n",
        "          'FT_LEARNING_RATE': 2e-5,\n",
        "          'BATCH_SIZE': 64,\n",
        "          'NUM_STEPS': len(X_train.index) // 64,\n",
        "          'DISTILBERT_DROPOUT': 0.2,\n",
        "          'DISTILBERT_ATT_DROPOUT': 0.2,\n",
        "          'LAYER_DROPOUT': 0.2,\n",
        "          'KERNEL_INITIALIZER': 'GlorotNormal',\n",
        "          'BIAS_INITIALIZER': 'zeros',\n",
        "          'POS_PROBA_THRESHOLD': 0.5,          \n",
        "          'ADDED_LAYERS': 'Dense 256, Dense 32, Dropout 0.2',\n",
        "          'LR_SCHEDULE': '5e-5 for 6 epochs, Fine-tune w/ adam for 6 epochs @2e-5',\n",
        "          'FREEZING': 'All DistilBERT layers frozen for 6 epochs, then unfrozen for 6',\n",
        "          'CALLBACKS': '[early_stopping monitoring val_loss w/ patience=0]',\n",
        "          'RANDOM_STATE':42\n",
        "          }"
      ],
      "metadata": {
        "id": "yp37udmyZmu5"
      },
      "execution_count": 15,
      "outputs": []
    },
    {
      "cell_type": "code",
      "source": [
        "def batch_encode(tokenizer, texts, batch_size=191, max_length=params['MAX_LENGTH']):\n",
        "    input_ids = []\n",
        "    attention_mask = []\n",
        "    \n",
        "    for i in range(0, len(texts), batch_size):\n",
        "        batch = texts[i:i+batch_size]\n",
        "        inputs = tokenizer.batch_encode_plus(batch,\n",
        "                                             max_length=max_length,\n",
        "                                             padding='longest',\n",
        "                                             truncation=True,\n",
        "                                             return_attention_mask=True,\n",
        "                                             return_token_type_ids=False\n",
        "                                             )\n",
        "        input_ids.extend(inputs['input_ids'])\n",
        "        attention_mask.extend(inputs['attention_mask'])\n",
        "    \n",
        "    \n",
        "    return tf.convert_to_tensor(input_ids), tf.convert_to_tensor(attention_mask)"
      ],
      "metadata": {
        "id": "ybwY6cKEZwv-"
      },
      "execution_count": 16,
      "outputs": []
    },
    {
      "cell_type": "code",
      "source": [
        "tokenizer = DistilBertTokenizerFast.from_pretrained('distilbert-base-uncased')"
      ],
      "metadata": {
        "colab": {
          "base_uri": "https://localhost:8080/",
          "height": 145,
          "referenced_widgets": [
            "91b49d9af10d49c796f38ab7c72395a6",
            "99d46d0edc0f4cecb3d7201476a6a5bd",
            "e92bc48be02547178124323373307a84",
            "66838f8a7e2942229d47a1dda9032ae7",
            "9560afbeb1bd4e3d9ce40e1317448b6c",
            "665280918a7d4c408efef9bfc5685d91",
            "b3ce2a6454fd48eea59f8312ab227231",
            "e813494e5e76442b9906fb58bf139d0e",
            "711097b50bb4493d9c2317138806e3f4",
            "0416e24cced541dbbedbe952bb1f7017",
            "f1464603371b43a9813f7bff7890e21e",
            "4d5fe0688b9c461aaa9c646f68441682",
            "5182e11860d947438df5dbe57abbe456",
            "c35c136dafaa4f189619fc93f43736aa",
            "ad7ae83dc1ce4f83adcbfbdee4d47f2d",
            "8c3d3a6f917546c0863258a9fb445ee5",
            "bb81c707de5848d2a2ba9c1d4e0f8153",
            "1b53edfe91d841dfb7bae214b7e6f61b",
            "a27abcd47f51443c8e593419f1e61f56",
            "c2201d874d3141cfa21b1e528d5a15bb",
            "bb808b743309495997f5d32978e4750b",
            "1717be06b76a41679582ab577f6a545c",
            "9db2f4a85a4f40d49fe039600dec0029",
            "a3acc213546346e1bc335ab49c3117d1",
            "fb5454e7935d4d80a428a81672622e34",
            "35ce211f2f0948b698981e93b763a2c3",
            "4f5c262abe094a1d8a26a07a7a87aff6",
            "856915746f4b4e0bb8f15b3075312946",
            "c7be478548fb4ab096659342329c5c56",
            "6d13618d8c7e47d0a919a20c66a09ac6",
            "37d70ccbb1574c489ceca8b90d3c91c8",
            "7d9a372c56b3404ab4e81565aaf3b5e4",
            "ec2e38cd63654a1aa05fd50a61cdc184",
            "6437d14ed30a439d9a77515311d91b15",
            "c066c8f9f57945b68269eaf97321683d",
            "efc9955857784a8d99ddf8da0c630c60",
            "fa099a8f69c04368932fe760ef6ee388",
            "38de7ef7752b4ab6a78e57799177e838",
            "6ab439833b0c4d7b8c1b841ad65d2a22",
            "d7943271f565413da53413caca41f2ab",
            "f8b8cef0b4e548cf991d3c98d1201a82",
            "2970b1af38a248f9a7472fc48b9f2ba6",
            "0f2abfca05314d139355c5a83aa5f48a",
            "b8c9206463e04096975fc94c88c17342"
          ]
        },
        "id": "cySn4uLJZz_p",
        "outputId": "afc1d94f-da51-409a-ed2c-2baf01931e9b"
      },
      "execution_count": 17,
      "outputs": [
        {
          "output_type": "display_data",
          "data": {
            "text/plain": [
              "Downloading:   0%|          | 0.00/28.0 [00:00<?, ?B/s]"
            ],
            "application/vnd.jupyter.widget-view+json": {
              "version_major": 2,
              "version_minor": 0,
              "model_id": "91b49d9af10d49c796f38ab7c72395a6"
            }
          },
          "metadata": {}
        },
        {
          "output_type": "display_data",
          "data": {
            "text/plain": [
              "Downloading:   0%|          | 0.00/226k [00:00<?, ?B/s]"
            ],
            "application/vnd.jupyter.widget-view+json": {
              "version_major": 2,
              "version_minor": 0,
              "model_id": "4d5fe0688b9c461aaa9c646f68441682"
            }
          },
          "metadata": {}
        },
        {
          "output_type": "display_data",
          "data": {
            "text/plain": [
              "Downloading:   0%|          | 0.00/455k [00:00<?, ?B/s]"
            ],
            "application/vnd.jupyter.widget-view+json": {
              "version_major": 2,
              "version_minor": 0,
              "model_id": "9db2f4a85a4f40d49fe039600dec0029"
            }
          },
          "metadata": {}
        },
        {
          "output_type": "display_data",
          "data": {
            "text/plain": [
              "Downloading:   0%|          | 0.00/483 [00:00<?, ?B/s]"
            ],
            "application/vnd.jupyter.widget-view+json": {
              "version_major": 2,
              "version_minor": 0,
              "model_id": "6437d14ed30a439d9a77515311d91b15"
            }
          },
          "metadata": {}
        }
      ]
    },
    {
      "cell_type": "code",
      "source": [
        "X_train_ids, X_train_attention = batch_encode(tokenizer, word_groups)"
      ],
      "metadata": {
        "id": "NFa-fSQcaCbP"
      },
      "execution_count": 18,
      "outputs": []
    },
    {
      "cell_type": "code",
      "source": [
        "distilBERT = TFDistilBertModel.from_pretrained('distilbert-base-uncased', output_hidden_states = True)"
      ],
      "metadata": {
        "colab": {
          "base_uri": "https://localhost:8080/",
          "height": 159,
          "referenced_widgets": [
            "1ed8f6ea0a724adabc1a2f791f5ca97f",
            "6b0d624ff6a744fb9f34c4b8e5cf1aaf",
            "a6d2b89dcdeb4e2aa7089b0f2d21f4a5",
            "716b8ca27c1f4501b592bd0096c03a27",
            "1bbaa1032fb4441a8534f1dcee358eed",
            "66fbefd009024e1aa78a62553a8efe7a",
            "26e66785b5464cf1914cea7ce39a122a",
            "32223d2f8ffb470b817064a31c755b46",
            "444424afbdae40f38afcac75c5c8c633",
            "8f77000715974f78859fa25ed629efed",
            "1e6b300d4cbe4031b0d64b3184922c5f"
          ]
        },
        "id": "Xlc0UKDtaLRx",
        "outputId": "0ec640ff-2165-4bd0-aa55-6281a035788b"
      },
      "execution_count": 19,
      "outputs": [
        {
          "output_type": "display_data",
          "data": {
            "text/plain": [
              "Downloading:   0%|          | 0.00/347M [00:00<?, ?B/s]"
            ],
            "application/vnd.jupyter.widget-view+json": {
              "version_major": 2,
              "version_minor": 0,
              "model_id": "1ed8f6ea0a724adabc1a2f791f5ca97f"
            }
          },
          "metadata": {}
        },
        {
          "output_type": "stream",
          "name": "stderr",
          "text": [
            "Some layers from the model checkpoint at distilbert-base-uncased were not used when initializing TFDistilBertModel: ['vocab_layer_norm', 'vocab_transform', 'activation_13', 'vocab_projector']\n",
            "- This IS expected if you are initializing TFDistilBertModel from the checkpoint of a model trained on another task or with another architecture (e.g. initializing a BertForSequenceClassification model from a BertForPreTraining model).\n",
            "- This IS NOT expected if you are initializing TFDistilBertModel from the checkpoint of a model that you expect to be exactly identical (initializing a BertForSequenceClassification model from a BertForSequenceClassification model).\n",
            "All the layers of TFDistilBertModel were initialized from the model checkpoint at distilbert-base-uncased.\n",
            "If your task is similar to the task the model of the checkpoint was trained on, you can already use TFDistilBertModel for predictions without further training.\n"
          ]
        }
      ]
    },
    {
      "cell_type": "code",
      "source": [
        "for layer in distilBERT.layers:\n",
        "    layer.trainable = False"
      ],
      "metadata": {
        "id": "G-AYoU9zadMZ"
      },
      "execution_count": 20,
      "outputs": []
    },
    {
      "cell_type": "code",
      "source": [
        "output = distilBERT([X_train_ids, X_train_attention])"
      ],
      "metadata": {
        "id": "ks1E8ovQafa3"
      },
      "execution_count": 21,
      "outputs": []
    },
    {
      "cell_type": "code",
      "source": [
        "hidden_states = output[1]"
      ],
      "metadata": {
        "id": "_nCf-OKfbqzJ"
      },
      "execution_count": 22,
      "outputs": []
    },
    {
      "cell_type": "code",
      "source": [
        "tfsentence = []\n",
        "sentence_embeddings = []\n",
        "sentence_emb_arr = []"
      ],
      "metadata": {
        "id": "EMEO-9Qybssq"
      },
      "execution_count": 23,
      "outputs": []
    },
    {
      "cell_type": "code",
      "source": [
        "for i in range(1146):\n",
        "  tfsentence.append(hidden_states[-2][i])"
      ],
      "metadata": {
        "id": "IBhC2-z_buof"
      },
      "execution_count": 24,
      "outputs": []
    },
    {
      "cell_type": "code",
      "source": [
        "for i in range(1146):\n",
        "  samplei = tf.math.reduce_mean(tfsentence[i], axis=0)\n",
        "  sentence_embeddings.append(samplei)"
      ],
      "metadata": {
        "id": "nQfdLFuVbv6z"
      },
      "execution_count": 25,
      "outputs": []
    },
    {
      "cell_type": "code",
      "source": [
        "for i in range(1146):\n",
        "  storei = sentence_embeddings[i]\n",
        "  storearr = storei.numpy()\n",
        "  sentence_emb_arr.append(storearr)"
      ],
      "metadata": {
        "id": "EBMfxW92b1oK"
      },
      "execution_count": 27,
      "outputs": []
    },
    {
      "cell_type": "code",
      "source": [
        "numarr = np.array(sentence_emb_arr)"
      ],
      "metadata": {
        "id": "RqfGFQ7lb2Tu"
      },
      "execution_count": 28,
      "outputs": []
    },
    {
      "cell_type": "code",
      "source": [
        "concat = np.concatenate((numarr, X_new), axis=1)"
      ],
      "metadata": {
        "id": "BJu2pWE6b64O"
      },
      "execution_count": 30,
      "outputs": []
    },
    {
      "cell_type": "code",
      "source": [
        "X_bert = concat.reshape(1146,824,1)"
      ],
      "metadata": {
        "id": "YgGnoy2ib80D"
      },
      "execution_count": 31,
      "outputs": []
    },
    {
      "cell_type": "code",
      "source": [
        "from keras.models import Sequential"
      ],
      "metadata": {
        "id": "SkLbqSzGb_3J"
      },
      "execution_count": 32,
      "outputs": []
    },
    {
      "cell_type": "code",
      "source": [
        "model = Sequential()\n",
        "model.add(Convolution1D(filters=32, kernel_size=3, activation='relu', input_shape=(824,1)))\n",
        "model.add(Convolution1D(filters=64, kernel_size=3, activation='relu'))\n",
        "model.add(Convolution1D(filters=64, kernel_size=3, activation='relu'))\n",
        "model.add(Flatten())\n",
        "model.add(Dense(100, activation='relu'))\n",
        "model.add(Dense(50, activation='relu'))\n",
        "model.add(Dense(25, activation='relu'))\n",
        "model.add(Dense(1, activation='sigmoid'))\n",
        "model.summary()"
      ],
      "metadata": {
        "colab": {
          "base_uri": "https://localhost:8080/"
        },
        "id": "pQi8llhfcELa",
        "outputId": "34b1c00e-eea7-4615-b8ef-129fe225507e"
      },
      "execution_count": 33,
      "outputs": [
        {
          "output_type": "stream",
          "name": "stdout",
          "text": [
            "Model: \"sequential\"\n",
            "_________________________________________________________________\n",
            " Layer (type)                Output Shape              Param #   \n",
            "=================================================================\n",
            " conv1d (Conv1D)             (None, 822, 32)           128       \n",
            "                                                                 \n",
            " conv1d_1 (Conv1D)           (None, 820, 64)           6208      \n",
            "                                                                 \n",
            " conv1d_2 (Conv1D)           (None, 818, 64)           12352     \n",
            "                                                                 \n",
            " flatten (Flatten)           (None, 52352)             0         \n",
            "                                                                 \n",
            " dense (Dense)               (None, 100)               5235300   \n",
            "                                                                 \n",
            " dense_1 (Dense)             (None, 50)                5050      \n",
            "                                                                 \n",
            " dense_2 (Dense)             (None, 25)                1275      \n",
            "                                                                 \n",
            " dense_3 (Dense)             (None, 1)                 26        \n",
            "                                                                 \n",
            "=================================================================\n",
            "Total params: 5,260,339\n",
            "Trainable params: 5,260,339\n",
            "Non-trainable params: 0\n",
            "_________________________________________________________________\n"
          ]
        }
      ]
    },
    {
      "cell_type": "code",
      "source": [
        "model.compile(optimizer='adam',loss='binary_crossentropy', metrics=['accuracy'])"
      ],
      "metadata": {
        "id": "G-CBBa8UcGW_"
      },
      "execution_count": 34,
      "outputs": []
    },
    {
      "cell_type": "code",
      "source": [
        "model.fit(X_bert,Y_new, batch_size=100, epochs=20, validation_split=0.2)"
      ],
      "metadata": {
        "colab": {
          "base_uri": "https://localhost:8080/"
        },
        "id": "7FlpLm-LcQgK",
        "outputId": "05300d75-ca43-405f-f012-43f3c45ea7ef"
      },
      "execution_count": 36,
      "outputs": [
        {
          "output_type": "stream",
          "name": "stdout",
          "text": [
            "Epoch 1/20\n",
            "10/10 [==============================] - 0s 24ms/step - loss: 0.0659 - accuracy: 0.9814 - val_loss: 0.1668 - val_accuracy: 0.9478\n",
            "Epoch 2/20\n",
            "10/10 [==============================] - 0s 17ms/step - loss: 0.0675 - accuracy: 0.9793 - val_loss: 0.2129 - val_accuracy: 0.9435\n",
            "Epoch 3/20\n",
            "10/10 [==============================] - 0s 15ms/step - loss: 0.0358 - accuracy: 0.9891 - val_loss: 0.2476 - val_accuracy: 0.9391\n",
            "Epoch 4/20\n",
            "10/10 [==============================] - 0s 15ms/step - loss: 0.0272 - accuracy: 0.9869 - val_loss: 0.2465 - val_accuracy: 0.9391\n",
            "Epoch 5/20\n",
            "10/10 [==============================] - 0s 14ms/step - loss: 0.0308 - accuracy: 0.9858 - val_loss: 0.3253 - val_accuracy: 0.9391\n",
            "Epoch 6/20\n",
            "10/10 [==============================] - 0s 15ms/step - loss: 0.0203 - accuracy: 0.9924 - val_loss: 0.5214 - val_accuracy: 0.8957\n",
            "Epoch 7/20\n",
            "10/10 [==============================] - 0s 16ms/step - loss: 0.0234 - accuracy: 0.9902 - val_loss: 0.3864 - val_accuracy: 0.9304\n",
            "Epoch 8/20\n",
            "10/10 [==============================] - 0s 15ms/step - loss: 0.0220 - accuracy: 0.9913 - val_loss: 0.3988 - val_accuracy: 0.9304\n",
            "Epoch 9/20\n",
            "10/10 [==============================] - 0s 14ms/step - loss: 0.0225 - accuracy: 0.9891 - val_loss: 0.5260 - val_accuracy: 0.9000\n",
            "Epoch 10/20\n",
            "10/10 [==============================] - 0s 14ms/step - loss: 0.0367 - accuracy: 0.9891 - val_loss: 0.2818 - val_accuracy: 0.9391\n",
            "Epoch 11/20\n",
            "10/10 [==============================] - 0s 14ms/step - loss: 0.0270 - accuracy: 0.9924 - val_loss: 0.4676 - val_accuracy: 0.9174\n",
            "Epoch 12/20\n",
            "10/10 [==============================] - 0s 15ms/step - loss: 0.0264 - accuracy: 0.9902 - val_loss: 0.3532 - val_accuracy: 0.9348\n",
            "Epoch 13/20\n",
            "10/10 [==============================] - 0s 14ms/step - loss: 0.0181 - accuracy: 0.9913 - val_loss: 0.3545 - val_accuracy: 0.9348\n",
            "Epoch 14/20\n",
            "10/10 [==============================] - 0s 15ms/step - loss: 0.0177 - accuracy: 0.9902 - val_loss: 0.4292 - val_accuracy: 0.9174\n",
            "Epoch 15/20\n",
            "10/10 [==============================] - 0s 14ms/step - loss: 0.0182 - accuracy: 0.9913 - val_loss: 0.2625 - val_accuracy: 0.9435\n",
            "Epoch 16/20\n",
            "10/10 [==============================] - 0s 16ms/step - loss: 0.0232 - accuracy: 0.9924 - val_loss: 0.3950 - val_accuracy: 0.9304\n",
            "Epoch 17/20\n",
            "10/10 [==============================] - 0s 14ms/step - loss: 0.0178 - accuracy: 0.9924 - val_loss: 0.4004 - val_accuracy: 0.9304\n",
            "Epoch 18/20\n",
            "10/10 [==============================] - 0s 16ms/step - loss: 0.0148 - accuracy: 0.9956 - val_loss: 0.4809 - val_accuracy: 0.9174\n",
            "Epoch 19/20\n",
            "10/10 [==============================] - 0s 14ms/step - loss: 0.0214 - accuracy: 0.9913 - val_loss: 0.3967 - val_accuracy: 0.9261\n",
            "Epoch 20/20\n",
            "10/10 [==============================] - 0s 14ms/step - loss: 0.0277 - accuracy: 0.9902 - val_loss: 0.5034 - val_accuracy: 0.9130\n"
          ]
        },
        {
          "output_type": "execute_result",
          "data": {
            "text/plain": [
              "<keras.callbacks.History at 0x7f612a114ad0>"
            ]
          },
          "metadata": {},
          "execution_count": 36
        }
      ]
    }
  ]
}