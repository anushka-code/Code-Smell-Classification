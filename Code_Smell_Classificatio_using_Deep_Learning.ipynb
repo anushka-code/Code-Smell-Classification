{
  "nbformat": 4,
  "nbformat_minor": 0,
  "metadata": {
    "colab": {
      "name": "Code_Smell_Classificatio_using_Deep_Learning.ipynb",
      "provenance": [],
      "collapsed_sections": [],
      "mount_file_id": "1oLm38-bOBa5vl7NZmwvQngGlyP2wpVDZ",
      "authorship_tag": "ABX9TyMo9PbqFZZxzT/qrQ5ovz+L",
      "include_colab_link": true
    },
    "kernelspec": {
      "name": "python3",
      "display_name": "Python 3"
    },
    "language_info": {
      "name": "python"
    }
  },
  "cells": [
    {
      "cell_type": "markdown",
      "metadata": {
        "id": "view-in-github",
        "colab_type": "text"
      },
      "source": [
        "<a href=\"https://colab.research.google.com/github/anushka-code/Code-Smell-Classification/blob/main/Code_Smell_Classificatio_using_Deep_Learning.ipynb\" target=\"_parent\"><img src=\"https://colab.research.google.com/assets/colab-badge.svg\" alt=\"Open In Colab\"/></a>"
      ]
    },
    {
      "cell_type": "markdown",
      "source": [
        "##Code Smell Detection (Smelly/Non Smelly) using Structural & Semantic Features \n",
        "\n",
        "##Code Smells Targetted: \n",
        "\n",
        "\n",
        "1.   Long Parameters List\n",
        "2.   Switch Statements\n",
        "\n",
        "\n",
        "\n",
        "\n",
        "\n"
      ],
      "metadata": {
        "id": "43MndqI-FQco"
      }
    },
    {
      "cell_type": "markdown",
      "source": [
        "###Importing Libraries"
      ],
      "metadata": {
        "id": "QMyUsHLL788D"
      }
    },
    {
      "cell_type": "code",
      "source": [
        "import numpy as np\n",
        "import pandas as pd\n",
        "import tensorflow\n",
        "from tensorflow import keras\n",
        "from keras.models import Sequential\n",
        "from keras.layers import Input, Convolution1D, MaxPooling1D, Flatten, Dense, Dropout\n",
        "from keras.utils import np_utils\n",
        "import sklearn\n",
        "from sklearn.preprocessing import MinMaxScaler\n",
        "from sklearn.model_selection import RepeatedKFold \n",
        "from sklearn import model_selection\n",
        "import imblearn\n",
        "from imblearn.over_sampling import SMOTE"
      ],
      "metadata": {
        "id": "noy7PwtVGNTg"
      },
      "execution_count": 22,
      "outputs": []
    },
    {
      "cell_type": "markdown",
      "source": [
        "###Mounting Google Drive"
      ],
      "metadata": {
        "id": "Gl2ewKuLLSik"
      }
    },
    {
      "cell_type": "code",
      "source": [
        "from pydrive.auth import GoogleAuth\n",
        "from pydrive.drive import GoogleDrive\n",
        "from google.colab import auth\n",
        "from oauth2client.client import GoogleCredentials\n",
        "    \n",
        "auth.authenticate_user()\n",
        "gauth = GoogleAuth()\n",
        "gauth.credentials = GoogleCredentials.get_application_default()\n",
        "drive = GoogleDrive(gauth)"
      ],
      "metadata": {
        "id": "EVp73IfEKQAV"
      },
      "execution_count": 3,
      "outputs": []
    },
    {
      "cell_type": "markdown",
      "source": [
        "###Dataset Loader"
      ],
      "metadata": {
        "id": "6R-MYnl67itv"
      }
    },
    {
      "cell_type": "code",
      "source": [
        "def DataLoader(link, name_of_file):\n",
        "  id = link.split(\"/\")[-2]\n",
        "  downloaded = drive.CreateFile({'id':id}) \n",
        "  downloaded.GetContentFile(name_of_file)\n",
        "  dataframe = pd.read_csv(name_of_file)\n",
        "  return dataframe\n",
        "\n",
        "link1 = 'https://drive.google.com/file/d/1EfbAqgr7i9h4yFwEoU3igG34Gt48l6WT/view?usp=sharing'\n",
        "link2 = 'https://drive.google.com/file/d/1Ya1OMWsz1yyXAaZheIck-roX0M9UWiqg/view?usp=sharing'\n",
        "name1 = 'long_parameters_list_structural.csv'\n",
        "name2 = 'switch_statements_structural.csv'\n",
        "\n",
        "df_lp = DataLoader(link1, name1)\n",
        "df_ss = DataLoader(link2, name2)"
      ],
      "metadata": {
        "id": "ULHBQ7_L53EO"
      },
      "execution_count": 4,
      "outputs": []
    },
    {
      "cell_type": "markdown",
      "source": [
        "Long Parameters List Dataset"
      ],
      "metadata": {
        "id": "V-VE5KVKkMHL"
      }
    },
    {
      "cell_type": "code",
      "source": [
        "df_lp.head(5)"
      ],
      "metadata": {
        "colab": {
          "base_uri": "https://localhost:8080/",
          "height": 299
        },
        "id": "MJ8g3uXM6qPO",
        "outputId": "dc5d0202-4bf6-469b-f3bc-667e6a778043"
      },
      "execution_count": 5,
      "outputs": [
        {
          "output_type": "execute_result",
          "data": {
            "text/plain": [
              "   NOP_method  CC_method ATFD_method FDP_method  CM_method  MAXNESTING_method  \\\n",
              "0           0          0           0          0          0                  2   \n",
              "1           0          0           0          0          0                  1   \n",
              "2           1          0           0          0          0                  1   \n",
              "3           0          5           0          0          9                  0   \n",
              "4           1          0           1          1          0                  1   \n",
              "\n",
              "   LOC_method  CYCLO_method  NMCS_method  NOLV_method  ...  NOI_package  \\\n",
              "0           8             2            0            0  ...            0   \n",
              "1           3             1            0            0  ...            0   \n",
              "2           2             1            0            1  ...            0   \n",
              "3           1             1            0            0  ...           11   \n",
              "4           3             1            0            1  ...           11   \n",
              "\n",
              "  LOC_package NOM_package  NOPK_project  NOCS_project NOI_project  \\\n",
              "0         229          16            43           849          78   \n",
              "1        4223         240            43           849          78   \n",
              "2        4223         240            43           849          78   \n",
              "3        6037         728            43           849          78   \n",
              "4        6037         728            43           849          78   \n",
              "\n",
              "   NOM_project  NOMNAMM_project  LOC_project  is_long_parameters_list  \n",
              "0         5788             4778        65687                    False  \n",
              "1         5788             4778        65687                    False  \n",
              "2         5788             4778        65687                    False  \n",
              "3         5788             4778        65687                    False  \n",
              "4         5788             4778        65687                    False  \n",
              "\n",
              "[5 rows x 57 columns]"
            ],
            "text/html": [
              "\n",
              "  <div id=\"df-14d0dff2-9a51-4bb8-aeab-2d596566c93f\">\n",
              "    <div class=\"colab-df-container\">\n",
              "      <div>\n",
              "<style scoped>\n",
              "    .dataframe tbody tr th:only-of-type {\n",
              "        vertical-align: middle;\n",
              "    }\n",
              "\n",
              "    .dataframe tbody tr th {\n",
              "        vertical-align: top;\n",
              "    }\n",
              "\n",
              "    .dataframe thead th {\n",
              "        text-align: right;\n",
              "    }\n",
              "</style>\n",
              "<table border=\"1\" class=\"dataframe\">\n",
              "  <thead>\n",
              "    <tr style=\"text-align: right;\">\n",
              "      <th></th>\n",
              "      <th>NOP_method</th>\n",
              "      <th>CC_method</th>\n",
              "      <th>ATFD_method</th>\n",
              "      <th>FDP_method</th>\n",
              "      <th>CM_method</th>\n",
              "      <th>MAXNESTING_method</th>\n",
              "      <th>LOC_method</th>\n",
              "      <th>CYCLO_method</th>\n",
              "      <th>NMCS_method</th>\n",
              "      <th>NOLV_method</th>\n",
              "      <th>...</th>\n",
              "      <th>NOI_package</th>\n",
              "      <th>LOC_package</th>\n",
              "      <th>NOM_package</th>\n",
              "      <th>NOPK_project</th>\n",
              "      <th>NOCS_project</th>\n",
              "      <th>NOI_project</th>\n",
              "      <th>NOM_project</th>\n",
              "      <th>NOMNAMM_project</th>\n",
              "      <th>LOC_project</th>\n",
              "      <th>is_long_parameters_list</th>\n",
              "    </tr>\n",
              "  </thead>\n",
              "  <tbody>\n",
              "    <tr>\n",
              "      <th>0</th>\n",
              "      <td>0</td>\n",
              "      <td>0</td>\n",
              "      <td>0</td>\n",
              "      <td>0</td>\n",
              "      <td>0</td>\n",
              "      <td>2</td>\n",
              "      <td>8</td>\n",
              "      <td>2</td>\n",
              "      <td>0</td>\n",
              "      <td>0</td>\n",
              "      <td>...</td>\n",
              "      <td>0</td>\n",
              "      <td>229</td>\n",
              "      <td>16</td>\n",
              "      <td>43</td>\n",
              "      <td>849</td>\n",
              "      <td>78</td>\n",
              "      <td>5788</td>\n",
              "      <td>4778</td>\n",
              "      <td>65687</td>\n",
              "      <td>False</td>\n",
              "    </tr>\n",
              "    <tr>\n",
              "      <th>1</th>\n",
              "      <td>0</td>\n",
              "      <td>0</td>\n",
              "      <td>0</td>\n",
              "      <td>0</td>\n",
              "      <td>0</td>\n",
              "      <td>1</td>\n",
              "      <td>3</td>\n",
              "      <td>1</td>\n",
              "      <td>0</td>\n",
              "      <td>0</td>\n",
              "      <td>...</td>\n",
              "      <td>0</td>\n",
              "      <td>4223</td>\n",
              "      <td>240</td>\n",
              "      <td>43</td>\n",
              "      <td>849</td>\n",
              "      <td>78</td>\n",
              "      <td>5788</td>\n",
              "      <td>4778</td>\n",
              "      <td>65687</td>\n",
              "      <td>False</td>\n",
              "    </tr>\n",
              "    <tr>\n",
              "      <th>2</th>\n",
              "      <td>1</td>\n",
              "      <td>0</td>\n",
              "      <td>0</td>\n",
              "      <td>0</td>\n",
              "      <td>0</td>\n",
              "      <td>1</td>\n",
              "      <td>2</td>\n",
              "      <td>1</td>\n",
              "      <td>0</td>\n",
              "      <td>1</td>\n",
              "      <td>...</td>\n",
              "      <td>0</td>\n",
              "      <td>4223</td>\n",
              "      <td>240</td>\n",
              "      <td>43</td>\n",
              "      <td>849</td>\n",
              "      <td>78</td>\n",
              "      <td>5788</td>\n",
              "      <td>4778</td>\n",
              "      <td>65687</td>\n",
              "      <td>False</td>\n",
              "    </tr>\n",
              "    <tr>\n",
              "      <th>3</th>\n",
              "      <td>0</td>\n",
              "      <td>5</td>\n",
              "      <td>0</td>\n",
              "      <td>0</td>\n",
              "      <td>9</td>\n",
              "      <td>0</td>\n",
              "      <td>1</td>\n",
              "      <td>1</td>\n",
              "      <td>0</td>\n",
              "      <td>0</td>\n",
              "      <td>...</td>\n",
              "      <td>11</td>\n",
              "      <td>6037</td>\n",
              "      <td>728</td>\n",
              "      <td>43</td>\n",
              "      <td>849</td>\n",
              "      <td>78</td>\n",
              "      <td>5788</td>\n",
              "      <td>4778</td>\n",
              "      <td>65687</td>\n",
              "      <td>False</td>\n",
              "    </tr>\n",
              "    <tr>\n",
              "      <th>4</th>\n",
              "      <td>1</td>\n",
              "      <td>0</td>\n",
              "      <td>1</td>\n",
              "      <td>1</td>\n",
              "      <td>0</td>\n",
              "      <td>1</td>\n",
              "      <td>3</td>\n",
              "      <td>1</td>\n",
              "      <td>0</td>\n",
              "      <td>1</td>\n",
              "      <td>...</td>\n",
              "      <td>11</td>\n",
              "      <td>6037</td>\n",
              "      <td>728</td>\n",
              "      <td>43</td>\n",
              "      <td>849</td>\n",
              "      <td>78</td>\n",
              "      <td>5788</td>\n",
              "      <td>4778</td>\n",
              "      <td>65687</td>\n",
              "      <td>False</td>\n",
              "    </tr>\n",
              "  </tbody>\n",
              "</table>\n",
              "<p>5 rows × 57 columns</p>\n",
              "</div>\n",
              "      <button class=\"colab-df-convert\" onclick=\"convertToInteractive('df-14d0dff2-9a51-4bb8-aeab-2d596566c93f')\"\n",
              "              title=\"Convert this dataframe to an interactive table.\"\n",
              "              style=\"display:none;\">\n",
              "        \n",
              "  <svg xmlns=\"http://www.w3.org/2000/svg\" height=\"24px\"viewBox=\"0 0 24 24\"\n",
              "       width=\"24px\">\n",
              "    <path d=\"M0 0h24v24H0V0z\" fill=\"none\"/>\n",
              "    <path d=\"M18.56 5.44l.94 2.06.94-2.06 2.06-.94-2.06-.94-.94-2.06-.94 2.06-2.06.94zm-11 1L8.5 8.5l.94-2.06 2.06-.94-2.06-.94L8.5 2.5l-.94 2.06-2.06.94zm10 10l.94 2.06.94-2.06 2.06-.94-2.06-.94-.94-2.06-.94 2.06-2.06.94z\"/><path d=\"M17.41 7.96l-1.37-1.37c-.4-.4-.92-.59-1.43-.59-.52 0-1.04.2-1.43.59L10.3 9.45l-7.72 7.72c-.78.78-.78 2.05 0 2.83L4 21.41c.39.39.9.59 1.41.59.51 0 1.02-.2 1.41-.59l7.78-7.78 2.81-2.81c.8-.78.8-2.07 0-2.86zM5.41 20L4 18.59l7.72-7.72 1.47 1.35L5.41 20z\"/>\n",
              "  </svg>\n",
              "      </button>\n",
              "      \n",
              "  <style>\n",
              "    .colab-df-container {\n",
              "      display:flex;\n",
              "      flex-wrap:wrap;\n",
              "      gap: 12px;\n",
              "    }\n",
              "\n",
              "    .colab-df-convert {\n",
              "      background-color: #E8F0FE;\n",
              "      border: none;\n",
              "      border-radius: 50%;\n",
              "      cursor: pointer;\n",
              "      display: none;\n",
              "      fill: #1967D2;\n",
              "      height: 32px;\n",
              "      padding: 0 0 0 0;\n",
              "      width: 32px;\n",
              "    }\n",
              "\n",
              "    .colab-df-convert:hover {\n",
              "      background-color: #E2EBFA;\n",
              "      box-shadow: 0px 1px 2px rgba(60, 64, 67, 0.3), 0px 1px 3px 1px rgba(60, 64, 67, 0.15);\n",
              "      fill: #174EA6;\n",
              "    }\n",
              "\n",
              "    [theme=dark] .colab-df-convert {\n",
              "      background-color: #3B4455;\n",
              "      fill: #D2E3FC;\n",
              "    }\n",
              "\n",
              "    [theme=dark] .colab-df-convert:hover {\n",
              "      background-color: #434B5C;\n",
              "      box-shadow: 0px 1px 3px 1px rgba(0, 0, 0, 0.15);\n",
              "      filter: drop-shadow(0px 1px 2px rgba(0, 0, 0, 0.3));\n",
              "      fill: #FFFFFF;\n",
              "    }\n",
              "  </style>\n",
              "\n",
              "      <script>\n",
              "        const buttonEl =\n",
              "          document.querySelector('#df-14d0dff2-9a51-4bb8-aeab-2d596566c93f button.colab-df-convert');\n",
              "        buttonEl.style.display =\n",
              "          google.colab.kernel.accessAllowed ? 'block' : 'none';\n",
              "\n",
              "        async function convertToInteractive(key) {\n",
              "          const element = document.querySelector('#df-14d0dff2-9a51-4bb8-aeab-2d596566c93f');\n",
              "          const dataTable =\n",
              "            await google.colab.kernel.invokeFunction('convertToInteractive',\n",
              "                                                     [key], {});\n",
              "          if (!dataTable) return;\n",
              "\n",
              "          const docLinkHtml = 'Like what you see? Visit the ' +\n",
              "            '<a target=\"_blank\" href=https://colab.research.google.com/notebooks/data_table.ipynb>data table notebook</a>'\n",
              "            + ' to learn more about interactive tables.';\n",
              "          element.innerHTML = '';\n",
              "          dataTable['output_type'] = 'display_data';\n",
              "          await google.colab.output.renderOutput(dataTable, element);\n",
              "          const docLink = document.createElement('div');\n",
              "          docLink.innerHTML = docLinkHtml;\n",
              "          element.appendChild(docLink);\n",
              "        }\n",
              "      </script>\n",
              "    </div>\n",
              "  </div>\n",
              "  "
            ]
          },
          "metadata": {},
          "execution_count": 5
        }
      ]
    },
    {
      "cell_type": "markdown",
      "source": [
        "Switch Statements Dataset"
      ],
      "metadata": {
        "id": "ykY52hFC7FaT"
      }
    },
    {
      "cell_type": "code",
      "source": [
        "df_ss.head(5)"
      ],
      "metadata": {
        "colab": {
          "base_uri": "https://localhost:8080/",
          "height": 299
        },
        "id": "lL0zKacc7tMH",
        "outputId": "754fdd38-7ce6-4113-a9fe-697cdbc3054e"
      },
      "execution_count": 6,
      "outputs": [
        {
          "output_type": "execute_result",
          "data": {
            "text/plain": [
              "   NOP_method  CC_method ATFD_method FDP_method  CM_method  MAXNESTING_method  \\\n",
              "0           1          2           0          0          2                  1   \n",
              "1           0          0           0          0          0                  2   \n",
              "2           2          0           0          0          0                  1   \n",
              "3           0          0           0          0          0                  2   \n",
              "4           0          0           0          0          0                  1   \n",
              "\n",
              "   LOC_method  CYCLO_method  NMCS_method  NOLV_method  ...  NOI_package  \\\n",
              "0           5             1            0            1  ...            3   \n",
              "1           6             3            0            0  ...            0   \n",
              "2           3             1            0            2  ...            0   \n",
              "3           3             1            0            0  ...            0   \n",
              "4           3             1            0            0  ...            0   \n",
              "\n",
              "  LOC_package NOM_package  NOPK_project  NOCS_project NOI_project  \\\n",
              "0         439          53            43           849          78   \n",
              "1        4223         240            43           849          78   \n",
              "2        4223         240            43           849          78   \n",
              "3        1212         120            43           849          78   \n",
              "4         516          29            43           849          78   \n",
              "\n",
              "   NOM_project  NOMNAMM_project  LOC_project  is_switch_statements  \n",
              "0         5788             4778        65687                 False  \n",
              "1         5788             4778        65687                 False  \n",
              "2         5788             4778        65687                 False  \n",
              "3         5788             4778        65687                 False  \n",
              "4         5788             4778        65687                 False  \n",
              "\n",
              "[5 rows x 57 columns]"
            ],
            "text/html": [
              "\n",
              "  <div id=\"df-1a11d030-b204-4c2e-88ae-e86cdc9f481c\">\n",
              "    <div class=\"colab-df-container\">\n",
              "      <div>\n",
              "<style scoped>\n",
              "    .dataframe tbody tr th:only-of-type {\n",
              "        vertical-align: middle;\n",
              "    }\n",
              "\n",
              "    .dataframe tbody tr th {\n",
              "        vertical-align: top;\n",
              "    }\n",
              "\n",
              "    .dataframe thead th {\n",
              "        text-align: right;\n",
              "    }\n",
              "</style>\n",
              "<table border=\"1\" class=\"dataframe\">\n",
              "  <thead>\n",
              "    <tr style=\"text-align: right;\">\n",
              "      <th></th>\n",
              "      <th>NOP_method</th>\n",
              "      <th>CC_method</th>\n",
              "      <th>ATFD_method</th>\n",
              "      <th>FDP_method</th>\n",
              "      <th>CM_method</th>\n",
              "      <th>MAXNESTING_method</th>\n",
              "      <th>LOC_method</th>\n",
              "      <th>CYCLO_method</th>\n",
              "      <th>NMCS_method</th>\n",
              "      <th>NOLV_method</th>\n",
              "      <th>...</th>\n",
              "      <th>NOI_package</th>\n",
              "      <th>LOC_package</th>\n",
              "      <th>NOM_package</th>\n",
              "      <th>NOPK_project</th>\n",
              "      <th>NOCS_project</th>\n",
              "      <th>NOI_project</th>\n",
              "      <th>NOM_project</th>\n",
              "      <th>NOMNAMM_project</th>\n",
              "      <th>LOC_project</th>\n",
              "      <th>is_switch_statements</th>\n",
              "    </tr>\n",
              "  </thead>\n",
              "  <tbody>\n",
              "    <tr>\n",
              "      <th>0</th>\n",
              "      <td>1</td>\n",
              "      <td>2</td>\n",
              "      <td>0</td>\n",
              "      <td>0</td>\n",
              "      <td>2</td>\n",
              "      <td>1</td>\n",
              "      <td>5</td>\n",
              "      <td>1</td>\n",
              "      <td>0</td>\n",
              "      <td>1</td>\n",
              "      <td>...</td>\n",
              "      <td>3</td>\n",
              "      <td>439</td>\n",
              "      <td>53</td>\n",
              "      <td>43</td>\n",
              "      <td>849</td>\n",
              "      <td>78</td>\n",
              "      <td>5788</td>\n",
              "      <td>4778</td>\n",
              "      <td>65687</td>\n",
              "      <td>False</td>\n",
              "    </tr>\n",
              "    <tr>\n",
              "      <th>1</th>\n",
              "      <td>0</td>\n",
              "      <td>0</td>\n",
              "      <td>0</td>\n",
              "      <td>0</td>\n",
              "      <td>0</td>\n",
              "      <td>2</td>\n",
              "      <td>6</td>\n",
              "      <td>3</td>\n",
              "      <td>0</td>\n",
              "      <td>0</td>\n",
              "      <td>...</td>\n",
              "      <td>0</td>\n",
              "      <td>4223</td>\n",
              "      <td>240</td>\n",
              "      <td>43</td>\n",
              "      <td>849</td>\n",
              "      <td>78</td>\n",
              "      <td>5788</td>\n",
              "      <td>4778</td>\n",
              "      <td>65687</td>\n",
              "      <td>False</td>\n",
              "    </tr>\n",
              "    <tr>\n",
              "      <th>2</th>\n",
              "      <td>2</td>\n",
              "      <td>0</td>\n",
              "      <td>0</td>\n",
              "      <td>0</td>\n",
              "      <td>0</td>\n",
              "      <td>1</td>\n",
              "      <td>3</td>\n",
              "      <td>1</td>\n",
              "      <td>0</td>\n",
              "      <td>2</td>\n",
              "      <td>...</td>\n",
              "      <td>0</td>\n",
              "      <td>4223</td>\n",
              "      <td>240</td>\n",
              "      <td>43</td>\n",
              "      <td>849</td>\n",
              "      <td>78</td>\n",
              "      <td>5788</td>\n",
              "      <td>4778</td>\n",
              "      <td>65687</td>\n",
              "      <td>False</td>\n",
              "    </tr>\n",
              "    <tr>\n",
              "      <th>3</th>\n",
              "      <td>0</td>\n",
              "      <td>0</td>\n",
              "      <td>0</td>\n",
              "      <td>0</td>\n",
              "      <td>0</td>\n",
              "      <td>2</td>\n",
              "      <td>3</td>\n",
              "      <td>1</td>\n",
              "      <td>0</td>\n",
              "      <td>0</td>\n",
              "      <td>...</td>\n",
              "      <td>0</td>\n",
              "      <td>1212</td>\n",
              "      <td>120</td>\n",
              "      <td>43</td>\n",
              "      <td>849</td>\n",
              "      <td>78</td>\n",
              "      <td>5788</td>\n",
              "      <td>4778</td>\n",
              "      <td>65687</td>\n",
              "      <td>False</td>\n",
              "    </tr>\n",
              "    <tr>\n",
              "      <th>4</th>\n",
              "      <td>0</td>\n",
              "      <td>0</td>\n",
              "      <td>0</td>\n",
              "      <td>0</td>\n",
              "      <td>0</td>\n",
              "      <td>1</td>\n",
              "      <td>3</td>\n",
              "      <td>1</td>\n",
              "      <td>0</td>\n",
              "      <td>0</td>\n",
              "      <td>...</td>\n",
              "      <td>0</td>\n",
              "      <td>516</td>\n",
              "      <td>29</td>\n",
              "      <td>43</td>\n",
              "      <td>849</td>\n",
              "      <td>78</td>\n",
              "      <td>5788</td>\n",
              "      <td>4778</td>\n",
              "      <td>65687</td>\n",
              "      <td>False</td>\n",
              "    </tr>\n",
              "  </tbody>\n",
              "</table>\n",
              "<p>5 rows × 57 columns</p>\n",
              "</div>\n",
              "      <button class=\"colab-df-convert\" onclick=\"convertToInteractive('df-1a11d030-b204-4c2e-88ae-e86cdc9f481c')\"\n",
              "              title=\"Convert this dataframe to an interactive table.\"\n",
              "              style=\"display:none;\">\n",
              "        \n",
              "  <svg xmlns=\"http://www.w3.org/2000/svg\" height=\"24px\"viewBox=\"0 0 24 24\"\n",
              "       width=\"24px\">\n",
              "    <path d=\"M0 0h24v24H0V0z\" fill=\"none\"/>\n",
              "    <path d=\"M18.56 5.44l.94 2.06.94-2.06 2.06-.94-2.06-.94-.94-2.06-.94 2.06-2.06.94zm-11 1L8.5 8.5l.94-2.06 2.06-.94-2.06-.94L8.5 2.5l-.94 2.06-2.06.94zm10 10l.94 2.06.94-2.06 2.06-.94-2.06-.94-.94-2.06-.94 2.06-2.06.94z\"/><path d=\"M17.41 7.96l-1.37-1.37c-.4-.4-.92-.59-1.43-.59-.52 0-1.04.2-1.43.59L10.3 9.45l-7.72 7.72c-.78.78-.78 2.05 0 2.83L4 21.41c.39.39.9.59 1.41.59.51 0 1.02-.2 1.41-.59l7.78-7.78 2.81-2.81c.8-.78.8-2.07 0-2.86zM5.41 20L4 18.59l7.72-7.72 1.47 1.35L5.41 20z\"/>\n",
              "  </svg>\n",
              "      </button>\n",
              "      \n",
              "  <style>\n",
              "    .colab-df-container {\n",
              "      display:flex;\n",
              "      flex-wrap:wrap;\n",
              "      gap: 12px;\n",
              "    }\n",
              "\n",
              "    .colab-df-convert {\n",
              "      background-color: #E8F0FE;\n",
              "      border: none;\n",
              "      border-radius: 50%;\n",
              "      cursor: pointer;\n",
              "      display: none;\n",
              "      fill: #1967D2;\n",
              "      height: 32px;\n",
              "      padding: 0 0 0 0;\n",
              "      width: 32px;\n",
              "    }\n",
              "\n",
              "    .colab-df-convert:hover {\n",
              "      background-color: #E2EBFA;\n",
              "      box-shadow: 0px 1px 2px rgba(60, 64, 67, 0.3), 0px 1px 3px 1px rgba(60, 64, 67, 0.15);\n",
              "      fill: #174EA6;\n",
              "    }\n",
              "\n",
              "    [theme=dark] .colab-df-convert {\n",
              "      background-color: #3B4455;\n",
              "      fill: #D2E3FC;\n",
              "    }\n",
              "\n",
              "    [theme=dark] .colab-df-convert:hover {\n",
              "      background-color: #434B5C;\n",
              "      box-shadow: 0px 1px 3px 1px rgba(0, 0, 0, 0.15);\n",
              "      filter: drop-shadow(0px 1px 2px rgba(0, 0, 0, 0.3));\n",
              "      fill: #FFFFFF;\n",
              "    }\n",
              "  </style>\n",
              "\n",
              "      <script>\n",
              "        const buttonEl =\n",
              "          document.querySelector('#df-1a11d030-b204-4c2e-88ae-e86cdc9f481c button.colab-df-convert');\n",
              "        buttonEl.style.display =\n",
              "          google.colab.kernel.accessAllowed ? 'block' : 'none';\n",
              "\n",
              "        async function convertToInteractive(key) {\n",
              "          const element = document.querySelector('#df-1a11d030-b204-4c2e-88ae-e86cdc9f481c');\n",
              "          const dataTable =\n",
              "            await google.colab.kernel.invokeFunction('convertToInteractive',\n",
              "                                                     [key], {});\n",
              "          if (!dataTable) return;\n",
              "\n",
              "          const docLinkHtml = 'Like what you see? Visit the ' +\n",
              "            '<a target=\"_blank\" href=https://colab.research.google.com/notebooks/data_table.ipynb>data table notebook</a>'\n",
              "            + ' to learn more about interactive tables.';\n",
              "          element.innerHTML = '';\n",
              "          dataTable['output_type'] = 'display_data';\n",
              "          await google.colab.output.renderOutput(dataTable, element);\n",
              "          const docLink = document.createElement('div');\n",
              "          docLink.innerHTML = docLinkHtml;\n",
              "          element.appendChild(docLink);\n",
              "        }\n",
              "      </script>\n",
              "    </div>\n",
              "  </div>\n",
              "  "
            ]
          },
          "metadata": {},
          "execution_count": 6
        }
      ]
    },
    {
      "cell_type": "markdown",
      "source": [
        "### Data Pre-Processing "
      ],
      "metadata": {
        "id": "XA_16jIuNd8R"
      }
    },
    {
      "cell_type": "code",
      "source": [
        "def PrePro(last_column, dataframe):\n",
        "  dataframe.rename(columns = {last_column :'is_code_smell'}, inplace = True)\n",
        "  dataframe['is_code_smell'] = dataframe[\"is_code_smell\"].astype(int)\n",
        "  Y_part = dataframe.iloc[:,-1:]\n",
        "  X_part = dataframe.iloc[:,:56]\n",
        "  X_part = X_part.replace(to_replace =[\"?\"], value = np.nan)\n",
        "  X_part = X_part.astype(float)\n",
        "  return X_part,Y_part\n",
        "\n",
        "X_lp, Y_lp = PrePro('is_long_parameters_list',df_lp)\n",
        "X_ss, Y_ss = PrePro('is_switch_statements',df_ss)"
      ],
      "metadata": {
        "id": "lKKV80p59Yqb"
      },
      "execution_count": 7,
      "outputs": []
    },
    {
      "cell_type": "code",
      "source": [
        "def MeanforNaN(dataframe):  \n",
        "  column_means = dataframe.mean()\n",
        "  dataframe = dataframe.fillna(column_means)\n",
        "  return dataframe\n",
        "\n",
        "X_lp = MeanforNaN(X_lp)\n",
        "X_ss = MeanforNaN(X_ss)"
      ],
      "metadata": {
        "id": "gP2KF37rO06u"
      },
      "execution_count": 8,
      "outputs": []
    },
    {
      "cell_type": "code",
      "source": [
        "def ConCat(df1,df2):\n",
        "  code_smells = [df1,df2]\n",
        "  joint = pd.concat(code_smells)\n",
        "  return joint\n",
        "\n",
        "X_train = ConCat(X_lp,X_ss)\n",
        "Y_train = ConCat(Y_lp,Y_ss)"
      ],
      "metadata": {
        "id": "xgrWdh3GSoPT"
      },
      "execution_count": 9,
      "outputs": []
    },
    {
      "cell_type": "markdown",
      "source": [
        "###Data Normalization"
      ],
      "metadata": {
        "id": "t0aP6KSybckZ"
      }
    },
    {
      "cell_type": "code",
      "source": [
        "def Normalize(dataframe):\n",
        "  scaler = MinMaxScaler()\n",
        "  model = scaler.fit(dataframe)\n",
        "  scaled_data = model.transform(dataframe)\n",
        "  return scaled_data\n",
        "\n",
        "X_sample = Normalize(X_train)"
      ],
      "metadata": {
        "id": "EfPBvzbGQWaQ"
      },
      "execution_count": 10,
      "outputs": []
    },
    {
      "cell_type": "markdown",
      "source": [
        "###Synthetic Minority Oversampling Technique (SMOTE) Algo for Imbalanced Datasets\n"
      ],
      "metadata": {
        "id": "LE1hY2iuaGYi"
      }
    },
    {
      "cell_type": "code",
      "source": [
        "Y_train.value_counts() #1/3rd are smelly, 2/3rd are non smelly "
      ],
      "metadata": {
        "colab": {
          "base_uri": "https://localhost:8080/"
        },
        "id": "YglrDQrabJgC",
        "outputId": "24a6a4fd-7e34-4de2-de70-cf5f89d4b922"
      },
      "execution_count": 11,
      "outputs": [
        {
          "output_type": "execute_result",
          "data": {
            "text/plain": [
              "is_code_smell\n",
              "0                573\n",
              "1                267\n",
              "dtype: int64"
            ]
          },
          "metadata": {},
          "execution_count": 11
        }
      ]
    },
    {
      "cell_type": "code",
      "source": [
        "Y_sample = Y_train.to_numpy(dtype='int64', copy='True')"
      ],
      "metadata": {
        "id": "_KsXn_i2eGbv"
      },
      "execution_count": 12,
      "outputs": []
    },
    {
      "cell_type": "code",
      "source": [
        "def Oversample(X_data,Y_data):\n",
        "\n",
        "  sm = SMOTE(random_state = 2)\n",
        "  X_train_res, Y_train_res = sm.fit_resample(X_data, Y_data.ravel())\n",
        "  return X_train_res, Y_train_res\n",
        "\n",
        "X_new, Y_new = Oversample(X_sample,Y_sample)"
      ],
      "metadata": {
        "id": "x1aLZXEIX-b5"
      },
      "execution_count": 13,
      "outputs": []
    },
    {
      "cell_type": "code",
      "source": [
        "X_train_final = X_new.reshape((1146,56,1))"
      ],
      "metadata": {
        "id": "6gRFjBvmsIny"
      },
      "execution_count": 14,
      "outputs": []
    },
    {
      "cell_type": "markdown",
      "source": [
        "###Repeated K-Fold Cross Validation for Limited Data\n"
      ],
      "metadata": {
        "id": "g04W7nK0nrK5"
      }
    },
    {
      "cell_type": "code",
      "source": [
        "def CrossValidation(dataX,dataY):\n",
        "  kf = RepeatedKFold(n_splits=5, n_repeats=10, random_state=None) \n",
        "\n",
        "  for train_index, test_index in kf.split(dataX):\n",
        "        X_crosstrain, X_crosstest = dataX[train_index], dataX[test_index] \n",
        "        Y_crosstrain, Y_crosstest = dataY[train_index], dataY[test_index]\n",
        "        return X_crosstrain,X_crosstest,Y_crosstrain,Y_crosstest\n",
        "\n",
        "X_crosstrain,X_crosstest,Y_crosstrain,Y_crosstest = CrossValidation(X_train_final, Y_new)"
      ],
      "metadata": {
        "id": "5Vh34GxGoRlw"
      },
      "execution_count": 15,
      "outputs": []
    },
    {
      "cell_type": "code",
      "source": [
        "X_crosstrain.shape"
      ],
      "metadata": {
        "colab": {
          "base_uri": "https://localhost:8080/"
        },
        "id": "PYtUB11KgKEP",
        "outputId": "dc7b033b-15fe-4c4e-b4c9-33edcfb82dc7"
      },
      "execution_count": 16,
      "outputs": [
        {
          "output_type": "execute_result",
          "data": {
            "text/plain": [
              "(916, 56, 1)"
            ]
          },
          "metadata": {},
          "execution_count": 16
        }
      ]
    },
    {
      "cell_type": "code",
      "source": [
        "Y_crosstrain.shape"
      ],
      "metadata": {
        "colab": {
          "base_uri": "https://localhost:8080/"
        },
        "id": "K75wpd0LiV-D",
        "outputId": "731f75f8-9790-40aa-acd7-e178d3015e05"
      },
      "execution_count": 17,
      "outputs": [
        {
          "output_type": "execute_result",
          "data": {
            "text/plain": [
              "(916,)"
            ]
          },
          "metadata": {},
          "execution_count": 17
        }
      ]
    },
    {
      "cell_type": "code",
      "source": [
        "X_crosstest.shape"
      ],
      "metadata": {
        "colab": {
          "base_uri": "https://localhost:8080/"
        },
        "id": "ttGEA-qyHi22",
        "outputId": "7744a815-e12d-46a3-df6d-03cdc92c19d0"
      },
      "execution_count": 18,
      "outputs": [
        {
          "output_type": "execute_result",
          "data": {
            "text/plain": [
              "(230, 56, 1)"
            ]
          },
          "metadata": {},
          "execution_count": 18
        }
      ]
    },
    {
      "cell_type": "code",
      "source": [
        "Y_crosstest.shape"
      ],
      "metadata": {
        "colab": {
          "base_uri": "https://localhost:8080/"
        },
        "id": "LhBZri8VHmwm",
        "outputId": "cd3357bb-448d-42be-f265-61eae196e239"
      },
      "execution_count": 19,
      "outputs": [
        {
          "output_type": "execute_result",
          "data": {
            "text/plain": [
              "(230,)"
            ]
          },
          "metadata": {},
          "execution_count": 19
        }
      ]
    },
    {
      "cell_type": "markdown",
      "source": [
        "### Left Branch : Feature Extraction using CNN \n",
        "\n",
        "---\n",
        "\n"
      ],
      "metadata": {
        "id": "xTG76df9UnCH"
      }
    },
    {
      "cell_type": "code",
      "source": [
        "def CNNFeatureExtraction(trainX,trainY,testX,testY):\n",
        "  epochs, batch_size, test_batch_size = 120, 50, 50\n",
        "  height, width, depth = trainX.shape[0], trainX.shape[1], trainX.shape[2]\n",
        "  model_left = Sequential()\n",
        "  model_left.add(Convolution1D(filters=32, kernel_size=3, activation='relu', input_shape=(width,depth)))\n",
        "  model_left.add(Convolution1D(filters=64, kernel_size=3, activation='relu'))\n",
        "  model_left.add(Convolution1D(filters=128, kernel_size=5, activation= 'relu'))\n",
        "  model_left.add(Flatten())\n",
        "  return model_left"
      ],
      "metadata": {
        "id": "xtHVg87jrizi"
      },
      "execution_count": 23,
      "outputs": []
    },
    {
      "cell_type": "markdown",
      "source": [
        ""
      ],
      "metadata": {
        "id": "RMnQO6-lvdZ2"
      }
    },
    {
      "cell_type": "code",
      "source": [
        "def evaluate_model(trainX, trainy, testX, testy):\n",
        "\tepochs, batch_size, test_batch_size = 120, 50, 50\n",
        "\theight, width, depth = trainX.shape[0], trainX.shape[1], trainX.shape[2]\n",
        "\tmodel = Sequential()\n",
        "\tmodel.add(Convolution1D(filters=32, kernel_size=3, activation='relu', input_shape=(width,depth)))\n",
        "\tmodel.add(Convolution1D(filters=64, kernel_size=3, activation='relu'))\n",
        "\tmodel.add(Flatten())\n",
        "\tmodel.add(Dense(1, activation='sigmoid'))\n",
        "\tmodel.compile(loss='binary_crossentropy', optimizer='adam', metrics=['accuracy'])\n",
        "\tmodel.fit(trainX, trainy, epochs=epochs, batch_size=batch_size)\n",
        "\t_, accuracy = model.evaluate(testX, testy, batch_size=test_batch_size)\n",
        "\treturn accuracy\n",
        "\n",
        "model_accuracy = evaluate_model(X_crosstrain, Y_crosstrain, X_crosstest, Y_crosstest)"
      ],
      "metadata": {
        "colab": {
          "base_uri": "https://localhost:8080/"
        },
        "id": "EJfaF9ZnCfa5",
        "outputId": "c046bd07-9e01-46b4-c2f7-e13f6d8577d2"
      },
      "execution_count": 20,
      "outputs": [
        {
          "output_type": "stream",
          "name": "stdout",
          "text": [
            "Epoch 1/120\n",
            "19/19 [==============================] - 2s 9ms/step - loss: 0.6765 - accuracy: 0.5742\n",
            "Epoch 2/120\n",
            "19/19 [==============================] - 0s 9ms/step - loss: 0.6209 - accuracy: 0.7314\n",
            "Epoch 3/120\n",
            "19/19 [==============================] - 0s 9ms/step - loss: 0.5466 - accuracy: 0.7402\n",
            "Epoch 4/120\n",
            "19/19 [==============================] - 0s 10ms/step - loss: 0.4928 - accuracy: 0.7576\n",
            "Epoch 5/120\n",
            "19/19 [==============================] - 0s 10ms/step - loss: 0.4720 - accuracy: 0.7653\n",
            "Epoch 6/120\n",
            "19/19 [==============================] - 0s 9ms/step - loss: 0.4573 - accuracy: 0.7707\n",
            "Epoch 7/120\n",
            "19/19 [==============================] - 0s 9ms/step - loss: 0.4371 - accuracy: 0.7871\n",
            "Epoch 8/120\n",
            "19/19 [==============================] - 0s 9ms/step - loss: 0.4174 - accuracy: 0.7959\n",
            "Epoch 9/120\n",
            "19/19 [==============================] - 0s 10ms/step - loss: 0.3942 - accuracy: 0.8199\n",
            "Epoch 10/120\n",
            "19/19 [==============================] - 0s 9ms/step - loss: 0.3681 - accuracy: 0.8319\n",
            "Epoch 11/120\n",
            "19/19 [==============================] - 0s 9ms/step - loss: 0.3549 - accuracy: 0.8341\n",
            "Epoch 12/120\n",
            "19/19 [==============================] - 0s 9ms/step - loss: 0.3430 - accuracy: 0.8406\n",
            "Epoch 13/120\n",
            "19/19 [==============================] - 0s 9ms/step - loss: 0.3398 - accuracy: 0.8417\n",
            "Epoch 14/120\n",
            "19/19 [==============================] - 0s 10ms/step - loss: 0.3208 - accuracy: 0.8526\n",
            "Epoch 15/120\n",
            "19/19 [==============================] - 0s 8ms/step - loss: 0.3211 - accuracy: 0.8537\n",
            "Epoch 16/120\n",
            "19/19 [==============================] - 0s 10ms/step - loss: 0.3194 - accuracy: 0.8603\n",
            "Epoch 17/120\n",
            "19/19 [==============================] - 0s 9ms/step - loss: 0.3061 - accuracy: 0.8603\n",
            "Epoch 18/120\n",
            "19/19 [==============================] - 0s 9ms/step - loss: 0.2985 - accuracy: 0.8657\n",
            "Epoch 19/120\n",
            "19/19 [==============================] - 0s 9ms/step - loss: 0.2960 - accuracy: 0.8668\n",
            "Epoch 20/120\n",
            "19/19 [==============================] - 0s 9ms/step - loss: 0.2937 - accuracy: 0.8646\n",
            "Epoch 21/120\n",
            "19/19 [==============================] - 0s 9ms/step - loss: 0.2965 - accuracy: 0.8679\n",
            "Epoch 22/120\n",
            "19/19 [==============================] - 0s 9ms/step - loss: 0.2930 - accuracy: 0.8646\n",
            "Epoch 23/120\n",
            "19/19 [==============================] - 0s 9ms/step - loss: 0.2891 - accuracy: 0.8657\n",
            "Epoch 24/120\n",
            "19/19 [==============================] - 0s 9ms/step - loss: 0.2942 - accuracy: 0.8657\n",
            "Epoch 25/120\n",
            "19/19 [==============================] - 0s 9ms/step - loss: 0.2790 - accuracy: 0.8723\n",
            "Epoch 26/120\n",
            "19/19 [==============================] - 0s 9ms/step - loss: 0.2833 - accuracy: 0.8635\n",
            "Epoch 27/120\n",
            "19/19 [==============================] - 0s 9ms/step - loss: 0.2783 - accuracy: 0.8690\n",
            "Epoch 28/120\n",
            "19/19 [==============================] - 0s 10ms/step - loss: 0.2770 - accuracy: 0.8657\n",
            "Epoch 29/120\n",
            "19/19 [==============================] - 0s 9ms/step - loss: 0.2822 - accuracy: 0.8755\n",
            "Epoch 30/120\n",
            "19/19 [==============================] - 0s 9ms/step - loss: 0.2832 - accuracy: 0.8646\n",
            "Epoch 31/120\n",
            "19/19 [==============================] - 0s 8ms/step - loss: 0.2730 - accuracy: 0.8755\n",
            "Epoch 32/120\n",
            "19/19 [==============================] - 0s 9ms/step - loss: 0.2839 - accuracy: 0.8908\n",
            "Epoch 33/120\n",
            "19/19 [==============================] - 0s 9ms/step - loss: 0.2661 - accuracy: 0.8777\n",
            "Epoch 34/120\n",
            "19/19 [==============================] - 0s 8ms/step - loss: 0.2676 - accuracy: 0.8788\n",
            "Epoch 35/120\n",
            "19/19 [==============================] - 0s 9ms/step - loss: 0.2570 - accuracy: 0.8810\n",
            "Epoch 36/120\n",
            "19/19 [==============================] - 0s 8ms/step - loss: 0.2552 - accuracy: 0.8832\n",
            "Epoch 37/120\n",
            "19/19 [==============================] - 0s 9ms/step - loss: 0.2604 - accuracy: 0.8734\n",
            "Epoch 38/120\n",
            "19/19 [==============================] - 0s 9ms/step - loss: 0.2568 - accuracy: 0.8854\n",
            "Epoch 39/120\n",
            "19/19 [==============================] - 0s 10ms/step - loss: 0.2485 - accuracy: 0.8919\n",
            "Epoch 40/120\n",
            "19/19 [==============================] - 0s 9ms/step - loss: 0.2464 - accuracy: 0.8963\n",
            "Epoch 41/120\n",
            "19/19 [==============================] - 0s 10ms/step - loss: 0.2451 - accuracy: 0.8854\n",
            "Epoch 42/120\n",
            "19/19 [==============================] - 0s 9ms/step - loss: 0.2641 - accuracy: 0.8810\n",
            "Epoch 43/120\n",
            "19/19 [==============================] - 0s 9ms/step - loss: 0.2599 - accuracy: 0.8897\n",
            "Epoch 44/120\n",
            "19/19 [==============================] - 0s 10ms/step - loss: 0.2400 - accuracy: 0.8908\n",
            "Epoch 45/120\n",
            "19/19 [==============================] - 0s 8ms/step - loss: 0.2428 - accuracy: 0.8952\n",
            "Epoch 46/120\n",
            "19/19 [==============================] - 0s 9ms/step - loss: 0.2402 - accuracy: 0.9028\n",
            "Epoch 47/120\n",
            "19/19 [==============================] - 0s 9ms/step - loss: 0.2346 - accuracy: 0.8963\n",
            "Epoch 48/120\n",
            "19/19 [==============================] - 0s 9ms/step - loss: 0.2338 - accuracy: 0.9007\n",
            "Epoch 49/120\n",
            "19/19 [==============================] - 0s 9ms/step - loss: 0.2338 - accuracy: 0.9039\n",
            "Epoch 50/120\n",
            "19/19 [==============================] - 0s 9ms/step - loss: 0.2408 - accuracy: 0.8930\n",
            "Epoch 51/120\n",
            "19/19 [==============================] - 0s 9ms/step - loss: 0.2302 - accuracy: 0.9072\n",
            "Epoch 52/120\n",
            "19/19 [==============================] - 0s 9ms/step - loss: 0.2354 - accuracy: 0.8996\n",
            "Epoch 53/120\n",
            "19/19 [==============================] - 0s 9ms/step - loss: 0.2292 - accuracy: 0.9007\n",
            "Epoch 54/120\n",
            "19/19 [==============================] - 0s 9ms/step - loss: 0.2263 - accuracy: 0.9039\n",
            "Epoch 55/120\n",
            "19/19 [==============================] - 0s 10ms/step - loss: 0.2243 - accuracy: 0.9127\n",
            "Epoch 56/120\n",
            "19/19 [==============================] - 0s 9ms/step - loss: 0.2270 - accuracy: 0.9083\n",
            "Epoch 57/120\n",
            "19/19 [==============================] - 0s 10ms/step - loss: 0.2205 - accuracy: 0.9083\n",
            "Epoch 58/120\n",
            "19/19 [==============================] - 0s 10ms/step - loss: 0.2189 - accuracy: 0.9159\n",
            "Epoch 59/120\n",
            "19/19 [==============================] - 0s 9ms/step - loss: 0.2183 - accuracy: 0.9148\n",
            "Epoch 60/120\n",
            "19/19 [==============================] - 0s 9ms/step - loss: 0.2197 - accuracy: 0.9105\n",
            "Epoch 61/120\n",
            "19/19 [==============================] - 0s 10ms/step - loss: 0.2137 - accuracy: 0.9192\n",
            "Epoch 62/120\n",
            "19/19 [==============================] - 0s 9ms/step - loss: 0.2205 - accuracy: 0.9203\n",
            "Epoch 63/120\n",
            "19/19 [==============================] - 0s 10ms/step - loss: 0.2158 - accuracy: 0.9214\n",
            "Epoch 64/120\n",
            "19/19 [==============================] - 0s 9ms/step - loss: 0.2284 - accuracy: 0.9083\n",
            "Epoch 65/120\n",
            "19/19 [==============================] - 0s 9ms/step - loss: 0.2116 - accuracy: 0.9247\n",
            "Epoch 66/120\n",
            "19/19 [==============================] - 0s 9ms/step - loss: 0.2080 - accuracy: 0.9214\n",
            "Epoch 67/120\n",
            "19/19 [==============================] - 0s 9ms/step - loss: 0.2090 - accuracy: 0.9236\n",
            "Epoch 68/120\n",
            "19/19 [==============================] - 0s 9ms/step - loss: 0.2139 - accuracy: 0.9192\n",
            "Epoch 69/120\n",
            "19/19 [==============================] - 0s 9ms/step - loss: 0.2033 - accuracy: 0.9258\n",
            "Epoch 70/120\n",
            "19/19 [==============================] - 0s 9ms/step - loss: 0.2021 - accuracy: 0.9236\n",
            "Epoch 71/120\n",
            "19/19 [==============================] - 0s 10ms/step - loss: 0.2030 - accuracy: 0.9225\n",
            "Epoch 72/120\n",
            "19/19 [==============================] - 0s 9ms/step - loss: 0.2112 - accuracy: 0.9214\n",
            "Epoch 73/120\n",
            "19/19 [==============================] - 0s 10ms/step - loss: 0.2053 - accuracy: 0.9116\n",
            "Epoch 74/120\n",
            "19/19 [==============================] - 0s 9ms/step - loss: 0.1999 - accuracy: 0.9225\n",
            "Epoch 75/120\n",
            "19/19 [==============================] - 0s 8ms/step - loss: 0.2017 - accuracy: 0.9301\n",
            "Epoch 76/120\n",
            "19/19 [==============================] - 0s 9ms/step - loss: 0.2041 - accuracy: 0.9138\n",
            "Epoch 77/120\n",
            "19/19 [==============================] - 0s 10ms/step - loss: 0.1980 - accuracy: 0.9269\n",
            "Epoch 78/120\n",
            "19/19 [==============================] - 0s 9ms/step - loss: 0.1997 - accuracy: 0.9279\n",
            "Epoch 79/120\n",
            "19/19 [==============================] - 0s 10ms/step - loss: 0.1971 - accuracy: 0.9236\n",
            "Epoch 80/120\n",
            "19/19 [==============================] - 0s 9ms/step - loss: 0.1928 - accuracy: 0.9269\n",
            "Epoch 81/120\n",
            "19/19 [==============================] - 0s 9ms/step - loss: 0.1992 - accuracy: 0.9225\n",
            "Epoch 82/120\n",
            "19/19 [==============================] - 0s 8ms/step - loss: 0.1914 - accuracy: 0.9301\n",
            "Epoch 83/120\n",
            "19/19 [==============================] - 0s 11ms/step - loss: 0.1915 - accuracy: 0.9247\n",
            "Epoch 84/120\n",
            "19/19 [==============================] - 0s 9ms/step - loss: 0.1974 - accuracy: 0.9236\n",
            "Epoch 85/120\n",
            "19/19 [==============================] - 0s 9ms/step - loss: 0.1936 - accuracy: 0.9138\n",
            "Epoch 86/120\n",
            "19/19 [==============================] - 0s 9ms/step - loss: 0.1861 - accuracy: 0.9345\n",
            "Epoch 87/120\n",
            "19/19 [==============================] - 0s 9ms/step - loss: 0.1852 - accuracy: 0.9312\n",
            "Epoch 88/120\n",
            "19/19 [==============================] - 0s 9ms/step - loss: 0.1938 - accuracy: 0.9312\n",
            "Epoch 89/120\n",
            "19/19 [==============================] - 0s 9ms/step - loss: 0.1893 - accuracy: 0.9279\n",
            "Epoch 90/120\n",
            "19/19 [==============================] - 0s 8ms/step - loss: 0.1817 - accuracy: 0.9269\n",
            "Epoch 91/120\n",
            "19/19 [==============================] - 0s 9ms/step - loss: 0.1811 - accuracy: 0.9378\n",
            "Epoch 92/120\n",
            "19/19 [==============================] - 0s 9ms/step - loss: 0.1799 - accuracy: 0.9301\n",
            "Epoch 93/120\n",
            "19/19 [==============================] - 0s 8ms/step - loss: 0.1822 - accuracy: 0.9301\n",
            "Epoch 94/120\n",
            "19/19 [==============================] - 0s 10ms/step - loss: 0.1783 - accuracy: 0.9301\n",
            "Epoch 95/120\n",
            "19/19 [==============================] - 0s 9ms/step - loss: 0.2017 - accuracy: 0.9269\n",
            "Epoch 96/120\n",
            "19/19 [==============================] - 0s 10ms/step - loss: 0.1953 - accuracy: 0.9247\n",
            "Epoch 97/120\n",
            "19/19 [==============================] - 0s 11ms/step - loss: 0.1778 - accuracy: 0.9345\n",
            "Epoch 98/120\n",
            "19/19 [==============================] - 0s 9ms/step - loss: 0.1754 - accuracy: 0.9367\n",
            "Epoch 99/120\n",
            "19/19 [==============================] - 0s 9ms/step - loss: 0.1721 - accuracy: 0.9367\n",
            "Epoch 100/120\n",
            "19/19 [==============================] - 0s 9ms/step - loss: 0.1857 - accuracy: 0.9279\n",
            "Epoch 101/120\n",
            "19/19 [==============================] - 0s 8ms/step - loss: 0.1774 - accuracy: 0.9279\n",
            "Epoch 102/120\n",
            "19/19 [==============================] - 0s 9ms/step - loss: 0.1780 - accuracy: 0.9356\n",
            "Epoch 103/120\n",
            "19/19 [==============================] - 0s 8ms/step - loss: 0.1750 - accuracy: 0.9410\n",
            "Epoch 104/120\n",
            "19/19 [==============================] - 0s 9ms/step - loss: 0.1693 - accuracy: 0.9400\n",
            "Epoch 105/120\n",
            "19/19 [==============================] - 0s 10ms/step - loss: 0.1688 - accuracy: 0.9400\n",
            "Epoch 106/120\n",
            "19/19 [==============================] - 0s 8ms/step - loss: 0.1666 - accuracy: 0.9389\n",
            "Epoch 107/120\n",
            "19/19 [==============================] - 0s 10ms/step - loss: 0.1754 - accuracy: 0.9356\n",
            "Epoch 108/120\n",
            "19/19 [==============================] - 0s 10ms/step - loss: 0.1669 - accuracy: 0.9432\n",
            "Epoch 109/120\n",
            "19/19 [==============================] - 0s 9ms/step - loss: 0.1805 - accuracy: 0.9323\n",
            "Epoch 110/120\n",
            "19/19 [==============================] - 0s 9ms/step - loss: 0.1649 - accuracy: 0.9389\n",
            "Epoch 111/120\n",
            "19/19 [==============================] - 0s 12ms/step - loss: 0.1664 - accuracy: 0.9432\n",
            "Epoch 112/120\n",
            "19/19 [==============================] - 0s 9ms/step - loss: 0.1649 - accuracy: 0.9356\n",
            "Epoch 113/120\n",
            "19/19 [==============================] - 0s 9ms/step - loss: 0.1618 - accuracy: 0.9454\n",
            "Epoch 114/120\n",
            "19/19 [==============================] - 0s 8ms/step - loss: 0.1655 - accuracy: 0.9367\n",
            "Epoch 115/120\n",
            "19/19 [==============================] - 0s 9ms/step - loss: 0.1594 - accuracy: 0.9476\n",
            "Epoch 116/120\n",
            "19/19 [==============================] - 0s 10ms/step - loss: 0.1623 - accuracy: 0.9443\n",
            "Epoch 117/120\n",
            "19/19 [==============================] - 0s 9ms/step - loss: 0.1624 - accuracy: 0.9410\n",
            "Epoch 118/120\n",
            "19/19 [==============================] - 0s 9ms/step - loss: 0.1594 - accuracy: 0.9443\n",
            "Epoch 119/120\n",
            "19/19 [==============================] - 0s 9ms/step - loss: 0.1576 - accuracy: 0.9421\n",
            "Epoch 120/120\n",
            "19/19 [==============================] - 0s 9ms/step - loss: 0.1567 - accuracy: 0.9421\n",
            "5/5 [==============================] - 0s 5ms/step - loss: 0.2900 - accuracy: 0.9043\n"
          ]
        }
      ]
    }
  ]
}